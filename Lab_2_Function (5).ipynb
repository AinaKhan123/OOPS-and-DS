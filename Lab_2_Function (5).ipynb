{
 "cells": [
  {
   "cell_type": "markdown",
   "id": "b9b7ab04-27ab-4fb0-b703-45d1cdce74bf",
   "metadata": {},
   "source": [
    "<h1><strong><i> Lab Practice </i></strong></h1>"
   ]
  },
  {
   "cell_type": "markdown",
   "id": "9940699f-e1b7-4aa3-9307-2b2735a30b6b",
   "metadata": {},
   "source": [
    "<p><strong> Name </strong>: Aina khan</p>\n",
    "<p><strong> Reg No </strong>: 0540 <p>\n",
    "<p><strong> Lab NO </strong>: <strong> 2 </strong> <p>"
   ]
  },
  {
   "cell_type": "markdown",
   "id": "c36ed87f-cf67-45aa-a5c7-c0f8ed645d29",
   "metadata": {},
   "source": [
    "<h1><strong><i>\"Function\"</i></strong></h1>   "
   ]
  },
  {
   "cell_type": "markdown",
   "id": "804b9a49-c95b-4aeb-a2d1-ea3cd4c92194",
   "metadata": {},
   "source": [
    "<h1><i>Sting formatting:</i></h1> "
   ]
  },
  {
   "cell_type": "markdown",
   "id": "6e4d23b2-25cf-44b2-bd41-15d314d308ca",
   "metadata": {},
   "source": [
    "#####  1. Observe the output of the following if:"
   ]
  },
  {
   "cell_type": "code",
   "execution_count": 10,
   "id": "80203347-be38-4445-a095-2faa5f048c72",
   "metadata": {},
   "outputs": [
    {
     "data": {
      "text/plain": [
       "'Hey Bob, there is a 0xbadc0ffee error!'"
      ]
     },
     "execution_count": 10,
     "metadata": {},
     "output_type": "execute_result"
    }
   ],
   "source": [
    "errno = 50159747054 \n",
    "name = 'Bob'\n",
    "'Hello, %s' % name\n",
    "'Hey %s, there is a 0x%x error!' % (name, errno)\n",
    "'Hey %(name)s, there is a 0x%(errno)x error!' % { \"name\": name, \"errno\": errno }\n"
   ]
  },
  {
   "cell_type": "markdown",
   "id": "e9b0a392-c5e5-4faf-bd07-afa419d18015",
   "metadata": {},
   "source": [
    "##### 2. Observe the output of: (Mostly used"
   ]
  },
  {
   "cell_type": "code",
   "execution_count": 13,
   "id": "e03de30c-ed2d-4cb9-95f9-1f199d4c9a6b",
   "metadata": {},
   "outputs": [
    {
     "data": {
      "text/plain": [
       "'Hello, Bob'"
      ]
     },
     "execution_count": 13,
     "metadata": {},
     "output_type": "execute_result"
    }
   ],
   "source": [
    "'Hello, {}'.format(name)"
   ]
  },
  {
   "cell_type": "markdown",
   "id": "39bfa1b5-226e-45b5-b09c-8685268fe60f",
   "metadata": {},
   "source": [
    "##### 3. Observe the output of: "
   ]
  },
  {
   "cell_type": "code",
   "execution_count": 16,
   "id": "8c9751d0-7f26-4178-a0ac-258df3973dc2",
   "metadata": {},
   "outputs": [
    {
     "data": {
      "text/plain": [
       "'Hello, Bob!'"
      ]
     },
     "execution_count": 16,
     "metadata": {},
     "output_type": "execute_result"
    }
   ],
   "source": [
    "f'Hello, {name}!'"
   ]
  },
  {
   "cell_type": "markdown",
   "id": "38a42ee0-93bd-4d0b-bf14-7e4d59fa964f",
   "metadata": {},
   "source": [
    "##### 4. Observe the output of:\n"
   ]
  },
  {
   "cell_type": "code",
   "execution_count": 19,
   "id": "8601f04a-65eb-4d29-ae6f-c70462c8b4de",
   "metadata": {},
   "outputs": [
    {
     "data": {
      "text/plain": [
       "'Hey, Bob!'"
      ]
     },
     "execution_count": 19,
     "metadata": {},
     "output_type": "execute_result"
    }
   ],
   "source": [
    "from string import Template\n",
    "t = Template('Hey, $name!') \n",
    "t.substitute(name=name)"
   ]
  },
  {
   "cell_type": "code",
   "execution_count": 21,
   "id": "8c284c91-197a-4976-b750-70031ca04ada",
   "metadata": {},
   "outputs": [
    {
     "data": {
      "text/plain": [
       "'Hey Bob, there is a 0xbadc0ffee error!'"
      ]
     },
     "execution_count": 21,
     "metadata": {},
     "output_type": "execute_result"
    }
   ],
   "source": [
    "templ_string = 'Hey $name, there is a $error error!'\n",
    "Template(templ_string).substitute(name=name, error=hex(errno))"
   ]
  },
  {
   "cell_type": "markdown",
   "id": "a3cd1bd4-840b-4f5b-bad2-ac05c7c16db8",
   "metadata": {},
   "source": [
    "<h1><i>Built-in Function:</i></h1>\n"
   ]
  },
  {
   "cell_type": "markdown",
   "id": "55097168-59ac-46c6-8cbe-7bd076c85e5a",
   "metadata": {},
   "source": [
    "#####  1.Use the built-in len() function to find the length of three lists and two strings.\n",
    "##### 2.Use .is_integer() method for three examples.\n",
    "##### 3.Use .conjugate() method for three examples."
   ]
  },
  {
   "cell_type": "code",
   "execution_count": 68,
   "id": "19dad692-620b-4e18-b638-489cebd6e924",
   "metadata": {},
   "outputs": [],
   "source": [
    "list1=[2,3,4,5,6,7,1]\n",
    "list2=[4,6,3,7]\n",
    "list3=[4,8,7,5,2,1,7,8,9]"
   ]
  },
  {
   "cell_type": "code",
   "execution_count": 74,
   "id": "26691a49-da0d-4e01-984a-56418e13edcc",
   "metadata": {},
   "outputs": [
    {
     "name": "stdout",
     "output_type": "stream",
     "text": [
      "7\n",
      "4\n",
      "9\n"
     ]
    }
   ],
   "source": [
    "print(len(list1))\n",
    "print(len(list2))\n",
    "print(len(list3))"
   ]
  },
  {
   "cell_type": "code",
   "execution_count": 84,
   "id": "0d3580c4-c8aa-46c1-af05-459efe86578f",
   "metadata": {},
   "outputs": [],
   "source": [
    "string1= \"aina khan\"\n",
    "string2= \"aina khan marwat\""
   ]
  },
  {
   "cell_type": "code",
   "execution_count": 86,
   "id": "ed25f4ae-27eb-42f2-9fb3-c532178f9d8b",
   "metadata": {},
   "outputs": [
    {
     "name": "stdout",
     "output_type": "stream",
     "text": [
      "9\n",
      "16\n"
     ]
    }
   ],
   "source": [
    "print(len(string1))\n",
    "print(len(string2))"
   ]
  },
  {
   "cell_type": "code",
   "execution_count": 90,
   "id": "5b41fecc-7527-42e2-ae2a-5095580fde23",
   "metadata": {},
   "outputs": [],
   "source": [
    "number1 = 9\n",
    "number2 = 5\n",
    "number3 = 4.4"
   ]
  },
  {
   "cell_type": "code",
   "execution_count": 92,
   "id": "9c94b449-699a-46e5-a372-e8d9ad1f87fc",
   "metadata": {},
   "outputs": [
    {
     "data": {
      "text/plain": [
       "True"
      ]
     },
     "execution_count": 92,
     "metadata": {},
     "output_type": "execute_result"
    }
   ],
   "source": [
    "number1.is_integer()"
   ]
  },
  {
   "cell_type": "code",
   "execution_count": 94,
   "id": "2a06bd30-0cdb-40af-b929-c4672e23f1a0",
   "metadata": {},
   "outputs": [
    {
     "data": {
      "text/plain": [
       "True"
      ]
     },
     "execution_count": 94,
     "metadata": {},
     "output_type": "execute_result"
    }
   ],
   "source": [
    "number2.is_integer()"
   ]
  },
  {
   "cell_type": "code",
   "execution_count": 96,
   "id": "d45499f3-041a-4360-976f-63dd4304dcad",
   "metadata": {},
   "outputs": [
    {
     "data": {
      "text/plain": [
       "False"
      ]
     },
     "execution_count": 96,
     "metadata": {},
     "output_type": "execute_result"
    }
   ],
   "source": [
    "number3.is_integer()"
   ]
  },
  {
   "cell_type": "code",
   "execution_count": 97,
   "id": "0e86c7ef-d825-466a-8456-a3f60f6473f2",
   "metadata": {},
   "outputs": [],
   "source": [
    "num1 = 3+4j\n",
    "num2 = 5\n",
    "num3 = -6j"
   ]
  },
  {
   "cell_type": "code",
   "execution_count": 101,
   "id": "60666969-b090-4a58-95ac-8f2dd40d20d6",
   "metadata": {},
   "outputs": [
    {
     "data": {
      "text/plain": [
       "(3-4j)"
      ]
     },
     "execution_count": 101,
     "metadata": {},
     "output_type": "execute_result"
    }
   ],
   "source": [
    "num1.conjugate()"
   ]
  },
  {
   "cell_type": "code",
   "execution_count": 103,
   "id": "a4a23cc1-2526-4888-93ae-9a06294b0a54",
   "metadata": {},
   "outputs": [
    {
     "data": {
      "text/plain": [
       "5"
      ]
     },
     "execution_count": 103,
     "metadata": {},
     "output_type": "execute_result"
    }
   ],
   "source": [
    "num2.conjugate()"
   ]
  },
  {
   "cell_type": "code",
   "execution_count": 105,
   "id": "88787750-06dd-4e21-9c09-d782cd8659a6",
   "metadata": {},
   "outputs": [
    {
     "data": {
      "text/plain": [
       "(-0+6j)"
      ]
     },
     "execution_count": 105,
     "metadata": {},
     "output_type": "execute_result"
    }
   ],
   "source": [
    "num3.conjugate()"
   ]
  },
  {
   "cell_type": "markdown",
   "id": "065f930a-93ce-4ded-8a3c-d994bd11dcfe",
   "metadata": {},
   "source": [
    "<h1><strong><i>\"Function\"</i></h1>   "
   ]
  },
  {
   "cell_type": "markdown",
   "id": "32594f1c-b2c5-4563-a7ee-7e5e2b33d532",
   "metadata": {},
   "source": [
    "<h3><b>Task: 1</b></h3><h5><strong><i> i. Define a function that will take the name and registration number of a student and print it. Include appropriate docstrings.</i></h5>"
   ]
  },
  {
   "cell_type": "markdown",
   "id": "c3d982c3-92b4-40a3-a19e-4b3606f04451",
   "metadata": {},
   "source": [
    "<h7><i>\n",
    "1. The argument pass will like positional arguments.\n",
    "2. The arguments passing will like keyword arguments.\n",
    "3. The arguments passing will like default arguments.\n",
    "4. Pass the arguments of one style to the other.\n",
    "5. Passing less number of arguments and check the error message.\n",
    "6. Verify that whether positional argument follows keyword argument </h7></i>"
   ]
  },
  {
   "cell_type": "code",
   "execution_count": 243,
   "id": "cedb1640-4ed2-4679-99e9-44c91829a016",
   "metadata": {},
   "outputs": [],
   "source": [
    "def student_info():\n",
    "    pass"
   ]
  },
  {
   "cell_type": "code",
   "execution_count": 303,
   "id": "c7421cc4-f948-4d2b-a58b-409df0232e83",
   "metadata": {},
   "outputs": [
    {
     "name": "stdout",
     "output_type": "stream",
     "text": [
      " The function give us Name and registeration_no of student\n",
      "        take parameter as Name and registeration_no\n",
      "        and return student Name and registeration_no\n",
      "    \n"
     ]
    }
   ],
   "source": [
    "def student_info(name=\"Enter Name\", registeration_no= \"Enter Reg no\"):\n",
    "    \"\"\" The function give us Name and registeration_no of student\n",
    "        take parameter as Name and registeration_no\n",
    "        and return student Name and registeration_no\n",
    "    \"\"\"\n",
    "    student = name, registeration_no\n",
    "    return student\n",
    "print(student_info.__doc__)"
   ]
  },
  {
   "cell_type": "code",
   "execution_count": 305,
   "id": "9e711755-a8ba-4254-80d5-ddd8eb8729ee",
   "metadata": {},
   "outputs": [
    {
     "data": {
      "text/plain": [
       "('aina', '540')"
      ]
     },
     "execution_count": 305,
     "metadata": {},
     "output_type": "execute_result"
    }
   ],
   "source": [
    "# positional argument\n",
    "student_info(\"aina\", \"540\")"
   ]
  },
  {
   "cell_type": "code",
   "execution_count": 307,
   "id": "7943e6c3-6391-48bc-a348-7bd2ba4e8c63",
   "metadata": {},
   "outputs": [
    {
     "data": {
      "text/plain": [
       "('aina', '540')"
      ]
     },
     "execution_count": 307,
     "metadata": {},
     "output_type": "execute_result"
    }
   ],
   "source": [
    "# keyword argument\n",
    "student_info(name=\"aina\",registeration_no=\"540\")"
   ]
  },
  {
   "cell_type": "code",
   "execution_count": 309,
   "id": "c69d836e-b7c1-4bd0-b59a-519584c14253",
   "metadata": {},
   "outputs": [
    {
     "name": "stdout",
     "output_type": "stream",
     "text": [
      "('Enter Name', 'Enter Reg no')\n"
     ]
    }
   ],
   "source": [
    "# default parameter\n",
    "print(student_info())"
   ]
  },
  {
   "cell_type": "code",
   "execution_count": 311,
   "id": "c7d481e5-9fd0-4459-870d-2bc6e445c570",
   "metadata": {},
   "outputs": [],
   "source": [
    "# function with one default parameter\n",
    "def student(name=\"name\",reg_no=\"0000\"):  \n",
    "    student = name,reg_no\n",
    "    return student"
   ]
  },
  {
   "cell_type": "code",
   "execution_count": 313,
   "id": "7767fb7e-ad55-4e2c-8361-814d93e66a99",
   "metadata": {},
   "outputs": [
    {
     "name": "stdout",
     "output_type": "stream",
     "text": [
      "('aina', '540')\n"
     ]
    }
   ],
   "source": [
    "# argument pass of one style to another style\n",
    "print(student(name='aina',reg_no='540')) "
   ]
  },
  {
   "cell_type": "code",
   "execution_count": 315,
   "id": "9fa4a2c7-b038-47c7-8404-5b759703161c",
   "metadata": {},
   "outputs": [],
   "source": [
    "def student_info(name,registeration_no):  # function with no default parameter\n",
    "    student = name,reg_no\n",
    "    return student"
   ]
  },
  {
   "cell_type": "code",
   "execution_count": null,
   "id": "563db917-07ce-4c0b-a65f-3794ab2be04b",
   "metadata": {},
   "outputs": [],
   "source": [
    "# student() missing 1 required positional argument i.e is 'reg_no'\n",
    "print(student_info('aina')) "
   ]
  },
  {
   "cell_type": "code",
   "execution_count": null,
   "id": "2cada0e3-4503-41b3-9b03-fe1ffd4655df",
   "metadata": {},
   "outputs": [],
   "source": [
    "# error: positional argument follows keyword argument\n",
    "print(student(name='aina','0540')) "
   ]
  },
  {
   "cell_type": "markdown",
   "id": "1317a1db-069b-455e-8ca4-d70588f43333",
   "metadata": {},
   "source": [
    "<h3><b>Task: 2</b></h3><h5><i><b>ii. Define a function that will take the parameters as current and resistance and will output the voltage across the resistance. Include appropriate docstrings.</b></i></h5>"
   ]
  },
  {
   "cell_type": "markdown",
   "id": "c08e65e9-3623-4b7c-8e25-1176be6562aa",
   "metadata": {},
   "source": [
    "<h7><i>1. The argument pass will like positional arguments.</br>\n",
    "2. The arguments passing will like keyword arguments.</br>\n",
    "3. The arguments passing will like default arguments.</br>\n",
    "4. Pass the arguments of one style to the other.</br>\n",
    "5. Passing less number of arguments and check the error message.</br>\n",
    "6. Verify that whether positional argument follows keyword argument.</br></i></h7>"
   ]
  },
  {
   "cell_type": "code",
   "execution_count": 327,
   "id": "6c1e64cf-5810-4ffd-86da-f028a5271191",
   "metadata": {},
   "outputs": [],
   "source": [
    "def voltage():\n",
    "    pass"
   ]
  },
  {
   "cell_type": "code",
   "execution_count": 362,
   "id": "fd168525-3e74-4860-b014-6c70534676ec",
   "metadata": {},
   "outputs": [
    {
     "name": "stdout",
     "output_type": "stream",
     "text": [
      "\n",
      "    Calculate the voltage across a resistor using Ohm's Law.\n",
      "    Parameters:\n",
      "    current ,resistance\n",
      "    Returns:\n",
      "    The voltage across the resistor (in volts).\n",
      "    \n"
     ]
    }
   ],
   "source": [
    "def voltage(current,resistance):\n",
    "    \"\"\"\n",
    "    Calculate the voltage across a resistor using Ohm's Law.\n",
    "    Parameters:\n",
    "    current ,resistance\n",
    "    Returns:\n",
    "    The voltage across the resistor (in volts).\n",
    "    \"\"\"\n",
    "    voltage= current*resistance\n",
    "    return voltage\n",
    "print(voltage.__doc__)"
   ]
  },
  {
   "cell_type": "code",
   "execution_count": 364,
   "id": "9e8159e0-87db-40f3-9e1e-746e5294c277",
   "metadata": {},
   "outputs": [
    {
     "data": {
      "text/plain": [
       "8"
      ]
     },
     "execution_count": 364,
     "metadata": {},
     "output_type": "execute_result"
    }
   ],
   "source": [
    "# positional argument\n",
    "voltage(2,4)"
   ]
  },
  {
   "cell_type": "code",
   "execution_count": 366,
   "id": "256cdac2-5cd9-4d4b-9cf5-763fac5a09aa",
   "metadata": {},
   "outputs": [
    {
     "data": {
      "text/plain": [
       "12"
      ]
     },
     "execution_count": 366,
     "metadata": {},
     "output_type": "execute_result"
    }
   ],
   "source": [
    "# keyword argument\n",
    "voltage(current=4,resistance=3)"
   ]
  },
  {
   "cell_type": "code",
   "execution_count": 368,
   "id": "00c1c6a6-39e0-4812-a842-91949ce9ffe3",
   "metadata": {},
   "outputs": [],
   "source": [
    "# function with one default parameter\n",
    "def voltage_default(current,resistance):   \n",
    "    voltage = current * resistance\n",
    "    return voltage   # argument pass of one style to another style "
   ]
  },
  {
   "cell_type": "code",
   "execution_count": 370,
   "id": "2ad86026-82f3-4b98-bfec-6de25b10c09c",
   "metadata": {},
   "outputs": [
    {
     "data": {
      "text/plain": [
       "230"
      ]
     },
     "execution_count": 370,
     "metadata": {},
     "output_type": "execute_result"
    }
   ],
   "source": [
    "voltage_default(current=23,resistance=10)"
   ]
  },
  {
   "cell_type": "code",
   "execution_count": 372,
   "id": "b93da34a-afe9-4ff2-8d60-37101f96d87f",
   "metadata": {},
   "outputs": [],
   "source": [
    "def voltage_default(current,resistance):   # function without default parameter\n",
    "    voltage = current * resistance\n",
    "    return voltage"
   ]
  },
  {
   "cell_type": "code",
   "execution_count": null,
   "id": "a500a859-8f86-4fd2-b783-8617237f8da6",
   "metadata": {},
   "outputs": [],
   "source": [
    "# voltage() missing 1 required positional argument: 'resistance'\n",
    "voltage_default(5)"
   ]
  },
  {
   "cell_type": "code",
   "execution_count": null,
   "id": "b19b35ea-df5a-4f9f-b3bb-c0ad605d9f73",
   "metadata": {},
   "outputs": [],
   "source": [
    "# positional argument follows keyword argument\n",
    "voltage_default(current=8,29) "
   ]
  },
  {
   "cell_type": "markdown",
   "id": "275a4c4d-f276-45f4-a918-fdf3d7a8b000",
   "metadata": {},
   "source": [
    " <h3><b>Task: 3</b></h3><h5><i><b>iii. Define a function with name charge_from_solar and pass the state of charge (SOC) to thefunction. If SOC is less than 20% display charging if it is above 90% do nothing and return and if it is in between display that battery will be charge and there is --- % of charge in the battery. Include appropriate docstrings. Print the doc string. Also add annotation to the function parameters and return type.</b></i></h5>"
   ]
  },
  {
   "cell_type": "code",
   "execution_count": 414,
   "id": "203ca396-5301-47b4-a373-effb16fa303e",
   "metadata": {},
   "outputs": [],
   "source": [
    "def charge_from_solar (SOC:float):\n",
    "    pass"
   ]
  },
  {
   "cell_type": "code",
   "execution_count": 416,
   "id": "a28f4f15-f8c7-4f36-8bd8-af87f080bc93",
   "metadata": {},
   "outputs": [
    {
     "name": "stdout",
     "output_type": "stream",
     "text": [
      "Determines the charging status of a battery based on its state of charge (SOC).\n",
      "    Parameters:\n",
      "               SOC (float): \n",
      "    Returns:\n",
      "            None:\n",
      "    Behavior:\n",
      "            -> If SOC < 20%, the function displays \"Charging\"\n",
      "            -> If SOC > 90%, the function does nothing and returns.\n",
      "            -> If 20% <= SOC <= 90%, the function displays \"Battery will be charged\" along with the current SOC.\n",
      "    \n"
     ]
    }
   ],
   "source": [
    "def charge_from_solar (SOC:float):\n",
    "    \"\"\"Determines the charging status of a battery based on its state of charge (SOC).\n",
    "    Parameters:\n",
    "               SOC (float): \n",
    "    Returns:\n",
    "            None:\n",
    "    Behavior:\n",
    "            -> If SOC < 20%, the function displays \"Charging\"\n",
    "            -> If SOC > 90%, the function does nothing and returns.\n",
    "            -> If 20% <= SOC <= 90%, the function displays \"Battery will be charged\" along with the current SOC.\n",
    "    \"\"\"\n",
    "print(charge_from_solar.__doc__) "
   ]
  },
  {
   "cell_type": "code",
   "execution_count": 418,
   "id": "bb68d74c-b70f-4e6e-9a3b-84b7ab4c73a9",
   "metadata": {},
   "outputs": [],
   "source": [
    "def charge_from_solar(SOC:float):\n",
    "    if SOC < 20 :\n",
    "        print(\"Battery is below 20%. Charging...\")\n",
    "    if SOC > 90 :\n",
    "        return \n",
    "    else:\n",
    "        print(f\"Battery is being charged. Currently, there is {SOC}% charge in the battery.\")"
   ]
  },
  {
   "cell_type": "code",
   "execution_count": 420,
   "id": "95e1fda0-0cb1-403b-996b-f6eec8bdbc81",
   "metadata": {},
   "outputs": [
    {
     "name": "stdout",
     "output_type": "stream",
     "text": [
      "Battery is being charged. Currently, there is 40% charge in the battery.\n",
      "Battery is being charged. Currently, there is 50% charge in the battery.\n"
     ]
    }
   ],
   "source": [
    "charge_from_solar(40)  \n",
    "charge_from_solar(95) \n",
    "charge_from_solar(50)  "
   ]
  },
  {
   "cell_type": "code",
   "execution_count": 422,
   "id": "9612e8aa-6777-44e1-a1e4-ce3fe66085d6",
   "metadata": {},
   "outputs": [
    {
     "name": "stdout",
     "output_type": "stream",
     "text": [
      "{'SOC': <class 'float'>}\n"
     ]
    }
   ],
   "source": [
    "print(charge_from_solar.__annotations__) "
   ]
  },
  {
   "cell_type": "markdown",
   "id": "46ba6c43-0698-4dd1-b131-9d99b5699e60",
   "metadata": {},
   "source": [
    " <h3><b>Task: 4</b></h3><h5><i><b>iv. Define three function. Function one name is resistance which will return a list of five resistances. The second function name is voltage which will return a list of voltage across each of these resisters. Include appropriate docstrings. Print the doc string. Also add annotation to the function parameters and return type.</b></i></h5>"
   ]
  },
  {
   "cell_type": "markdown",
   "id": "464146bd-2c89-4757-954c-a4b55fe9820e",
   "metadata": {},
   "source": [
    "<h7><i> 1. Pass these two lists to a third function name current which will calculate the current flowing through each resister and will return that list to the main program. The main program will   print all the three lists in well formatting.<br>\n",
    "2. In part a return the data in tuple.<br>\n",
    "3. Return the data from current function as dictionary with keys current_1 to current_5</i></h7>"
   ]
  },
  {
   "cell_type": "code",
   "execution_count": 488,
   "id": "add332bd-de19-413a-b961-8b89259b7ff9",
   "metadata": {},
   "outputs": [
    {
     "name": "stdout",
     "output_type": "stream",
     "text": [
      "retrun  a list of resisatance\n",
      "    the list is float\n",
      "retrun  a list of voltage\n",
      "    the list is float\n"
     ]
    }
   ],
   "source": [
    "from typing import List, Tuple, Dict \n",
    "def resistance() -> list[float]:       # function\n",
    "    \"\"\"retrun  a list of resisatance\n",
    "    the list is float\"\"\"\n",
    "    return [3,12,15,23,32]\n",
    "def voltage() -> list[float]:         # function\n",
    "    \"\"\"retrun  a list of voltage\n",
    "    the list is float\"\"\"\n",
    "    return [10,20,37,76,83]\n",
    "print(resistance.__doc__)     # print docstring\n",
    "print(voltage.__doc__)        # print docstring"
   ]
  },
  {
   "cell_type": "code",
   "execution_count": 490,
   "id": "c9b974fe-0076-4097-b0da-e53dbae46c31",
   "metadata": {},
   "outputs": [
    {
     "data": {
      "text/plain": [
       "[3, 12, 15, 23, 32]"
      ]
     },
     "execution_count": 490,
     "metadata": {},
     "output_type": "execute_result"
    }
   ],
   "source": [
    "resistance()     # calling fucntion"
   ]
  },
  {
   "cell_type": "code",
   "execution_count": 492,
   "id": "e922a1f4-c871-46e5-a655-d77c050ba440",
   "metadata": {},
   "outputs": [
    {
     "data": {
      "text/plain": [
       "[10, 20, 37, 76, 83]"
      ]
     },
     "execution_count": 492,
     "metadata": {},
     "output_type": "execute_result"
    }
   ],
   "source": [
    "voltage()      "
   ]
  },
  {
   "cell_type": "code",
   "execution_count": 500,
   "id": "67c44949-d7a2-433a-a84c-4c548ad59685",
   "metadata": {},
   "outputs": [
    {
     "name": "stdout",
     "output_type": "stream",
     "text": [
      "\n",
      "    Calculates the current flowing through each resistor using Ohm's law (I = V/R).    \n",
      "    Parameters: \n",
      "    List of resistances in ohms.\n",
      "    List of voltages across each resistor in volts. \n",
      "    Returns:tuple[List[float], Dict[str, float]]: A tuple containing:\n",
      "        - A list of currents through each resistor in amperes.\n",
      "        - A dictionary where the keys are 'current_1' to 'current_5' and the values are the currents.\n",
      "    \n"
     ]
    }
   ],
   "source": [
    "def current(resistance: list[float],voltage: list[float]) -> Tuple[list[float],Dict[str,float]]:  \n",
    "    \"\"\"\n",
    "    Calculates the current flowing through each resistor using Ohm's law (I = V/R).    \n",
    "    Parameters: \n",
    "    List of resistances in ohms.\n",
    "    List of voltages across each resistor in volts. \n",
    "    Returns:tuple[List[float], Dict[str, float]]: A tuple containing:\n",
    "        - A list of currents through each resistor in amperes.\n",
    "        - A dictionary where the keys are 'current_1' to 'current_5' and the values are the currents.\n",
    "    \"\"\"\n",
    "    currents=[v/r for v,r in zip(voltage,resistance)]\n",
    "    current_dict = {f'current_{i+1}': currents[i] for i in range(len(currents))}\n",
    "    return currents, current_dict\n",
    "print(current.__doc__)     # print docstring\n",
    "\n",
    "resistances = resistance()\n",
    "voltages = voltage()\n",
    "currents,current_dict = current(voltages,resistances)"
   ]
  },
  {
   "cell_type": "code",
   "execution_count": null,
   "id": "28f6a82d-d6ce-4085-90e3-0198751526d0",
   "metadata": {},
   "outputs": [],
   "source": [
    "print(currents,)        # calling fucntion \n",
    "print(current_dict,)    # calling fucntion"
   ]
  },
  {
   "cell_type": "code",
   "execution_count": 504,
   "id": "c904c245-3a55-42a9-b718-46b06abea9f6",
   "metadata": {},
   "outputs": [
    {
     "name": "stdout",
     "output_type": "stream",
     "text": [
      "{'return': list[float]}\n",
      "{'return': list[float]}\n"
     ]
    }
   ],
   "source": [
    "print(resistance.__annotations__)      # show the annotation of the function\n",
    "print(voltage.__annotations__)         # show the annotation of the function"
   ]
  },
  {
   "cell_type": "markdown",
   "id": "f07d80c8-5086-4310-b12b-d78a34f79ea7",
   "metadata": {},
   "source": [
    "<h3><b><i>Task: 5</i></b></h3><h5><i>Define a function with name series. The function will take a list or tuple of resisters. The function \n",
    "will return the net resistance. Note that your function must be capable for any number of \n",
    "resisters. Note: Use elegant approach. Include appropriate docstrings. Print the doc string. Also \n",
    "add annotation to the function parameters and return type. In addition, display annotation using\n",
    "special dunder attribute of the function called __annotations__.</i></h5>"
   ]
  },
  {
   "cell_type": "code",
   "execution_count": 592,
   "id": "7d2508f8-27d4-44f3-a063-d7851dfe32ba",
   "metadata": {},
   "outputs": [],
   "source": [
    "def series():\n",
    "    pass"
   ]
  },
  {
   "cell_type": "code",
   "execution_count": 594,
   "id": "4ed8d72b-e5fb-40aa-80dc-e09c8dd366ed",
   "metadata": {},
   "outputs": [
    {
     "name": "stdout",
     "output_type": "stream",
     "text": [
      " function which retrun  net resistance\n",
      "    paramter are resistance in the form of list\n",
      "    retrun net resistance\n",
      "    \n"
     ]
    }
   ],
   "source": [
    "def series(lst1=[]):     # define function\n",
    "    \"\"\" function which retrun  net resistance\n",
    "    paramter are resistance in the form of list\n",
    "    retrun net resistance\n",
    "    \"\"\"\n",
    "    return sum(lst1)\n",
    "print(series.__doc__)    # print docstring"
   ]
  },
  {
   "cell_type": "code",
   "execution_count": 596,
   "id": "2732b49f-2688-4137-9638-b2991ad74ae6",
   "metadata": {},
   "outputs": [
    {
     "data": {
      "text/plain": [
       "10"
      ]
     },
     "execution_count": 596,
     "metadata": {},
     "output_type": "execute_result"
    }
   ],
   "source": [
    "series([6,4])    "
   ]
  },
  {
   "cell_type": "code",
   "execution_count": 598,
   "id": "2f6fc342-5191-4ef2-b2ec-de691b893044",
   "metadata": {},
   "outputs": [
    {
     "data": {
      "text/plain": [
       "29"
      ]
     },
     "execution_count": 598,
     "metadata": {},
     "output_type": "execute_result"
    }
   ],
   "source": [
    "series([4,8,9,6,2])"
   ]
  },
  {
   "cell_type": "code",
   "execution_count": null,
   "id": "b34f4eb6-c67d-4368-ae0f-21ca2faca3cd",
   "metadata": {},
   "outputs": [],
   "source": [
    "print(series.__annotations__)     # show the annotation of the function"
   ]
  },
  {
   "cell_type": "markdown",
   "id": "ba6eaa91-7659-4270-b293-81ba9a262f64",
   "metadata": {},
   "source": [
    "<h3><b><i>Task: 6</i></b></h3><h5><i>Define a function with name parallel. The function will take a list or tuple of resisters. The function will return the net resistance. Note that your function must be capable for any number of resisters. Note: Use elegant approach. Include appropriate docstrings. Print the doc string. Also add annotation to the function parameters and return type. In addition, display annotation using special dunder attribute of the function called __annotations__Define a function with name parallel. The function will take a list or tuple of resisters. The function will return the net resistance. Note that your function must be capable for any number of resisters. Note: Use elegant approach. Include appropriate docstrings. Print the doc string. Also add annotation to the function parameters and return type. In addition, display annotation using special dunder attribute of the function called annotations<i></h5>"
   ]
  },
  {
   "cell_type": "code",
   "execution_count": 612,
   "id": "85a086ac-d7b8-404b-acd1-130519764243",
   "metadata": {},
   "outputs": [],
   "source": [
    "def parallel():\n",
    "    pass"
   ]
  },
  {
   "cell_type": "code",
   "execution_count": 620,
   "id": "64c4ebc0-756e-451c-a220-abe7fcd23095",
   "metadata": {},
   "outputs": [],
   "source": [
    "def parallel(lst = []):\n",
    "    \"\"\"This function calculate the net or total resistance\n",
    "    it will take a list of resisters\n",
    "    it will return net resistance\n",
    "    \"\"\"\n",
    "    return 1 / sum(1/x for x in lst) "
   ]
  },
  {
   "cell_type": "code",
   "execution_count": 622,
   "id": "65b9e2e8-ee2e-4df2-88be-0eccaefe88d8",
   "metadata": {},
   "outputs": [
    {
     "name": "stdout",
     "output_type": "stream",
     "text": [
      "This function calculate the net or total resistance\n",
      "    it will take a list of resisters\n",
      "    it will return net resistance\n",
      "    \n"
     ]
    }
   ],
   "source": [
    "print(parallel.__doc__)"
   ]
  },
  {
   "cell_type": "code",
   "execution_count": 624,
   "id": "c7f7ae33-ed06-47ff-8fcf-e9d0810c740e",
   "metadata": {},
   "outputs": [
    {
     "name": "stdout",
     "output_type": "stream",
     "text": [
      "Help on function parallel in module __main__:\n",
      "\n",
      "parallel(lst=[])\n",
      "    This function calculate the net or total resistance\n",
      "    it will take a list of resisters\n",
      "    it will return net resistance\n",
      "\n"
     ]
    }
   ],
   "source": [
    "help(parallel)"
   ]
  },
  {
   "cell_type": "code",
   "execution_count": 628,
   "id": "6775f49c-f093-47b6-8d1f-ccaf998dbb5b",
   "metadata": {},
   "outputs": [
    {
     "name": "stdout",
     "output_type": "stream",
     "text": [
      "2.9166666666666665\n"
     ]
    }
   ],
   "source": [
    "print(parallel([5,7]))"
   ]
  },
  {
   "cell_type": "code",
   "execution_count": 632,
   "id": "547c1149-cc37-4252-b36f-d77195a87c68",
   "metadata": {},
   "outputs": [
    {
     "name": "stdout",
     "output_type": "stream",
     "text": [
      "1.5569534935969447\n"
     ]
    }
   ],
   "source": [
    "print(parallel([5,7,9,22,7])) "
   ]
  },
  {
   "cell_type": "markdown",
   "id": "13fe49cd-34e8-442a-8458-42143557715b",
   "metadata": {},
   "source": [
    "<h3><strong><i>Task:7 </i></strong></h3><h5><i>Define a function with name series. The function will take resisters values and use *args for tuple packing. The function will return the net resistance. Note that your function must be capable for any number of resisters. Note: Use elegant approach. Include appropriate docstrings. Also add annotation to the function parameters and return type. In addition, display annotation using special dunder attribute of the function called annotations.</i></h5>"
   ]
  },
  {
   "cell_type": "code",
   "execution_count": 659,
   "id": "347cc7a6-c836-42d5-877a-73824a466393",
   "metadata": {},
   "outputs": [],
   "source": [
    "def series(): \n",
    "    pass"
   ]
  },
  {
   "cell_type": "code",
   "execution_count": 661,
   "id": "368cbb32-c3bb-40a5-a9ed-60fa847a79fa",
   "metadata": {},
   "outputs": [
    {
     "name": "stdout",
     "output_type": "stream",
     "text": [
      "function calculate net resistance\n",
      "parameter is resistances in the form of tuple\n",
      "retrun net resistance in pararllal\n",
      "    \n"
     ]
    }
   ],
   "source": [
    "def series(*resistance: float) -> float:\n",
    "    \"\"\"function calculate net resistance\n",
    "parameter is resistances in the form of tuple\n",
    "retrun net resistance in pararllal\n",
    "    \"\"\"\n",
    "    return sum(resistance)\n",
    "print(series.__doc__) "
   ]
  },
  {
   "cell_type": "code",
   "execution_count": 663,
   "id": "b51f4b84-b28a-45e5-8107-19a17b2b326d",
   "metadata": {},
   "outputs": [
    {
     "name": "stdout",
     "output_type": "stream",
     "text": [
      "7\n"
     ]
    }
   ],
   "source": [
    "print(series(2,5)) "
   ]
  },
  {
   "cell_type": "code",
   "execution_count": 665,
   "id": "ca60b35f-9f91-40b1-90a6-3b7a70af0245",
   "metadata": {},
   "outputs": [
    {
     "name": "stdout",
     "output_type": "stream",
     "text": [
      "39\n"
     ]
    }
   ],
   "source": [
    "print(series(4,5,7,2,8,9,4)) "
   ]
  },
  {
   "cell_type": "code",
   "execution_count": 667,
   "id": "20c0b946-f33b-4144-bcc9-6adff9f12784",
   "metadata": {},
   "outputs": [
    {
     "name": "stdout",
     "output_type": "stream",
     "text": [
      "{'resistance': <class 'float'>, 'return': <class 'float'>}\n"
     ]
    }
   ],
   "source": [
    "print(series.__annotations__) "
   ]
  },
  {
   "cell_type": "markdown",
   "id": "3466017e-5013-405f-9f15-cd6a7c954f0f",
   "metadata": {},
   "source": [
    "<h3><strong><i>Task:8 </i></strong></h3><h5><i>Define a function with name parallel. The function will take resisters values and use *argsfor tuple packing. The function will return the net resistance. Note that your function must be capable for any number of resisters. Note: Use elegant approach. Include appropriate docstrings. Print the doc string. Also add annotation to the function parameters and return type. In addition, display annotation using special dunder attribute of the function called annotations.</i></h5>"
   ]
  },
  {
   "cell_type": "code",
   "execution_count": 682,
   "id": "78c6afc0-175f-4997-bbaa-688052ab27ef",
   "metadata": {},
   "outputs": [],
   "source": [
    "def parallal():\n",
    "    pass"
   ]
  },
  {
   "cell_type": "code",
   "execution_count": 692,
   "id": "625733c8-d75b-420c-af4e-348a8e7f2455",
   "metadata": {},
   "outputs": [
    {
     "name": "stdout",
     "output_type": "stream",
     "text": [
      "function calculate net resistance\n",
      "parameter is resistances in the form of tuple\n",
      "retrun net resistance in pararllal\n",
      "    \n"
     ]
    }
   ],
   "source": [
    "def parallal(*resistance: float) -> float:\n",
    "    \"\"\"function calculate net resistance\n",
    "parameter is resistances in the form of tuple\n",
    "retrun net resistance in pararllal\n",
    "    \"\"\"\n",
    "    return 1 / sum(1/x for x in resistance)\n",
    "print(parallal.__doc__)    # print docstring"
   ]
  },
  {
   "cell_type": "code",
   "execution_count": 694,
   "id": "b5fa4000-472d-401f-9838-ee4b73a53def",
   "metadata": {},
   "outputs": [
    {
     "name": "stdout",
     "output_type": "stream",
     "text": [
      "3.0\n"
     ]
    }
   ],
   "source": [
    "print(parallal(6,6)) "
   ]
  },
  {
   "cell_type": "code",
   "execution_count": 690,
   "id": "36e94ef8-c46a-4e28-a77d-c8b211ee4452",
   "metadata": {},
   "outputs": [
    {
     "name": "stdout",
     "output_type": "stream",
     "text": [
      "0.49084534476042074\n"
     ]
    }
   ],
   "source": [
    "print(parallal(2,3,4,5,6,7,3,9))"
   ]
  },
  {
   "cell_type": "code",
   "execution_count": 680,
   "id": "30dbb80f-4f89-4f65-a572-f56e417bed1c",
   "metadata": {},
   "outputs": [
    {
     "name": "stdout",
     "output_type": "stream",
     "text": [
      "{'resistance': <class 'float'>, 'return': <class 'float'>}\n"
     ]
    }
   ],
   "source": [
    "print(parallal.__annotations__)"
   ]
  },
  {
   "cell_type": "markdown",
   "id": "ace3450c-9eb3-4404-bde4-b42998944f00",
   "metadata": {},
   "source": [
    "<h3><strong><i>Task:9 </i></strong></h3><h5><i>Consider a scenario in which you receive the data of battery SOC (% age), solar generation (Kw) and market price (per unit in rupees) from a hybrid solar inverter that are connected with green meter in a list or tuple like [60, 2, 60] or (60, 2, 60). Design a function that will print these values in a well format. Note use the tuple or list unpacking. Include appropriate docstrings. Print the doc string. Also add annotation to the function parameters and return type. In addition, display annotation using special dunder attribute of the function called annotations.</i></h5>"
   ]
  },
  {
   "cell_type": "code",
   "execution_count": 702,
   "id": "b419c2e9-16d5-4533-a30b-d236ad54100e",
   "metadata": {},
   "outputs": [
    {
     "name": "stdout",
     "output_type": "stream",
     "text": [
      "\n",
      "    Print the battery SOC, solar generation, and market price in a well-formatted manner.\n",
      "    \n",
      "    Parameters:\n",
      "        data (tuple): A tuple containing battery SOC (%), \n",
      "        solar generation (kW), \n",
      "        and market price (per unit in rupees).\n",
      "    \n",
      "    Returns:\n",
      "        None\n",
      "    \n"
     ]
    }
   ],
   "source": [
    "def print_inverter_data(data: tuple) -> None:\n",
    "    \"\"\"\n",
    "    Print the battery SOC, solar generation, and market price in a well-formatted manner.\n",
    "    \n",
    "    Parameters:\n",
    "        data (tuple): A tuple containing battery SOC (%), \n",
    "        solar generation (kW), \n",
    "        and market price (per unit in rupees).\n",
    "    \n",
    "    Returns:\n",
    "        None\n",
    "    \"\"\"\n",
    "    battery_soc, solar_generation, market_price = data\n",
    "    print(f\"Battery SOC: {battery_soc}%\")\n",
    "    print(f\"Solar Generation: {solar_generation} kW\")\n",
    "    print(f\"Market Price: {market_price} rupees per unit\")\n",
    "print(print_inverter_data.__doc__)"
   ]
  },
  {
   "cell_type": "code",
   "execution_count": 708,
   "id": "b83cc115-aa0a-4fab-889c-4b16ea6fc42a",
   "metadata": {},
   "outputs": [
    {
     "name": "stdout",
     "output_type": "stream",
     "text": [
      "Battery SOC: 60%\n",
      "Solar Generation: 2 kW\n",
      "Market Price: 60 rupees per unit\n",
      "None\n"
     ]
    }
   ],
   "source": [
    "data = (60, 2, 60)\n",
    "print(print_inverter_data(data))"
   ]
  },
  {
   "cell_type": "code",
   "execution_count": 712,
   "id": "9af08064-ae3f-4d76-a7d6-a4e43ead73b8",
   "metadata": {},
   "outputs": [
    {
     "name": "stdout",
     "output_type": "stream",
     "text": [
      "{'data': <class 'tuple'>, 'return': None}\n"
     ]
    }
   ],
   "source": [
    "print(print_inverter_data.__annotations__)"
   ]
  },
  {
   "cell_type": "markdown",
   "id": "12cec237-968a-4ade-92ad-cd65c5aa6193",
   "metadata": {},
   "source": [
    "<h3><strong><i>Task:10 </i></strong></h3><h5><i>The more elegant approach is to pass dictionary and use dictionary unpacking. Consider a scenario in which you receive the data of battery SOC (% age), solar generation (Kw) and market price (per unit in rupees) from a hybrid solar inverter that are connected with green meter in a dictionary like {‘SOC’: 60, ‘solar generation’: 2, ‘price’: 60}. Design a function that will receive this dictionary and print these values in a well format. Include appropriate docstrings. Also add annotation to the function parameters and return type. In addition, display annotation using special dunder attribute of the function called annotations.</i><h5>"
   ]
  },
  {
   "cell_type": "code",
   "execution_count": 731,
   "id": "d7975a8f-8a3e-4c47-a7d8-450e186b8742",
   "metadata": {},
   "outputs": [],
   "source": [
    "def display_inverter_data(): \n",
    "    pass"
   ]
  },
  {
   "cell_type": "code",
   "execution_count": 733,
   "id": "cd1108c1-31c5-4677-b427-5dfce2ebb866",
   "metadata": {},
   "outputs": [
    {
     "name": "stdout",
     "output_type": "stream",
     "text": [
      "Function that pass the data as dictionary and use dictionary unpacking .\n",
      "    return: \n",
      "           None\n",
      "    it show the data or display it in well format:\n",
      "            battery SOC(% age)\n",
      "            solar generation (kw)\n",
      "            market price (per unit in rupees)\n",
      "    \n"
     ]
    }
   ],
   "source": [
    "def display_inverter_data(inverter_data: dict) -> None:\n",
    "    \"\"\"Function that pass the data as dictionary and use dictionary unpacking .\n",
    "    return: \n",
    "           None\n",
    "    it show the data or display it in well format:\n",
    "            battery SOC(% age)\n",
    "            solar generation (kw)\n",
    "            market price (per unit in rupees)\n",
    "    \"\"\"\n",
    "     # unpacking the dictionary\n",
    "    Battery_soc = inverter_data.get('Battery_soc')\n",
    "    solar_genr = inverter_data.get('solar_genr')\n",
    "    market_price = inverter_data.get('market_price')\n",
    "    # In well_formating data\n",
    "    print(f\"Batter SOC: {Battery_soc}%\")\n",
    "    print(f\"Solar Generation: {solar_genr} kw\")\n",
    "    print(f\"Market price: {market_price} Rs/unit\")\n",
    "    \n",
    "print(display_inverter_data.__doc__)    # print docstring"
   ]
  },
  {
   "cell_type": "code",
   "execution_count": 735,
   "id": "6df5f9ae-2401-4a3e-b1b1-33e568de95c3",
   "metadata": {},
   "outputs": [
    {
     "name": "stdout",
     "output_type": "stream",
     "text": [
      "Batter SOC: 59%\n",
      "Solar Generation: 3 kw\n",
      "Market price: 33 Rs/unit\n"
     ]
    }
   ],
   "source": [
    "data = {'Battery_soc': 59, 'solar_genr': 3, 'market_price': 33}\n",
    "display_inverter_data(data)   "
   ]
  },
  {
   "cell_type": "code",
   "execution_count": 737,
   "id": "ff2112ac-f350-41c8-8dfb-8204510639ed",
   "metadata": {},
   "outputs": [
    {
     "name": "stdout",
     "output_type": "stream",
     "text": [
      "{'inverter_data': <class 'dict'>, 'return': None}\n"
     ]
    }
   ],
   "source": [
    "print(display_inverter_data.__annotations__) "
   ]
  },
  {
   "cell_type": "markdown",
   "id": "f7cad078-2848-429b-b8f1-7e86a9a546d1",
   "metadata": {},
   "source": [
    "<h3><strong><i>Task:11 </i></strong></h3><h5><i>Change the scenario while keep the more elegant approach of pass dictionary and use dictionary packing. Consider a scenario in which you receive the data of battery SOC (% age), solar generation (Kw) and market price (per unit in rupees) from a hybrid solar inverter that are connected with green meter in a dictionary like {‘SOC’: 60, ‘solar generation’: 2, ‘price’: 60}. Let you pass these value in a function call like solar (SOC = 60, solar generation = 2, price = 60). Design a function that will receive these argument as a dictionary and print these values in a well format. Include appropriate docstrings. Also add annotation to the function parameters and return type. In addition, display annotation using special dunder attribute of the function called annotations.</i></h5>\n",
    "\n"
   ]
  },
  {
   "cell_type": "code",
   "execution_count": 754,
   "id": "14701c14-fec2-4f08-8806-aab784efde23",
   "metadata": {},
   "outputs": [],
   "source": [
    "def solar(): \n",
    "    pass"
   ]
  },
  {
   "cell_type": "code",
   "execution_count": 762,
   "id": "84ff1e88-afa9-49e6-83ea-3fa0e320769f",
   "metadata": {},
   "outputs": [
    {
     "name": "stdout",
     "output_type": "stream",
     "text": [
      "Function that pass the data as dictionary and use dictionary unpacking but you can pass these\n",
      "    value in a function call.\n",
      "    return: \n",
      "           None\n",
      "    it show the data or display it in well format:\n",
      "            battery SOC(% age)\n",
      "            solar generation (kw)\n",
      "            market price (per unit in rupees)\n",
      "    \n"
     ]
    }
   ],
   "source": [
    "def solar(**data: dict) -> None:\n",
    "    \"\"\"Function that pass the data as dictionary and use dictionary unpacking but you can pass these\n",
    "    value in a function call.\n",
    "    return: \n",
    "           None\n",
    "    it show the data or display it in well format:\n",
    "            battery SOC(% age)\n",
    "            solar generation (kw)\n",
    "            market price (per unit in rupees)\n",
    "    \"\"\"\n",
    "     # unpacking the dictionary\n",
    "    SOC = data.get('SOC')\n",
    "    Generation = data.get('Generation')\n",
    "    Price = data.get('Price')\n",
    "    # In well_formating data\n",
    "    print(f\"SOC: {SOC}%\")\n",
    "    print(f\"Solar Generation: {Generation} kw\")\n",
    "    print(f\"Price: {Price} Rs/unit\")\n",
    "    \n",
    "print(solar.__doc__)     # print docstring"
   ]
  },
  {
   "cell_type": "code",
   "execution_count": 764,
   "id": "79126657-e398-4347-9a82-9862e6c79635",
   "metadata": {},
   "outputs": [
    {
     "name": "stdout",
     "output_type": "stream",
     "text": [
      "SOC: 90%\n",
      "Solar Generation: 1.5 kw\n",
      "Price: 55 Rs/unit\n",
      "None\n"
     ]
    }
   ],
   "source": [
    "Data={'SOC': 90, 'Generation': 1.5, 'Price': 55}\n",
    "print(solar(**Data)) "
   ]
  },
  {
   "cell_type": "code",
   "execution_count": 766,
   "id": "351ccbe2-fafc-4933-ae38-866ed09ba7f8",
   "metadata": {},
   "outputs": [
    {
     "data": {
      "text/plain": [
       "{'data': dict, 'return': None}"
      ]
     },
     "execution_count": 766,
     "metadata": {},
     "output_type": "execute_result"
    }
   ],
   "source": [
    "solar.__annotations__"
   ]
  },
  {
   "cell_type": "markdown",
   "id": "9215d10f-eb29-4ff9-83ce-d05b8eb2e7ac",
   "metadata": {},
   "source": [
    "<h3><b><i>Understanding and Modifying Functions in Python</i></b></h3>\n",
    "<h5><i>xii. Understand the functions given below by run, modify and also design different scenarios.</i></h5>"
   ]
  },
  {
   "cell_type": "code",
   "execution_count": 775,
   "id": "6c222c09-cb5c-4dd6-a1d6-b1b90d88070b",
   "metadata": {},
   "outputs": [],
   "source": [
    "def f(a, b, *args, **kwargs):\n",
    "    print(F'a = {a}')\n",
    "    print(F'b = {b}')\n",
    "    print(F'args = {args}')\n",
    "    print(F'kwargs = {kwargs}')\n",
    "    f(1, 2, 'foo', 'bar', 'baz', 'qux', x=100, y=200, z=300)\n"
   ]
  },
  {
   "cell_type": "code",
   "execution_count": 777,
   "id": "81acdca2-d93d-4b86-9353-0fba97710d87",
   "metadata": {},
   "outputs": [
    {
     "name": "stdout",
     "output_type": "stream",
     "text": [
      "1\n",
      "2\n",
      "3\n",
      "4\n",
      "5\n",
      "6\n",
      "8\n",
      "9\n",
      "7\n"
     ]
    }
   ],
   "source": [
    "def f(*args):\n",
    "    for i in args:\n",
    "        print(i)\n",
    "a = [1, 2, 3]\n",
    "t = (4, 5, 6)\n",
    "s = {7, 8, 9}\n",
    "f(*a, *t, *s)"
   ]
  },
  {
   "cell_type": "code",
   "execution_count": 779,
   "id": "17aa818d-2445-4f0e-b3c4-f51738c62d75",
   "metadata": {},
   "outputs": [
    {
     "name": "stdout",
     "output_type": "stream",
     "text": [
      "a -> 1\n",
      "b -> 2\n",
      "x -> 3\n",
      "y -> 4\n"
     ]
    }
   ],
   "source": [
    "def f(**kwargs):\n",
    "    for k, v in kwargs.items():\n",
    "        print(k, '->', v)\n",
    "d1 = {'a': 1, 'b': 2}\n",
    "d2 = {'x': 3, 'y': 4}\n",
    "f(**d1, **d2)"
   ]
  },
  {
   "cell_type": "code",
   "execution_count": 788,
   "id": "39081d7c-7656-4cb1-ad1e-ecfa009f0c15",
   "metadata": {},
   "outputs": [
    {
     "name": "stdout",
     "output_type": "stream",
     "text": [
      "1\n",
      "2\n",
      "3\n",
      "4\n",
      "5\n",
      "6\n"
     ]
    }
   ],
   "source": [
    "def f(*args):\n",
    "    for i in args:\n",
    "        print(i)\n",
    "f(*[1, 2, 3], *[4, 5, 6])"
   ]
  },
  {
   "cell_type": "code",
   "execution_count": 790,
   "id": "eedd519f-df44-4b16-897d-a735b7a2110d",
   "metadata": {},
   "outputs": [
    {
     "name": "stdout",
     "output_type": "stream",
     "text": [
      "a -> 1\n",
      "b -> 2\n",
      "x -> 3\n",
      "y -> 4\n"
     ]
    }
   ],
   "source": [
    "def f(**kwargs):\n",
    "    for k, v in kwargs.items():\n",
    "        print(k, '->', v)\n",
    "f(**{'a': 1, 'b': 2}, **{'x': 3, 'y': 4})"
   ]
  },
  {
   "cell_type": "code",
   "execution_count": 795,
   "id": "49f014c9-5177-4116-9c38-388c4a9cdaf9",
   "metadata": {},
   "outputs": [
    {
     "data": {
      "text/plain": [
       "{'a': int, 'b': str, 'return': float}"
      ]
     },
     "execution_count": 795,
     "metadata": {},
     "output_type": "execute_result"
    }
   ],
   "source": [
    "def f(a: int, b: str) -> float:\n",
    "    print(a, b)\n",
    "    return(3.5)\n",
    "    f(1, 'foo')\n",
    "f.__annotations__\n"
   ]
  },
  {
   "cell_type": "markdown",
   "id": "9ad313bf-f477-4874-b2fd-11562ce9d328",
   "metadata": {},
   "source": [
    "<h4><i>If you want to assign a default value to a parameter that has an annotation, then the default value goes after the annotation:</i></h4>"
   ]
  },
  {
   "cell_type": "code",
   "execution_count": 797,
   "id": "1d0bb5c4-7733-4fad-99bf-e08ba7ecdd50",
   "metadata": {},
   "outputs": [
    {
     "name": "stdout",
     "output_type": "stream",
     "text": [
      "12 baz\n"
     ]
    },
    {
     "data": {
      "text/plain": [
       "3.5"
      ]
     },
     "execution_count": 797,
     "metadata": {},
     "output_type": "execute_result"
    }
   ],
   "source": [
    "def f(a: int = 12, b: str = 'baz') -> float:\n",
    "    print(a, b)\n",
    "    return(3.5)\n",
    "f.__annotations__\n",
    "f()"
   ]
  },
  {
   "cell_type": "markdown",
   "id": "0e103321-9235-468b-a24d-f149515f8f90",
   "metadata": {},
   "source": [
    "<h4><i>Annotations don’t impose any semantic restrictions on the code whatsoever. What’s going on here? The annotations for f() indicate that the first argument is int, the second argument str, and the return value float. But the subsequent call to f() breaks all the rules! The arguments are str and float, respectively, and the return value is a tuple. Yet the interpreter lets it all slide with no complaint at all.</i></h4>\n",
    "\n"
   ]
  },
  {
   "cell_type": "code",
   "execution_count": 803,
   "id": "99606819-e599-4345-a949-22ced5f9f74d",
   "metadata": {},
   "outputs": [
    {
     "name": "stdout",
     "output_type": "stream",
     "text": [
      "foo 2.5\n"
     ]
    },
    {
     "data": {
      "text/plain": [
       "(1, 2, 3)"
      ]
     },
     "execution_count": 803,
     "metadata": {},
     "output_type": "execute_result"
    }
   ],
   "source": [
    "def f(a: int, b: str) -> float:\n",
    " print(a, b)\n",
    " return 1, 2, 3\n",
    "f('foo', 2.5)"
   ]
  },
  {
   "cell_type": "markdown",
   "id": "44c070a7-b290-42e2-9f8f-0735c83655f0",
   "metadata": {},
   "source": [
    "<h1><i><b>Strings</b></i></h1>\n",
    "<h4><i>ii. Use F-String for three string formatting.\n",
    "</i></h4>"
   ]
  },
  {
   "cell_type": "code",
   "execution_count": 813,
   "id": "27794a9d-0ab5-49c1-849c-58592db94ca4",
   "metadata": {},
   "outputs": [
    {
     "name": "stdout",
     "output_type": "stream",
     "text": [
      "Name: Aina Khan, Reg_no: 0540, semester: 3rd\n"
     ]
    }
   ],
   "source": [
    "name = \"Aina Khan\"\n",
    "Reg_no = \"0540\"\n",
    "semester = \"3rd\"\n",
    "\n",
    "student_info = f\"Name: {name}, Reg_no: {Reg_no}, semester: {semester}\"\n",
    "print(student_info)\n"
   ]
  },
  {
   "cell_type": "markdown",
   "id": "a7fecb56-5482-48ee-8704-bf09650ccb98",
   "metadata": {},
   "source": [
    "<h4><i>ii. Use .capitalize() for three examples.</i></h4>"
   ]
  },
  {
   "cell_type": "code",
   "execution_count": 896,
   "id": "f6d54aab-60fa-4a3d-8600-1f8c78df38a9",
   "metadata": {},
   "outputs": [],
   "source": [
    "name = \"aina khan\"\n",
    "semester = 'third'\n",
    "department = 'electrical'"
   ]
  },
  {
   "cell_type": "code",
   "execution_count": 898,
   "id": "7b5672c5-3724-4056-a614-3cc0f8ec950f",
   "metadata": {},
   "outputs": [
    {
     "name": "stdout",
     "output_type": "stream",
     "text": [
      "Aina khan\n",
      "Third\n",
      "Electrical\n"
     ]
    }
   ],
   "source": [
    "print(name.capitalize())\n",
    "print(semester.capitalize())\n",
    "print(department.capitalize())"
   ]
  },
  {
   "cell_type": "markdown",
   "id": "69f0c378-2589-475f-bdb0-c5af40625a0f",
   "metadata": {},
   "source": [
    "<h4><i>iv. Use .format(*args, **kwargs) for five example formatting</i></h4>"
   ]
  },
  {
   "cell_type": "code",
   "execution_count": 862,
   "id": "fe604679-48b3-49a4-919a-e6d3c09209cc",
   "metadata": {},
   "outputs": [
    {
     "name": "stdout",
     "output_type": "stream",
     "text": [
      "Name : Aina , Reg No:0540\n",
      "semester: 3, section: B\n",
      "department : Electrical , university: UET\n"
     ]
    }
   ],
   "source": [
    "student= \"Name : {} , Reg No:{}\"\n",
    "print(student.format('Aina','0540'))\n",
    "semester = \"semester: {}, section: {}\"\n",
    "print(semester.format(3,\"B\"))\n",
    "Department=\"department : {} , university: {}\"\n",
    "print(Department.format(\"Electrical\",\"UET\"))"
   ]
  },
  {
   "cell_type": "markdown",
   "id": "a607d71f-df75-48d6-8636-0a953a99f2a5",
   "metadata": {},
   "source": [
    "<h4><i>v. Use .lower() for three examples.</i></h4>"
   ]
  },
  {
   "cell_type": "code",
   "execution_count": 866,
   "id": "28673b74-1484-429b-adf5-d5be4b2dc675",
   "metadata": {},
   "outputs": [],
   "source": [
    "a = \"643\"\n",
    "c = \"aina\""
   ]
  },
  {
   "cell_type": "code",
   "execution_count": 868,
   "id": "b63f6056-4b82-4bb6-8ee5-7dfe4f9364af",
   "metadata": {},
   "outputs": [
    {
     "name": "stdout",
     "output_type": "stream",
     "text": [
      "True\n",
      "False\n"
     ]
    }
   ],
   "source": [
    "print(a.isdigit())\n",
    "print(c.isdigit())"
   ]
  },
  {
   "cell_type": "code",
   "execution_count": 874,
   "id": "48e3ac93-9805-4f75-961b-1efc9cfbee68",
   "metadata": {},
   "outputs": [],
   "source": [
    "name = \"aina\"\n",
    "name1 = \"AINA\""
   ]
  },
  {
   "cell_type": "code",
   "execution_count": 876,
   "id": "8a39b77d-62c1-4ddd-acca-ef0b01f858ac",
   "metadata": {},
   "outputs": [
    {
     "name": "stdout",
     "output_type": "stream",
     "text": [
      "True\n",
      "False\n"
     ]
    }
   ],
   "source": [
    "print(name.islower())\n",
    "print(name1.islower())"
   ]
  },
  {
   "cell_type": "code",
   "execution_count": 878,
   "id": "fecc1caa-dc4a-4b1c-a680-76ad5b480862",
   "metadata": {},
   "outputs": [],
   "source": [
    "b = \"7643\"\n",
    "d = \"hi\""
   ]
  },
  {
   "cell_type": "code",
   "execution_count": 880,
   "id": "2d5bb30f-e727-4054-987c-0613b3fd6360",
   "metadata": {},
   "outputs": [
    {
     "name": "stdout",
     "output_type": "stream",
     "text": [
      "True\n",
      "False\n"
     ]
    }
   ],
   "source": [
    "print(b.isnumeric())\n",
    "print(d.isnumeric())"
   ]
  },
  {
   "cell_type": "markdown",
   "id": "297bef24-14b2-4cf7-8ee3-9109836dd7c3",
   "metadata": {},
   "source": [
    "<h4><i>vii. Some other string operation required other methods. Use .split() for two example.</i></h4>"
   ]
  },
  {
   "cell_type": "code",
   "execution_count": 890,
   "id": "5e56c8e2-4b20-49a9-9a38-928697346187",
   "metadata": {},
   "outputs": [],
   "source": [
    "name =\"Aina khan marwat\"\n",
    "hey = f\"My name is {name}\""
   ]
  },
  {
   "cell_type": "code",
   "execution_count": 892,
   "id": "4d3988e7-d042-4397-b6d8-303e3eaaf0dc",
   "metadata": {},
   "outputs": [
    {
     "name": "stdout",
     "output_type": "stream",
     "text": [
      "['Aina', 'khan', 'marwat']\n",
      "['My', 'name', 'is', 'Aina', 'khan', 'marwat']\n"
     ]
    }
   ],
   "source": [
    "print(name.split())\n",
    "print(hey.split())"
   ]
  }
 ],
 "metadata": {
  "kernelspec": {
   "display_name": "Python 3 (ipykernel)",
   "language": "python",
   "name": "python3"
  },
  "language_info": {
   "codemirror_mode": {
    "name": "ipython",
    "version": 3
   },
   "file_extension": ".py",
   "mimetype": "text/x-python",
   "name": "python",
   "nbconvert_exporter": "python",
   "pygments_lexer": "ipython3",
   "version": "3.12.4"
  }
 },
 "nbformat": 4,
 "nbformat_minor": 5
}
