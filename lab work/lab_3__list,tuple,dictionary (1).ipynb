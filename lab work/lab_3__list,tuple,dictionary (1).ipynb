{
 "cells": [
  {
   "cell_type": "markdown",
   "id": "e6a4addb-cdb8-45f8-8759-3f7c00b05cc7",
   "metadata": {},
   "source": [
    "<h1><strong><i> Lab Practice </i></strong></h1>"
   ]
  },
  {
   "cell_type": "markdown",
   "id": "ebe0a854-242e-4797-8f56-4189025d6060",
   "metadata": {},
   "source": [
    "<p><strong> Name </strong>: Aina khan</p>\n",
    "<p><strong> Reg No </strong>: 0540 <p>\n",
    "<p><strong> Lab NO </strong>: <strong> 3 </strong> <p>"
   ]
  },
  {
   "cell_type": "markdown",
   "id": "13de5d63-87a8-4472-b100-85a939e856e9",
   "metadata": {},
   "source": [
    "<h1><strong><i>\"List, Tuple, Dictionary\"</i></strong></h1> "
   ]
  },
  {
   "cell_type": "markdown",
   "id": "2c31f48d-a11e-44a6-9b78-9a4fcd93ba35",
   "metadata": {},
   "source": [
    "<h1><b><i>1. List</i></b></h1>"
   ]
  },
  {
   "cell_type": "markdown",
   "id": "7f71dd25-45c0-4da6-8dda-919caadca01b",
   "metadata": {},
   "source": [
    "<h4><i>1. Make a list of 5 any integers.</i></h4>  "
   ]
  },
  {
   "cell_type": "code",
   "execution_count": 14,
   "id": "c9defa64-7d53-4b34-ad1e-d535043d84fd",
   "metadata": {},
   "outputs": [
    {
     "name": "stdout",
     "output_type": "stream",
     "text": [
      "[1, 2, 3, 4, 5]\n"
     ]
    }
   ],
   "source": [
    "list1 = [1,2,3,4,5]\n",
    "print(list1)"
   ]
  },
  {
   "cell_type": "markdown",
   "id": "aead8577-303f-4d65-b0e3-6f7600dd8459",
   "metadata": {},
   "source": [
    "<h4><i> 2. Make a list that contains the student's name, the last four digits of the registration number as an integer, CGPA as a float, and a list that contains the GPA of all semesters. (Nested List)</i></h4> "
   ]
  },
  {
   "cell_type": "code",
   "execution_count": 21,
   "id": "aa0a9141-4a56-42d7-b17b-a0fb77e08b91",
   "metadata": {},
   "outputs": [
    {
     "name": "stdout",
     "output_type": "stream",
     "text": [
      "['Khadija Ali', 535, 3.2, [3.1, 3.3, 3.4, 3.4]]\n"
     ]
    }
   ],
   "source": [
    "student_info = [\"Khadija Ali\", 535 , 3.2 , [3.1 ,3.3 ,3.4,3.4] ]\n",
    "print(student_info)\n"
   ]
  },
  {
   "cell_type": "markdown",
   "id": "e54ce795-5bd8-4e1c-a13e-3830319f52f1",
   "metadata": {},
   "source": [
    "<h4> <i>3. In the above list print the student's CGPA. (Index)</i></h4> "
   ]
  },
  {
   "cell_type": "code",
   "execution_count": 24,
   "id": "1be7c9d5-ae80-4029-92a6-c525fa3b7b91",
   "metadata": {},
   "outputs": [
    {
     "name": "stdout",
     "output_type": "stream",
     "text": [
      "3.2\n"
     ]
    }
   ],
   "source": [
    "print(student_info[2])"
   ]
  },
  {
   "cell_type": "markdown",
   "id": "adebac4f-2a09-4f75-8925-294c07303799",
   "metadata": {},
   "source": [
    "<h4><i>4. Print the list elements using the while loop and use the length function. (len)</i></h4> \n"
   ]
  },
  {
   "cell_type": "code",
   "execution_count": 27,
   "id": "cc03f7f8-6465-4aa0-aa0b-457d9ae7608c",
   "metadata": {},
   "outputs": [
    {
     "name": "stdout",
     "output_type": "stream",
     "text": [
      "Khadija Ali\n",
      "535\n",
      "3.2\n",
      "[3.1, 3.3, 3.4, 3.4]\n"
     ]
    }
   ],
   "source": [
    "x = 0\n",
    "while x < len(student_info):\n",
    "    print(student_info[x])\n",
    "    x+=1"
   ]
  },
  {
   "cell_type": "markdown",
   "id": "141e2a7f-4346-4948-8c41-26b9cd94c0a8",
   "metadata": {},
   "source": [
    " <h4><i> 5. Access the list of all semester GPAs using negative indexing. </i></h4> \n"
   ]
  },
  {
   "cell_type": "code",
   "execution_count": 31,
   "id": "bad9e707-f019-41d3-8785-92fcbbf4b68e",
   "metadata": {},
   "outputs": [
    {
     "name": "stdout",
     "output_type": "stream",
     "text": [
      "[3.1, 3.3, 3.4, 3.4]\n"
     ]
    }
   ],
   "source": [
    "smester_GPAs = student_info[-1]\n",
    "print(smester_GPAs)"
   ]
  },
  {
   "cell_type": "markdown",
   "id": "f19cdb93-2b9a-4c3e-802d-2d78f7cd8828",
   "metadata": {},
   "source": [
    "<h4><i> 6. Make a list of the first 20 integers using the range function.</i></h4> "
   ]
  },
  {
   "cell_type": "code",
   "execution_count": 67,
   "id": "0ccc3934-82fa-48a4-aae3-e4b098d1d18d",
   "metadata": {},
   "outputs": [
    {
     "name": "stdout",
     "output_type": "stream",
     "text": [
      "[1, 2, 3, 4, 5, 6, 7, 8, 9, 10, 11, 12, 13, 14, 15, 16, 17, 18, 19, 20]\n"
     ]
    }
   ],
   "source": [
    "first_20_integers = list(range(1, 21))\n",
    "print(first_20_integers)\n"
   ]
  },
  {
   "cell_type": "markdown",
   "id": "c6f80bb6-5b8b-4d35-9634-5421dd3dc409",
   "metadata": {},
   "source": [
    "<h4><i>7. Make a list of odd integers from 20 to 40 using the range function.</i></h4> "
   ]
  },
  {
   "cell_type": "code",
   "execution_count": 36,
   "id": "a3651370-d83d-4f81-8577-a42b715d21e5",
   "metadata": {},
   "outputs": [
    {
     "name": "stdout",
     "output_type": "stream",
     "text": [
      "[21, 23, 25, 27, 29, 31, 33, 35, 37, 39]\n"
     ]
    }
   ],
   "source": [
    "odd_integer= list(range(21,40,2))\n",
    "print(odd_integer)"
   ]
  },
  {
   "cell_type": "markdown",
   "id": "f1907703-4821-402e-9cb8-29785105825d",
   "metadata": {},
   "source": [
    "<h4><i> 8. Consider the student list.Student = [Ibrahim, Husain, Irfan, Ayub, Usman]Use in and not in operators to ensure that the student is in the list or not.</i></h4> "
   ]
  },
  {
   "cell_type": "code",
   "execution_count": 129,
   "id": "cefbbd83-eb71-4de4-8117-ee345c7577c3",
   "metadata": {},
   "outputs": [],
   "source": [
    "Student = [\"Ibrahim\", \"Husain\", \"Irfan\", \"Ayub\",\" Usman\"]"
   ]
  },
  {
   "cell_type": "code",
   "execution_count": 131,
   "id": "dc201b4d-a33f-4f9d-b6ae-b1e82341bbad",
   "metadata": {},
   "outputs": [
    {
     "data": {
      "text/plain": [
       "False"
      ]
     },
     "execution_count": 131,
     "metadata": {},
     "output_type": "execute_result"
    }
   ],
   "source": [
    "\"Irfa\" in Student"
   ]
  },
  {
   "cell_type": "markdown",
   "id": "18d63d3a-dc11-462a-81af-0a14efba2a09",
   "metadata": {},
   "source": [
    "<h4><i>9. Print all the student lists in task 8 using the for loop.</i></h4>"
   ]
  },
  {
   "cell_type": "code",
   "execution_count": 149,
   "id": "221d7bf5-439a-4923-b2c1-87a1566dbee9",
   "metadata": {},
   "outputs": [
    {
     "name": "stdout",
     "output_type": "stream",
     "text": [
      "khadija\n",
      "aina\n",
      "rubab\n"
     ]
    }
   ],
   "source": [
    "i= [\"khadija\",\"aina\",\"rubab\"]\n",
    "for frnds in i:\n",
    "    print(frnds)"
   ]
  },
  {
   "cell_type": "markdown",
   "id": "dc85d664-469b-4cde-830d-5132d8f78a4b",
   "metadata": {},
   "source": [
    "<h4><i>10. Observe what is print, what is the first thing print, what the last thing print. Consider task 8 for the student list.    Student [1:3] and student [2:4]</i></h4>"
   ]
  },
  {
   "cell_type": "code",
   "execution_count": 152,
   "id": "ef85d298-1b6c-4259-a472-d7d30ac5a691",
   "metadata": {},
   "outputs": [
    {
     "name": "stdout",
     "output_type": "stream",
     "text": [
      "['aina', 'rubab']\n",
      "['rubab']\n"
     ]
    }
   ],
   "source": [
    "print (i[1:3])\n",
    "print(i[2:4])"
   ]
  },
  {
   "cell_type": "markdown",
   "id": "95793c81-f918-44d0-b32c-4698589ba66f",
   "metadata": {},
   "source": [
    "<h4><i> 11. Make an appropriate list and use and demonstrate the use of the following mutator Methods.</i></h4>"
   ]
  },
  {
   "cell_type": "markdown",
   "id": "6f84956f-3d5e-413c-b2c2-824a7316f9a0",
   "metadata": {},
   "source": [
    "<h4><b>a. .append(obj)</b></h4>"
   ]
  },
  {
   "cell_type": "code",
   "execution_count": 171,
   "id": "02a987eb-9c75-4bd3-ba42-3937bc8f1c8d",
   "metadata": {},
   "outputs": [
    {
     "name": "stdout",
     "output_type": "stream",
     "text": [
      "[1, 3, 4, 9]\n"
     ]
    }
   ],
   "source": [
    "list = [1,3,4]\n",
    "list.append(9)\n",
    "print(list)"
   ]
  },
  {
   "cell_type": "markdown",
   "id": "56ba0684-9c2b-4ba1-b1fc-70165ef7ff8a",
   "metadata": {},
   "source": [
    "<h4><b> b. .extend(iterable)</b></h4>"
   ]
  },
  {
   "cell_type": "code",
   "execution_count": 180,
   "id": "ac754945-97f9-4cfd-9ee9-ee13037bf2a8",
   "metadata": {},
   "outputs": [
    {
     "name": "stdout",
     "output_type": "stream",
     "text": [
      "[1, 3, 4, 8, 6, 7]\n"
     ]
    }
   ],
   "source": [
    "list = [1,3,4,8]\n",
    "list.extend([6,7])\n",
    "print(list)"
   ]
  },
  {
   "cell_type": "markdown",
   "id": "7236bf95-77d3-4910-ae26-524901d90fb1",
   "metadata": {},
   "source": [
    "<h4><b> c. .insert(index, obj)</b></h4>"
   ]
  },
  {
   "cell_type": "code",
   "execution_count": 46,
   "id": "1a9114d9-e5dc-4a93-b6d7-2b1b8639e104",
   "metadata": {},
   "outputs": [
    {
     "name": "stdout",
     "output_type": "stream",
     "text": [
      "[1, 7, 3, 4]\n"
     ]
    }
   ],
   "source": [
    "list = [1,3,4]\n",
    "list.insert(1,7)\n",
    "print(list)"
   ]
  },
  {
   "cell_type": "markdown",
   "id": "1ad72425-5dc7-4490-b804-7951170e8f9b",
   "metadata": {},
   "source": [
    "<h4><b> d. .remove(obj)</b></h4>\n"
   ]
  },
  {
   "cell_type": "code",
   "execution_count": 6,
   "id": "ac552314-d10c-4d6c-8a9e-d62e67307424",
   "metadata": {},
   "outputs": [
    {
     "name": "stdout",
     "output_type": "stream",
     "text": [
      "[3, 5, 7, 9]\n"
     ]
    }
   ],
   "source": [
    "list2=[3,5,6,7,9]\n",
    "list2.remove(6)\n",
    "print(list2)"
   ]
  },
  {
   "cell_type": "markdown",
   "id": "fb515f1a-573b-448d-850f-0b33a04b3daa",
   "metadata": {},
   "source": [
    "<h4><b> e. .pop([index=-1])</b></h4>\n"
   ]
  },
  {
   "cell_type": "code",
   "execution_count": 9,
   "id": "7a3ce569-f32f-4ba6-abec-13a9189073d7",
   "metadata": {},
   "outputs": [
    {
     "name": "stdout",
     "output_type": "stream",
     "text": [
      "[3, 5, 7]\n"
     ]
    }
   ],
   "source": [
    "list2.pop()\n",
    "print(list2)"
   ]
  },
  {
   "cell_type": "code",
   "execution_count": 11,
   "id": "6084a1d2-6ad9-4ef6-a2d4-fc4e2649adae",
   "metadata": {},
   "outputs": [
    {
     "name": "stdout",
     "output_type": "stream",
     "text": [
      "[3, 5]\n"
     ]
    }
   ],
   "source": [
    "list2.pop()\n",
    "print(list2)"
   ]
  },
  {
   "cell_type": "markdown",
   "id": "86260ec8-a975-4cf8-9d37-078e09e7fa64",
   "metadata": {},
   "source": [
    "<h4><i>12. Use list inducing in the following nested list and access each and every element. x = [\"a\", [\"bb\", [\"ccc\", \"ddd\"], \"ee\", \"ff\"], \"g\", [\"hh\", \"ii\"], \"j\"]</i></h4>\n"
   ]
  },
  {
   "cell_type": "code",
   "execution_count": 16,
   "id": "ffe7970e-7d3e-4285-b23f-3ae1e2bdf59d",
   "metadata": {},
   "outputs": [],
   "source": [
    " x = [\"a\", [\"bb\", [\"ccc\", \"ddd\"], \"ee\", \"ff\"], \"g\", [\"hh\", \"ii\"], \"j\"]"
   ]
  },
  {
   "cell_type": "code",
   "execution_count": 24,
   "id": "e5870fd2-2392-4a81-8b70-ecc6f2977362",
   "metadata": {},
   "outputs": [
    {
     "name": "stdout",
     "output_type": "stream",
     "text": [
      "a\n"
     ]
    }
   ],
   "source": [
    "# access \"a\"\n",
    "print(x[0])"
   ]
  },
  {
   "cell_type": "code",
   "execution_count": 28,
   "id": "b15c1065-e4bb-4892-b049-4de49484bbdf",
   "metadata": {},
   "outputs": [
    {
     "name": "stdout",
     "output_type": "stream",
     "text": [
      "bb\n"
     ]
    }
   ],
   "source": [
    "# access \"bb\"\n",
    "print(x[1][0])"
   ]
  },
  {
   "cell_type": "code",
   "execution_count": 30,
   "id": "056dd040-3b5f-47f7-bc7e-25af4e5f6693",
   "metadata": {},
   "outputs": [
    {
     "name": "stdout",
     "output_type": "stream",
     "text": [
      "['ccc', 'ddd']\n"
     ]
    }
   ],
   "source": [
    "# access \"[\"ccc\", \"ddd\"]\"\n",
    "print(x[1][1])"
   ]
  },
  {
   "cell_type": "code",
   "execution_count": 44,
   "id": "348b2a9b-8959-4ec6-a1d1-b07075b92520",
   "metadata": {},
   "outputs": [
    {
     "name": "stdout",
     "output_type": "stream",
     "text": [
      "ddd\n"
     ]
    }
   ],
   "source": [
    "# access \"ddd\"\n",
    "print(x[1][1][1])"
   ]
  },
  {
   "cell_type": "code",
   "execution_count": 46,
   "id": "161ae77a-3674-4873-938e-ad968d5805fd",
   "metadata": {},
   "outputs": [
    {
     "name": "stdout",
     "output_type": "stream",
     "text": [
      "ee\n"
     ]
    }
   ],
   "source": [
    "# access \"ee\"\n",
    "print(x[1][2])"
   ]
  },
  {
   "cell_type": "code",
   "execution_count": 48,
   "id": "51a71f41-de12-4c98-b449-96d350e77f8d",
   "metadata": {},
   "outputs": [
    {
     "name": "stdout",
     "output_type": "stream",
     "text": [
      "ii\n"
     ]
    }
   ],
   "source": [
    "# access \"ii\"\n",
    "print(x[3][1])"
   ]
  },
  {
   "cell_type": "markdown",
   "id": "233f9f56-5c31-409c-ba0b-27e1400ad4b0",
   "metadata": {},
   "source": [
    "<h1><b><i>2. Tuple</i></b></h1>"
   ]
  },
  {
   "cell_type": "markdown",
   "id": "699e3a86-ac91-4254-a1f6-4e4ef61f4bc1",
   "metadata": {},
   "source": [
    "<h4><i> 1. Make a tuple containing first five letters of English. (definition)</i></h4>"
   ]
  },
  {
   "cell_type": "code",
   "execution_count": 54,
   "id": "db88eb46-8333-495b-b837-ff4571114e5b",
   "metadata": {},
   "outputs": [
    {
     "name": "stdout",
     "output_type": "stream",
     "text": [
      "('a', 'b', 'c', 'd', 'e')\n"
     ]
    }
   ],
   "source": [
    "tuple1 = ('a','b','c','d','e')\n",
    "print(tuple1)"
   ]
  },
  {
   "cell_type": "markdown",
   "id": "644a248d-7aae-4bcd-8b59-666d69a765c5",
   "metadata": {},
   "source": [
    "<h4><i> 2. Use the index to access the third and last element.</i></h4>"
   ]
  },
  {
   "cell_type": "code",
   "execution_count": 63,
   "id": "b21c3e81-88a8-4c21-9f15-6ba46e8db6ab",
   "metadata": {},
   "outputs": [
    {
     "name": "stdout",
     "output_type": "stream",
     "text": [
      "c e\n"
     ]
    }
   ],
   "source": [
    "# access third letter\n",
    "third_letter = tuple1[2]\n",
    "# access last letter\n",
    "last_letter = tuple1[4]\n",
    "print(third_letter,last_letter)"
   ]
  },
  {
   "cell_type": "markdown",
   "id": "b778d49b-2fba-4838-a807-e8bd0b40cfca",
   "metadata": {},
   "source": [
    "<h4><i>3. Make an appropriate list and tuple and use different operations that will show that list is mutable and tuple is immutable.</i></h4>"
   ]
  },
  {
   "cell_type": "code",
   "execution_count": 76,
   "id": "a8107a56-1758-4de1-b89a-d281384b7ee8",
   "metadata": {},
   "outputs": [],
   "source": [
    "mutable_list = [1,2,3,4,5,6]"
   ]
  },
  {
   "cell_type": "code",
   "execution_count": 78,
   "id": "ff80182e-0bc8-4284-8106-229fc34160fd",
   "metadata": {},
   "outputs": [
    {
     "name": "stdout",
     "output_type": "stream",
     "text": [
      "[9, 2, 3, 4, 5, 6]\n"
     ]
    }
   ],
   "source": [
    "mutable_list[0] = 9\n",
    "print(mutable_list)"
   ]
  },
  {
   "cell_type": "code",
   "execution_count": 80,
   "id": "6c5f9daf-e24a-4157-9e11-0fbcabc97269",
   "metadata": {},
   "outputs": [
    {
     "name": "stdout",
     "output_type": "stream",
     "text": [
      "[9, 2, 3, 4, 5, 6, 8]\n"
     ]
    }
   ],
   "source": [
    "mutable_list.append(8)\n",
    "print(mutable_list)"
   ]
  },
  {
   "cell_type": "code",
   "execution_count": 82,
   "id": "41e7b866-c79d-44f5-9e9e-76c986dfcd3e",
   "metadata": {},
   "outputs": [
    {
     "name": "stdout",
     "output_type": "stream",
     "text": [
      "[9, 2, 3, 0, 4, 5, 6, 8]\n"
     ]
    }
   ],
   "source": [
    "mutable_list.insert(3,0)\n",
    "print(mutable_list)"
   ]
  },
  {
   "cell_type": "code",
   "execution_count": 84,
   "id": "bd3fa887-b57b-4506-aede-5b8360925d36",
   "metadata": {},
   "outputs": [
    {
     "name": "stdout",
     "output_type": "stream",
     "text": [
      "[9, 2, 3, 0, 5, 6, 8]\n"
     ]
    }
   ],
   "source": [
    "mutable_list.remove(4)\n",
    "print(mutable_list)"
   ]
  },
  {
   "cell_type": "code",
   "execution_count": 86,
   "id": "f79e7eb6-fc7c-4f4e-8679-be480e058eab",
   "metadata": {},
   "outputs": [],
   "source": [
    "immutable_tuple = ('a','b','c','d','e')"
   ]
  },
  {
   "cell_type": "code",
   "execution_count": 92,
   "id": "fd4b5b44-1927-4f9c-a02c-75f71b0cc838",
   "metadata": {},
   "outputs": [
    {
     "ename": "TypeError",
     "evalue": "'tuple' object does not support item assignment",
     "output_type": "error",
     "traceback": [
      "\u001b[1;31m---------------------------------------------------------------------------\u001b[0m",
      "\u001b[1;31mTypeError\u001b[0m                                 Traceback (most recent call last)",
      "Cell \u001b[1;32mIn[92], line 1\u001b[0m\n\u001b[1;32m----> 1\u001b[0m immutable_tuple[\u001b[38;5;241m0\u001b[39m]\u001b[38;5;241m=\u001b[39m\u001b[38;5;241m2\u001b[39m\n\u001b[0;32m      2\u001b[0m \u001b[38;5;28mprint\u001b[39m(immutable_tuple)\n",
      "\u001b[1;31mTypeError\u001b[0m: 'tuple' object does not support item assignment"
     ]
    }
   ],
   "source": [
    "immutable_tuple[0]=2\n",
    "print(immutable_tuple)"
   ]
  },
  {
   "cell_type": "code",
   "execution_count": 90,
   "id": "249b0019-510e-46ca-898b-87aef0a37e45",
   "metadata": {},
   "outputs": [
    {
     "name": "stdout",
     "output_type": "stream",
     "text": [
      "Error : 'tuple' object does not support item assignment\n"
     ]
    }
   ],
   "source": [
    "try:\n",
    "    immutable_tuple[0]=2\n",
    "except TypeError as e:\n",
    "    print(\"Error :\", e) "
   ]
  },
  {
   "cell_type": "markdown",
   "id": "9ce10bb2-da05-4a49-ba1f-3d21039897cc",
   "metadata": {},
   "source": [
    "<h4><i> 4. Make a tuple num = (1, 2, 3, 4). a. Observe the output num[2] = 9 </i></h4>"
   ]
  },
  {
   "cell_type": "code",
   "execution_count": 170,
   "id": "4e67ffe9-f186-4260-bcde-5fabee45ac38",
   "metadata": {},
   "outputs": [
    {
     "name": "stdout",
     "output_type": "stream",
     "text": [
      "Error :  'tuple' object does not support item assignment\n"
     ]
    }
   ],
   "source": [
    "tuple_num = (1, 2, 3, 4)\n",
    "try:\n",
    "    tuple_num [2] = 9\n",
    "except TypeError as e:\n",
    "    print(\"Error : \", e)"
   ]
  },
  {
   "cell_type": "markdown",
   "id": "c10858bd-996e-4c8d-b5df-cb3b9952a4b0",
   "metadata": {},
   "source": [
    "<h1><b><i>3. Dictionary</i></b></h1>"
   ]
  },
  {
   "cell_type": "markdown",
   "id": "0ba135ef-9e4b-4880-89b2-378d481914d2",
   "metadata": {},
   "source": [
    "<h4><i> 1. Consider the following structure and observe. Fd= { ‘one’: ‘aik’, , ‘three’: ‘teen’, ‘ten’ : ‘das’, ‘fifteen’ : ‘pandra’}</i></h4>"
   ]
  },
  {
   "cell_type": "code",
   "execution_count": 61,
   "id": "cbce80f8-374e-42bc-b41f-6f626b6627fa",
   "metadata": {},
   "outputs": [
    {
     "name": "stdout",
     "output_type": "stream",
     "text": [
      "{'one': 'aik', 'three': 'teen', 'ten': 'das', 'fifteen': 'pandra'}\n"
     ]
    }
   ],
   "source": [
    "Fd= { 'one': 'aik',  'three': 'teen', 'ten' : 'das', 'fifteen' : 'pandra'}\n",
    "print(Fd)"
   ]
  },
  {
   "cell_type": "code",
   "execution_count": 63,
   "id": "78788b15-9840-4c72-bc59-f5fbb8d2f2ed",
   "metadata": {},
   "outputs": [
    {
     "name": "stdout",
     "output_type": "stream",
     "text": [
      "das\n"
     ]
    }
   ],
   "source": [
    "print(Fd['ten'])"
   ]
  },
  {
   "cell_type": "code",
   "execution_count": 65,
   "id": "335891c4-4353-4e1f-ac42-70136fc023a2",
   "metadata": {},
   "outputs": [
    {
     "name": "stdout",
     "output_type": "stream",
     "text": [
      "aik\n"
     ]
    }
   ],
   "source": [
    "print(Fd['one'])"
   ]
  },
  {
   "cell_type": "code",
   "execution_count": 67,
   "id": "ab3bf3ba-d423-48cb-af3e-18737fd88878",
   "metadata": {},
   "outputs": [
    {
     "name": "stdout",
     "output_type": "stream",
     "text": [
      "{'one': 'aik', 'three': 'teen', 'fifteen': 'pandra'}\n"
     ]
    }
   ],
   "source": [
    "del(Fd['ten'])\n",
    "print(Fd)"
   ]
  },
  {
   "cell_type": "code",
   "execution_count": 69,
   "id": "d280f381-b708-4461-b92f-965d22f9f134",
   "metadata": {},
   "outputs": [
    {
     "data": {
      "text/plain": [
       "3"
      ]
     },
     "execution_count": 69,
     "metadata": {},
     "output_type": "execute_result"
    }
   ],
   "source": [
    "length=len(Fd)\n",
    "length"
   ]
  },
  {
   "cell_type": "code",
   "execution_count": 71,
   "id": "4cbc71c4-727a-47d4-866d-6d377daa0490",
   "metadata": {},
   "outputs": [
    {
     "name": "stdout",
     "output_type": "stream",
     "text": [
      "['aik', 'teen', 'pandra']\n"
     ]
    }
   ],
   "source": [
    "values=Fd.values()\n",
    "print(list(values))"
   ]
  },
  {
   "cell_type": "code",
   "execution_count": 73,
   "id": "6dcfee97-56be-4db1-94ba-0bbc353f80e2",
   "metadata": {},
   "outputs": [
    {
     "data": {
      "text/plain": [
       "True"
      ]
     },
     "execution_count": 73,
     "metadata": {},
     "output_type": "execute_result"
    }
   ],
   "source": [
    "'one' in Fd"
   ]
  },
  {
   "cell_type": "code",
   "execution_count": 75,
   "id": "aa501d84-d07b-4555-aef0-c9ba872eeb4c",
   "metadata": {},
   "outputs": [
    {
     "data": {
      "text/plain": [
       "False"
      ]
     },
     "execution_count": 75,
     "metadata": {},
     "output_type": "execute_result"
    }
   ],
   "source": [
    "'ten' in Fd"
   ]
  },
  {
   "cell_type": "code",
   "execution_count": 15,
   "id": "0eba38cf-673e-41d1-b3ab-7d86b28e4edf",
   "metadata": {},
   "outputs": [],
   "source": [
    "copy = Fd.copy()"
   ]
  },
  {
   "cell_type": "code",
   "execution_count": 17,
   "id": "892b9080-7241-480f-b78c-067fd8311694",
   "metadata": {},
   "outputs": [
    {
     "name": "stdout",
     "output_type": "stream",
     "text": [
      "{'one': 'aik', 'three': 'teen', 'ten': 'das', 'fifteen': 'pandra'}\n"
     ]
    }
   ],
   "source": [
    "print(copy)"
   ]
  },
  {
   "cell_type": "code",
   "execution_count": 19,
   "id": "56610409-d5c3-4819-9f88-da754dadb48d",
   "metadata": {},
   "outputs": [],
   "source": [
    "alias = Fd"
   ]
  },
  {
   "cell_type": "code",
   "execution_count": 21,
   "id": "c4e44cea-bba4-4c2b-98ae-cc2d447f318f",
   "metadata": {},
   "outputs": [
    {
     "name": "stdout",
     "output_type": "stream",
     "text": [
      "{'one': 'aik', 'three': 'teen', 'ten': 'das', 'fifteen': 'pandra'}\n"
     ]
    }
   ],
   "source": [
    "print(alias)"
   ]
  },
  {
   "cell_type": "code",
   "execution_count": 27,
   "id": "c68fc7ce-5467-4e90-8c48-0e7855d9e8ec",
   "metadata": {},
   "outputs": [
    {
     "data": {
      "text/plain": [
       "{'one': 'aik', 'three': '3', 'ten': 'das', 'fifteen': 'pandra'}"
      ]
     },
     "execution_count": 27,
     "metadata": {},
     "output_type": "execute_result"
    }
   ],
   "source": [
    "alias['three'] = '3'\n",
    "alias"
   ]
  },
  {
   "cell_type": "code",
   "execution_count": 69,
   "id": "50d88b06-c773-425f-885b-8ffc4c63b97a",
   "metadata": {},
   "outputs": [
    {
     "data": {
      "text/plain": [
       "{'one': 'aik', 'three': 'teen', 'ten': '10', 'fifteen': 'pandra'}"
      ]
     },
     "execution_count": 69,
     "metadata": {},
     "output_type": "execute_result"
    }
   ],
   "source": [
    "copy['ten'] = '10'\n",
    "copy"
   ]
  },
  {
   "cell_type": "markdown",
   "id": "643a8dfe-0b01-41e5-92a0-adab85db88cb",
   "metadata": {},
   "source": [
    "<h4><i> 2 Make an appropriate dictionary and use the following built-in function and observe the result.</i></h4>"
   ]
  },
  {
   "cell_type": "code",
   "execution_count": 102,
   "id": "ce1e8ce8-315d-479a-9951-104f99af77ae",
   "metadata": {},
   "outputs": [],
   "source": [
    "Fd= { 'one': 'aik',  'three': 'teen', 'ten' : 'das', 'fifteen' : 'pandra'}"
   ]
  },
  {
   "cell_type": "code",
   "execution_count": 104,
   "id": "a8f7c72f-ba43-46de-9150-9de5c9acc35e",
   "metadata": {},
   "outputs": [
    {
     "data": {
      "text/plain": [
       "{}"
      ]
     },
     "execution_count": 104,
     "metadata": {},
     "output_type": "execute_result"
    }
   ],
   "source": [
    "Fd.clear()\n",
    "Fd"
   ]
  },
  {
   "cell_type": "code",
   "execution_count": 106,
   "id": "c54fef6e-078a-4f3a-9853-ea07ebba78db",
   "metadata": {},
   "outputs": [
    {
     "data": {
      "text/plain": [
       "'das'"
      ]
     },
     "execution_count": 106,
     "metadata": {},
     "output_type": "execute_result"
    }
   ],
   "source": [
    "Fd= { 'one': 'aik',  'three': 'teen', 'ten' : 'das', 'fifteen' : 'pandra'}\n",
    "a=Fd.get('ten')\n",
    "a"
   ]
  },
  {
   "cell_type": "code",
   "execution_count": 108,
   "id": "3bf0e67b-9358-419e-a13a-f3929486c770",
   "metadata": {},
   "outputs": [
    {
     "data": {
      "text/plain": [
       "dict_items([('one', 'aik'), ('three', 'teen'), ('ten', 'das'), ('fifteen', 'pandra')])"
      ]
     },
     "execution_count": 108,
     "metadata": {},
     "output_type": "execute_result"
    }
   ],
   "source": [
    "a=Fd.items()\n",
    "a"
   ]
  },
  {
   "cell_type": "code",
   "execution_count": 110,
   "id": "80d2054c-8263-4c48-b264-a5632614dc40",
   "metadata": {},
   "outputs": [
    {
     "data": {
      "text/plain": [
       "dict_keys(['one', 'three', 'ten', 'fifteen'])"
      ]
     },
     "execution_count": 110,
     "metadata": {},
     "output_type": "execute_result"
    }
   ],
   "source": [
    "a = Fd.keys()\n",
    "a\n"
   ]
  },
  {
   "cell_type": "code",
   "execution_count": 112,
   "id": "eaa1ecd2-cc19-44c4-90f2-bd834b8b4d28",
   "metadata": {},
   "outputs": [
    {
     "data": {
      "text/plain": [
       "dict_values(['aik', 'teen', 'das', 'pandra'])"
      ]
     },
     "execution_count": 112,
     "metadata": {},
     "output_type": "execute_result"
    }
   ],
   "source": [
    "a=Fd.values()\n",
    "a"
   ]
  },
  {
   "cell_type": "code",
   "execution_count": 110,
   "id": "309039c7-4ab5-470a-ab22-ae1f321e6405",
   "metadata": {},
   "outputs": [
    {
     "name": "stdout",
     "output_type": "stream",
     "text": [
      "[0, 1, 4, 9, 16, 25, 36, 49, 64, 81]\n"
     ]
    }
   ],
   "source": [
    "squares = []\n",
    "for x in range(10):\n",
    " squares.append(x * x)\n",
    "print(squares)"
   ]
  },
  {
   "cell_type": "code",
   "execution_count": 116,
   "id": "72f36eff-54ab-42c4-adb4-3323c695e084",
   "metadata": {},
   "outputs": [
    {
     "name": "stdout",
     "output_type": "stream",
     "text": [
      "[0, 1, 4, 9, 16, 25, 36, 49, 64, 81]\n"
     ]
    }
   ],
   "source": [
    "squares = [x * x for x in range(10)]    #This simple one-line code is called list comprehension\n",
    "print(squares)"
   ]
  }
 ],
 "metadata": {
  "kernelspec": {
   "display_name": "Python 3 (ipykernel)",
   "language": "python",
   "name": "python3"
  },
  "language_info": {
   "codemirror_mode": {
    "name": "ipython",
    "version": 3
   },
   "file_extension": ".py",
   "mimetype": "text/x-python",
   "name": "python",
   "nbconvert_exporter": "python",
   "pygments_lexer": "ipython3",
   "version": "3.12.4"
  }
 },
 "nbformat": 4,
 "nbformat_minor": 5
}
