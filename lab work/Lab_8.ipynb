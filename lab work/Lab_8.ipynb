{
 "cells": [
  {
   "cell_type": "markdown",
   "id": "db69a6ea-ee33-4450-a903-819c5ffa5be5",
   "metadata": {},
   "source": [
    "<h1 style=\"margin-left: 10px; text-decoration: underline; text-decoration-style: double;\"><strong><i> Lab Practice: </i></strong></h1>"
   ]
  },
  {
   "cell_type": "markdown",
   "id": "fd1afb78-1457-4ab4-8435-9cb73fbaceac",
   "metadata": {},
   "source": [
    "<p style=\"margin-left: 10px;text-decoration: underline;\"><strong> Name </strong>: Aina khan</p>\n",
    "<p style=\"margin-left: 10px;text-decoration: underline;\"><strong> Reg No </strong>: 0540 <p>\n",
    "<p style=\"margin-left: 10px;text-decoration: underline;\"><strong> Lab Practice </strong>: <strong> 8</strong> <p>"
   ]
  },
  {
   "cell_type": "markdown",
   "id": "a71e5640-b894-418a-ad7b-c3ea161a4601",
   "metadata": {},
   "source": [
    "<hr>"
   ]
  },
  {
   "cell_type": "markdown",
   "id": "17b5bade-46c2-462f-a019-dee867214344",
   "metadata": {},
   "source": [
    "<h1 style=\"margin-left: 29px;text-decoration: underline;text-decoration-style: double;\"><i><b>Lab Title :</b></i></h1>"
   ]
  },
  {
   "cell_type": "markdown",
   "id": "8c4f2f1d-3adf-4b6c-a42d-aa9db6f72640",
   "metadata": {},
   "source": [
    "<h2 style=\"margin-left: 129px;text-decoration: underline;text-decoration-style: double;\"><i><b>\"Inheretance\"\n",
    "</b></i></h2>"
   ]
  },
  {
   "cell_type": "markdown",
   "id": "774561ed-359c-4a86-b62a-e2ad97b384ea",
   "metadata": {},
   "source": [
    "<h2 style=\"margin-left: 10px;text-decoration: underline;\"><i><b>Task :</b></b></i></h2>"
   ]
  },
  {
   "cell_type": "markdown",
   "id": "93a3d314-06dc-4e91-b083-cd1a64f6e5ab",
   "metadata": {},
   "source": [
    "<h5 style=\"margin-left: 10px;text-decoration: underline;\"><i><b>ProductivitySystem tracks productivity based on employee roles. There are different employee roles:</b></b></i></h5>"
   ]
  },
  {
   "cell_type": "markdown",
   "id": "01e65431-1f39-4ef1-921a-5a0efa002e62",
   "metadata": {},
   "source": [
    "<h5><i><b>•\tManagers:</b> They walk around yelling at people, telling them what to do. They’re salaried employees and make more money.</i></h5>\n",
    "<h5><i><b>•\tSecretaries:</b> They do all the paperwork for managers and ensure that everything gets billed and payed on time. They’re also salaried employees but make less money.</i></h5>\n",
    "<h5><i><b>•\tSales employees:</b> They make a lot of phone calls to sell products. They have a salary, but they also get commissions for sales.</i></h5>\n",
    "<h5><i><b>•\tFactory workers:</b> They manufacture the products for the company. They’re paid by the hour.</i></h5>\n",
    "<h5><i>First, you add a Manager class that derives from SalaryEmployee. The class exposes a .work() method that the productivity system will use. The method takes the hours that the employee worked.</i></h5>\n"
   ]
  },
  {
   "cell_type": "code",
   "execution_count": 56,
   "id": "24fc54d3-5864-4fdd-b100-345374d9fcaf",
   "metadata": {},
   "outputs": [],
   "source": [
    "class Payroll_system:\n",
    "    def calculate_payroll(self, employees):\n",
    "        print(\"Calculate Payroll\")\n",
    "        print(\"===========================\")\n",
    "        for employee in employees:\n",
    "            print(f\"Payroll for: {employee.id} - {employee.name}\")\n",
    "            print(f\"- Check amount: {employee.calculate_payroll()}\")\n",
    "            print()\n",
    "\n",
    "class Employee:\n",
    "    def __init__(self, id, name):\n",
    "        self.id = id\n",
    "        self.name = name\n",
    "class Salary_employee(Employee):\n",
    "    def __init__(self, id, name, weekly_salary):\n",
    "        super().__init__(id, name)\n",
    "        self.weekly_salary = weekly_salary\n",
    "\n",
    "    def calculate_payroll(self):\n",
    "        return self.weekly_salary\n",
    "\n",
    "class Hourly_employee(Employee):\n",
    "    def __init__(self, id, name, hours_worked, hourly_rate):\n",
    "        super().__init__(id, name)\n",
    "        self.hours_worked = hours_worked\n",
    "        self.hourly_rate = hourly_rate\n",
    "\n",
    "    def calculate_payroll(self):\n",
    "        return self.hours_worked * self.hourly_rate\n",
    "\n",
    "class Commission_employee(Salary_employee):\n",
    "    def __init__(self, id, name, weekly_salary, commission):\n",
    "        super().__init__(id, name, weekly_salary)\n",
    "        self.commission = commission\n",
    "\n",
    "    def calculate_payroll(self):\n",
    "        fixed = super().calculate_payroll()\n",
    "        return fixed + self.commission"
   ]
  },
  {
   "cell_type": "code",
   "execution_count": 58,
   "id": "36a6772e-7782-43d4-99e9-1f2d991759a7",
   "metadata": {},
   "outputs": [],
   "source": [
    "class Manager_role(Salary_employee):\n",
    "    def work(self, hours):\n",
    "        print(f\"{self.name} oversees and delegates tasks for {hours} hours.\")\n",
    "\n",
    "class Secretary_role(Salary_employee):\n",
    "    def work(self, hours):\n",
    "        print(f\"{self.name} efficiently organizes and manages documents for {hours} hours.\")\n",
    "\n",
    "class SalesPerson_role(Commission_employee):\n",
    "    def work(self, hours):\n",
    "        print(f\"{self.name} engages with clients and closes deals for {hours} hours.\")\n",
    "\n",
    "class FactoryWorker_role(Hourly_employee):\n",
    "    def work(self, hours):\n",
    "        print(f\"{self.name} diligently assembles products for {hours} hours.\")\n"
   ]
  },
  {
   "cell_type": "code",
   "execution_count": 60,
   "id": "841ceebf-5f94-4707-aacb-a4b3757d5c6a",
   "metadata": {},
   "outputs": [],
   "source": [
    "class Productivity_system:\n",
    "    def Track(self, employees, hours):\n",
    "        print(\"Productivity System Tracking\")\n",
    "        print('-----------------------------')\n",
    "        for employee in employees:\n",
    "            employee.work(hours)\n",
    "            print()"
   ]
  },
  {
   "cell_type": "code",
   "execution_count": 62,
   "id": "7019aee9-8591-40ac-a0c1-0c0cfe23f2fe",
   "metadata": {},
   "outputs": [],
   "source": [
    "Manager = Manager_role(540, 'Aina', 3000)\n",
    "Secretary = Secretary_role(540, 'Alvina', 1500)\n",
    "SalesPerson = SalesPerson_role(535, 'Khadija', 23, 40)\n",
    "FactoryWorker = FactoryWorker_role(530, 'Rubab', 34, 55)"
   ]
  },
  {
   "cell_type": "code",
   "execution_count": 64,
   "id": "bf8324d8-e7ba-482e-adc5-8fe3098c953f",
   "metadata": {},
   "outputs": [],
   "source": [
    "employees = [Manager, Secretary, SalesPerson, FactoryWorker]"
   ]
  },
  {
   "cell_type": "code",
   "execution_count": 66,
   "id": "7a2a14e0-caec-4508-b4a7-13977b55b5dc",
   "metadata": {},
   "outputs": [],
   "source": [
    "productivity_system = Productivity_system()"
   ]
  },
  {
   "cell_type": "code",
   "execution_count": 68,
   "id": "1a6a0ed1-1f30-43af-a721-a29c0295f559",
   "metadata": {},
   "outputs": [
    {
     "name": "stdout",
     "output_type": "stream",
     "text": [
      "Productivity System Tracking\n",
      "-----------------------------\n",
      "Aina oversees and delegates tasks for 44 hours.\n",
      "\n",
      "Alvina efficiently organizes and manages documents for 44 hours.\n",
      "\n",
      "Khadija engages with clients and closes deals for 44 hours.\n",
      "\n",
      "Rubab diligently assembles products for 44 hours.\n",
      "\n"
     ]
    }
   ],
   "source": [
    "productivity_system.Track(employees, 44)"
   ]
  },
  {
   "cell_type": "markdown",
   "id": "34be19f9-7dcf-48b5-9339-6d51899fca8c",
   "metadata": {},
   "source": [
    "<hr>"
   ]
  }
 ],
 "metadata": {
  "kernelspec": {
   "display_name": "Python 3 (ipykernel)",
   "language": "python",
   "name": "python3"
  },
  "language_info": {
   "codemirror_mode": {
    "name": "ipython",
    "version": 3
   },
   "file_extension": ".py",
   "mimetype": "text/x-python",
   "name": "python",
   "nbconvert_exporter": "python",
   "pygments_lexer": "ipython3",
   "version": "3.12.4"
  }
 },
 "nbformat": 4,
 "nbformat_minor": 5
}
