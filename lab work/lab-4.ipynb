{
 "cells": [
  {
   "cell_type": "markdown",
   "id": "d77920e7-f864-4ce2-b8ae-07ab1cd79f98",
   "metadata": {},
   "source": [
    "<h1 style=\"margin-left: 10px; text-decoration: underline; text-decoration-style: double;\"><strong><i> Lab Practice: </i></strong></h1>"
   ]
  },
  {
   "cell_type": "markdown",
   "id": "8f7c09c7-0f95-466d-a45b-000b1303e041",
   "metadata": {},
   "source": [
    "<p style=\"margin-left: 10px;text-decoration: underline;\"><strong> Name </strong>: Aina khan</p>\n",
    "<p style=\"margin-left: 10px;text-decoration: underline;\"><strong> Reg No </strong>: 0540 <p>\n",
    "<p style=\"margin-left: 10px;text-decoration: underline;\"><strong> Lab Practice </strong>: <strong> 4 </strong> <p>"
   ]
  },
  {
   "cell_type": "markdown",
   "id": "017d70e3-ce21-4221-a792-9d896e3dbc4e",
   "metadata": {},
   "source": [
    "<hr>"
   ]
  },
  {
   "cell_type": "markdown",
   "id": "4fb2b871-d78f-442d-9a11-71a48040e768",
   "metadata": {},
   "source": [
    "<h1 style=\"margin-left: 29px;text-decoration: underline;text-decoration-style: double;\"><i><b>Lab Title :</b></i></h1>"
   ]
  },
  {
   "cell_type": "markdown",
   "id": "d0bc3c2c-ccc9-4021-8a91-99a09d57330f",
   "metadata": {},
   "source": [
    "<h1 style=\"margin-left: 129px;text-decoration: underline;text-decoration-style: double;\"><i><b> Classes, objects, and instances</b></i></h1>"
   ]
  },
  {
   "cell_type": "markdown",
   "id": "809b4f62-3f34-4e93-8bfc-f896702a4617",
   "metadata": {},
   "source": [
    "<h2 style=\"margin-left: 10px;text-decoration: underline;\"><i><b>Task:1</b></b></i></h2>"
   ]
  },
  {
   "cell_type": "markdown",
   "id": "80f7a211-681a-4aac-ae77-b228f1276eda",
   "metadata": {},
   "source": [
    "<h1 style=\"margin-left: 10px;text-decoration: underline;\"><i><b> Motivation:</b></i></h1>"
   ]
  },
  {
   "cell_type": "markdown",
   "id": "b608e6f1-f793-4232-9019-7fd47a8b70bb",
   "metadata": {},
   "source": [
    "<h3><i><b>Make a list that can store employee data.</b></i></h3>"
   ]
  },
  {
   "cell_type": "markdown",
   "id": "c3fec4f1-3c1c-4388-ac16-9936c48a83bf",
   "metadata": {},
   "source": [
    "<h6><i><b>kirk = [\"James Kirk\", 34, \"Captain\", 2265] </b></i></h6>\n",
    "<h6><i><b>spock = [\"Spock\", 35, \"Science Officer\", 2254] </b></i></h6>\n",
    "<h6><i><b>mccoy = [\"Leonard McCoy\", \"Chief Medical Officer\", 2266]</b> </i></h6>"
   ]
  },
  {
   "cell_type": "markdown",
   "id": "3b10c20e-76f8-4bef-a709-54930d0f1eee",
   "metadata": {},
   "source": [
    "<hr>"
   ]
  },
  {
   "cell_type": "code",
   "execution_count": 89,
   "id": "8d9b2b1f-ccd9-4de9-96f9-3e1a91316292",
   "metadata": {},
   "outputs": [],
   "source": [
    "kirk = [\"James Kirk\", 34, \"Captain\", 2265]\n",
    "spock = [\"Spock\", 35, \"Science Officer\", 2254]\n",
    "mccoy = [\"Leonard McCoy\", \"Chief Medical Officer\", 2266]"
   ]
  },
  {
   "cell_type": "code",
   "execution_count": 91,
   "id": "9d01cee0-877f-45a5-981b-2cbf393e46db",
   "metadata": {},
   "outputs": [
    {
     "name": "stdout",
     "output_type": "stream",
     "text": [
      "James Kirk\n"
     ]
    }
   ],
   "source": [
    "print(kirk[0])"
   ]
  },
  {
   "cell_type": "code",
   "execution_count": 93,
   "id": "2cc4c01c-4a83-45e5-bace-b8216203fc48",
   "metadata": {},
   "outputs": [
    {
     "name": "stdout",
     "output_type": "stream",
     "text": [
      "Chief Medical Officer\n"
     ]
    }
   ],
   "source": [
    "print(mccoy[1])"
   ]
  },
  {
   "cell_type": "markdown",
   "id": "ef318e88-c850-4e82-8ac8-4b74d61e64a6",
   "metadata": {},
   "source": [
    "<hr>"
   ]
  },
  {
   "cell_type": "markdown",
   "id": "ab71763f-6744-471c-9fbb-c1e1a63bcd53",
   "metadata": {},
   "source": [
    "<h2 style=\"margin-left: 10px;text-decoration: underline;\"><i><b>Task:2</b></b></i></h2>"
   ]
  },
  {
   "cell_type": "markdown",
   "id": "d663fcef-3d53-4d02-b3e4-b716b24bb64a",
   "metadata": {},
   "source": [
    "<h1 style=\"margin-left: 10px;text-decoration: underline;\"><i><b>Dog Class:</b></i></h1>"
   ]
  },
  {
   "cell_type": "code",
   "execution_count": 737,
   "id": "f54ec1ef-8fd5-4f1a-86a9-ee7c41e2e530",
   "metadata": {},
   "outputs": [],
   "source": [
    "class Dog:\n",
    " pass"
   ]
  },
  {
   "cell_type": "markdown",
   "id": "bb4bad00-d890-4e9e-ab1a-333bb1b54edf",
   "metadata": {},
   "source": [
    "<h5><i><b>a.</b> Creating a new object from a class is called <b>instantiating a class</b>. A new object can be created by typing the name of the class, followed by opening and closing parentheses. This process initializes the object's attributes and allows access to them using dot notation.</i></h5>"
   ]
  },
  {
   "cell_type": "code",
   "execution_count": 131,
   "id": "aaaf6029-cb6f-4d46-b535-53638de43487",
   "metadata": {},
   "outputs": [
    {
     "data": {
      "text/plain": [
       "<__main__.Dog at 0x1800ca4e750>"
      ]
     },
     "execution_count": 131,
     "metadata": {},
     "output_type": "execute_result"
    }
   ],
   "source": [
    "Dog()"
   ]
  },
  {
   "cell_type": "markdown",
   "id": "d36087ae-c265-45ef-b38d-f2e593cf76bc",
   "metadata": {},
   "source": [
    "<h5><i><b>b.</b>Create two new Dog objects and assign them to the variables a and b.</i></h5>"
   ]
  },
  {
   "cell_type": "code",
   "execution_count": 148,
   "id": "40f8e4b1-8ebe-440b-9c35-7d8639392deb",
   "metadata": {},
   "outputs": [],
   "source": [
    "a = Dog()\n",
    "b = Dog()"
   ]
  },
  {
   "cell_type": "markdown",
   "id": "7c42a352-5d72-46f8-b4c7-b3914816fe65",
   "metadata": {},
   "source": [
    "<h5><i><b>c.</b>When you compare a and b using the == operator, the result is False. Even \n",
    "though a and b are both instances of the Dog class, they represent two distinct objects \n",
    "in memory</i></h5>"
   ]
  },
  {
   "cell_type": "code",
   "execution_count": 151,
   "id": "18832e70-0b42-4a58-ac15-276fdec1eda9",
   "metadata": {},
   "outputs": [
    {
     "data": {
      "text/plain": [
       "False"
      ]
     },
     "execution_count": 151,
     "metadata": {},
     "output_type": "execute_result"
    }
   ],
   "source": [
    "a == b"
   ]
  },
  {
   "cell_type": "markdown",
   "id": "f820a8b3-9a12-419e-87dc-ed2c174a470e",
   "metadata": {},
   "source": [
    "<h5><i><b>d.</b> Use the print command and print both instances/ objects.</i></h5>"
   ]
  },
  {
   "cell_type": "code",
   "execution_count": 161,
   "id": "1f4297a7-1009-479e-a344-0d78d4c1cb99",
   "metadata": {},
   "outputs": [
    {
     "name": "stdout",
     "output_type": "stream",
     "text": [
      "<__main__.Dog object at 0x000001800CA1D130>\n"
     ]
    }
   ],
   "source": [
    "print(a)"
   ]
  },
  {
   "cell_type": "code",
   "execution_count": 163,
   "id": "2642dc83-082d-4fbc-b6e5-a46f9443109a",
   "metadata": {},
   "outputs": [
    {
     "name": "stdout",
     "output_type": "stream",
     "text": [
      "<__main__.Dog object at 0x000001800A440F20>\n"
     ]
    }
   ],
   "source": [
    "print(b)"
   ]
  },
  {
   "cell_type": "markdown",
   "id": "90544fb6-eb88-43c8-9268-a7430176f6a0",
   "metadata": {},
   "source": [
    "<hr>"
   ]
  },
  {
   "cell_type": "markdown",
   "id": "d6e72195-9f0d-4f02-a354-41bd83323999",
   "metadata": {},
   "source": [
    "<h2 style=\"margin-left: 10px;text-decoration: underline;\"><i><b>Task:3</b></b></i></h2>"
   ]
  },
  {
   "cell_type": "markdown",
   "id": "654a494a-11c7-433d-bce4-9d5933db94f1",
   "metadata": {},
   "source": [
    "<h2 style=\"margin-left: 10px;text-decoration: underline;\"><i><b>Following is a class named<b> MyFirstClass:</b></b></i></h2>\n",
    "<h5><i><b>a. </b>Make two instances named FC1 and FC2.</i></h5>\n",
    "<h5><i><b>b. </b>Check whether FC1 and FC2 represent the same object or not. </i></h5>\n",
    "<h5><i><b>c. </b> Use the print command and print both instances.</i></h5>"
   ]
  },
  {
   "cell_type": "code",
   "execution_count": 208,
   "id": "614642e2-6077-4abe-a2ab-68904225a727",
   "metadata": {},
   "outputs": [],
   "source": [
    "class MyFirstClass:\n",
    "    pass"
   ]
  },
  {
   "cell_type": "markdown",
   "id": "a3dbb5f5-ca37-4c03-8d8c-29751db41efc",
   "metadata": {},
   "source": [
    "<h5><i><b>a. </b>Make two instances named FC1 and FC2.</i></h5>"
   ]
  },
  {
   "cell_type": "code",
   "execution_count": 211,
   "id": "3fc9b834-8bb7-486b-bec7-e49f3d2e663b",
   "metadata": {},
   "outputs": [],
   "source": [
    "FC1 = MyFirstClass()"
   ]
  },
  {
   "cell_type": "code",
   "execution_count": 213,
   "id": "59479184-e975-40eb-90af-24655ef075f4",
   "metadata": {},
   "outputs": [],
   "source": [
    "FC2 = MyFirstClass()"
   ]
  },
  {
   "cell_type": "markdown",
   "id": "a00221c3-2b67-4a19-bd15-9ae7169374fc",
   "metadata": {},
   "source": [
    "<h5><i><b>b. </b>Check whether FC1 and FC2 represent the same object or not. </i></h5>"
   ]
  },
  {
   "cell_type": "code",
   "execution_count": 216,
   "id": "1a114994-ecac-461b-899b-528c3c4b4388",
   "metadata": {},
   "outputs": [
    {
     "name": "stdout",
     "output_type": "stream",
     "text": [
      "False\n"
     ]
    }
   ],
   "source": [
    "print(FC1 == FC2)"
   ]
  },
  {
   "cell_type": "markdown",
   "id": "11b4c8dd-03f2-458e-895f-43d1d8898ded",
   "metadata": {},
   "source": [
    "<h5><i><b>c. </b> Use the print command and print both instances.</i></h5>"
   ]
  },
  {
   "cell_type": "code",
   "execution_count": 199,
   "id": "e2337b23-d47c-4fcb-bd49-0b00d7abc9b7",
   "metadata": {},
   "outputs": [
    {
     "name": "stdout",
     "output_type": "stream",
     "text": [
      "Here it show the first abject address ->  (<__main__.MyFirstClass object at 0x000001800A459730>)\n"
     ]
    }
   ],
   "source": [
    "print(f\"Here it show the first abject address ->  ({FC1})\") "
   ]
  },
  {
   "cell_type": "code",
   "execution_count": 201,
   "id": "8e28df53-3f7d-46d7-9176-4a1e4bb2395c",
   "metadata": {},
   "outputs": [
    {
     "name": "stdout",
     "output_type": "stream",
     "text": [
      "Here it show the first abject address ->  (<__main__.MyFirstClass object at 0x000001800A4593D0>)\n"
     ]
    }
   ],
   "source": [
    "print(f\"Here it show the first abject address ->  ({FC2})\")"
   ]
  },
  {
   "cell_type": "markdown",
   "id": "521000d0-b581-42fb-a2fa-68c362d50012",
   "metadata": {},
   "source": [
    "<hr>"
   ]
  },
  {
   "cell_type": "markdown",
   "id": "5eb72503-d948-48ce-9f1f-f8d3b0b0c94a",
   "metadata": {},
   "source": [
    "<h2 style=\"margin-left: 10px;text-decoration: underline;\"><i><b>Task:4</b></b></i></h2>"
   ]
  },
  {
   "cell_type": "markdown",
   "id": "562d4914-b971-41a8-8ddf-2988d989ac57",
   "metadata": {},
   "source": [
    "<h2 style=\"margin-left: 50px;text-decoration: underline;\"><i><b> Consider the following class definition:</b></b></i></h2>"
   ]
  },
  {
   "cell_type": "markdown",
   "id": "be4938f0-1c46-49f9-8f05-ed15f1d0ce40",
   "metadata": {},
   "source": [
    "<h5><i><b>a. </b> Make two instances named p1 and p2.</i></h5>\n",
    "<h5><i><b>b. </b> Print both objects p1 and p2. </i></h5>\n",
    "<h5><i><b>c. </b> Try different names for objects, instead of p1 and p2. Also, use different attribute names.</i></h5>"
   ]
  },
  {
   "cell_type": "code",
   "execution_count": 244,
   "id": "f8e45acf-9b2c-4988-89e9-ad0914fc46da",
   "metadata": {},
   "outputs": [],
   "source": [
    "class Point:\n",
    " pass"
   ]
  },
  {
   "cell_type": "markdown",
   "id": "1498a481-e2ce-4909-aff0-346bec7cff83",
   "metadata": {},
   "source": [
    "<h5><i><b>a. </b> Make two instances named p1 and p2.</i></h5>"
   ]
  },
  {
   "cell_type": "code",
   "execution_count": 251,
   "id": "5adbf38a-9248-4f24-95b2-c7441f476e8f",
   "metadata": {},
   "outputs": [],
   "source": [
    "p1 = Point()"
   ]
  },
  {
   "cell_type": "code",
   "execution_count": 249,
   "id": "efbfbe41-237b-47bf-8910-5dd4b5da5e49",
   "metadata": {},
   "outputs": [],
   "source": [
    "p2 = Point()"
   ]
  },
  {
   "cell_type": "markdown",
   "id": "0ec94188-3dd9-4e2a-8443-2478726cafcc",
   "metadata": {},
   "source": [
    "<h5><i><b>b. </b> Print both objects p1 and p2. </i></h5>\n"
   ]
  },
  {
   "cell_type": "code",
   "execution_count": 253,
   "id": "69d52cca-09ec-4248-8228-91445040e43c",
   "metadata": {},
   "outputs": [
    {
     "name": "stdout",
     "output_type": "stream",
     "text": [
      "<__main__.Point object at 0x000001800A7FB140>\n"
     ]
    }
   ],
   "source": [
    "print(p1)"
   ]
  },
  {
   "cell_type": "code",
   "execution_count": 255,
   "id": "522912e4-9c7b-4cb6-a988-76cf1944feba",
   "metadata": {},
   "outputs": [
    {
     "name": "stdout",
     "output_type": "stream",
     "text": [
      "<__main__.Point object at 0x000001800CAA5280>\n"
     ]
    }
   ],
   "source": [
    "print(p2)"
   ]
  },
  {
   "cell_type": "markdown",
   "id": "d206b862-8208-4a79-ab41-1c8604b07855",
   "metadata": {},
   "source": [
    "<h5><i><b>c. </b> Try different names for objects, instead of p1 and p2. Also, use different attribute names.</i></h5>"
   ]
  },
  {
   "cell_type": "code",
   "execution_count": 270,
   "id": "b74552c3-575d-4e77-a6b2-d098e70637d3",
   "metadata": {},
   "outputs": [],
   "source": [
    "class point:\n",
    "    def __init__(self, x, y):\n",
    "        self.x = x\n",
    "        self.y = y  "
   ]
  },
  {
   "cell_type": "code",
   "execution_count": 272,
   "id": "df7267b6-8f53-4759-8e85-46fff719e352",
   "metadata": {},
   "outputs": [],
   "source": [
    "a = point(2,5)"
   ]
  },
  {
   "cell_type": "code",
   "execution_count": 274,
   "id": "9e60d4b5-aa24-492f-b456-97b27e2b0df4",
   "metadata": {},
   "outputs": [
    {
     "name": "stdout",
     "output_type": "stream",
     "text": [
      "<__main__.point object at 0x000001800CA4D520>\n"
     ]
    }
   ],
   "source": [
    "print(a)"
   ]
  },
  {
   "cell_type": "code",
   "execution_count": 276,
   "id": "99723001-ecd7-4811-8f79-a65bc910d55b",
   "metadata": {},
   "outputs": [],
   "source": [
    "b = point(3,8)"
   ]
  },
  {
   "cell_type": "code",
   "execution_count": 278,
   "id": "6778691f-66bc-4015-9ecb-6e623a1143fd",
   "metadata": {},
   "outputs": [
    {
     "name": "stdout",
     "output_type": "stream",
     "text": [
      "<__main__.point object at 0x000001800CCEA6F0>\n"
     ]
    }
   ],
   "source": [
    "print(b)"
   ]
  },
  {
   "cell_type": "code",
   "execution_count": 287,
   "id": "876af322-03f2-4ae2-a7c0-b5673eb5e0d7",
   "metadata": {},
   "outputs": [
    {
     "name": "stdout",
     "output_type": "stream",
     "text": [
      "The attributes or coordinates of point (a) is 2 and 5\n"
     ]
    }
   ],
   "source": [
    "print(f\"The attributes or coordinates of point (a) is {a.x} and {a.y}\")"
   ]
  },
  {
   "cell_type": "code",
   "execution_count": 289,
   "id": "d706709a-fd8e-491e-9f29-1a73c6c23358",
   "metadata": {},
   "outputs": [
    {
     "name": "stdout",
     "output_type": "stream",
     "text": [
      "The attributes or coordinates of point (b) is 3 and 8\n"
     ]
    }
   ],
   "source": [
    "print(f\"The attributes or coordinates of point (b) is {b.x} and {b.y}\")"
   ]
  },
  {
   "cell_type": "markdown",
   "id": "9aeffa16-e358-4d7d-b81d-171b27d7b6ad",
   "metadata": {},
   "source": [
    "<hr>"
   ]
  },
  {
   "cell_type": "markdown",
   "id": "bafaf458-0f79-4dff-a8fa-9f09de543a3d",
   "metadata": {},
   "source": [
    "<h2 style=\"margin-left: 10px;text-decoration: underline;\"><i><b>Task:5</b></b></i></h2>"
   ]
  },
  {
   "cell_type": "markdown",
   "id": "1713f080-6fa9-4f6b-afa9-2d6c46e31b5e",
   "metadata": {},
   "source": [
    "<h3 style=\"margin-left: 70px;text-decoration: underline;\"><i><b>Update the Dog class with an __init__() method that creates .name and .age attributes:</b></b></i></h3>"
   ]
  },
  {
   "cell_type": "markdown",
   "id": "bea8be50-3052-4e19-8024-46bc0060d661",
   "metadata": {},
   "source": [
    "<h5><i><b>a. </b> Run: miles = Dog(\"Miles\", 4) </i></h5>\n",
    "<h5><i><b>b. </b>  Print: miles </i></h5>\n"
   ]
  },
  {
   "cell_type": "code",
   "execution_count": 313,
   "id": "e3c5ddb0-46a2-4452-b120-e65dd4def946",
   "metadata": {},
   "outputs": [],
   "source": [
    "class Dog:\n",
    "    def __init__(self, name, age):\n",
    "        self.name = name\n",
    "        self.age = age"
   ]
  },
  {
   "cell_type": "markdown",
   "id": "49a0d43b-b139-4afc-a7d5-d7ee0ad90451",
   "metadata": {},
   "source": [
    "<h5><i><b>a. </b> Run: miles = Dog(\"Miles\", 4) </i></h5>\n"
   ]
  },
  {
   "cell_type": "code",
   "execution_count": 316,
   "id": "23a56fea-4d2c-4104-b462-83082c342052",
   "metadata": {},
   "outputs": [],
   "source": [
    "miles = Dog(\"Miles\", 4)"
   ]
  },
  {
   "cell_type": "markdown",
   "id": "f27bd559-8e90-4ba9-9e74-006e202fdcc6",
   "metadata": {},
   "source": [
    "<h5><i><b>b. </b>  Print: miles </i></h5>\n"
   ]
  },
  {
   "cell_type": "code",
   "execution_count": 319,
   "id": "6cea5e11-eff8-4762-af6d-2d9dbdbdaaf7",
   "metadata": {},
   "outputs": [
    {
     "name": "stdout",
     "output_type": "stream",
     "text": [
      "<__main__.Dog object at 0x000001800CCEA8D0>\n"
     ]
    }
   ],
   "source": [
    "print(miles)"
   ]
  },
  {
   "cell_type": "markdown",
   "id": "37e9d39d-0140-4862-be8b-00d95f6a693c",
   "metadata": {},
   "source": [
    "<hr>"
   ]
  },
  {
   "cell_type": "markdown",
   "id": "8645437e-c81f-440c-894f-062da2426654",
   "metadata": {},
   "source": [
    "<h2 style=\"margin-left: 10px;text-decoration: underline;\"><i><b>Task:6</b></b></i></h2>"
   ]
  },
  {
   "cell_type": "markdown",
   "id": "224915aa-42e0-4fcd-b1f5-0d489bfd0cba",
   "metadata": {},
   "source": [
    "<h3 style=\"margin-left: 70px;text-decoration: underline;\"><i><b> Create a new Dog class with a class attribute called. species and two instance attributes <br>called .name and .age:</b></b></i></h3>"
   ]
  },
  {
   "cell_type": "markdown",
   "id": "18648f27-5db4-4faf-af0c-a5c0d4c39b5a",
   "metadata": {},
   "source": [
    "<h5><i><b>a. </b>  To instantiate this Dog class, you need to provide values for name and age. If you don’t, \n",
    "then Python raises a TypeError:</i></h5>\n",
    "<h5><i><b>b. </b>  To pass arguments to the name and age parameters, put values into the parentheses \n",
    "after the class name</i></h5>\n",
    "<h5><i><b>c. </b>  After you create the Dog instances, you can access their instance attributes using dot \n",
    "notation:</i></h5>\n",
    "<h5><i><b>d. </b>  Although the attributes are guaranteed to exist, their values can change dynamically:</i></h5>\n"
   ]
  },
  {
   "cell_type": "code",
   "execution_count": 408,
   "id": "c5390e29-15d8-4ab6-8e56-62aecc8aef86",
   "metadata": {},
   "outputs": [],
   "source": [
    "class Dog:\n",
    "    species = 'Canis familiaris'\n",
    "    def __init__(self, name, age):\n",
    "        self.name = name\n",
    "        self.age = age"
   ]
  },
  {
   "cell_type": "markdown",
   "id": "aa3d3024-71c2-4e88-ac8a-391c83175196",
   "metadata": {},
   "source": [
    "<h5><i><b>a. </b>  To instantiate this Dog class, you need to provide values for name and age. If you don’t, \n",
    "then Python raises a TypeError:</i></h5>"
   ]
  },
  {
   "cell_type": "code",
   "execution_count": null,
   "id": "ba8ccb58-7a44-4ec0-9295-53da480fe00c",
   "metadata": {},
   "outputs": [],
   "source": [
    "Dog()   # its shows error"
   ]
  },
  {
   "cell_type": "markdown",
   "id": "a295c51c-fc44-48a9-b141-e15b44468b48",
   "metadata": {},
   "source": [
    "<h5><i><b>b. </b>  To pass arguments to the name and age parameters, put values into the parentheses \n",
    "after the class name</i></h5>\n",
    "<h6><i>miles = Dog(\"Miles\", 4)</i></h6>\n",
    "<h6><i>buddy = Dog(\"Buddy\", 9)</i></h6>"
   ]
  },
  {
   "cell_type": "code",
   "execution_count": 366,
   "id": "c9c448b8-72b5-4553-b4d0-8d2132f7c731",
   "metadata": {},
   "outputs": [],
   "source": [
    "miles = Dog(\"Miles\", 4)\n",
    "buddy = Dog(\"Buddy\", 9)"
   ]
  },
  {
   "cell_type": "markdown",
   "id": "ac1f48f4-407e-408f-b9c4-4e831081b522",
   "metadata": {},
   "source": [
    "<h5><i><b>c. </b>  After you create the Dog instances, you can access their instance attributes using dot \n",
    "notation:</i></h5>"
   ]
  },
  {
   "cell_type": "code",
   "execution_count": 369,
   "id": "dc8eccd9-85d5-44b6-8b68-c8e234842135",
   "metadata": {},
   "outputs": [
    {
     "name": "stdout",
     "output_type": "stream",
     "text": [
      "Mile name: Miles\n",
      "Miles age: 4\n"
     ]
    }
   ],
   "source": [
    "print(f\"Mile name: {miles.name}\")\n",
    "print(f\"Miles age: {miles.age}\")"
   ]
  },
  {
   "cell_type": "markdown",
   "id": "173b7d44-947e-44cf-9b1d-cc59e4424e4c",
   "metadata": {},
   "source": [
    "<h5><i><b>d. </b>  Although the attributes are guaranteed to exist, their values can change dynamically:</i></h5>"
   ]
  },
  {
   "cell_type": "code",
   "execution_count": 372,
   "id": "3b64c89f-95e6-49de-8b79-aedb8f913164",
   "metadata": {},
   "outputs": [],
   "source": [
    "buddy.age = 10"
   ]
  },
  {
   "cell_type": "code",
   "execution_count": 374,
   "id": "cf8729b4-6f62-4a13-b9fd-adaf9c0302a7",
   "metadata": {},
   "outputs": [
    {
     "data": {
      "text/plain": [
       "10"
      ]
     },
     "execution_count": 374,
     "metadata": {},
     "output_type": "execute_result"
    }
   ],
   "source": [
    "buddy.age"
   ]
  },
  {
   "cell_type": "code",
   "execution_count": 376,
   "id": "a6d3048f-a203-4359-8ae5-0d1306616283",
   "metadata": {},
   "outputs": [],
   "source": [
    "miles.species = \"Felis silvestris\""
   ]
  },
  {
   "cell_type": "code",
   "execution_count": 378,
   "id": "c733d772-e239-4168-afba-99478c47c94c",
   "metadata": {},
   "outputs": [
    {
     "data": {
      "text/plain": [
       "'Felis silvestris'"
      ]
     },
     "execution_count": 378,
     "metadata": {},
     "output_type": "execute_result"
    }
   ],
   "source": [
    "miles.species"
   ]
  },
  {
   "cell_type": "markdown",
   "id": "79350d1f-27fb-4598-9e32-e03e3ee1a282",
   "metadata": {},
   "source": [
    "<hr>"
   ]
  },
  {
   "cell_type": "markdown",
   "id": "837ead44-7fe6-46a1-b506-7247c326ae7d",
   "metadata": {},
   "source": [
    "<h2 style=\"margin-left: 30px;text-decoration: underline;\"><i><b>Task:7</b></b></i></h2>"
   ]
  },
  {
   "cell_type": "markdown",
   "id": "9b6a4883-f2b8-4451-974c-6d58980bbdb2",
   "metadata": {},
   "source": [
    "<h4 style=\"margin-left: 30px;\"><i><b>Define a class point in 2 dimension coordinate system. Your class must have the appropriate \n",
    "__init__ method. In addition, add two other instance methods for the distance between points \n",
    "and also show or display the point properly (note: return tuple like (x, y)). Add another method \n",
    "with the name locate to display the coordinate in which the point is located. Add proper \n",
    "annotation and doc string to every class and instance method.</b></b></i></h4>"
   ]
  },
  {
   "cell_type": "code",
   "execution_count": 644,
   "id": "1f70f243-c44d-4518-9bf5-d3975581c0e0",
   "metadata": {},
   "outputs": [],
   "source": [
    "class Point:\n",
    "    pass"
   ]
  },
  {
   "cell_type": "code",
   "execution_count": 553,
   "id": "f1772e91-10ba-4f99-83cf-9d7cff91cfb9",
   "metadata": {},
   "outputs": [],
   "source": [
    "import math\n",
    "\n",
    "class Point:\n",
    "    \"\"\"\n",
    "    A class to represent a point in a 2-dimensional coordinate system.\n",
    "    \"\"\"\n",
    "\n",
    "    def __init__(self, x: float, y: float) -> None:\n",
    "        \"\"\"\n",
    "        Initialize a point with x and y coordinates.\n",
    "\n",
    "        :param x: The x-coordinate of the point.\n",
    "        :param y: The y-coordinate of the point.\n",
    "        \"\"\"\n",
    "        self.x = x\n",
    "        self.y = y\n",
    "\n",
    "    def distance(self, other: 'Point') -> float:\n",
    "        \"\"\"\n",
    "        Calculate the distance between this point and another point.\n",
    "\n",
    "        :param other: Another point to calculate the distance to.\n",
    "        :return: The distance between the two points.\n",
    "        \"\"\"\n",
    "        return math.sqrt((self.x - other.x) ** 2 + (self.y - other.y) ** 2)\n",
    "        \n",
    "    def locate(self) -> str:\n",
    "        \"\"\"Returns a string representation of the point's coordinates.\n",
    "        returns\n",
    "          --> str\n",
    "        \"\"\"\n",
    "        return f\"Point located at ({self.x} and {self.y}) \"\n",
    "    def show(self) -> tuple:\n",
    "        \"\"\"Retrun the Points in Tuple form\n",
    "        return \n",
    "          --> Tuple \n",
    "        \"\"\"\n",
    "        return (self.x, self.y)"
   ]
  },
  {
   "cell_type": "markdown",
   "id": "0d0061d3-da41-42d6-91ca-b12d888793ba",
   "metadata": {},
   "source": [
    "<h5><i><b>a. </b> Define point1 and pass two numbers. </i></h5>"
   ]
  },
  {
   "cell_type": "code",
   "execution_count": 556,
   "id": "6df9f169-749e-4d80-bd80-466b4c71f6b3",
   "metadata": {},
   "outputs": [],
   "source": [
    "p1 = Point(8,2)"
   ]
  },
  {
   "cell_type": "markdown",
   "id": "0a352425-b98e-478d-9264-ad6a611867af",
   "metadata": {},
   "source": [
    "<h5><i><b>b. </b>  Make another instance of the point class, say its name is p2. </i></h5>"
   ]
  },
  {
   "cell_type": "code",
   "execution_count": 559,
   "id": "c59cf47a-c4f3-434f-b376-3e79afa7a45b",
   "metadata": {},
   "outputs": [],
   "source": [
    "p2 = Point(2,3)"
   ]
  },
  {
   "cell_type": "markdown",
   "id": "ea8582e6-4562-4656-9008-56e30d67cf61",
   "metadata": {},
   "source": [
    "<h5><i><b>c. </b>  Print p1 and p2, for this use the print command and pass the point as input</i></h5>"
   ]
  },
  {
   "cell_type": "code",
   "execution_count": 562,
   "id": "bf4ec782-0528-4247-8713-59bbd13f9ec0",
   "metadata": {},
   "outputs": [
    {
     "name": "stdout",
     "output_type": "stream",
     "text": [
      "<__main__.Point object at 0x000001800AE6DBE0>\n"
     ]
    }
   ],
   "source": [
    "print(p1)"
   ]
  },
  {
   "cell_type": "code",
   "execution_count": 564,
   "id": "44f2fd22-ae64-4d99-896d-626d7324db26",
   "metadata": {},
   "outputs": [
    {
     "name": "stdout",
     "output_type": "stream",
     "text": [
      "<__main__.Point object at 0x000001800CD03710>\n"
     ]
    }
   ],
   "source": [
    "print(p2)"
   ]
  },
  {
   "cell_type": "markdown",
   "id": "98091579-7d4f-4dfa-b562-4574aa7ef12c",
   "metadata": {},
   "source": [
    "<h5><i><b>d. </b> Also print the location of both points.</i></h5>"
   ]
  },
  {
   "cell_type": "code",
   "execution_count": 567,
   "id": "255a6ad6-e42f-47f5-8161-25ed131fa040",
   "metadata": {},
   "outputs": [
    {
     "name": "stdout",
     "output_type": "stream",
     "text": [
      "Point located at (8 and 2) \n"
     ]
    }
   ],
   "source": [
    "print(p1.locate())"
   ]
  },
  {
   "cell_type": "code",
   "execution_count": 569,
   "id": "8050942b-41a5-4b49-9a68-32258255aeb2",
   "metadata": {},
   "outputs": [
    {
     "name": "stdout",
     "output_type": "stream",
     "text": [
      "Point located at (2 and 3) \n"
     ]
    }
   ],
   "source": [
    "print(p2.locate())"
   ]
  },
  {
   "cell_type": "markdown",
   "id": "7decfddc-99af-4178-8fa1-94f1e7aa132a",
   "metadata": {},
   "source": [
    "<h5><i><b>e. </b> Print the coordinate by using the object and dot operator</i></h5>"
   ]
  },
  {
   "cell_type": "code",
   "execution_count": 572,
   "id": "4dca753c-a6c4-41cf-a525-23c40bbfb0db",
   "metadata": {},
   "outputs": [
    {
     "name": "stdout",
     "output_type": "stream",
     "text": [
      "Point_1 Coordinates are (8 , 2)\n"
     ]
    }
   ],
   "source": [
    "print(f\"Point_1 Coordinates are ({p1.x} , {p1.y})\")"
   ]
  },
  {
   "cell_type": "code",
   "execution_count": 574,
   "id": "86a6396a-ff5b-41b8-98ac-a3d7ed7f1e31",
   "metadata": {},
   "outputs": [
    {
     "name": "stdout",
     "output_type": "stream",
     "text": [
      "Point_2 Coordinates are (2 , 3)\n"
     ]
    }
   ],
   "source": [
    "print(f\"Point_2 Coordinates are ({p2.x} , {p2.y})\")"
   ]
  },
  {
   "cell_type": "markdown",
   "id": "78e7b613-4e30-4769-ae43-7c7971ead935",
   "metadata": {},
   "source": [
    "<h5><i><b>f. </b> Add a new method to the point class to effectively print the points. Print both the point using that function.</i></h5>"
   ]
  },
  {
   "cell_type": "code",
   "execution_count": 577,
   "id": "ff6128ed-044f-4d5b-8bb3-1ae8d4a51fc4",
   "metadata": {},
   "outputs": [
    {
     "name": "stdout",
     "output_type": "stream",
     "text": [
      "Coordinates of p1 is :  (8, 2)\n"
     ]
    }
   ],
   "source": [
    "print(f\"Coordinates of p1 is : \", p1.show())"
   ]
  },
  {
   "cell_type": "code",
   "execution_count": 579,
   "id": "cf7915c7-08f2-4364-84ec-80239c4e2b11",
   "metadata": {},
   "outputs": [
    {
     "name": "stdout",
     "output_type": "stream",
     "text": [
      "Coordinates of p2 is :  (2, 3)\n"
     ]
    }
   ],
   "source": [
    "print(f\"Coordinates of p2 is : \", p2.show())"
   ]
  },
  {
   "cell_type": "markdown",
   "id": "c2f50f07-ba5f-48fc-9d50-f4bd69751bfd",
   "metadata": {},
   "source": [
    "<h5><i><b>g. </b> Calculate the distance between these two points.</i></h5>"
   ]
  },
  {
   "cell_type": "code",
   "execution_count": 582,
   "id": "94f9d820-2811-4391-86a1-5a335e067b2b",
   "metadata": {},
   "outputs": [],
   "source": [
    "Distance = p1.distance(p2)"
   ]
  },
  {
   "cell_type": "code",
   "execution_count": 584,
   "id": "d5892921-fb4a-425c-90d6-f5abde927e40",
   "metadata": {},
   "outputs": [
    {
     "name": "stdout",
     "output_type": "stream",
     "text": [
      "6.082762530298219\n"
     ]
    }
   ],
   "source": [
    "print(Distance)"
   ]
  },
  {
   "cell_type": "markdown",
   "id": "88ffb0ad-71eb-45b5-97da-5a5bfc84c168",
   "metadata": {},
   "source": [
    "<h5><i><b>h. </b> call the __dict__ by the class name</i></h5>"
   ]
  },
  {
   "cell_type": "code",
   "execution_count": 587,
   "id": "72dab588-4d87-43ab-b57d-875a266e1caa",
   "metadata": {},
   "outputs": [
    {
     "name": "stdout",
     "output_type": "stream",
     "text": [
      "mappingproxy({'__dict__': <attribute '__dict__' of 'Point' objects>,\n",
      "              '__doc__': '\\n'\n",
      "                         '    A class to represent a point in a 2-dimensional '\n",
      "                         'coordinate system.\\n'\n",
      "                         '    ',\n",
      "              '__init__': <function Point.__init__ at 0x000001800CAF3BA0>,\n",
      "              '__module__': '__main__',\n",
      "              '__weakref__': <attribute '__weakref__' of 'Point' objects>,\n",
      "              'distance': <function Point.distance at 0x000001800CAF3B00>,\n",
      "              'locate': <function Point.locate at 0x000001800D7E39C0>,\n",
      "              'show': <function Point.show at 0x000001800D7E2200>})\n"
     ]
    }
   ],
   "source": [
    "from pprint import pprint\n",
    "pprint(Point.__dict__)"
   ]
  },
  {
   "cell_type": "markdown",
   "id": "c22a4b39-0ed5-4b45-b2c3-56ef6242c59d",
   "metadata": {},
   "source": [
    "<h5><i><b>i. </b> Call the __dict__ on the object of the class.</i></h5>"
   ]
  },
  {
   "cell_type": "code",
   "execution_count": 589,
   "id": "3dcaabcc-25cd-41dc-9684-85a1436fba3a",
   "metadata": {},
   "outputs": [
    {
     "name": "stdout",
     "output_type": "stream",
     "text": [
      "{'x': 8, 'y': 2}\n"
     ]
    }
   ],
   "source": [
    "print(p1.__dict__)"
   ]
  },
  {
   "cell_type": "code",
   "execution_count": 591,
   "id": "56ec5db2-232f-48fb-b8eb-db208c70cd07",
   "metadata": {},
   "outputs": [
    {
     "name": "stdout",
     "output_type": "stream",
     "text": [
      "{'x': 2, 'y': 3}\n"
     ]
    }
   ],
   "source": [
    "print(p2.__dict__)"
   ]
  },
  {
   "cell_type": "markdown",
   "id": "69879d2a-31a2-4b9a-bbec-bb4788f11f35",
   "metadata": {},
   "source": [
    "<h5><i><b>j. </b> Pass the class name to help.</i></h5>"
   ]
  },
  {
   "cell_type": "code",
   "execution_count": 594,
   "id": "71580ba2-b370-4d47-93cc-18e81a49606e",
   "metadata": {},
   "outputs": [
    {
     "name": "stdout",
     "output_type": "stream",
     "text": [
      "Help on class Point in module __main__:\n",
      "\n",
      "class Point(builtins.object)\n",
      " |  Point(x: float, y: float) -> None\n",
      " |\n",
      " |  A class to represent a point in a 2-dimensional coordinate system.\n",
      " |\n",
      " |  Methods defined here:\n",
      " |\n",
      " |  __init__(self, x: float, y: float) -> None\n",
      " |      Initialize a point with x and y coordinates.\n",
      " |\n",
      " |      :param x: The x-coordinate of the point.\n",
      " |      :param y: The y-coordinate of the point.\n",
      " |\n",
      " |  distance(self, other: 'Point') -> float\n",
      " |      Calculate the distance between this point and another point.\n",
      " |\n",
      " |      :param other: Another point to calculate the distance to.\n",
      " |      :return: The distance between the two points.\n",
      " |\n",
      " |  locate(self) -> str\n",
      " |      Returns a string representation of the point's coordinates.\n",
      " |      returns\n",
      " |        --> str\n",
      " |\n",
      " |  show(self) -> tuple\n",
      " |      Retrun the Points in Tuple form\n",
      " |      return\n",
      " |        --> Tuple\n",
      " |\n",
      " |  ----------------------------------------------------------------------\n",
      " |  Data descriptors defined here:\n",
      " |\n",
      " |  __dict__\n",
      " |      dictionary for instance variables\n",
      " |\n",
      " |  __weakref__\n",
      " |      list of weak references to the object\n",
      "\n"
     ]
    }
   ],
   "source": [
    "help(Point)"
   ]
  },
  {
   "cell_type": "markdown",
   "id": "8d7cfadf-ac37-4654-adcc-cf7d39c1115d",
   "metadata": {},
   "source": [
    "<h5><i><b>k. </b> Print the doc-string and annotations of both the class and each instance method.</i></h5>"
   ]
  },
  {
   "cell_type": "code",
   "execution_count": 611,
   "id": "1b762dad-178f-4f19-a9ea-d9d4c5c0c0fc",
   "metadata": {},
   "outputs": [
    {
     "name": "stdout",
     "output_type": "stream",
     "text": [
      "docstring of class named (Point)\n"
     ]
    }
   ],
   "source": [
    "print('docstring of class named (Point)')"
   ]
  },
  {
   "cell_type": "code",
   "execution_count": 613,
   "id": "312d05d4-39ae-4b39-8e0c-ea7fb2a82dc8",
   "metadata": {},
   "outputs": [
    {
     "name": "stdout",
     "output_type": "stream",
     "text": [
      "\n",
      "    A class to represent a point in a 2-dimensional coordinate system.\n",
      "    \n"
     ]
    }
   ],
   "source": [
    "print(Point.__doc__)"
   ]
  },
  {
   "cell_type": "code",
   "execution_count": 615,
   "id": "28fd707e-f5ef-47f3-b224-d2cae14d81ee",
   "metadata": {},
   "outputs": [
    {
     "name": "stdout",
     "output_type": "stream",
     "text": [
      "docstring of __init__ methode\n"
     ]
    }
   ],
   "source": [
    "print('docstring of __init__ methode')"
   ]
  },
  {
   "cell_type": "code",
   "execution_count": 617,
   "id": "2e4b376b-7132-4e31-ac21-de46a875c857",
   "metadata": {},
   "outputs": [
    {
     "name": "stdout",
     "output_type": "stream",
     "text": [
      "\n",
      "        Initialize a point with x and y coordinates.\n",
      "\n",
      "        :param x: The x-coordinate of the point.\n",
      "        :param y: The y-coordinate of the point.\n",
      "        \n"
     ]
    }
   ],
   "source": [
    "print(Point.__init__.__doc__)\n"
   ]
  },
  {
   "cell_type": "code",
   "execution_count": 619,
   "id": "f70eb926-4c9e-4ae6-86ec-d4cf2755a499",
   "metadata": {},
   "outputs": [
    {
     "name": "stdout",
     "output_type": "stream",
     "text": [
      "docstring of distance instance methode\n"
     ]
    }
   ],
   "source": [
    "print('docstring of distance instance methode')"
   ]
  },
  {
   "cell_type": "code",
   "execution_count": 621,
   "id": "1fc1f131-341f-478c-aaca-e30cab1f0de8",
   "metadata": {},
   "outputs": [
    {
     "name": "stdout",
     "output_type": "stream",
     "text": [
      "\n",
      "        Calculate the distance between this point and another point.\n",
      "\n",
      "        :param other: Another point to calculate the distance to.\n",
      "        :return: The distance between the two points.\n",
      "        \n"
     ]
    }
   ],
   "source": [
    "print(Point.distance.__doc__)"
   ]
  },
  {
   "cell_type": "code",
   "execution_count": 623,
   "id": "567e9009-716d-408b-b2cc-fac180b64883",
   "metadata": {},
   "outputs": [
    {
     "name": "stdout",
     "output_type": "stream",
     "text": [
      "docstring of locate instance methode\n"
     ]
    }
   ],
   "source": [
    "print('docstring of locate instance methode')\n"
   ]
  },
  {
   "cell_type": "code",
   "execution_count": 625,
   "id": "c378526c-ef8f-4f44-a9a2-7b486a5999fd",
   "metadata": {},
   "outputs": [
    {
     "name": "stdout",
     "output_type": "stream",
     "text": [
      "Returns a string representation of the point's coordinates.\n",
      "        returns\n",
      "          --> str\n",
      "        \n"
     ]
    }
   ],
   "source": [
    "print(Point.locate.__doc__)\n"
   ]
  },
  {
   "cell_type": "code",
   "execution_count": 626,
   "id": "78a34a17-9250-46aa-9aa9-7d313a27d672",
   "metadata": {},
   "outputs": [
    {
     "name": "stdout",
     "output_type": "stream",
     "text": [
      "docstring of show instance methode\n"
     ]
    }
   ],
   "source": [
    "print('docstring of show instance methode')\n"
   ]
  },
  {
   "cell_type": "code",
   "execution_count": 627,
   "id": "7adc486c-2b01-41d7-8690-0022c994abd4",
   "metadata": {},
   "outputs": [
    {
     "name": "stdout",
     "output_type": "stream",
     "text": [
      "Retrun the Points in Tuple form\n",
      "        return \n",
      "          --> Tuple \n",
      "        \n"
     ]
    }
   ],
   "source": [
    "print(Point.show.__doc__)"
   ]
  },
  {
   "cell_type": "markdown",
   "id": "5a8afd6d-fe42-4e3d-a023-b52d81ade361",
   "metadata": {},
   "source": [
    "<hr>"
   ]
  },
  {
   "cell_type": "markdown",
   "id": "3b567ba3-6694-4455-b526-625677793585",
   "metadata": {},
   "source": [
    "<h2 style=\"margin-left: 10px;text-decoration: underline;\"><i><b>Task:8</b></b></i></h2>"
   ]
  },
  {
   "cell_type": "markdown",
   "id": "a2571b70-51cb-4a88-9040-26d78a7e4147",
   "metadata": {},
   "source": [
    "<h4 style=\"margin-left: 30px;\"><i><b>Modify the above class by making its parameters default. The parameters will initialize the point \n",
    "<br>with no parameters to the origin. </b></b></i></h4>"
   ]
  },
  {
   "cell_type": "code",
   "execution_count": 663,
   "id": "f05b13a2-bf7a-442f-b29d-cf2b6edc4fb5",
   "metadata": {},
   "outputs": [],
   "source": [
    "import math\n",
    "class Point:\n",
    "    \"\"\"Represent a 2D coordinte system\n",
    "        parametrs:\n",
    "            x --> float\n",
    "            y --> float\n",
    "        \"\"\"\n",
    "    def __init__(self, x: float = 0, y: float = 0 ) -> None:\n",
    "        \"\"\"Initialize the coordinte system\n",
    "        Default parametrs:\n",
    "            x --> float = 0\n",
    "            y --> float = 0\n",
    "        retrun:\n",
    "            None\n",
    "        \"\"\"\n",
    "        self.x = x\n",
    "        self.y = y\n",
    "    def distance(self, p2: 'point') -> float:\n",
    "        \"\"\"To calculate distance between two points\n",
    "        parameter:\n",
    "            x - float\n",
    "            y - float\n",
    "        return\n",
    "            None\n",
    "        \"\"\"\n",
    "        return math.sqrt((self.x-p2.x)**2 + (self.y-p2.y)**2)\n",
    "    def locate(self) -> str:\n",
    "        \"\"\"Returns a string representation of the point's coordinates.\n",
    "        \n",
    "        returns\n",
    "              --> str\n",
    "        \"\"\"\n",
    "        return f\"Point located at ({self.x} and {self.y}) \"\n",
    "    def show(self) -> tuple:\n",
    "        \"\"\"Retrun the Points in Tuple form\n",
    "        return \n",
    "              --> Tuple \n",
    "        \"\"\"\n",
    "        return (self.x, self.y)\n",
    "    def __str__(self):\n",
    "        return f\"The points of coordinate are: (x -> {self.x}, y -> {self.y})\""
   ]
  },
  {
   "cell_type": "markdown",
   "id": "b6f452f7-b474-483a-982e-10e22b9e7a29",
   "metadata": {},
   "source": [
    "<h5><i><b>a. </b> Define point_1 by passing two arguments and print their values by using the dot \n",
    "operator and also by calling the show function.</i></h5>"
   ]
  },
  {
   "cell_type": "code",
   "execution_count": 706,
   "id": "59f9a837-eeb3-4318-b9d1-007424faaa37",
   "metadata": {},
   "outputs": [],
   "source": [
    "point1 = Point(2,9)"
   ]
  },
  {
   "cell_type": "code",
   "execution_count": 708,
   "id": "65c3c911-5fe4-4f20-b4b5-e2f17d504707",
   "metadata": {},
   "outputs": [
    {
     "name": "stdout",
     "output_type": "stream",
     "text": [
      "Point_1 has coordinates: (2 , 9)\n"
     ]
    }
   ],
   "source": [
    "print(f\"Point_1 has coordinates: ({point1.x} , {point1.y})\")"
   ]
  },
  {
   "cell_type": "code",
   "execution_count": 710,
   "id": "81820046-9df5-4c7b-9a36-6d19125d8e4a",
   "metadata": {},
   "outputs": [
    {
     "name": "stdout",
     "output_type": "stream",
     "text": [
      "Point_1 has coordinates: (2, 9)\n"
     ]
    }
   ],
   "source": [
    "print(f\"Point_1 has coordinates: {point1.show()}\")"
   ]
  },
  {
   "cell_type": "markdown",
   "id": "a3ce5f5a-cc81-4814-8b6a-09a2c28e47ed",
   "metadata": {},
   "source": [
    "<h5><i><b>b. </b> Define another object with the name point_2 and pass one argument. Display its value \n",
    "by calling the show method.</i></h5>"
   ]
  },
  {
   "cell_type": "code",
   "execution_count": 713,
   "id": "10ee47f3-417e-4f50-90d5-6821528998fa",
   "metadata": {},
   "outputs": [],
   "source": [
    "point2 = Point(9)"
   ]
  },
  {
   "cell_type": "code",
   "execution_count": 715,
   "id": "0ab56b53-e5ca-4c5d-afda-e48e5942b2ea",
   "metadata": {},
   "outputs": [
    {
     "name": "stdout",
     "output_type": "stream",
     "text": [
      "Point2 has coordinates: (9, 0)\n"
     ]
    }
   ],
   "source": [
    "print(f\"Point2 has coordinates: {point2.show()}\")"
   ]
  },
  {
   "cell_type": "markdown",
   "id": "fe2eeb55-e63e-4d61-bd13-ce0aa469e902",
   "metadata": {},
   "source": [
    "<h5><i><b>c. </b> Define another object with the name point_3 and pass no argument. Display its value by \n",
    "calling the show method.</i></h5>"
   ]
  },
  {
   "cell_type": "code",
   "execution_count": 718,
   "id": "73685e68-a632-4d3b-93ff-ec81693f51da",
   "metadata": {},
   "outputs": [],
   "source": [
    "point_3 = Point()"
   ]
  },
  {
   "cell_type": "code",
   "execution_count": 720,
   "id": "9c536414-50ed-459a-9c00-15969975fb98",
   "metadata": {},
   "outputs": [
    {
     "name": "stdout",
     "output_type": "stream",
     "text": [
      "Point3 has coordinates: (0, 0)\n"
     ]
    }
   ],
   "source": [
    "print(f\"Point3 has coordinates: {point_3.show()}\")"
   ]
  },
  {
   "cell_type": "code",
   "execution_count": 722,
   "id": "f4324d8f-bce7-45ee-a7e0-51476fea7bc3",
   "metadata": {},
   "outputs": [
    {
     "name": "stdout",
     "output_type": "stream",
     "text": [
      "The points of coordinate are: (x -> 3, y -> 5)\n"
     ]
    }
   ],
   "source": [
    "print(point_1)"
   ]
  }
 ],
 "metadata": {
  "kernelspec": {
   "display_name": "Python 3 (ipykernel)",
   "language": "python",
   "name": "python3"
  },
  "language_info": {
   "codemirror_mode": {
    "name": "ipython",
    "version": 3
   },
   "file_extension": ".py",
   "mimetype": "text/x-python",
   "name": "python",
   "nbconvert_exporter": "python",
   "pygments_lexer": "ipython3",
   "version": "3.12.4"
  }
 },
 "nbformat": 4,
 "nbformat_minor": 5
}
