{
 "cells": [
  {
   "cell_type": "markdown",
   "id": "36eb4abb-6e66-4bb3-a10a-ba990d940fe1",
   "metadata": {},
   "source": [
    "<h1 style=\"margin-left: 10px; text-decoration: underline; text-decoration-style: double;\"><strong><i> Lab Practice: </i></strong></h1>"
   ]
  },
  {
   "cell_type": "markdown",
   "id": "31406543-a135-4087-aa2a-d46af355d63e",
   "metadata": {},
   "source": [
    "<p style=\"margin-left: 10px;text-decoration: underline;\"><strong> Name </strong>: Aina khan</p>\n",
    "<p style=\"margin-left: 10px;text-decoration: underline;\"><strong> Reg No </strong>: 0540 <p>\n",
    "<p style=\"margin-left: 10px;text-decoration: underline;\"><strong> Lab Practice </strong>: <strong> 7 </strong> <p>"
   ]
  },
  {
   "cell_type": "markdown",
   "id": "6233f103-9a54-4123-9144-c53893db4a33",
   "metadata": {},
   "source": [
    "<hr>"
   ]
  },
  {
   "cell_type": "markdown",
   "id": "43f2ddae-8b43-4189-afd6-093db34d9ccd",
   "metadata": {},
   "source": [
    "<h1 style=\"margin-left: 29px;text-decoration: underline;text-decoration-style: double;\"><i><b>Lab Title :</b></i></h1>"
   ]
  },
  {
   "cell_type": "markdown",
   "id": "5adf385c-8fdc-49db-bbf1-90abd3a5a2cd",
   "metadata": {},
   "source": [
    "<h2 style=\"margin-left: 129px;text-decoration: underline;text-decoration-style: double;\"><i><b>\"Inheretance\"\n",
    "</b></i></h2>"
   ]
  },
  {
   "cell_type": "markdown",
   "id": "84aadb86-8d99-4a47-a1cf-3ef1b6b69f75",
   "metadata": {},
   "source": [
    "<h2 style=\"margin-left: 10px;text-decoration: underline;\"><i><b>Task :1</b></b></i></h2>"
   ]
  },
  {
   "cell_type": "markdown",
   "id": "839de7a2-314d-41e1-b7ea-07bd3338434d",
   "metadata": {},
   "source": [
    "<h5  style=\"margin-left: 10px;text-decoration: underline;\"><i><b>a.\tTake the example of the square class in the last lab and inherit a cube class with its own volume and surface area instance method. </b></i></h5>\n",
    "<h5  style=\"margin-left: 10px;text-decoration: underline;\"><i><b>b.\tCreate two instances of the cube class and call both the instance methods.</b></i></h5>"
   ]
  },
  {
   "cell_type": "code",
   "execution_count": 49,
   "id": "f020b59a-181f-4b73-bd79-8bb2a957dcf7",
   "metadata": {},
   "outputs": [],
   "source": [
    "class Square:\n",
    "    def __init__(self, side_length) -> None:\n",
    "        self.side_length = side_length\n",
    "    @property\n",
    "    def side_length(self) -> float:\n",
    "        return self._side_length\n",
    "    @side_length.setter\n",
    "    def side_length(self, value: float) -> None:\n",
    "        self._side_length = value\n",
    "    def area(self) -> float:\n",
    "        return self.side_length ** 2\n",
    "    @property\n",
    "    def perimeter(self) -> float:\n",
    "        return 4 * self.side_length\n",
    "    def __repr__(self) -> str:\n",
    "        return f\"{type(self).__name__}({self.side_length})\"\n",
    "    def __str__(self) -> str:\n",
    "        return f\"Square with side length: {self.side_length}\"\n",
    "\n",
    "\n",
    "class Cube(Square):\n",
    "    def __init__(self, side_length):\n",
    "        super().__init__(side_length)\n",
    "    \n",
    "    def volume(self):\n",
    "        return  self.side_length ** 3\n",
    "    def surface_area(self):\n",
    "        return 6 * self.side_length ** 2"
   ]
  },
  {
   "cell_type": "code",
   "execution_count": 51,
   "id": "d76bcca8-eed5-45bd-8532-82d854e8b4d9",
   "metadata": {},
   "outputs": [],
   "source": [
    "cube1 = Cube(3)"
   ]
  },
  {
   "cell_type": "code",
   "execution_count": 53,
   "id": "055fa081-e2df-421e-8909-870df29e60b1",
   "metadata": {},
   "outputs": [],
   "source": [
    "cube2 = Cube(2)"
   ]
  },
  {
   "cell_type": "code",
   "execution_count": 55,
   "id": "3541901c-e8d3-4e63-8e09-6c9cb88d438f",
   "metadata": {},
   "outputs": [
    {
     "data": {
      "text/plain": [
       "27"
      ]
     },
     "execution_count": 55,
     "metadata": {},
     "output_type": "execute_result"
    }
   ],
   "source": [
    "cube1.volume()"
   ]
  },
  {
   "cell_type": "code",
   "execution_count": 57,
   "id": "75825cd4-3030-4b5d-a631-1211c507f20c",
   "metadata": {},
   "outputs": [
    {
     "data": {
      "text/plain": [
       "8"
      ]
     },
     "execution_count": 57,
     "metadata": {},
     "output_type": "execute_result"
    }
   ],
   "source": [
    "cube2.volume()"
   ]
  },
  {
   "cell_type": "code",
   "execution_count": 59,
   "id": "11e1ae4e-7f7c-4d1e-a79f-1c7e74c7770f",
   "metadata": {},
   "outputs": [
    {
     "data": {
      "text/plain": [
       "54"
      ]
     },
     "execution_count": 59,
     "metadata": {},
     "output_type": "execute_result"
    }
   ],
   "source": [
    "cube1.surface_area()"
   ]
  },
  {
   "cell_type": "code",
   "execution_count": 61,
   "id": "77dfbc7e-4431-4614-a0be-fc7ade801193",
   "metadata": {},
   "outputs": [
    {
     "data": {
      "text/plain": [
       "24"
      ]
     },
     "execution_count": 61,
     "metadata": {},
     "output_type": "execute_result"
    }
   ],
   "source": [
    "cube2.surface_area()"
   ]
  },
  {
   "cell_type": "markdown",
   "id": "0a1e46ea-d6c4-4e47-b9eb-60e6b8a937cd",
   "metadata": {},
   "source": [
    "<hr>"
   ]
  },
  {
   "cell_type": "markdown",
   "id": "613749fc-1aae-49f7-8d80-b9b5e3854fc6",
   "metadata": {},
   "source": [
    "<h2 style=\"margin-left: 10px;text-decoration: underline;\"><i><b>Task :2</b></b></i></h2>"
   ]
  },
  {
   "cell_type": "markdown",
   "id": "737b197b-b1c3-449f-8a99-fc3dee04c8b9",
   "metadata": {},
   "source": [
    "<h5  style=\"margin-left: 10px;text-decoration: underline;\"><i><b>a.\tTake the example of the square class in the last lab and inherit a rectangle class.\n",
    " </b></i></h5>\n",
    "<h5  style=\"margin-left: 10px;text-decoration: underline;\"><i><b>b.\tCreate two instances of the rectangle class and call the instance methods</b></i></h5>"
   ]
  },
  {
   "cell_type": "code",
   "execution_count": 83,
   "id": "ca4b6415-c03b-4de7-b658-1b320aa69f42",
   "metadata": {},
   "outputs": [],
   "source": [
    "class Rectangle:\n",
    "    \"\"\"\n",
    "    A class to represent a rectangle.\n",
    "    \"\"\"\n",
    "    def __init__(self, width: float, height: float) -> None:\n",
    "        self.width = width\n",
    "        self.height = height\n",
    "\n",
    "    @property\n",
    "    def width(self) -> float:\n",
    "        \"\"\"Gets the width of the rectangle.\"\"\"\n",
    "        return self._width\n",
    "\n",
    "    @width.setter\n",
    "    def width(self, value: float) -> None:\n",
    "        \"\"\"Sets the width of the rectangle.\"\"\"\n",
    "        self._width = value\n",
    "\n",
    "    @property\n",
    "    def height(self) -> float:\n",
    "        \"\"\"Gets the height of the rectangle.\"\"\"\n",
    "        return self._height\n",
    "\n",
    "    @height.setter\n",
    "    def height(self, value: float) -> None:\n",
    "        \"\"\"Sets the height of the rectangle.\"\"\"\n",
    "        self._height = value\n",
    "\n",
    "    @property\n",
    "    def area(self) -> float:\n",
    "        \"\"\"Calculates the area of the rectangle.\"\"\"\n",
    "        return self.width * self.height\n",
    "\n",
    "    @property\n",
    "    def perimeter(self) -> float:\n",
    "        \"\"\"Calculates the perimeter of the rectangle.\"\"\"\n",
    "        return 2 * (self.width + self.height)\n",
    "\n",
    "    def __repr__(self) -> str:\n",
    "        \"\"\"String representation of the rectangle.\"\"\"\n",
    "        return f'Rectangle(width={self.width}, height={self.height})'\n"
   ]
  },
  {
   "cell_type": "code",
   "execution_count": 85,
   "id": "ae546944-6e0c-4c7a-8799-56dadc442332",
   "metadata": {},
   "outputs": [],
   "source": [
    "class Square(Rectangle):\n",
    "    \"\"\"\n",
    "    A class to represent a square, inheriting from Rectangle.\n",
    "    \"\"\"\n",
    "    def __init__(self, side: float) -> None:\n",
    "        super().__init__(side, side)\n",
    "\n",
    "    @property\n",
    "    def side(self) -> float:\n",
    "        \"\"\"Gets the side length of the square.\"\"\"\n",
    "        return self.width\n",
    "\n",
    "    @side.setter\n",
    "    def side(self, value: float) -> None:\n",
    "        \"\"\"Sets the side length of the square.\"\"\"\n",
    "        self.width = value\n",
    "        self.height = value\n",
    "\n",
    "    def __repr__(self) -> str:\n",
    "        \"\"\"String representation of the square.\"\"\"\n",
    "        return f'Square(side={self.side})'"
   ]
  },
  {
   "cell_type": "code",
   "execution_count": 87,
   "id": "279b050f-f3ef-42ba-8b5a-c193f7be9f62",
   "metadata": {},
   "outputs": [],
   "source": [
    "rect1 = Rectangle(4, 6)\n",
    "rect2 = Rectangle(3, 8)"
   ]
  },
  {
   "cell_type": "code",
   "execution_count": 89,
   "id": "bbeb92a9-9537-415b-8be9-5fe5809ff308",
   "metadata": {},
   "outputs": [
    {
     "name": "stdout",
     "output_type": "stream",
     "text": [
      "Rectangle 1: Rectangle(width=4, height=6), Area: 24, Perimeter: 20\n",
      "Rectangle 2: Rectangle(width=3, height=8), Area: 24, Perimeter: 22\n"
     ]
    }
   ],
   "source": [
    "print(f\"Rectangle 1: {rect1}, Area: {rect1.area}, Perimeter: {rect1.perimeter}\")\n",
    "print(f\"Rectangle 2: {rect2}, Area: {rect2.area}, Perimeter: {rect2.perimeter}\")"
   ]
  },
  {
   "cell_type": "code",
   "execution_count": 91,
   "id": "ed38143c-f668-4f91-84fb-764542a1d072",
   "metadata": {},
   "outputs": [],
   "source": [
    "square = Square(5)"
   ]
  },
  {
   "cell_type": "code",
   "execution_count": 93,
   "id": "6f7a5683-a98d-4671-8fb8-27056478d9f4",
   "metadata": {},
   "outputs": [
    {
     "name": "stdout",
     "output_type": "stream",
     "text": [
      "Square: Square(side=5), Area: 25, Perimeter: 20\n"
     ]
    }
   ],
   "source": [
    "print(f\"Square: {square}, Area: {square.area}, Perimeter: {square.perimeter}\")\n"
   ]
  },
  {
   "cell_type": "markdown",
   "id": "1a87e6ba-4bb9-4f6a-839b-67bbd4a20885",
   "metadata": {},
   "source": [
    "<hr>"
   ]
  },
  {
   "cell_type": "markdown",
   "id": "58a4583e-20ca-4852-8403-8312665a632e",
   "metadata": {},
   "source": [
    "<h2 style=\"margin-left: 10px;text-decoration: underline;\"><i><b>Task :3</b></b></i></h2>"
   ]
  },
  {
   "cell_type": "markdown",
   "id": "c5be785f-393a-494c-ae53-6bb19cc79a01",
   "metadata": {},
   "source": [
    "<h5  style=\"margin-left: 10px;text-decoration: underline;\"><i><b>a.\tTake the example of the Point2D class in the last lab and inherit a cube class with its own distance_from_origin instance methods. \n",
    "</b></i></h5>\n",
    "<h5  style=\"margin-left: 10px;text-decoration: underline;\"><i><b>b.\tCreate two instances and call the instance methods.</b></i></h5>"
   ]
  },
  {
   "cell_type": "code",
   "execution_count": 122,
   "id": "90673b20-7aa5-415b-83fc-9753c904ab2c",
   "metadata": {},
   "outputs": [],
   "source": [
    "import math\n",
    "\n",
    "class Point2D:\n",
    "    \"\"\"\n",
    "    A class to represent a point in a 2D coordinate system.\n",
    "    \"\"\"\n",
    "    def __init__(self, x: float = 0.0, y: float = 0.0):\n",
    "        \"\"\"\n",
    "        Initializes a new point at the given coordinates.\n",
    "        \n",
    "        x: x-coordinate (default is 0.0)\n",
    "        y: y-coordinate (default is 0.0)\n",
    "        \"\"\"\n",
    "        self._x = x\n",
    "        self._y = y\n",
    "\n",
    "    @property\n",
    "    def x(self) -> float:\n",
    "        \"\"\"Gets the x-coordinate.\"\"\"\n",
    "        return self._x\n",
    "\n",
    "    @x.setter\n",
    "    def x(self, value: float) -> None:\n",
    "        \"\"\"Sets the x-coordinate.\"\"\"\n",
    "        self._x = value\n",
    "\n",
    "    @property\n",
    "    def y(self) -> float:\n",
    "        \"\"\"Gets the y-coordinate.\"\"\"\n",
    "        return self._y\n",
    "\n",
    "    @y.setter\n",
    "    def y(self, value: float) -> None:\n",
    "        \"\"\"Sets the y-coordinate.\"\"\"\n",
    "        self._y = value\n",
    "\n",
    "    def distance_to(self, other: 'Point2D') -> float:\n",
    "        \"\"\"\n",
    "        Calculates the distance between this point and another point.\n",
    "        \n",
    "        :param other: Another point in the 2D coordinate system.\n",
    "        :return: The distance between the two points.\n",
    "        \"\"\"\n",
    "        return math.sqrt((self.x - other.x) ** 2 + (self.y - other.y) ** 2)\n",
    "\n",
    "    def distance_from_origin(self) -> float:\n",
    "        \"\"\"\n",
    "        Calculates the distance from the origin (0, 0) to this point.\n",
    "        \n",
    "        :return: The distance from the origin to this point.\n",
    "        \"\"\"\n",
    "        return math.sqrt(self.x ** 2 + self.y ** 2)\n",
    "\n",
    "    def __repr__(self):\n",
    "        \"\"\"Return a string representation of the Point2D instance.\"\"\"\n",
    "        return f'{type(self).__name__} ({self.x},{self.y})'\n",
    "\n"
   ]
  },
  {
   "cell_type": "code",
   "execution_count": 148,
   "id": "8fc4be49-cb4e-46b9-b2d0-5eca3797f0e8",
   "metadata": {},
   "outputs": [],
   "source": [
    "class Cube(Point2D):\n",
    "    \"\"\"\n",
    "    A class to represent a cube in a 3D coordinate system.\n",
    "    \"\"\"\n",
    "    def __init__(self, x: float = 0.0, y: float = 0.0, z: float = 0.0):\n",
    "        \"\"\"\n",
    "        Initializes a new cube at the given coordinates.\n",
    "        \n",
    "        x: x-coordinate (default is 0.0)\n",
    "        y: y-coordinate (default is 0.0)\n",
    "        z: z-coordinate (default is 0.0)\n",
    "        \"\"\"\n",
    "        super().__init__(x, y)\n",
    "        self._z = z\n",
    "\n",
    "    @property\n",
    "    def z(self) -> float:\n",
    "        \"\"\"Gets the z-coordinate.\"\"\"\n",
    "        return self._z\n",
    "\n",
    "    @z.setter\n",
    "    def z(self, value: float) -> None:\n",
    "        \"\"\"Sets the z-coordinate.\"\"\"\n",
    "        self._z = value\n",
    "\n",
    "    def distance_from_origin(self) -> float:\n",
    "        \"\"\"\n",
    "        Calculates the distance from the origin (0, 0, 0) to this cube.\n",
    "        \n",
    "        :return: The distance from the origin to this cube.\n",
    "        \"\"\"\n",
    "        return math.sqrt(self.x ** 2 + self.y ** 2 + self.z ** 2)\n",
    "\n",
    "    def __repr__(self):\n",
    "        \"\"\"Return a string representation of the Cube instance.\"\"\"\n",
    "        return f'{type(self).__name__} ({self.x},{self.y},{self.z})'\n"
   ]
  },
  {
   "cell_type": "code",
   "execution_count": 149,
   "id": "69c42e52-9b23-4cb3-9eca-e609d76c76d8",
   "metadata": {},
   "outputs": [
    {
     "name": "stdout",
     "output_type": "stream",
     "text": [
      "5.0\n",
      "7.0710678118654755\n"
     ]
    }
   ],
   "source": [
    "print(point.distance_from_origin())\n",
    "print(cube.distance_from_origin())"
   ]
  },
  {
   "cell_type": "code",
   "execution_count": 150,
   "id": "dce66ebd-a083-4dd6-ad3f-29a2c05266bc",
   "metadata": {},
   "outputs": [],
   "source": [
    "point = Point2D(3, 4) \n",
    "cube = Cube(3, 4, 5)"
   ]
  },
  {
   "cell_type": "code",
   "execution_count": 151,
   "id": "7ce84a41-3483-4b17-8392-b632ff534eb7",
   "metadata": {},
   "outputs": [
    {
     "name": "stdout",
     "output_type": "stream",
     "text": [
      "Point2D (3,4)\n",
      "Cube (3,4,5)\n"
     ]
    }
   ],
   "source": [
    "print(point)\n",
    "print(cube)"
   ]
  },
  {
   "cell_type": "code",
   "execution_count": 152,
   "id": "c5a942aa-18ff-40a9-8e2a-e1b8204101f8",
   "metadata": {},
   "outputs": [
    {
     "name": "stdout",
     "output_type": "stream",
     "text": [
      "5.0\n",
      "7.0710678118654755\n"
     ]
    }
   ],
   "source": [
    "print(point.distance_from_origin()) \n",
    "print(cube.distance_from_origin())"
   ]
  },
  {
   "cell_type": "markdown",
   "id": "98a4c222-4a71-4d62-af42-3219dc891d96",
   "metadata": {},
   "source": [
    "<hr>"
   ]
  },
  {
   "cell_type": "markdown",
   "id": "f52a6f74-6d9f-4444-8db5-95a921ebc487",
   "metadata": {},
   "source": [
    "<h2 style=\"margin-left: 10px;text-decoration: underline;\"><i><b>Task :4</b></b></i></h2>"
   ]
  },
  {
   "cell_type": "markdown",
   "id": "b18ccbd5-7846-4309-b1e8-870d444e2b91",
   "metadata": {},
   "source": [
    "<h5  style=\"margin-left: 10px;text-decoration: underline;\"><i><b>The HR system needs to process payroll for the company’s employees, but there are different types of employees depending on how their payroll is calculated.</b></i></h5>"
   ]
  },
  {
   "cell_type": "code",
   "execution_count": 19,
   "id": "9854b74c-03f6-4141-b20b-1c17bc90a194",
   "metadata": {},
   "outputs": [],
   "source": [
    "class Employ:\n",
    "    def __init__(self,name,id):\n",
    "        self.name=name\n",
    "        self.id=id"
   ]
  },
  {
   "cell_type": "code",
   "execution_count": 21,
   "id": "484a0062-14bb-47bc-8ae6-ec2b1bba53b7",
   "metadata": {},
   "outputs": [],
   "source": [
    "class payroll_System:\n",
    "    def calculate_payroll(self,employ):\n",
    "        print(\"calculate_payroll\")\n",
    "        print(\"-------------\")\n",
    "        for employ in employ:\n",
    "            print (f\"payroll for: {employ.id} - {employ.name}\")\n",
    "            print(f\"check amount: {employ.calculate_payroll()}\")\n",
    "            print(\"\")"
   ]
  },
  {
   "cell_type": "code",
   "execution_count": 23,
   "id": "2ae59890-92c9-4b4b-b02d-be1d8e44e855",
   "metadata": {},
   "outputs": [],
   "source": [
    "class salary_Employ(Employ):\n",
    "    def __init__(self,name,id,weeky_salary):\n",
    "        super().__init__(name,id)\n",
    "        self._weeky_salary=weeky_salary\n",
    "    def calculate_payroll(self):\n",
    "        return self._weeky_salary"
   ]
  },
  {
   "cell_type": "code",
   "execution_count": 25,
   "id": "cf9301b3-78e3-4368-b020-ef150bf7d3ed",
   "metadata": {},
   "outputs": [],
   "source": [
    "class Hourly_Employ(Employ):\n",
    "    def __init__(self,name,id,hourly_rate ,hours_worked ):\n",
    "        super().__init__(name,id)\n",
    "        self._hourly_rate =hourly_rate \n",
    "        self._hours_worked =hours_worked \n",
    "    def calculate_payroll(self):\n",
    "        return self._hourly_rate * self._hours_worked "
   ]
  },
  {
   "cell_type": "code",
   "execution_count": 27,
   "id": "87ec723f-a50a-4354-aad7-75b088c7e7c3",
   "metadata": {},
   "outputs": [],
   "source": [
    "class commission_Employ(salary_Employ):\n",
    "    def __init__(self,name,id,weeky_salary,commission):\n",
    "        super().__init__(name,id,weeky_salary)\n",
    "        self._commission=commission\n",
    "    def calculate_payroll(self):\n",
    "        fixed=super().calculate_payroll()\n",
    "        return fixed+self._commission"
   ]
  },
  {
   "cell_type": "code",
   "execution_count": 29,
   "id": "4155a084-9a3e-4d71-98dc-999131c512f8",
   "metadata": {},
   "outputs": [],
   "source": [
    "salary_Employ=salary_Employ(\"lonny\",1,677)"
   ]
  },
  {
   "cell_type": "code",
   "execution_count": 31,
   "id": "2108720b-8efe-4525-a742-6e46e0e6c000",
   "metadata": {},
   "outputs": [],
   "source": [
    "Hourly_Employ=Hourly_Employ(\"brassy\",66,7,8)"
   ]
  },
  {
   "cell_type": "code",
   "execution_count": 33,
   "id": "c29b2ee1-c510-413b-b558-512b995c6e21",
   "metadata": {},
   "outputs": [],
   "source": [
    "commission_Employ=commission_Employ(\"johny\",1,677,89)"
   ]
  },
  {
   "cell_type": "code",
   "execution_count": 35,
   "id": "648a1c19-84bd-4705-b7fc-6778c79cb45c",
   "metadata": {},
   "outputs": [],
   "source": [
    "payroll_System = payroll_System()"
   ]
  },
  {
   "cell_type": "code",
   "execution_count": 40,
   "id": "c073d10c-08d8-47a8-b3ab-e7499db4f68b",
   "metadata": {},
   "outputs": [
    {
     "name": "stdout",
     "output_type": "stream",
     "text": [
      "calculate_payroll\n",
      "-------------\n",
      "payroll for: 1 - lonny\n",
      "check amount: 677\n",
      "\n",
      "payroll for: 66 - brassy\n",
      "check amount: 56\n",
      "\n",
      "payroll for: 1 - johny\n",
      "check amount: 766\n",
      "\n"
     ]
    }
   ],
   "source": [
    "payroll_System.calculate_payroll(\n",
    "    [salary_Employ,Hourly_Employ,commission_Employ]\n",
    ")"
   ]
  },
  {
   "cell_type": "markdown",
   "id": "59c2d913-b58c-4c71-a2c5-f73c35445a14",
   "metadata": {},
   "source": [
    "<hr>"
   ]
  },
  {
   "cell_type": "markdown",
   "id": "89ec4153-bf5d-4da1-b5fd-582491e9d4f9",
   "metadata": {},
   "source": [
    "<h2 style=\"margin-left: 10px;text-decoration: underline;\"><i><b>Task :5</b></b></i></h2>"
   ]
  },
  {
   "cell_type": "markdown",
   "id": "989c0ec1-6f7b-403b-a45c-eb8098f1e191",
   "metadata": {},
   "source": [
    "<h5  style=\"margin-left: 10px;text-decoration: underline;\"><i><b>Design a class for the employee of electrical department </b></i></h5>"
   ]
  },
  {
   "cell_type": "code",
   "execution_count": 48,
   "id": "f70ef508-e4ea-4d15-bc90-2f340e731140",
   "metadata": {},
   "outputs": [],
   "source": [
    "class Employee:\n",
    "    def __init__(self, fName, lName, email, pay):\n",
    "        self.fName = fName\n",
    "        self.lName = lName\n",
    "        self.email = email\n",
    "        self.pay = pay\n",
    "\n",
    "    def raisePay(self, percent):\n",
    "        self.pay *= (1 + percent/100)\n",
    "\n",
    "class Instructor(Employee):\n",
    "    def __init__(self, fName, lName, email, pay, desig):\n",
    "        super().__init__(fName, lName, email, pay)\n",
    "        self.desig = desig\n",
    "        self.courses = []\n",
    "\n",
    "    def assignCourse(self, course):\n",
    "        self.courses.append(course)\n",
    "\n",
    "class AdminStaff(Employee):\n",
    "    def __init__(self, fName, lName, email, pay, team=None):\n",
    "        super().__init__(fName, lName, email, pay)\n",
    "        self.team = team\n",
    "        self.tasks = []\n",
    "\n",
    "    def assignTask(self, task):\n",
    "        self.tasks.append(task)"
   ]
  },
  {
   "cell_type": "code",
   "execution_count": 50,
   "id": "c13a0bd7-9625-40e3-904a-972602e51422",
   "metadata": {},
   "outputs": [],
   "source": [
    "instructor1 = Instructor(\"a\", \"D\", \"d@example.com\", 50000, \"Professor\")\n",
    "instructor1.assignCourse(\"Introduction to Electrical Engineering\")\n",
    "instructor1.assignCourse(\"Circuit Analysis\")\n",
    "admin1 = AdminStaff(\"Jane\", \"Smith\", \"jane.smith@example.com\", 40000, \"IT Support\")\n",
    "admin1.assignTask(\"Fix printer in room 201\")\n",
    "admin1.assignTask(\"Update software on all computers\")"
   ]
  },
  {
   "cell_type": "markdown",
   "id": "5f414fc8-7ea8-4c58-9aeb-4e33f7cb1648",
   "metadata": {},
   "source": [
    "<hr>"
   ]
  }
 ],
 "metadata": {
  "kernelspec": {
   "display_name": "Python 3 (ipykernel)",
   "language": "python",
   "name": "python3"
  },
  "language_info": {
   "codemirror_mode": {
    "name": "ipython",
    "version": 3
   },
   "file_extension": ".py",
   "mimetype": "text/x-python",
   "name": "python",
   "nbconvert_exporter": "python",
   "pygments_lexer": "ipython3",
   "version": "3.12.4"
  }
 },
 "nbformat": 4,
 "nbformat_minor": 5
}
