{
 "cells": [
  {
   "cell_type": "markdown",
   "id": "d506c855-846f-496f-92a3-c25994e5e996",
   "metadata": {},
   "source": [
    "<h1 style=\"margin-left: 10px; text-decoration: underline; text-decoration-style: double;\"><strong><i> Lab Practice: </i></strong></h1>"
   ]
  },
  {
   "cell_type": "markdown",
   "id": "4c9db69d-c80d-4595-8204-940d790bb8d5",
   "metadata": {},
   "source": [
    "<p style=\"margin-left: 10px;text-decoration: underline;\"><strong> Name </strong>: Aina khan</p>\n",
    "<p style=\"margin-left: 10px;text-decoration: underline;\"><strong> Reg No </strong>: 0540 <p>\n",
    "<p style=\"margin-left: 10px;text-decoration: underline;\"><strong> Lab Practice </strong>: <strong> 9 </strong> <p>"
   ]
  },
  {
   "cell_type": "markdown",
   "id": "fed390a4-56e4-44c0-99ae-fe710e39489c",
   "metadata": {},
   "source": [
    "<hr>"
   ]
  },
  {
   "cell_type": "markdown",
   "id": "efcab579-1121-4617-baf2-e85a5735baab",
   "metadata": {},
   "source": [
    "<h1 style=\"margin-left: 29px;text-decoration: underline;text-decoration-style: double;\"><i><b>Lab Title :</b></i></h1>"
   ]
  },
  {
   "cell_type": "markdown",
   "id": "8bdd54dd-def7-4941-b587-1c430c1fba61",
   "metadata": {},
   "source": [
    "<h2 style=\"margin-left: 129px;text-decoration: underline;text-decoration-style: double;\"><i><b>\"Inheretance\"\n",
    "</b></i></h2>"
   ]
  },
  {
   "cell_type": "markdown",
   "id": "2b56510b-70ff-4c0c-b979-7f5e8b0bf5c3",
   "metadata": {},
   "source": [
    "<h2 style=\"margin-left: 10px;text-decoration: underline;\"><i><b>Task : 1</b></b></i></h2>"
   ]
  },
  {
   "cell_type": "markdown",
   "id": "4ad56390-5cd0-4c56-9712-4e309b834ea4",
   "metadata": {},
   "source": [
    "<h4 style=\"margin-left: 10px;text-decoration: underline;\"><i><b> 1.1.\tIt turns out that sometimes temporary secretaries are hired when there’s too much paperwork to do. The TemporarySecretary class performs the role of a Secretary in the context of the ProductivitySystem, but for payroll purposes, it’s an HourlyEmployee.</b></i></h4>"
   ]
  },
  {
   "cell_type": "code",
   "execution_count": 106,
   "id": "58063dde-1608-4dca-bcf2-e89aa463fdb2",
   "metadata": {},
   "outputs": [],
   "source": [
    "class Payroll_system:\n",
    "    def calculate_payroll(self, employees):\n",
    "        print(\"Calculate Payroll\")\n",
    "        print(\"===========================\")\n",
    "        for employee in employees:\n",
    "            print(f\"Payroll for: {employee.id} - {employee.name}\")\n",
    "            print(f\"- Check amount: {employee.calculate_payroll()}\")\n",
    "            print()\n",
    "\n",
    "class Employee:\n",
    "    def __init__(self, id, name):\n",
    "        self.id = id\n",
    "        self.name = name\n",
    "class Salary_employee(Employee):\n",
    "    def __init__(self, id, name, weekly_salary):\n",
    "        super().__init__(id, name)\n",
    "        self.weekly_salary = weekly_salary\n",
    "\n",
    "    def calculate_payroll(self):\n",
    "        return self.weekly_salary\n",
    "\n",
    "class Hourly_employee(Employee):\n",
    "    def __init__(self, id, name, hours_worked, hourly_rate):\n",
    "        super().__init__(id, name)\n",
    "        self.hours_worked = hours_worked\n",
    "        self.hourly_rate = hourly_rate\n",
    "\n",
    "    def calculate_payroll(self):\n",
    "        return self.hours_worked * self.hourly_rate\n",
    "\n",
    "class Commission_employee(Salary_employee):\n",
    "    def __init__(self, id, name, weekly_salary, commission):\n",
    "        super().__init__(id, name, weekly_salary)\n",
    "        self.commission = commission\n",
    "\n",
    "    def calculate_payroll(self):\n",
    "        fixed = super().calculate_payroll()\n",
    "        return fixed + self.commission\n",
    "\n",
    "class Manager_role(Salary_employee):\n",
    "    def work(self, hours):\n",
    "        print(f\"{self.name} oversees and delegates tasks for {hours} hours.\")\n",
    "\n",
    "class Secretary_role(Salary_employee):\n",
    "    def work(self, hours):\n",
    "        print(f\"{self.name} efficiently organizes and manages documents for {hours} hours.\")\n",
    "\n",
    "class SalesPerson_role(Commission_employee):\n",
    "    def work(self, hours):\n",
    "        print(f\"{self.name} engages with clients and closes deals for {hours} hours.\")\n",
    "\n",
    "class FactoryWorker_role(Hourly_employee):\n",
    "    def work(self, hours):\n",
    "        print(f\"{self.name} diligently assembles products for {hours} hours.\")\n",
    "class Productivity_system:\n",
    "    def Track(self, employees, hours):\n",
    "        print(\"Productivity System Tracking\")\n",
    "        print('-----------------------------')\n",
    "        for employee in employees:\n",
    "            employee.work(hours)\n",
    "            print()\n"
   ]
  },
  {
   "cell_type": "markdown",
   "id": "0b31f321-9cbb-407a-9460-a91e77f5cea5",
   "metadata": {},
   "source": [
    "<h5><i><b>i.</b> Run the Code and check the error</i></h5>"
   ]
  },
  {
   "cell_type": "code",
   "execution_count": 109,
   "id": "a87b4261-23d8-4912-b6a1-75cbacb3312f",
   "metadata": {},
   "outputs": [],
   "source": [
    "class TemporarySecretary(Secretary_role, Hourly_employee):\n",
    "    pass"
   ]
  },
  {
   "cell_type": "code",
   "execution_count": 111,
   "id": "7e15af0a-ce66-4ca8-a8a1-1ff5b3b15255",
   "metadata": {},
   "outputs": [
    {
     "ename": "TypeError",
     "evalue": "Salary_employee.__init__() takes 4 positional arguments but 5 were given",
     "output_type": "error",
     "traceback": [
      "\u001b[1;31m---------------------------------------------------------------------------\u001b[0m",
      "\u001b[1;31mTypeError\u001b[0m                                 Traceback (most recent call last)",
      "Cell \u001b[1;32mIn[111], line 1\u001b[0m\n\u001b[1;32m----> 1\u001b[0m temporary_secretary \u001b[38;5;241m=\u001b[39m TemporarySecretary(\u001b[38;5;241m5\u001b[39m, \u001b[38;5;124m\"\u001b[39m\u001b[38;5;124mRobin Williams\u001b[39m\u001b[38;5;124m\"\u001b[39m, \u001b[38;5;241m40\u001b[39m, \u001b[38;5;241m9\u001b[39m)\n",
      "\u001b[1;31mTypeError\u001b[0m: Salary_employee.__init__() takes 4 positional arguments but 5 were given"
     ]
    }
   ],
   "source": [
    "temporary_secretary = TemporarySecretary(5, \"Robin Williams\", 40, 9)"
   ]
  },
  {
   "cell_type": "code",
   "execution_count": 113,
   "id": "deeb9993-72c3-4cd9-aab6-e67567e79006",
   "metadata": {},
   "outputs": [
    {
     "data": {
      "text/plain": [
       "(__main__.TemporarySecretary,\n",
       " __main__.Secretary_role,\n",
       " __main__.Salary_employee,\n",
       " __main__.Hourly_employee,\n",
       " __main__.Employee,\n",
       " object)"
      ]
     },
     "execution_count": 113,
     "metadata": {},
     "output_type": "execute_result"
    }
   ],
   "source": [
    "TemporarySecretary.__mro__"
   ]
  },
  {
   "cell_type": "markdown",
   "id": "79f78add-e764-4ea8-8eed-28f508a7b5d4",
   "metadata": {},
   "source": [
    "<h5><i><b>ii.</b> Modified the code and Run the code.</i></h5>"
   ]
  },
  {
   "cell_type": "code",
   "execution_count": 116,
   "id": "b2a14c8c-4eb5-4619-b35d-27cf70ee8ba4",
   "metadata": {},
   "outputs": [],
   "source": [
    "class TemporarySecretary(Hourly_employee, Secretary_role):\n",
    "    pass"
   ]
  },
  {
   "cell_type": "code",
   "execution_count": 118,
   "id": "0fe809ab-d32f-4a20-9554-3c81576d9f4a",
   "metadata": {},
   "outputs": [
    {
     "ename": "TypeError",
     "evalue": "Salary_employee.__init__() missing 1 required positional argument: 'weekly_salary'",
     "output_type": "error",
     "traceback": [
      "\u001b[1;31m---------------------------------------------------------------------------\u001b[0m",
      "\u001b[1;31mTypeError\u001b[0m                                 Traceback (most recent call last)",
      "Cell \u001b[1;32mIn[118], line 1\u001b[0m\n\u001b[1;32m----> 1\u001b[0m temporary_secretary \u001b[38;5;241m=\u001b[39m TemporarySecretary(\u001b[38;5;241m5\u001b[39m, \u001b[38;5;124m\"\u001b[39m\u001b[38;5;124mRobin Williams\u001b[39m\u001b[38;5;124m\"\u001b[39m, \u001b[38;5;241m40\u001b[39m, \u001b[38;5;241m9\u001b[39m)\n",
      "Cell \u001b[1;32mIn[106], line 24\u001b[0m, in \u001b[0;36mHourly_employee.__init__\u001b[1;34m(self, id, name, hours_worked, hourly_rate)\u001b[0m\n\u001b[0;32m     23\u001b[0m \u001b[38;5;28;01mdef\u001b[39;00m \u001b[38;5;21m__init__\u001b[39m(\u001b[38;5;28mself\u001b[39m, \u001b[38;5;28mid\u001b[39m, name, hours_worked, hourly_rate):\n\u001b[1;32m---> 24\u001b[0m     \u001b[38;5;28msuper\u001b[39m()\u001b[38;5;241m.\u001b[39m\u001b[38;5;21m__init__\u001b[39m(\u001b[38;5;28mid\u001b[39m, name)\n\u001b[0;32m     25\u001b[0m     \u001b[38;5;28mself\u001b[39m\u001b[38;5;241m.\u001b[39mhours_worked \u001b[38;5;241m=\u001b[39m hours_worked\n\u001b[0;32m     26\u001b[0m     \u001b[38;5;28mself\u001b[39m\u001b[38;5;241m.\u001b[39mhourly_rate \u001b[38;5;241m=\u001b[39m hourly_rate\n",
      "\u001b[1;31mTypeError\u001b[0m: Salary_employee.__init__() missing 1 required positional argument: 'weekly_salary'"
     ]
    }
   ],
   "source": [
    "temporary_secretary = TemporarySecretary(5, \"Robin Williams\", 40, 9)"
   ]
  },
  {
   "cell_type": "code",
   "execution_count": 120,
   "id": "d8a469be-3d80-4e29-b2f9-3e5d30976014",
   "metadata": {},
   "outputs": [
    {
     "data": {
      "text/plain": [
       "(__main__.TemporarySecretary,\n",
       " __main__.Hourly_employee,\n",
       " __main__.Secretary_role,\n",
       " __main__.Salary_employee,\n",
       " __main__.Employee,\n",
       " object)"
      ]
     },
     "execution_count": 120,
     "metadata": {},
     "output_type": "execute_result"
    }
   ],
   "source": [
    "TemporarySecretary.__mro__"
   ]
  },
  {
   "cell_type": "markdown",
   "id": "62b9c89c-5826-4cb1-b4da-ddebf882ada8",
   "metadata": {},
   "source": [
    "<h5><i><b>iii.</b> Modified the code and Run the code.</i></h5>"
   ]
  },
  {
   "cell_type": "code",
   "execution_count": 123,
   "id": "45cc703c-abe0-4766-9735-ab9fcebfa5a7",
   "metadata": {},
   "outputs": [],
   "source": [
    "class TemporarySecretary(Hourly_employee, Secretary_role):\n",
    "    def __init__(self, id, name, hours_worked, hourly_rate):\n",
    "        super().__init__(id, name, hours_worked, hourly_rate)"
   ]
  },
  {
   "cell_type": "code",
   "execution_count": 125,
   "id": "3329649f-6bbe-47b8-b932-99280912f80e",
   "metadata": {},
   "outputs": [
    {
     "ename": "TypeError",
     "evalue": "Salary_employee.__init__() missing 1 required positional argument: 'weekly_salary'",
     "output_type": "error",
     "traceback": [
      "\u001b[1;31m---------------------------------------------------------------------------\u001b[0m",
      "\u001b[1;31mTypeError\u001b[0m                                 Traceback (most recent call last)",
      "Cell \u001b[1;32mIn[125], line 1\u001b[0m\n\u001b[1;32m----> 1\u001b[0m temporary_secretary \u001b[38;5;241m=\u001b[39m TemporarySecretary(\u001b[38;5;241m5\u001b[39m, \u001b[38;5;124m\"\u001b[39m\u001b[38;5;124mRobin Williams\u001b[39m\u001b[38;5;124m\"\u001b[39m, \u001b[38;5;241m40\u001b[39m, \u001b[38;5;241m9\u001b[39m)\n",
      "Cell \u001b[1;32mIn[123], line 3\u001b[0m, in \u001b[0;36mTemporarySecretary.__init__\u001b[1;34m(self, id, name, hours_worked, hourly_rate)\u001b[0m\n\u001b[0;32m      2\u001b[0m \u001b[38;5;28;01mdef\u001b[39;00m \u001b[38;5;21m__init__\u001b[39m(\u001b[38;5;28mself\u001b[39m, \u001b[38;5;28mid\u001b[39m, name, hours_worked, hourly_rate):\n\u001b[1;32m----> 3\u001b[0m     \u001b[38;5;28msuper\u001b[39m()\u001b[38;5;241m.\u001b[39m\u001b[38;5;21m__init__\u001b[39m(\u001b[38;5;28mid\u001b[39m, name, hours_worked, hourly_rate)\n",
      "Cell \u001b[1;32mIn[106], line 24\u001b[0m, in \u001b[0;36mHourly_employee.__init__\u001b[1;34m(self, id, name, hours_worked, hourly_rate)\u001b[0m\n\u001b[0;32m     23\u001b[0m \u001b[38;5;28;01mdef\u001b[39;00m \u001b[38;5;21m__init__\u001b[39m(\u001b[38;5;28mself\u001b[39m, \u001b[38;5;28mid\u001b[39m, name, hours_worked, hourly_rate):\n\u001b[1;32m---> 24\u001b[0m     \u001b[38;5;28msuper\u001b[39m()\u001b[38;5;241m.\u001b[39m\u001b[38;5;21m__init__\u001b[39m(\u001b[38;5;28mid\u001b[39m, name)\n\u001b[0;32m     25\u001b[0m     \u001b[38;5;28mself\u001b[39m\u001b[38;5;241m.\u001b[39mhours_worked \u001b[38;5;241m=\u001b[39m hours_worked\n\u001b[0;32m     26\u001b[0m     \u001b[38;5;28mself\u001b[39m\u001b[38;5;241m.\u001b[39mhourly_rate \u001b[38;5;241m=\u001b[39m hourly_rate\n",
      "\u001b[1;31mTypeError\u001b[0m: Salary_employee.__init__() missing 1 required positional argument: 'weekly_salary'"
     ]
    }
   ],
   "source": [
    "temporary_secretary = TemporarySecretary(5, \"Robin Williams\", 40, 9)"
   ]
  },
  {
   "cell_type": "code",
   "execution_count": 127,
   "id": "3acd80d8-83e1-4dbb-a48d-533451cbe14c",
   "metadata": {},
   "outputs": [
    {
     "data": {
      "text/plain": [
       "(__main__.TemporarySecretary,\n",
       " __main__.Hourly_employee,\n",
       " __main__.Secretary_role,\n",
       " __main__.Salary_employee,\n",
       " __main__.Employee,\n",
       " object)"
      ]
     },
     "execution_count": 127,
     "metadata": {},
     "output_type": "execute_result"
    }
   ],
   "source": [
    "TemporarySecretary.__mro__"
   ]
  },
  {
   "cell_type": "markdown",
   "id": "6a3301d0-2023-4b99-9f91-ab771ae55045",
   "metadata": {},
   "source": [
    "<h5><i><b>iv.</b>  Modified the code and Run the code</i></h5>"
   ]
  },
  {
   "cell_type": "code",
   "execution_count": 130,
   "id": "8189dcd8-f27f-445e-b570-703e0b651b3e",
   "metadata": {},
   "outputs": [],
   "source": [
    "class TemporarySecretary(Secretary_role, Hourly_employee):\n",
    "    def __init__(self, id, name, hours_worked, hourly_rate):\n",
    "        Hourly_employee.__init__(self, id, name, hours_worked, hourly_rate)"
   ]
  },
  {
   "cell_type": "code",
   "execution_count": 132,
   "id": "5fad1ac3-1f5c-4109-8eeb-83d21a57ca87",
   "metadata": {},
   "outputs": [
    {
     "name": "stdout",
     "output_type": "stream",
     "text": [
      "Productivity System Tracking\n",
      "-----------------------------\n",
      "Robin Williams efficiently organizes and manages documents for 40 hours.\n",
      "\n",
      "Calculate Payroll\n",
      "===========================\n",
      "Payroll for: 5 - Robin Williams\n"
     ]
    },
    {
     "ename": "AttributeError",
     "evalue": "'TemporarySecretary' object has no attribute 'weekly_salary'",
     "output_type": "error",
     "traceback": [
      "\u001b[1;31m---------------------------------------------------------------------------\u001b[0m",
      "\u001b[1;31mAttributeError\u001b[0m                            Traceback (most recent call last)",
      "Cell \u001b[1;32mIn[132], line 6\u001b[0m\n\u001b[0;32m      4\u001b[0m productivity_system\u001b[38;5;241m.\u001b[39mTrack(company_employees, \u001b[38;5;241m40\u001b[39m)\n\u001b[0;32m      5\u001b[0m payroll_system \u001b[38;5;241m=\u001b[39m Payroll_system()\n\u001b[1;32m----> 6\u001b[0m payroll_system\u001b[38;5;241m.\u001b[39mcalculate_payroll(company_employees)\n",
      "Cell \u001b[1;32mIn[106], line 7\u001b[0m, in \u001b[0;36mPayroll_system.calculate_payroll\u001b[1;34m(self, employees)\u001b[0m\n\u001b[0;32m      5\u001b[0m \u001b[38;5;28;01mfor\u001b[39;00m employee \u001b[38;5;129;01min\u001b[39;00m employees:\n\u001b[0;32m      6\u001b[0m     \u001b[38;5;28mprint\u001b[39m(\u001b[38;5;124mf\u001b[39m\u001b[38;5;124m\"\u001b[39m\u001b[38;5;124mPayroll for: \u001b[39m\u001b[38;5;132;01m{\u001b[39;00memployee\u001b[38;5;241m.\u001b[39mid\u001b[38;5;132;01m}\u001b[39;00m\u001b[38;5;124m - \u001b[39m\u001b[38;5;132;01m{\u001b[39;00memployee\u001b[38;5;241m.\u001b[39mname\u001b[38;5;132;01m}\u001b[39;00m\u001b[38;5;124m\"\u001b[39m)\n\u001b[1;32m----> 7\u001b[0m     \u001b[38;5;28mprint\u001b[39m(\u001b[38;5;124mf\u001b[39m\u001b[38;5;124m\"\u001b[39m\u001b[38;5;124m- Check amount: \u001b[39m\u001b[38;5;132;01m{\u001b[39;00memployee\u001b[38;5;241m.\u001b[39mcalculate_payroll()\u001b[38;5;132;01m}\u001b[39;00m\u001b[38;5;124m\"\u001b[39m)\n\u001b[0;32m      8\u001b[0m     \u001b[38;5;28mprint\u001b[39m()\n",
      "Cell \u001b[1;32mIn[106], line 20\u001b[0m, in \u001b[0;36mSalary_employee.calculate_payroll\u001b[1;34m(self)\u001b[0m\n\u001b[0;32m     19\u001b[0m \u001b[38;5;28;01mdef\u001b[39;00m \u001b[38;5;21mcalculate_payroll\u001b[39m(\u001b[38;5;28mself\u001b[39m):\n\u001b[1;32m---> 20\u001b[0m     \u001b[38;5;28;01mreturn\u001b[39;00m \u001b[38;5;28mself\u001b[39m\u001b[38;5;241m.\u001b[39mweekly_salary\n",
      "\u001b[1;31mAttributeError\u001b[0m: 'TemporarySecretary' object has no attribute 'weekly_salary'"
     ]
    }
   ],
   "source": [
    "temporary_secretary = TemporarySecretary(5, \"Robin Williams\", 40, 9)\n",
    "company_employees = [temporary_secretary]\n",
    "productivity_system = Productivity_system()\n",
    "productivity_system.Track(company_employees, 40)\n",
    "payroll_system = Payroll_system()\n",
    "payroll_system.calculate_payroll(company_employees)"
   ]
  },
  {
   "cell_type": "code",
   "execution_count": 134,
   "id": "bed3a129-3bf0-4206-85db-4b24ff1b61ce",
   "metadata": {},
   "outputs": [
    {
     "data": {
      "text/plain": [
       "(__main__.TemporarySecretary,\n",
       " __main__.Secretary_role,\n",
       " __main__.Salary_employee,\n",
       " __main__.Hourly_employee,\n",
       " __main__.Employee,\n",
       " object)"
      ]
     },
     "execution_count": 134,
     "metadata": {},
     "output_type": "execute_result"
    }
   ],
   "source": [
    "TemporarySecretary.__mro__"
   ]
  },
  {
   "cell_type": "markdown",
   "id": "b6ce289c-e767-4ebb-aea2-1bc23c38b63c",
   "metadata": {},
   "source": [
    "<h5><i><b>iv.</b>  Modified the code and Run the code</i></h5>"
   ]
  },
  {
   "cell_type": "code",
   "execution_count": 137,
   "id": "5c549bba-a30a-4020-bc70-f63bf02897e8",
   "metadata": {},
   "outputs": [],
   "source": [
    "class TemporarySecretary(Secretary_role, Hourly_employee):\n",
    "    def __init__(self, id, name, hours_worked, hourly_rate):\n",
    "        Hourly_employee.__init__(self, id, name, hours_worked, hourly_rate)\n",
    "    def calculate_payroll(self):\n",
    "        return Hourly_employee.calculate_payroll(self)"
   ]
  },
  {
   "cell_type": "code",
   "execution_count": 139,
   "id": "a1c3b60e-21d2-4226-b35a-ecbace76ffd2",
   "metadata": {},
   "outputs": [
    {
     "name": "stdout",
     "output_type": "stream",
     "text": [
      "Productivity System Tracking\n",
      "-----------------------------\n",
      "Robin Williams efficiently organizes and manages documents for 40 hours.\n",
      "\n",
      "Calculate Payroll\n",
      "===========================\n",
      "Payroll for: 5 - Robin Williams\n",
      "- Check amount: 360\n",
      "\n"
     ]
    }
   ],
   "source": [
    "temporary_secretary = TemporarySecretary(5, \"Robin Williams\", 40, 9)\n",
    "company_employees = [temporary_secretary]\n",
    "productivity_system = Productivity_system()\n",
    "productivity_system.Track(company_employees, 40)\n",
    "payroll_system = Payroll_system()\n",
    "payroll_system.calculate_payroll(company_employees)"
   ]
  },
  {
   "cell_type": "code",
   "execution_count": 141,
   "id": "378e658a-4da2-47a6-a704-43bbd9f8bc57",
   "metadata": {},
   "outputs": [
    {
     "data": {
      "text/plain": [
       "(__main__.TemporarySecretary,\n",
       " __main__.Secretary_role,\n",
       " __main__.Salary_employee,\n",
       " __main__.Hourly_employee,\n",
       " __main__.Employee,\n",
       " object)"
      ]
     },
     "execution_count": 141,
     "metadata": {},
     "output_type": "execute_result"
    }
   ],
   "source": [
    "TemporarySecretary.__mro__"
   ]
  },
  {
   "cell_type": "markdown",
   "id": "faed9e72-7e52-4500-b96e-c88aa47c927b",
   "metadata": {},
   "source": [
    "<hr>"
   ]
  }
 ],
 "metadata": {
  "kernelspec": {
   "display_name": "Python 3 (ipykernel)",
   "language": "python",
   "name": "python3"
  },
  "language_info": {
   "codemirror_mode": {
    "name": "ipython",
    "version": 3
   },
   "file_extension": ".py",
   "mimetype": "text/x-python",
   "name": "python",
   "nbconvert_exporter": "python",
   "pygments_lexer": "ipython3",
   "version": "3.12.4"
  }
 },
 "nbformat": 4,
 "nbformat_minor": 5
}
