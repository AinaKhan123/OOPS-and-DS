{
 "cells": [
  {
   "cell_type": "markdown",
   "id": "4cabe66d-989f-45d0-bb68-4f569f330ba5",
   "metadata": {},
   "source": [
    "<h1 style=\"margin-left: 10px; text-decoration: underline; text-decoration-style: double;\"><strong><i> Lab Practice: </i></strong></h1>"
   ]
  },
  {
   "cell_type": "markdown",
   "id": "262c03f9-3f61-4a55-9468-55ae8d362025",
   "metadata": {},
   "source": [
    "<p style=\"margin-left: 10px;text-decoration: underline;\"><strong> Name </strong>: Aina khan</p>\n",
    "<p style=\"margin-left: 10px;text-decoration: underline;\"><strong> Reg No </strong>: 0540 <p>\n",
    "<p style=\"margin-left: 10px;text-decoration: underline;\"><strong> Lab Practice </strong>: <strong> 6 </strong> <p>"
   ]
  },
  {
   "cell_type": "markdown",
   "id": "c241099f-e9e9-4863-8452-8f0615ed8507",
   "metadata": {},
   "source": [
    "<hr>"
   ]
  },
  {
   "cell_type": "markdown",
   "id": "8db99f58-dea6-4a27-8912-0a4c88c2c3f2",
   "metadata": {},
   "source": [
    "<h1 style=\"margin-left: 29px;text-decoration: underline;text-decoration-style: double;\"><i><b>Lab Title :</b></i></h1>"
   ]
  },
  {
   "cell_type": "markdown",
   "id": "5231320e-f131-4734-a854-f4e5ba90a068",
   "metadata": {},
   "source": [
    "<h2 style=\"margin-left: 129px;text-decoration: underline;text-decoration-style: double;\"><i><b>\"Classes 3 @property and @property.setter, @property, @ staticmethod and \n",
    "@classmethod\"\n",
    "</b></i></h2>"
   ]
  },
  {
   "cell_type": "markdown",
   "id": "476e76ac-dbf5-4467-bcdb-1c35b8e63242",
   "metadata": {},
   "source": [
    "<h2 style=\"margin-left: 10px;text-decoration: underline;\"><i><b>Task : 1</b></b></i></h2>"
   ]
  },
  {
   "cell_type": "markdown",
   "id": "6eefb2f1-f372-4476-a454-ff45c5622096",
   "metadata": {},
   "source": [
    "<h4 style=\"margin-left: 10px;text-decoration: underline;\"><i><b> 1. Define a class point in 2 dimension coordinate system. Your class must have the appropriate \n",
    "__init__ method. </b></i></h4>"
   ]
  },
  {
   "cell_type": "markdown",
   "id": "328599e3-d81d-4663-9592-0131532bb957",
   "metadata": {},
   "source": [
    "<h5><i><b>i.</b> Add appropriate property methods. (@property and @property.setter)</i></h5>\n",
    "<h5><i><b>ii.</b> In addition, add instance method for the distance between points.</i></h5>\n",
    "<h5><i><b>iii.</b>Add another instance method for calculating the distance from origin.</i></h5> \n",
    "<h5><i><b>iv.</b> Add another method with the name locate to display the coordinate in which \n",
    "the point is located. </i></h5>\n",
    "<h5><i><b>v.</b> Add __repr__ and __str__ to the class. </i></h5>\n",
    "<h5><i><b>vi.</b> Add __repr__ and __str__ to the class. \n",
    "vi. Add proper annotation and doc string to every class and instance method. </i></h5>"
   ]
  },
  {
   "cell_type": "code",
   "execution_count": 27,
   "id": "a944eda5-366c-4945-9d5f-a0ab39bab7a8",
   "metadata": {},
   "outputs": [],
   "source": [
    "class Point:\n",
    "    pass"
   ]
  },
  {
   "cell_type": "code",
   "execution_count": 29,
   "id": "2e61311f-2de2-4fb0-8232-4b8c9f1928f7",
   "metadata": {},
   "outputs": [],
   "source": [
    "import math\n",
    "class Point:\n",
    "    \"\"\"A 2D coordinates system which has following parameters\n",
    "            x and y\n",
    "    \"\"\"\n",
    "    def __init__(self, x = 1, y = 1):\n",
    "        \"\"\"Initiate the class with attributes of x and y\n",
    "        \"\"\"\n",
    "        self.x = x\n",
    "        self.y = y\n",
    "    def distance(self,point)  -> float:\n",
    "        \"\"\"To calculate the distance between two points\n",
    "        \"\"\"\n",
    "        return math.sqrt((self.x - point.x)**2 + (self.y - point.y)**2 )\n",
    "    def distanceFromOrigin(self) -> float:\n",
    "        \"\"\"To calculate the distance from origin\n",
    "        \"\"\"\n",
    "        return math.sqrt(self.x**2 + self.y**2)\n",
    "    def display(self) -> str:\n",
    "        \"\"\"To display where is the points are locate or in which quadrant is that points\n",
    "        \"\"\"\n",
    "        if self.x > 0 and self.y > 0:\n",
    "            return \"Point is in the first quadrant.\"\n",
    "        elif self.x < 0 and self.y > 0:\n",
    "            return \"Point is in the second quadrant.\"\n",
    "        elif self.x < 0 and self.y < 0:\n",
    "            return \"Point is in the third quadrant.\"\n",
    "        elif self.x > 0 and self.y < 0:\n",
    "            return \"Point is in the fourth quadrant.\"\n",
    "        elif self.x == 0 and self.y == 0:\n",
    "            return \"Point is at the origin.\"\n",
    "        elif self.x == 0:\n",
    "            return \"Point is on the y-axis.\"\n",
    "        else:\n",
    "            return \"Point is on the x-axis.\"\n",
    "    def __repr__(self):\n",
    "        \"\"\"Use to display the class name and the parameters in the class and we can reuse it  as object\n",
    "        \"\"\"\n",
    "        return f\"{type(self).__name__} ({self.x},{self.y})\"\n",
    "    def __str__(self):\n",
    "        \"\"\"Use to display the class attributes only\n",
    "        \"\"\"\n",
    "        return f\"Points are ({self.x},{self.y})\""
   ]
  },
  {
   "cell_type": "markdown",
   "id": "8e994734-c38c-438e-b109-e72af3bbdff8",
   "metadata": {},
   "source": [
    "<h5><i><b>a.</b> Define inst_1 and pass two numbers. </i></h5>"
   ]
  },
  {
   "cell_type": "code",
   "execution_count": 32,
   "id": "2741c233-429e-4fd0-a877-6631f4219069",
   "metadata": {},
   "outputs": [],
   "source": [
    "inst_1 = Point(3,5)"
   ]
  },
  {
   "cell_type": "markdown",
   "id": "1bdb31aa-a6af-4f0d-826b-3eb88218952f",
   "metadata": {},
   "source": [
    "<h5><i><b>b.</b> Make another instance inst2</i></h5>"
   ]
  },
  {
   "cell_type": "code",
   "execution_count": 35,
   "id": "09a6dbaa-6f57-4a9a-bdd2-4ef83921724b",
   "metadata": {},
   "outputs": [],
   "source": [
    "inst_2 = Point(7,-2)"
   ]
  },
  {
   "cell_type": "markdown",
   "id": "956b25b3-817c-404e-b7ce-35e1e4ba0c5e",
   "metadata": {},
   "source": [
    "<h5><i><b>c.</b> Print inst_1 and inst_2, for this use the print command and pass theinst_1 and inst_2.</i></h5>"
   ]
  },
  {
   "cell_type": "code",
   "execution_count": 38,
   "id": "afe32f25-809b-42a2-b777-666aafbc0286",
   "metadata": {},
   "outputs": [
    {
     "name": "stdout",
     "output_type": "stream",
     "text": [
      "Points are (3,5)\n",
      "Points are (7,-2)\n"
     ]
    }
   ],
   "source": [
    "print(inst_1)\n",
    "print(inst_2)"
   ]
  },
  {
   "cell_type": "markdown",
   "id": "0ba0a4dd-a9e3-4c6f-a0fb-3ba16bb68afa",
   "metadata": {},
   "source": [
    "<h5><i><b>d.</b>Also print the location of both points. (Add a display method).\n",
    "</i></h5>"
   ]
  },
  {
   "cell_type": "code",
   "execution_count": 41,
   "id": "56fa61e3-d9da-4d74-9628-e31a18947ad1",
   "metadata": {},
   "outputs": [
    {
     "name": "stdout",
     "output_type": "stream",
     "text": [
      "Point is in the first quadrant.\n",
      "Point is in the fourth quadrant.\n"
     ]
    }
   ],
   "source": [
    "print(inst_1.display())\n",
    "print(inst_2.display())"
   ]
  },
  {
   "cell_type": "markdown",
   "id": "fb36b1fa-e259-40c2-86d0-d760b6fed295",
   "metadata": {},
   "source": [
    "<h5><i><b>e.</b> Calculate the distance between these two pints. </i></h5>"
   ]
  },
  {
   "cell_type": "code",
   "execution_count": 44,
   "id": "e6795265-1244-4658-b47d-bdccea7330c1",
   "metadata": {},
   "outputs": [
    {
     "data": {
      "text/plain": [
       "8.06225774829855"
      ]
     },
     "execution_count": 44,
     "metadata": {},
     "output_type": "execute_result"
    }
   ],
   "source": [
    "inst_1.distance(inst_2)"
   ]
  },
  {
   "cell_type": "markdown",
   "id": "2ee4979b-b9fc-4255-900e-b5a7340d2f36",
   "metadata": {},
   "source": [
    "<h5><i><b>f.</b>  Call the __dict__ by the class name. </i></h5>"
   ]
  },
  {
   "cell_type": "code",
   "execution_count": 47,
   "id": "7964a2a9-b256-4d8e-85a6-036e6408630d",
   "metadata": {},
   "outputs": [
    {
     "name": "stdout",
     "output_type": "stream",
     "text": [
      "mappingproxy({'__dict__': <attribute '__dict__' of 'Point' objects>,\n",
      "              '__doc__': 'A 2D coordinates system which has following '\n",
      "                         'parameters\\n'\n",
      "                         '            x and y\\n'\n",
      "                         '    ',\n",
      "              '__init__': <function Point.__init__ at 0x000001AEB2C15800>,\n",
      "              '__module__': '__main__',\n",
      "              '__repr__': <function Point.__repr__ at 0x000001AEB2C158A0>,\n",
      "              '__str__': <function Point.__str__ at 0x000001AEB2C15DA0>,\n",
      "              '__weakref__': <attribute '__weakref__' of 'Point' objects>,\n",
      "              'display': <function Point.display at 0x000001AEB2C156C0>,\n",
      "              'distance': <function Point.distance at 0x000001AEB2C159E0>,\n",
      "              'distanceFromOrigin': <function Point.distanceFromOrigin at 0x000001AEB2C15620>})\n"
     ]
    }
   ],
   "source": [
    "from pprint import pprint\n",
    "pprint(Point.__dict__)"
   ]
  },
  {
   "cell_type": "markdown",
   "id": "e8723c8d-4669-47e1-88fc-be86c546dce7",
   "metadata": {},
   "source": [
    "<h5><i><b>g.</b>  Also pass the class name to the vars built-in function </i></h5>"
   ]
  },
  {
   "cell_type": "code",
   "execution_count": 50,
   "id": "e80439d0-97e0-476a-b115-29ebfe6ed9e3",
   "metadata": {},
   "outputs": [
    {
     "name": "stdout",
     "output_type": "stream",
     "text": [
      "mappingproxy({'__dict__': <attribute '__dict__' of 'Point' objects>,\n",
      "              '__doc__': 'A 2D coordinates system which has following '\n",
      "                         'parameters\\n'\n",
      "                         '            x and y\\n'\n",
      "                         '    ',\n",
      "              '__init__': <function Point.__init__ at 0x000001AEB2C15800>,\n",
      "              '__module__': '__main__',\n",
      "              '__repr__': <function Point.__repr__ at 0x000001AEB2C158A0>,\n",
      "              '__str__': <function Point.__str__ at 0x000001AEB2C15DA0>,\n",
      "              '__weakref__': <attribute '__weakref__' of 'Point' objects>,\n",
      "              'display': <function Point.display at 0x000001AEB2C156C0>,\n",
      "              'distance': <function Point.distance at 0x000001AEB2C159E0>,\n",
      "              'distanceFromOrigin': <function Point.distanceFromOrigin at 0x000001AEB2C15620>})\n"
     ]
    }
   ],
   "source": [
    "pprint(vars(Point))"
   ]
  },
  {
   "cell_type": "markdown",
   "id": "da48350e-7e4f-49c6-9466-a366b1672e41",
   "metadata": {},
   "source": [
    "<h5><i><b>h.</b>  Call the dict on the object of the class.</i></h5>"
   ]
  },
  {
   "cell_type": "code",
   "execution_count": 52,
   "id": "e4a7e76e-a4fe-43f9-98c4-af3846171701",
   "metadata": {},
   "outputs": [
    {
     "name": "stdout",
     "output_type": "stream",
     "text": [
      "{'x': 3, 'y': 5}\n"
     ]
    }
   ],
   "source": [
    "print(inst_1.__dict__)"
   ]
  },
  {
   "cell_type": "code",
   "execution_count": 53,
   "id": "55bcb3db-03b1-4501-b652-e2e0bfad78ab",
   "metadata": {},
   "outputs": [
    {
     "name": "stdout",
     "output_type": "stream",
     "text": [
      "{'x': 7, 'y': -2}\n"
     ]
    }
   ],
   "source": [
    "print(inst_2.__dict__)"
   ]
  },
  {
   "cell_type": "markdown",
   "id": "54a2f974-1df2-42b3-806b-3a1e23825c5d",
   "metadata": {},
   "source": [
    "<h5><i><b>i.</b> Pass the class name to help. </i></h5>"
   ]
  },
  {
   "cell_type": "code",
   "execution_count": 55,
   "id": "f7777dab-3ade-4c00-a9c6-aca571e32708",
   "metadata": {},
   "outputs": [
    {
     "name": "stdout",
     "output_type": "stream",
     "text": [
      "Help on class Point in module __main__:\n",
      "\n",
      "class Point(builtins.object)\n",
      " |  Point(x=1, y=1)\n",
      " |\n",
      " |  A 2D coordinates system which has following parameters\n",
      " |  x and y\n",
      " |\n",
      " |  Methods defined here:\n",
      " |\n",
      " |  __init__(self, x=1, y=1)\n",
      " |      Initiate the class with attributes of x and y\n",
      " |\n",
      " |  __repr__(self)\n",
      " |      Use to display the class name and the parameters in the class and we can reuse it  as object\n",
      " |\n",
      " |  __str__(self)\n",
      " |      Use to display the class attributes only\n",
      " |\n",
      " |  display(self) -> str\n",
      " |      To display where is the points are locate or in which quadrant is that points\n",
      " |\n",
      " |  distance(self, point) -> float\n",
      " |      To calculate the distance between two points\n",
      " |\n",
      " |  distanceFromOrigin(self) -> float\n",
      " |      To calculate the distance from origin\n",
      " |\n",
      " |  ----------------------------------------------------------------------\n",
      " |  Data descriptors defined here:\n",
      " |\n",
      " |  __dict__\n",
      " |      dictionary for instance variables\n",
      " |\n",
      " |  __weakref__\n",
      " |      list of weak references to the object\n",
      "\n"
     ]
    }
   ],
   "source": [
    "help(Point)"
   ]
  },
  {
   "cell_type": "markdown",
   "id": "f38729ca-3213-48c6-a4ae-55972aedd2b9",
   "metadata": {},
   "source": [
    "<h5><i><b>j.</b>Print the doc-string and annotations of both the class and each instance method.</i></h5>"
   ]
  },
  {
   "cell_type": "code",
   "execution_count": 57,
   "id": "86d781cf-e90f-495f-93a7-092fb39e63f4",
   "metadata": {},
   "outputs": [
    {
     "name": "stdout",
     "output_type": "stream",
     "text": [
      "A 2D coordinates system which has following parameters\n",
      "            x and y\n",
      "    \n",
      "Initiate the class with attributes of x and y\n",
      "        \n",
      "{'return': <class 'float'>}\n",
      "To calculate the distance between two points\n",
      "        \n",
      "{'return': <class 'float'>}\n",
      "To calculate the distance from origin\n",
      "        \n",
      "To display where is the points are locate or in which quadrant is that points\n",
      "        \n",
      "{'return': <class 'str'>}\n"
     ]
    }
   ],
   "source": [
    "print(Point.__doc__)\n",
    "print(Point.__init__.__doc__)\n",
    "print(Point.distance.__annotations__)\n",
    "print(Point.distance.__doc__)\n",
    "print(Point.distanceFromOrigin.__annotations__)\n",
    "print(Point.distanceFromOrigin.__doc__)\n",
    "print(Point.display.__doc__)\n",
    "print(Point.display.__annotations__)"
   ]
  },
  {
   "cell_type": "markdown",
   "id": "082e419d-9be9-431f-8f1b-c938bc18363b",
   "metadata": {},
   "source": [
    "<h5><i><b>k.</b> <i></b> Modify the init by by making its parameters default and verify by instances.</i></h5></i></h5>"
   ]
  },
  {
   "cell_type": "code",
   "execution_count": 59,
   "id": "8650f85d-2d97-401d-bf9e-9a8e3e0330df",
   "metadata": {},
   "outputs": [
    {
     "name": "stdout",
     "output_type": "stream",
     "text": [
      "Points are (1,1)\n"
     ]
    },
    {
     "data": {
      "text/plain": [
       "Point (1,1)"
      ]
     },
     "execution_count": 59,
     "metadata": {},
     "output_type": "execute_result"
    }
   ],
   "source": [
    "p3 = Point()\n",
    "print(p3)\n",
    "p3"
   ]
  },
  {
   "cell_type": "markdown",
   "id": "0d667836-0443-4e58-b51c-e2aaad2880e3",
   "metadata": {},
   "source": [
    "<hr>"
   ]
  },
  {
   "cell_type": "markdown",
   "id": "43206bf0-a801-45eb-9dad-7fcd3d9cf1cf",
   "metadata": {},
   "source": [
    "<h2 style=\"margin-left: 10px;text-decoration: underline;\"><i><b>Task : 2</b></b></i></h2>"
   ]
  },
  {
   "cell_type": "markdown",
   "id": "449a81bc-1b85-44f8-8286-6d38985ed105",
   "metadata": {},
   "source": [
    "<h4 style=\"margin-left: 10px;text-decoration: underline;\"><i><b> 2. Define a class circle. Your class must have the appropriate __init__ method. </b></i></h4>"
   ]
  },
  {
   "cell_type": "markdown",
   "id": "3815d58a-390d-49c4-aec3-ec59abab24e1",
   "metadata": {},
   "source": [
    "<h5><i><b>i.</b> Add appropriate property methods. (@property and @property.setter)</i></h5>\n",
    "<h5><i><b>ii.</b> In addition, add an instance method for the volume of a cylinder with the given \n",
    "radius.\n",
    "</i></h5>\n",
    "<h5><i><b>iii.</b> Add property method for area, circumference, and diameter. .</i></h5> \n",
    "<h5><i><b>iv.</b> Add __repr__ and __str__ to the class.  </i></h5>\n",
    "<h5><i><b>v.</b> Add __repr__ and __str__ to the class. </i></h5>\n",
    "<h5><i><b>vi.</b> Add proper annotation and doc string to every class and instance method.  </i></h5>"
   ]
  },
  {
   "cell_type": "code",
   "execution_count": 70,
   "id": "2116de52-04b1-4fd8-a4fe-87f5faf2e87a",
   "metadata": {},
   "outputs": [],
   "source": [
    "class Point:\n",
    "    pass"
   ]
  },
  {
   "cell_type": "code",
   "execution_count": 71,
   "id": "bf7ec084-cedc-4bd2-b181-c490db51e1d2",
   "metadata": {},
   "outputs": [],
   "source": [
    "import math\n",
    "class Point:\n",
    "    \"\"\"A 2D coordinates system which has following parameters\n",
    "            x and y\n",
    "    \"\"\"\n",
    "    def __init__(self, x = 1, y = 1):\n",
    "        \"\"\"Initiate the class with attributes of x and y\n",
    "        \"\"\"\n",
    "        self.x = x\n",
    "        self.y = y\n",
    "    def distance(self,point)  -> float:\n",
    "        \"\"\"To calculate the distance between two points\n",
    "        \"\"\"\n",
    "        return math.sqrt((self.x - point.x)**2 + (self.y - point.y)**2 )\n",
    "    def distanceFromOrigin(self) -> float:\n",
    "        \"\"\"To calculate the distance from origin\n",
    "        \"\"\"\n",
    "        return math.sqrt(self.x**2 + self.y**2)\n",
    "    def display(self) -> str:\n",
    "        \"\"\"To display where is the points are locate or in which quadrant is that points\n",
    "        \"\"\"\n",
    "        if self.x > 0 and self.y > 0:\n",
    "            return \"Point is in the first quadrant.\"\n",
    "        elif self.x < 0 and self.y > 0:\n",
    "            return \"Point is in the second quadrant.\"\n",
    "        elif self.x < 0 and self.y < 0:\n",
    "            return \"Point is in the third quadrant.\"\n",
    "        elif self.x > 0 and self.y < 0:\n",
    "            return \"Point is in the fourth quadrant.\"\n",
    "        elif self.x == 0 and self.y == 0:\n",
    "            return \"Point is at the origin.\"\n",
    "        elif self.x == 0:\n",
    "            return \"Point is on the y-axis.\"\n",
    "        else:\n",
    "            return \"Point is on the x-axis.\"\n",
    "    def __repr__(self):\n",
    "        \"\"\"Use to display the class name and the parameters in the class and we can reuse it  as object\n",
    "        \"\"\"\n",
    "        return f\"{type(self).__name__} ({self.x},{self.y})\"\n",
    "    def __str__(self):\n",
    "        \"\"\"Use to display the class attributes only\n",
    "        \"\"\"\n",
    "        return f\"Points are ({self.x},{self.y})\""
   ]
  },
  {
   "cell_type": "markdown",
   "id": "089eff92-05f9-456f-bdfb-96c02ff955c1",
   "metadata": {},
   "source": [
    "<h5><i><b>a.</b> <i></b> Define inst_1 and pass two numbers. </i></h5></i></h5>"
   ]
  },
  {
   "cell_type": "code",
   "execution_count": 73,
   "id": "0e2db47e-eb1d-4bf3-ac3d-a833d088cd93",
   "metadata": {},
   "outputs": [],
   "source": [
    "inst_1 = Point(3,5)"
   ]
  },
  {
   "cell_type": "markdown",
   "id": "b974e871-9fab-439e-93c7-31a3d26eb0d7",
   "metadata": {},
   "source": [
    "<h5><i><b>b.</b> <i></b> Make another instance inst2. </i></h5></i></h5>"
   ]
  },
  {
   "cell_type": "code",
   "execution_count": 75,
   "id": "f803ca46-64e8-4930-8a4f-94ee3f1541ac",
   "metadata": {},
   "outputs": [],
   "source": [
    "inst_2 = Point(7,-2)"
   ]
  },
  {
   "cell_type": "markdown",
   "id": "864e3d2b-ed3a-4922-9673-d706269fbe89",
   "metadata": {},
   "source": [
    "<h5><i><b>c.</b> <i></b> Print inst_1 and inst_2, for this use the print command and pass the inst_1 and inst_2. </i></h5></i></h5>"
   ]
  },
  {
   "cell_type": "code",
   "execution_count": 81,
   "id": "4865ee7c-e09c-4b7c-af1d-0b9f2c0997dd",
   "metadata": {},
   "outputs": [
    {
     "name": "stdout",
     "output_type": "stream",
     "text": [
      "Points are (3,5)\n",
      "Points are (7,-2)\n"
     ]
    }
   ],
   "source": [
    "print(inst_1)\n",
    "print(inst_2)"
   ]
  },
  {
   "cell_type": "code",
   "execution_count": 83,
   "id": "427ddb24-c7b0-46e6-8f55-b088b8668399",
   "metadata": {},
   "outputs": [
    {
     "data": {
      "text/plain": [
       "Point (3,5)"
      ]
     },
     "execution_count": 83,
     "metadata": {},
     "output_type": "execute_result"
    }
   ],
   "source": [
    "inst_1"
   ]
  },
  {
   "cell_type": "code",
   "execution_count": 85,
   "id": "13d4205d-2bbd-49d9-ae32-3cbec3070500",
   "metadata": {},
   "outputs": [
    {
     "data": {
      "text/plain": [
       "Point (7,-2)"
      ]
     },
     "execution_count": 85,
     "metadata": {},
     "output_type": "execute_result"
    }
   ],
   "source": [
    "inst_2"
   ]
  },
  {
   "cell_type": "markdown",
   "id": "ef01c0f5-2e1c-4e27-ae7f-f7444d5e17cd",
   "metadata": {},
   "source": [
    "<h5><i><b>d.</b> <i></b>Call the __dict__ by the class name.</i></h5></i></h5>"
   ]
  },
  {
   "cell_type": "code",
   "execution_count": 88,
   "id": "f36ebca1-a79f-4633-91c6-59ac28b894a8",
   "metadata": {},
   "outputs": [
    {
     "name": "stdout",
     "output_type": "stream",
     "text": [
      "mappingproxy({'__dict__': <attribute '__dict__' of 'Point' objects>,\n",
      "              '__doc__': 'A 2D coordinates system which has following '\n",
      "                         'parameters\\n'\n",
      "                         '            x and y\\n'\n",
      "                         '    ',\n",
      "              '__init__': <function Point.__init__ at 0x000001AEB15A0220>,\n",
      "              '__module__': '__main__',\n",
      "              '__repr__': <function Point.__repr__ at 0x000001AEB2C16020>,\n",
      "              '__str__': <function Point.__str__ at 0x000001AEB2C162A0>,\n",
      "              '__weakref__': <attribute '__weakref__' of 'Point' objects>,\n",
      "              'display': <function Point.display at 0x000001AEB2C15D00>,\n",
      "              'distance': <function Point.distance at 0x000001AEB15A04A0>,\n",
      "              'distanceFromOrigin': <function Point.distanceFromOrigin at 0x000001AEB2C165C0>})\n"
     ]
    }
   ],
   "source": [
    "from pprint import pprint\n",
    "pprint(Point.__dict__)"
   ]
  },
  {
   "cell_type": "markdown",
   "id": "b41ac07d-d13c-4421-912e-cc11ac833239",
   "metadata": {},
   "source": [
    "<h5><i><b>e.</b> <i></b>Also pass the class name to the vars built-in function</i></h5></i></h5>"
   ]
  },
  {
   "cell_type": "code",
   "execution_count": 896,
   "id": "a0191183-5b43-4e80-823b-a4c3ac14a184",
   "metadata": {},
   "outputs": [
    {
     "name": "stdout",
     "output_type": "stream",
     "text": [
      "mappingproxy({'__dict__': <attribute '__dict__' of 'Point' objects>,\n",
      "              '__doc__': 'A 2D coordinates system which has following '\n",
      "                         'parameters\\n'\n",
      "                         '            x and y\\n'\n",
      "                         '    ',\n",
      "              '__init__': <function Point.__init__ at 0x0000017908706840>,\n",
      "              '__module__': '__main__',\n",
      "              '__repr__': <function Point.__repr__ at 0x0000017908704680>,\n",
      "              '__str__': <function Point.__str__ at 0x0000017908704360>,\n",
      "              '__weakref__': <attribute '__weakref__' of 'Point' objects>,\n",
      "              'display': <function Point.display at 0x0000017908704720>,\n",
      "              'distance': <function Point.distance at 0x0000017908706200>,\n",
      "              'distanceFromOrigin': <function Point.distanceFromOrigin at 0x00000179087044A0>})\n"
     ]
    }
   ],
   "source": [
    "pprint(vars(Point))"
   ]
  },
  {
   "cell_type": "markdown",
   "id": "2ff13897-ac6f-4450-8962-f59af885ec18",
   "metadata": {},
   "source": [
    "<h5><i><b>f.</b> <i></b>Call the __dict__ on the object of the class</i></h5></i></h5>"
   ]
  },
  {
   "cell_type": "code",
   "execution_count": 899,
   "id": "94ae25de-ef25-40ec-a195-2dac3f78ce41",
   "metadata": {},
   "outputs": [
    {
     "name": "stdout",
     "output_type": "stream",
     "text": [
      "{'x': 3, 'y': 5}\n"
     ]
    }
   ],
   "source": [
    "print(inst_1.__dict__)"
   ]
  },
  {
   "cell_type": "code",
   "execution_count": 900,
   "id": "6cd3aa4a-9a6e-41f2-8654-c2c34d4260b1",
   "metadata": {},
   "outputs": [
    {
     "name": "stdout",
     "output_type": "stream",
     "text": [
      "{'x': 7, 'y': -2}\n"
     ]
    }
   ],
   "source": [
    "print(inst_2.__dict__)"
   ]
  },
  {
   "cell_type": "markdown",
   "id": "d2726c6d-fd97-4dca-bec2-91430dadf745",
   "metadata": {},
   "source": [
    "<h5><i><b>g.</b> <i></b>Pass the class name to help.</i></h5></i></h5>"
   ]
  },
  {
   "cell_type": "code",
   "execution_count": 902,
   "id": "2a2efae3-4057-4be8-8787-9b9214d30ff4",
   "metadata": {},
   "outputs": [
    {
     "name": "stdout",
     "output_type": "stream",
     "text": [
      "Help on class Point in module __main__:\n",
      "\n",
      "class Point(builtins.object)\n",
      " |  Point(x=1, y=1)\n",
      " |\n",
      " |  A 2D coordinates system which has following parameters\n",
      " |  x and y\n",
      " |\n",
      " |  Methods defined here:\n",
      " |\n",
      " |  __init__(self, x=1, y=1)\n",
      " |      Initiate the class with attributes of x and y\n",
      " |\n",
      " |  __repr__(self)\n",
      " |      Use to display the class name and the parameters in the class and we can reuse it  as object\n",
      " |\n",
      " |  __str__(self)\n",
      " |      Use to display the class attributes only\n",
      " |\n",
      " |  display(self) -> str\n",
      " |      To display where is the points are locate or in which quadrant is that points\n",
      " |\n",
      " |  distance(self, point) -> float\n",
      " |      To calculate the distance between two points\n",
      " |\n",
      " |  distanceFromOrigin(self) -> float\n",
      " |      To calculate the distance from origin\n",
      " |\n",
      " |  ----------------------------------------------------------------------\n",
      " |  Data descriptors defined here:\n",
      " |\n",
      " |  __dict__\n",
      " |      dictionary for instance variables\n",
      " |\n",
      " |  __weakref__\n",
      " |      list of weak references to the object\n",
      "\n"
     ]
    }
   ],
   "source": [
    "help(Point)"
   ]
  },
  {
   "cell_type": "markdown",
   "id": "078e4530-efe2-44fe-8038-04ab6fbb32d2",
   "metadata": {},
   "source": [
    "<h5><i><b>h.</b> <i></b>Print the doc-string and annotations of both the class and each instance method. </i></h5></i></h5>"
   ]
  },
  {
   "cell_type": "code",
   "execution_count": 904,
   "id": "08a959d6-eeba-4aa9-a90d-c35f7ed0c1fc",
   "metadata": {},
   "outputs": [
    {
     "name": "stdout",
     "output_type": "stream",
     "text": [
      "A 2D coordinates system which has following parameters\n",
      "            x and y\n",
      "    \n",
      "Initiate the class with attributes of x and y\n",
      "        \n",
      "{'return': <class 'float'>}\n",
      "To calculate the distance between two points\n",
      "        \n",
      "{'return': <class 'float'>}\n",
      "To calculate the distance from origin\n",
      "        \n",
      "To display where is the points are locate or in which quadrant is that points\n",
      "        \n",
      "{'return': <class 'str'>}\n"
     ]
    }
   ],
   "source": [
    "print(Point.__doc__)\n",
    "print(Point.__init__.__doc__)\n",
    "print(Point.distance.__annotations__)\n",
    "print(Point.distance.__doc__)\n",
    "print(Point.distanceFromOrigin.__annotations__)\n",
    "print(Point.distanceFromOrigin.__doc__)\n",
    "print(Point.display.__doc__)\n",
    "print(Point.display.__annotations__)"
   ]
  },
  {
   "cell_type": "markdown",
   "id": "4c73abe1-2e47-41e1-a948-1845e7e2186e",
   "metadata": {},
   "source": [
    "<h5><i><b>i.</b> <i></b>Modify the __init__ by making its parameters default and verify by instances.</i></h5></i></h5>"
   ]
  },
  {
   "cell_type": "code",
   "execution_count": 910,
   "id": "75436437-46eb-46b2-8d7e-a2364499da05",
   "metadata": {},
   "outputs": [
    {
     "name": "stdout",
     "output_type": "stream",
     "text": [
      "Points are (1,1)\n"
     ]
    },
    {
     "data": {
      "text/plain": [
       "Point (1,1)"
      ]
     },
     "execution_count": 910,
     "metadata": {},
     "output_type": "execute_result"
    }
   ],
   "source": [
    "p3 = Point()\n",
    "print(p3)\n",
    "p3"
   ]
  },
  {
   "cell_type": "markdown",
   "id": "f9196e98-1f26-4a3b-95ce-e14f4c8797ff",
   "metadata": {},
   "source": [
    "<hr>"
   ]
  },
  {
   "cell_type": "markdown",
   "id": "44789b97-dd76-411d-b1aa-4c2667dfe368",
   "metadata": {},
   "source": [
    "<h2 style=\"margin-left: 10px;text-decoration: underline;\"><i><b>Task : 3</b></b></i></h2>"
   ]
  },
  {
   "cell_type": "markdown",
   "id": "eb112cab-c3dd-44bb-b6f5-d0c151d68535",
   "metadata": {},
   "source": [
    "<h4 style=\"margin-left: 10px;text-decoration: underline;\"><i><b> 3. Define a class RLC for a series RLC circuit. Your class must have the appropriate __init__ method.</b></i></h4>"
   ]
  },
  {
   "cell_type": "markdown",
   "id": "13586918-a7ce-4eba-bc71-8659c4fd66ac",
   "metadata": {},
   "source": [
    "<h5><i><b>i.</b> Add appropriate property methods. (@property and @property.setter)</i></h5>\n",
    "<h5><i><b>ii.</b> Add property method for impedance, phase, and power factor.\n",
    "</i></h5>\n",
    "<h5><i><b>iii.</b> In addition, add an instance method for the current in the circuit with a given \n",
    "input voltage. .</i></h5> \n",
    "<h5><i><b>iv.</b> Add __repr__ and __str__ to the class. </i></h5>\n",
    "<h5><i><b>v.</b> Add proper annotation and doc string to every class and instance method.  </i></h5>"
   ]
  },
  {
   "cell_type": "code",
   "execution_count": 916,
   "id": "2b86f276-4c62-4eef-b142-d5d3dd0b62c7",
   "metadata": {},
   "outputs": [],
   "source": [
    "import math"
   ]
  },
  {
   "cell_type": "code",
   "execution_count": 918,
   "id": "2f0dbe3f-1189-4bec-a1b1-569acd1edd55",
   "metadata": {},
   "outputs": [],
   "source": [
    "class RLC:\n",
    "    \"\"\"A class representing a series RLC circuit with resistance (R), inductance (L), and capacitance (C).\"\"\"\n",
    "\n",
    "    def __init__(self, R: float = 1, XL: float = 1, XC: float = 1, F: float = 100):\n",
    "        \"\"\"\n",
    "        Initializes an RLC circuit instance.\n",
    "        \n",
    "        Parameters:\n",
    "        - resistance : Resistance (R) in ohms.\n",
    "        - inductance : Inductance (L) in henrys.\n",
    "        - capacitance : Capacitance (C) in farads.\n",
    "        - frequency : Frequency (f) of the AC source in hertz.\n",
    "        \"\"\"\n",
    "        self.R = R\n",
    "        self.XL = XL\n",
    "        self.XC = XC\n",
    "        self.F = F\n",
    "    def Z(self) -> float:\n",
    "        \"\"\"\n",
    "        Calculates the impedance of the RLC circuit.\n",
    "        Returns: The impedance in ohms in float.\n",
    "        \"\"\"\n",
    "        Frequency = math.pi * 2 *  self.F\n",
    "        reactance_inductive = Frequency * self.XL\n",
    "        reactance_capacitive = 1 / (Frequency * self.XC)\n",
    "        return sqrt(self.R ** 2 + (reactance_inductive - reactance_capacitive) ** 2)\n",
    "    def phase(self) -> float:\n",
    "        \"\"\"\n",
    "        Calculates the phase angle (in degrees) of the RLC circuit.\n",
    "        \n",
    "        Returns:\n",
    "        - float: The phase angle in degrees.\n",
    "        \"\"\"\n",
    "        return atan((reactance_inductive - reactance_capacitive) / self.R) * (180 / math.pi)\n",
    "    def power_factor(self) -> float:\n",
    "        \"\"\"\n",
    "        Calculates the power factor of the RLC circuit.\n",
    "        \n",
    "        Returns: The power factor.\n",
    "        \"\"\"\n",
    "        return math.cos(math.radians(self.phase))\n",
    "    def current(self, voltage: float) -> float:\n",
    "        \"\"\"\n",
    "        Calculates the current in the RLC circuit for a given input voltage.\n",
    "        \n",
    "        Parameters:\n",
    "        - voltage : The input voltage in volts.\n",
    "        \n",
    "        Returns: The current in amperes.\n",
    "        \"\"\"\n",
    "        return voltage / self.Z\n",
    "        \n",
    "    def __repr__(self) -> str:\n",
    "        \"\"\"\n",
    "        Returns a formal string representation of the RLC instance. \n",
    "        Returns: A representation of the RLC circuit with R, L, C, and frequency.\n",
    "        \"\"\"\n",
    "        return (f\"{type(self).__name__}(Resistance={self.R} ohm, \"\n",
    "                f\"Inductance={self.XL} H, Capacitance={self.XC} F, \"\n",
    "                f\"Frequency={self.F} Hz)\")\n",
    "\n",
    "    def __str__(self) -> str:\n",
    "        \"\"\"\n",
    "        Returns an informal string representation of the RLC instance.\n",
    "        \n",
    "        Returns:  A description of the RLC circuit components and properties.\n",
    "        \"\"\"\n",
    "        return (f\"Series RLC Circuit with R = {self.R} ohm, L = {self.XL} H, \"\n",
    "                f\"C = {self.XC} F, f = {self.F} Hz\")\n"
   ]
  },
  {
   "cell_type": "markdown",
   "id": "d041d766-128f-4ac5-81ff-607247815452",
   "metadata": {},
   "source": [
    "<h5><i><b>a.</b> <i></b>Define inst_1 and pass two numbers. </i></h5></i></h5>"
   ]
  },
  {
   "cell_type": "code",
   "execution_count": 921,
   "id": "f2a8d12a-f439-442d-ae9a-1e9173ca06e6",
   "metadata": {},
   "outputs": [],
   "source": [
    "inst_1 = RLC(23,15,18,2800)"
   ]
  },
  {
   "cell_type": "markdown",
   "id": "18d75f01-502f-4085-a24c-fbe2a1c04638",
   "metadata": {},
   "source": [
    "<h5><i><b>b.</b> <i></b> Make another instance inst2.  </i></h5></i></h5>"
   ]
  },
  {
   "cell_type": "code",
   "execution_count": 924,
   "id": "b9c02beb-416e-4ecd-8008-0582854d6ef1",
   "metadata": {},
   "outputs": [],
   "source": [
    "inst_2 = RLC(11, 19, 30, 4000)"
   ]
  },
  {
   "cell_type": "markdown",
   "id": "1d8fe60e-d599-46cb-9e79-f3703afda2bc",
   "metadata": {},
   "source": [
    "<h5><i><b>c.</b> <i></b>Print inst_1 and inst_2, for this use the print command and pass theinst_1 and inst_2. </i></h5></i></h5>"
   ]
  },
  {
   "cell_type": "code",
   "execution_count": 927,
   "id": "eb611a4b-cd47-4b3d-ba4b-402edfe70b19",
   "metadata": {},
   "outputs": [
    {
     "name": "stdout",
     "output_type": "stream",
     "text": [
      "Series RLC Circuit with R = 23 ohm, L = 15 H, C = 18 F, f = 2800 Hz\n",
      "Series RLC Circuit with R = 11 ohm, L = 19 H, C = 30 F, f = 4000 Hz\n"
     ]
    }
   ],
   "source": [
    "print(inst_1)\n",
    "print(inst_2)"
   ]
  },
  {
   "cell_type": "code",
   "execution_count": 929,
   "id": "33e6d34a-0eae-40fc-afd0-fa5144dea81b",
   "metadata": {},
   "outputs": [
    {
     "data": {
      "text/plain": [
       "RLC(Resistance=23 ohm, Inductance=15 H, Capacitance=18 F, Frequency=2800 Hz)"
      ]
     },
     "execution_count": 929,
     "metadata": {},
     "output_type": "execute_result"
    }
   ],
   "source": [
    "inst_1"
   ]
  },
  {
   "cell_type": "code",
   "execution_count": 931,
   "id": "b72eb40d-37f2-4ab8-af66-f86166e2f1b7",
   "metadata": {},
   "outputs": [
    {
     "data": {
      "text/plain": [
       "RLC(Resistance=11 ohm, Inductance=19 H, Capacitance=30 F, Frequency=4000 Hz)"
      ]
     },
     "execution_count": 931,
     "metadata": {},
     "output_type": "execute_result"
    }
   ],
   "source": [
    "inst_2"
   ]
  },
  {
   "cell_type": "markdown",
   "id": "8e4c09bc-ce0d-4cc3-97e7-d58bce7d7c6b",
   "metadata": {},
   "source": [
    "<h5><i><b>d.</b> <i></b>Call the __dict__ by the class name.</i></h5></i></h5>"
   ]
  },
  {
   "cell_type": "code",
   "execution_count": 934,
   "id": "c77b9b23-fab7-4453-959e-ff87767cc759",
   "metadata": {},
   "outputs": [
    {
     "name": "stdout",
     "output_type": "stream",
     "text": [
      "mappingproxy({'Z': <function RLC.Z at 0x0000017908706020>,\n",
      "              '__dict__': <attribute '__dict__' of 'RLC' objects>,\n",
      "              '__doc__': 'A class representing a series RLC circuit with '\n",
      "                         'resistance (R), inductance (L), and capacitance (C).',\n",
      "              '__init__': <function RLC.__init__ at 0x00000179087060C0>,\n",
      "              '__module__': '__main__',\n",
      "              '__repr__': <function RLC.__repr__ at 0x00000179087049A0>,\n",
      "              '__str__': <function RLC.__str__ at 0x0000017908706480>,\n",
      "              '__weakref__': <attribute '__weakref__' of 'RLC' objects>,\n",
      "              'current': <function RLC.current at 0x0000017908704CC0>,\n",
      "              'phase': <function RLC.phase at 0x00000179087042C0>,\n",
      "              'power_factor': <function RLC.power_factor at 0x0000017908705EE0>})\n"
     ]
    }
   ],
   "source": [
    "from pprint import pprint\n",
    "pprint(RLC.__dict__)"
   ]
  },
  {
   "cell_type": "markdown",
   "id": "99771731-234a-4028-b95a-3a0e433321a1",
   "metadata": {},
   "source": [
    "<h5><i><b>e.</b> <i></b>Also pass the class name to the vars built-in function. </i></h5></i></h5>"
   ]
  },
  {
   "cell_type": "code",
   "execution_count": 937,
   "id": "b3b93d6b-b06d-4049-b77e-4df6ec2738fd",
   "metadata": {},
   "outputs": [
    {
     "name": "stdout",
     "output_type": "stream",
     "text": [
      "mappingproxy({'Z': <function RLC.Z at 0x0000017908706020>,\n",
      "              '__dict__': <attribute '__dict__' of 'RLC' objects>,\n",
      "              '__doc__': 'A class representing a series RLC circuit with '\n",
      "                         'resistance (R), inductance (L), and capacitance (C).',\n",
      "              '__init__': <function RLC.__init__ at 0x00000179087060C0>,\n",
      "              '__module__': '__main__',\n",
      "              '__repr__': <function RLC.__repr__ at 0x00000179087049A0>,\n",
      "              '__str__': <function RLC.__str__ at 0x0000017908706480>,\n",
      "              '__weakref__': <attribute '__weakref__' of 'RLC' objects>,\n",
      "              'current': <function RLC.current at 0x0000017908704CC0>,\n",
      "              'phase': <function RLC.phase at 0x00000179087042C0>,\n",
      "              'power_factor': <function RLC.power_factor at 0x0000017908705EE0>})\n"
     ]
    }
   ],
   "source": [
    "pprint(vars(RLC))"
   ]
  },
  {
   "cell_type": "markdown",
   "id": "6a26bea6-3e94-47bb-abc3-9c34117b5f5c",
   "metadata": {},
   "source": [
    "<h5><i><b>f.</b> <i></b>Call the __dict__ on the object of the class. </i></h5></i></h5>"
   ]
  },
  {
   "cell_type": "code",
   "execution_count": 940,
   "id": "19b4ecd0-890d-46be-b106-0869ea6252a6",
   "metadata": {},
   "outputs": [
    {
     "name": "stdout",
     "output_type": "stream",
     "text": [
      "{'R': 23, 'XL': 15, 'XC': 18, 'F': 2800}\n"
     ]
    }
   ],
   "source": [
    "print(inst_1.__dict__)"
   ]
  },
  {
   "cell_type": "code",
   "execution_count": 942,
   "id": "cc7fb4d6-03ae-41e0-a1e1-fb425494e178",
   "metadata": {},
   "outputs": [
    {
     "name": "stdout",
     "output_type": "stream",
     "text": [
      "{'R': 11, 'XL': 19, 'XC': 30, 'F': 4000}\n"
     ]
    }
   ],
   "source": [
    "print(inst_2.__dict__)"
   ]
  },
  {
   "cell_type": "markdown",
   "id": "d6260706-9996-4601-8b54-6bd3f240fab0",
   "metadata": {},
   "source": [
    "<h5><i><b>g.</b> <i></b>Pass the class name to help.</i></h5></i></h5>"
   ]
  },
  {
   "cell_type": "code",
   "execution_count": 945,
   "id": "abdc280c-12dd-4307-bde3-f8bbe4c217c5",
   "metadata": {},
   "outputs": [
    {
     "name": "stdout",
     "output_type": "stream",
     "text": [
      "Help on class RLC in module __main__:\n",
      "\n",
      "class RLC(builtins.object)\n",
      " |  RLC(R: float = 1, XL: float = 1, XC: float = 1, F: float = 100)\n",
      " |\n",
      " |  A class representing a series RLC circuit with resistance (R), inductance (L), and capacitance (C).\n",
      " |\n",
      " |  Methods defined here:\n",
      " |\n",
      " |  Z(self) -> float\n",
      " |      Calculates the impedance of the RLC circuit.\n",
      " |      Returns: The impedance in ohms in float.\n",
      " |\n",
      " |  __init__(self, R: float = 1, XL: float = 1, XC: float = 1, F: float = 100)\n",
      " |      Initializes an RLC circuit instance.\n",
      " |\n",
      " |      Parameters:\n",
      " |      - resistance : Resistance (R) in ohms.\n",
      " |      - inductance : Inductance (L) in henrys.\n",
      " |      - capacitance : Capacitance (C) in farads.\n",
      " |      - frequency : Frequency (f) of the AC source in hertz.\n",
      " |\n",
      " |  __repr__(self) -> str\n",
      " |      Returns a formal string representation of the RLC instance.\n",
      " |      Returns: A representation of the RLC circuit with R, L, C, and frequency.\n",
      " |\n",
      " |  __str__(self) -> str\n",
      " |      Returns an informal string representation of the RLC instance.\n",
      " |\n",
      " |      Returns:  A description of the RLC circuit components and properties.\n",
      " |\n",
      " |  current(self, voltage: float) -> float\n",
      " |      Calculates the current in the RLC circuit for a given input voltage.\n",
      " |\n",
      " |      Parameters:\n",
      " |      - voltage : The input voltage in volts.\n",
      " |\n",
      " |      Returns: The current in amperes.\n",
      " |\n",
      " |  phase(self) -> float\n",
      " |      Calculates the phase angle (in degrees) of the RLC circuit.\n",
      " |\n",
      " |      Returns:\n",
      " |      - float: The phase angle in degrees.\n",
      " |\n",
      " |  power_factor(self) -> float\n",
      " |      Calculates the power factor of the RLC circuit.\n",
      " |\n",
      " |      Returns: The power factor.\n",
      " |\n",
      " |  ----------------------------------------------------------------------\n",
      " |  Data descriptors defined here:\n",
      " |\n",
      " |  __dict__\n",
      " |      dictionary for instance variables\n",
      " |\n",
      " |  __weakref__\n",
      " |      list of weak references to the object\n",
      "\n"
     ]
    }
   ],
   "source": [
    "help(RLC)"
   ]
  },
  {
   "cell_type": "markdown",
   "id": "6f4aafd3-cb80-4e51-9953-b4b5ae871ff1",
   "metadata": {},
   "source": [
    "<h5><i><b>h.</b> <i></b>Print the doc-string and annotations of both the class and each instance method. </i></h5></i></h5>"
   ]
  },
  {
   "cell_type": "code",
   "execution_count": 948,
   "id": "3e7a41d2-fc36-497a-b478-74d51c07b7b5",
   "metadata": {},
   "outputs": [
    {
     "name": "stdout",
     "output_type": "stream",
     "text": [
      "A class representing a series RLC circuit with resistance (R), inductance (L), and capacitance (C).\n",
      "{'R': <class 'float'>, 'XL': <class 'float'>, 'XC': <class 'float'>, 'F': <class 'float'>}\n",
      "\n",
      "        Calculates the impedance of the RLC circuit.\n",
      "        Returns: The impedance in ohms in float.\n",
      "        \n",
      "{'return': <class 'float'>}\n",
      "\n",
      "        Calculates the phase angle (in degrees) of the RLC circuit.\n",
      "        \n",
      "        Returns:\n",
      "        - float: The phase angle in degrees.\n",
      "        \n",
      "{'return': <class 'float'>}\n",
      "\n",
      "        Calculates the current in the RLC circuit for a given input voltage.\n",
      "        \n",
      "        Parameters:\n",
      "        - voltage : The input voltage in volts.\n",
      "        \n",
      "        Returns: The current in amperes.\n",
      "        \n",
      "{'voltage': <class 'float'>, 'return': <class 'float'>}\n",
      "{'return': <class 'str'>}\n",
      "\n",
      "        Returns a formal string representation of the RLC instance. \n",
      "        Returns: A representation of the RLC circuit with R, L, C, and frequency.\n",
      "        \n",
      "{'return': <class 'str'>}\n",
      "\n",
      "        Returns an informal string representation of the RLC instance.\n",
      "        \n",
      "        Returns:  A description of the RLC circuit components and properties.\n",
      "        \n"
     ]
    }
   ],
   "source": [
    "print(RLC.__doc__)\n",
    "print(RLC.__init__.__annotations__)\n",
    "print(RLC.Z.__doc__)\n",
    "print(RLC.Z.__annotations__)\n",
    "print(RLC.phase.__doc__)\n",
    "print(RLC.phase.__annotations__)\n",
    "print(RLC.current.__doc__)\n",
    "print(RLC.current.__annotations__)\n",
    "print(RLC.__repr__.__annotations__)\n",
    "print(RLC.__repr__.__doc__)\n",
    "print(RLC.__str__.__annotations__)\n",
    "print(RLC.__str__.__doc__)"
   ]
  },
  {
   "cell_type": "markdown",
   "id": "8d192d12-1409-4cca-96aa-6171bea3b33d",
   "metadata": {},
   "source": [
    "<h5><i><b>i.</b> <i></b>Modify the __init__ by making its parameters default and verify by instances </i></h5></i></h5>"
   ]
  },
  {
   "cell_type": "code",
   "execution_count": 951,
   "id": "a9b10fc8-8ff2-436f-a41a-7a572f14ea2e",
   "metadata": {},
   "outputs": [
    {
     "name": "stdout",
     "output_type": "stream",
     "text": [
      "Series RLC Circuit with R = 1 ohm, L = 1 H, C = 1 F, f = 100 Hz\n"
     ]
    }
   ],
   "source": [
    "inst_3 = RLC()\n",
    "print(inst_3)"
   ]
  },
  {
   "cell_type": "markdown",
   "id": "a5974d11-fd13-4795-8659-549ed965ed4c",
   "metadata": {},
   "source": [
    "<hr>"
   ]
  },
  {
   "cell_type": "markdown",
   "id": "bc1b5d70-41e7-49b4-8127-092110ed6b7b",
   "metadata": {},
   "source": [
    "<h2 style=\"margin-left: 10px;text-decoration: underline;\"><i><b>Task : 4</b></b></i></h2>"
   ]
  },
  {
   "cell_type": "markdown",
   "id": "d9448598-4a16-4619-9cef-88e550bf5969",
   "metadata": {},
   "source": [
    "<h2 style=\"margin-left: 80px;text-decoration: underline;\"><i><b> Square: </b></i></h2>"
   ]
  },
  {
   "cell_type": "markdown",
   "id": "00c71692-465f-478e-9eb8-9210b5a19f7a",
   "metadata": {},
   "source": [
    "<h4 style=\"margin-left: 110px;text-decoration: underline;\"><i><b> A four-sided polygon (quadrilateral) with all sides of equal length and all angles 90 \n",
    "degrees.</b></i></h4>"
   ]
  },
  {
   "cell_type": "code",
   "execution_count": 957,
   "id": "78852bd4-6938-461f-bc27-61326ae67f07",
   "metadata": {},
   "outputs": [],
   "source": [
    "class Square:\n",
    "    \"\"\"A class to represent a square in 2D space.\"\"\"\n",
    "\n",
    "    def __init__(self, side_length: float):\n",
    "        \"\"\"Initialize the square with a side length.\n",
    "        \"\"\"\n",
    "        self._side_length = side_length\n",
    "\n",
    "    @property\n",
    "    def side_length(self) -> float:\n",
    "        \"\"\"Get the length of a side of the square.\"\"\"\n",
    "        return self._side_length\n",
    "\n",
    "    @side_length.setter\n",
    "    def side_length(self, value: float):\n",
    "        \"\"\"Set the length of a side of the square.\n",
    "        \"\"\"\n",
    "        self._side_length = value\n",
    "\n",
    "    def area(self) -> float:\n",
    "        \"\"\"Calculate the area of the square.\n",
    "        \"\"\"\n",
    "        return self._side_length ** 2\n",
    "\n",
    "    def perimeter(self) -> float:\n",
    "        \"\"\"Calculate the peri<h2 style=\"margin-left: 10px;text-decoration: underline;\"><i><b>Task : 4</b></b></i></h2>meter of the square.\n",
    "        \"\"\"\n",
    "        return 4 * self._side_length\n",
    "\n",
    "    def locate(self) -> str:\n",
    "        \"\"\"Provide a description of the square's properties.\n",
    "        \"\"\"\n",
    "        return (f\"Square with side length: {self.side_length},Area: {self.area()}, Perimeter: {self.perimeter()}\")\n",
    "\n",
    "    def __repr__(self) -> str:\n",
    "        \"\"\"repr is for programmer.\"\"\"\n",
    "        return f\"Square(side_length={self._side_length})\"\n",
    "    def __str__(self) -> str:\n",
    "        \"\"\"str is for common person or human readable\"\"\"\n",
    "        return (f\"Square with side length: {self.side_length},Area: {self.area()}, Perimeter: {self.perimeter()}\")"
   ]
  },
  {
   "cell_type": "markdown",
   "id": "493026bd-014b-46c9-a46e-b1ebc9b6d622",
   "metadata": {},
   "source": [
    "<h5><i><b>a.</b> <i></b>Define inst_1 and pass two numbers. </i></h5></i></h5>"
   ]
  },
  {
   "cell_type": "code",
   "execution_count": 960,
   "id": "c66ca72c-904f-4832-8bdd-1227cd074444",
   "metadata": {},
   "outputs": [],
   "source": [
    "inst_1=Square(3)"
   ]
  },
  {
   "cell_type": "markdown",
   "id": "101cf206-fec1-42a6-8de4-baf49a9bea11",
   "metadata": {},
   "source": [
    "<h5><i><b>b.</b> <i></b> Make another instance inst2.  </i></h5></i></h5>"
   ]
  },
  {
   "cell_type": "code",
   "execution_count": 963,
   "id": "023c5c48-edd3-4e7a-a85b-c974b6f1fb75",
   "metadata": {},
   "outputs": [],
   "source": [
    "inst_2=Square(2)"
   ]
  },
  {
   "cell_type": "markdown",
   "id": "aefd2580-9f4c-477b-8361-3b975f579bc4",
   "metadata": {},
   "source": [
    "<h5><i><b>c.</b> <i></b>Print inst_1 and inst_2, for this use the print command and pass theinst_1 and inst_2. </i></h5></i></h5>"
   ]
  },
  {
   "cell_type": "code",
   "execution_count": 966,
   "id": "bb6994ad-ce5f-4ee7-9ccb-4eb73f818022",
   "metadata": {},
   "outputs": [
    {
     "name": "stdout",
     "output_type": "stream",
     "text": [
      "Square with side length: 3,Area: 9, Perimeter: 12\n"
     ]
    }
   ],
   "source": [
    "print(inst_1)"
   ]
  },
  {
   "cell_type": "code",
   "execution_count": 968,
   "id": "d7a50317-2585-4b62-abf4-d4338fde1710",
   "metadata": {},
   "outputs": [
    {
     "name": "stdout",
     "output_type": "stream",
     "text": [
      "Square with side length: 2,Area: 4, Perimeter: 8\n"
     ]
    }
   ],
   "source": [
    "print(inst_2)"
   ]
  },
  {
   "cell_type": "markdown",
   "id": "07850b7b-d661-449f-a9b9-8cd2c1668c88",
   "metadata": {},
   "source": [
    "<h5><i><b>d.</b> <i></b>Call the __dict__ by the class name.</i></h5></i></h5>"
   ]
  },
  {
   "cell_type": "code",
   "execution_count": 971,
   "id": "351ad7e2-db91-4e9e-a7c6-7998267c27c5",
   "metadata": {},
   "outputs": [
    {
     "data": {
      "text/plain": [
       "mappingproxy({'__module__': '__main__',\n",
       "              '__doc__': 'A class to represent a square in 2D space.',\n",
       "              '__init__': <function __main__.Square.__init__(self, side_length: float)>,\n",
       "              'side_length': <property at 0x1790869cc70>,\n",
       "              'area': <function __main__.Square.area(self) -> float>,\n",
       "              'perimeter': <function __main__.Square.perimeter(self) -> float>,\n",
       "              'locate': <function __main__.Square.locate(self) -> str>,\n",
       "              '__repr__': <function __main__.Square.__repr__(self) -> str>,\n",
       "              '__str__': <function __main__.Square.__str__(self) -> str>,\n",
       "              '__dict__': <attribute '__dict__' of 'Square' objects>,\n",
       "              '__weakref__': <attribute '__weakref__' of 'Square' objects>})"
      ]
     },
     "execution_count": 971,
     "metadata": {},
     "output_type": "execute_result"
    }
   ],
   "source": [
    "Square.__dict__"
   ]
  },
  {
   "cell_type": "markdown",
   "id": "b0337b05-d975-4aab-91a0-a2fb42f7adfa",
   "metadata": {},
   "source": [
    "<h5><i><b>e.</b> <i></b>Call the __dict__ on the object of the class. </i></h5></i></h5>"
   ]
  },
  {
   "cell_type": "code",
   "execution_count": 974,
   "id": "148890ce-503b-4bf9-9344-95cdb3c82242",
   "metadata": {},
   "outputs": [
    {
     "data": {
      "text/plain": [
       "{'_side_length': 3}"
      ]
     },
     "execution_count": 974,
     "metadata": {},
     "output_type": "execute_result"
    }
   ],
   "source": [
    "inst_1.__dict__"
   ]
  },
  {
   "cell_type": "code",
   "execution_count": 976,
   "id": "114d3f7a-b5e0-48dd-abd5-8995e205e45c",
   "metadata": {},
   "outputs": [
    {
     "data": {
      "text/plain": [
       "{'_side_length': 2}"
      ]
     },
     "execution_count": 976,
     "metadata": {},
     "output_type": "execute_result"
    }
   ],
   "source": [
    "inst_2.__dict__"
   ]
  },
  {
   "cell_type": "markdown",
   "id": "380a4d7a-5751-4165-baf0-1c4a24d1a7b7",
   "metadata": {},
   "source": [
    "<h5><i><b>f.</b> <i></b>Also pass the class name to the vars built-in function. </i></h5></i></h5>"
   ]
  },
  {
   "cell_type": "code",
   "execution_count": 979,
   "id": "7130fd01-a655-4491-8222-9c8852549d89",
   "metadata": {},
   "outputs": [
    {
     "data": {
      "text/plain": [
       "mappingproxy({'__module__': '__main__',\n",
       "              '__doc__': 'A class to represent a square in 2D space.',\n",
       "              '__init__': <function __main__.Square.__init__(self, side_length: float)>,\n",
       "              'side_length': <property at 0x1790869cc70>,\n",
       "              'area': <function __main__.Square.area(self) -> float>,\n",
       "              'perimeter': <function __main__.Square.perimeter(self) -> float>,\n",
       "              'locate': <function __main__.Square.locate(self) -> str>,\n",
       "              '__repr__': <function __main__.Square.__repr__(self) -> str>,\n",
       "              '__str__': <function __main__.Square.__str__(self) -> str>,\n",
       "              '__dict__': <attribute '__dict__' of 'Square' objects>,\n",
       "              '__weakref__': <attribute '__weakref__' of 'Square' objects>})"
      ]
     },
     "execution_count": 979,
     "metadata": {},
     "output_type": "execute_result"
    }
   ],
   "source": [
    "vars(Square)"
   ]
  },
  {
   "cell_type": "markdown",
   "id": "ed138500-6f66-41f2-8688-3b0fcfb756bc",
   "metadata": {},
   "source": [
    "<h5><i><b>g.</b> <i></b>Pass the class name to help.</i></h5></i></h5>"
   ]
  },
  {
   "cell_type": "code",
   "execution_count": 982,
   "id": "3890b035-e82b-4fcc-86a4-93fb3a29980f",
   "metadata": {},
   "outputs": [
    {
     "name": "stdout",
     "output_type": "stream",
     "text": [
      "Help on class Square in module __main__:\n",
      "\n",
      "class Square(builtins.object)\n",
      " |  Square(side_length: float)\n",
      " |\n",
      " |  A class to represent a square in 2D space.\n",
      " |\n",
      " |  Methods defined here:\n",
      " |\n",
      " |  __init__(self, side_length: float)\n",
      " |      Initialize the square with a side length.\n",
      " |\n",
      " |  __repr__(self) -> str\n",
      " |      repr is for programmer.\n",
      " |\n",
      " |  __str__(self) -> str\n",
      " |      str is for common person or human readable\n",
      " |\n",
      " |  area(self) -> float\n",
      " |      Calculate the area of the square.\n",
      " |\n",
      " |  locate(self) -> str\n",
      " |      Provide a description of the square's properties.\n",
      " |\n",
      " |  perimeter(self) -> float\n",
      " |      Calculate the peri<h2 style=\"margin-left: 10px;text-decoration: underline;\"><i><b>Task : 4</b></b></i></h2>meter of the square.\n",
      " |\n",
      " |  ----------------------------------------------------------------------\n",
      " |  Data descriptors defined here:\n",
      " |\n",
      " |  __dict__\n",
      " |      dictionary for instance variables\n",
      " |\n",
      " |  __weakref__\n",
      " |      list of weak references to the object\n",
      " |\n",
      " |  side_length\n",
      " |      Get the length of a side of the square.\n",
      "\n"
     ]
    }
   ],
   "source": [
    "help(Square)"
   ]
  },
  {
   "cell_type": "markdown",
   "id": "1d911731-8476-4daf-9a10-8b2842e21e40",
   "metadata": {},
   "source": [
    "<h5><i><b>h.</b> <i></b>Print the doc-string and annotations of both the class and each instance method. </i></h5></i></h5>"
   ]
  },
  {
   "cell_type": "code",
   "execution_count": 985,
   "id": "8f7295e1-b921-4fd1-a5d1-7c574c6d62c8",
   "metadata": {},
   "outputs": [
    {
     "name": "stdout",
     "output_type": "stream",
     "text": [
      "A class to represent a square in 2D space.\n",
      "{'side_length': <class 'float'>}\n",
      "Calculate the area of the square.\n",
      "        \n",
      "{'return': <class 'float'>}\n",
      "Provide a description of the square's properties.\n",
      "        \n",
      "{'return': <class 'str'>}\n",
      "repr is for programmer.\n",
      "{'return': <class 'str'>}\n",
      "str is for common person or human readable\n"
     ]
    }
   ],
   "source": [
    "print(Square.__doc__)\n",
    "print(Square.__init__.__annotations__)\n",
    "print(Square.area.__doc__)\n",
    "print(Square.perimeter.__annotations__)\n",
    "print(Square.locate.__doc__)\n",
    "print(Square.__repr__.__annotations__)\n",
    "print(Square.__repr__.__doc__)\n",
    "print(Square.__str__.__annotations__)\n",
    "print(Square.__str__.__doc__)"
   ]
  },
  {
   "cell_type": "markdown",
   "id": "0cbd4984-198e-4ebe-94a8-f1608e30bcc3",
   "metadata": {},
   "source": [
    "<hr>"
   ]
  },
  {
   "cell_type": "markdown",
   "id": "4764f970-ecd5-4baa-ab65-c63c3c1f5831",
   "metadata": {},
   "source": [
    "<h2 style=\"margin-left: 10px;text-decoration: underline;\"><i><b>Task : 5</b></b></i></h2>"
   ]
  },
  {
   "cell_type": "markdown",
   "id": "125a8d13-c31c-4e89-bbaf-750e8c7e3182",
   "metadata": {},
   "source": [
    "<h2 style=\"margin-left: 80px;text-decoration: underline;\"><i><b>  Rectangle:  </b></i></h2>"
   ]
  },
  {
   "cell_type": "markdown",
   "id": "a3ad14a1-ca9f-4d08-a00d-4af632efd825",
   "metadata": {},
   "source": [
    "<h4 style=\"margin-left: 110px;text-decoration: underline;\"><i><b> A four-sided polygon where opposite sides are equal in length and all angles are 90 \n",
    "degrees.</b></i></h4>"
   ]
  },
  {
   "cell_type": "code",
   "execution_count": 991,
   "id": "6ad737d7-0ea4-4a6b-b7d6-88c267815e56",
   "metadata": {},
   "outputs": [],
   "source": [
    "class Rectangle:\n",
    "    \"\"\"A class to represent a rectangle in 2D space.\"\"\"\n",
    "    def __init__(self, width: float, height: float):\n",
    "        \"\"\"Initialize the rectangle with width and height.\n",
    "        \"\"\"\n",
    "        self._width = width\n",
    "        self._height = height\n",
    "    @property\n",
    "    def width(self) -> float:\n",
    "        \"\"\"Get the width of the rectangle.\"\"\"\n",
    "        return self._width\n",
    "    @width.setter\n",
    "    def width(self, value: float):\n",
    "        \"\"\"Set the width of the rectangle.\n",
    "        \"\"\"\n",
    "        self._width = value\n",
    "    @property\n",
    "    def height(self) -> float:\n",
    "        \"\"\"Get the height of the rectangle.\"\"\"\n",
    "        return self._height\n",
    "    @height.setter\n",
    "    def height(self, value: float):\n",
    "        \"\"\"Set the height of the rectangle.\n",
    "        \"\"\"\n",
    "        self._height = value\n",
    "    def area(self) -> float:\n",
    "        \"\"\"Calculate the area of the rectangle.\n",
    "        \"\"\"\n",
    "        return self._width * self._height\n",
    "    def perimeter(self) -> float:\n",
    "        \"\"\"Calculate the perimeter of the rectangle.\n",
    "        \"\"\"\n",
    "        return 2 * (self._width + self._height)\n",
    "    def locate(self) -> str:\n",
    "        \"\"\"Provide a description of the rectangle's properties.\n",
    "        \"\"\"\n",
    "        return (f\"Rectangle with width: {self.width}, height: {self.height}\")\n",
    "    def __repr__(self) -> str:\n",
    "        \"\"\"repr is for programmer\"\"\"\n",
    "        return f\"Rectangle(width={self._width}, height={self._height})\"\n",
    "    def __str__(self) -> str:\n",
    "        \"\"\"str is for common person\"\"\"\n",
    "        return (f\"Rectangle with width {self.width} & height {self.height} \")"
   ]
  },
  {
   "cell_type": "markdown",
   "id": "ec92525d-01da-4c6a-b86a-751045083021",
   "metadata": {},
   "source": [
    "<h5><i><b>a.</b> <i></b>Define inst_1 and pass two numbers. </i></h5></i></h5>"
   ]
  },
  {
   "cell_type": "code",
   "execution_count": 994,
   "id": "1c50931d-5e52-4c72-8e08-cb166e8f8875",
   "metadata": {},
   "outputs": [],
   "source": [
    "inst_1=Rectangle(5,9)"
   ]
  },
  {
   "cell_type": "markdown",
   "id": "e9573b85-b1bf-40cf-a210-7960a4e4f9a0",
   "metadata": {},
   "source": [
    "<h5><i><b>b.</b> <i></b> Make another instance inst2.  </i></h5></i></h5>"
   ]
  },
  {
   "cell_type": "code",
   "execution_count": 997,
   "id": "6a074e3c-29a0-4cc8-ab35-081afe32e9bc",
   "metadata": {},
   "outputs": [],
   "source": [
    "inst_2=Rectangle(6,12)"
   ]
  },
  {
   "cell_type": "markdown",
   "id": "57e40b59-e31e-4b0e-89c7-480a740fd982",
   "metadata": {},
   "source": [
    "<h5><i><b>c.</b> <i></b>Print inst_1 and inst_2, for this use the print command and pass theinst_1 and inst_2. </i></h5></i></h5>"
   ]
  },
  {
   "cell_type": "code",
   "execution_count": 1000,
   "id": "8a290040-dbad-48b2-8c03-0a182cfed286",
   "metadata": {},
   "outputs": [
    {
     "name": "stdout",
     "output_type": "stream",
     "text": [
      "Rectangle with width 5 & height 9 \n"
     ]
    }
   ],
   "source": [
    "print(inst_1)"
   ]
  },
  {
   "cell_type": "code",
   "execution_count": 1001,
   "id": "01fd2d05-9277-4af1-98fd-801468922a28",
   "metadata": {},
   "outputs": [
    {
     "name": "stdout",
     "output_type": "stream",
     "text": [
      "Rectangle with width 6 & height 12 \n"
     ]
    }
   ],
   "source": [
    "print(inst_2)"
   ]
  },
  {
   "cell_type": "code",
   "execution_count": 1004,
   "id": "31775cbc-9b16-4f42-98db-b4fbfbd3eb6e",
   "metadata": {},
   "outputs": [
    {
     "data": {
      "text/plain": [
       "Rectangle(width=5, height=9)"
      ]
     },
     "execution_count": 1004,
     "metadata": {},
     "output_type": "execute_result"
    }
   ],
   "source": [
    "inst_1"
   ]
  },
  {
   "cell_type": "code",
   "execution_count": 1006,
   "id": "89aa10f6-81e1-499f-b93a-178e2a6a9849",
   "metadata": {},
   "outputs": [
    {
     "data": {
      "text/plain": [
       "Rectangle(width=6, height=12)"
      ]
     },
     "execution_count": 1006,
     "metadata": {},
     "output_type": "execute_result"
    }
   ],
   "source": [
    "inst_2"
   ]
  },
  {
   "cell_type": "markdown",
   "id": "e59431a6-730f-40b5-8d4c-0682937493ca",
   "metadata": {},
   "source": [
    "<h5><i><b>d.</b> <i></b>Call the __dict__ by the class name.</i></h5></i></h5>"
   ]
  },
  {
   "cell_type": "code",
   "execution_count": 1009,
   "id": "c6053712-00c0-4dba-8cab-89063082a980",
   "metadata": {},
   "outputs": [
    {
     "data": {
      "text/plain": [
       "mappingproxy({'__module__': '__main__',\n",
       "              '__doc__': 'A class to represent a rectangle in 2D space.',\n",
       "              '__init__': <function __main__.Rectangle.__init__(self, width: float, height: float)>,\n",
       "              'width': <property at 0x1790869cea0>,\n",
       "              'height': <property at 0x1790869d710>,\n",
       "              'area': <function __main__.Rectangle.area(self) -> float>,\n",
       "              'perimeter': <function __main__.Rectangle.perimeter(self) -> float>,\n",
       "              'locate': <function __main__.Rectangle.locate(self) -> str>,\n",
       "              '__repr__': <function __main__.Rectangle.__repr__(self) -> str>,\n",
       "              '__str__': <function __main__.Rectangle.__str__(self) -> str>,\n",
       "              '__dict__': <attribute '__dict__' of 'Rectangle' objects>,\n",
       "              '__weakref__': <attribute '__weakref__' of 'Rectangle' objects>})"
      ]
     },
     "execution_count": 1009,
     "metadata": {},
     "output_type": "execute_result"
    }
   ],
   "source": [
    "Rectangle.__dict__"
   ]
  },
  {
   "cell_type": "markdown",
   "id": "866e28c8-aea3-437b-9ba0-743ec3524f6e",
   "metadata": {},
   "source": [
    "<h5><i><b>e.</b> <i></b>Call the __dict__ on the object of the class. </i></h5></i></h5>"
   ]
  },
  {
   "cell_type": "code",
   "execution_count": 1012,
   "id": "341ba8b9-706a-4063-882b-d3e117ad66ad",
   "metadata": {},
   "outputs": [
    {
     "data": {
      "text/plain": [
       "{'_width': 5, '_height': 9}"
      ]
     },
     "execution_count": 1012,
     "metadata": {},
     "output_type": "execute_result"
    }
   ],
   "source": [
    "inst_1.__dict__"
   ]
  },
  {
   "cell_type": "code",
   "execution_count": 1014,
   "id": "6435fde7-dcca-4c75-83aa-46a07f507f8a",
   "metadata": {},
   "outputs": [
    {
     "data": {
      "text/plain": [
       "{'_width': 6, '_height': 12}"
      ]
     },
     "execution_count": 1014,
     "metadata": {},
     "output_type": "execute_result"
    }
   ],
   "source": [
    "inst_2.__dict__"
   ]
  },
  {
   "cell_type": "markdown",
   "id": "b6d362c2-a0e7-4391-a13e-7744445b33fc",
   "metadata": {},
   "source": [
    "<h5><i><b>f.</b> <i></b>Pass the class name to help.</i></h5></i></h5>"
   ]
  },
  {
   "cell_type": "markdown",
   "id": "e7f302ed-def4-4186-b58b-3cf215f6684e",
   "metadata": {},
   "source": [
    "help(Rectangle)"
   ]
  },
  {
   "cell_type": "markdown",
   "id": "1de12f3a-b0cb-49e4-8c8d-4939dbf075ff",
   "metadata": {},
   "source": [
    "<h5><i><b>g.</b> <i></b>Print the doc-string and annotations of both the class and each instance method. </i></h5></i></h5>"
   ]
  },
  {
   "cell_type": "code",
   "execution_count": 1019,
   "id": "7d941915-52f6-42a3-a301-6180bbab832a",
   "metadata": {},
   "outputs": [
    {
     "name": "stdout",
     "output_type": "stream",
     "text": [
      "A class to represent a rectangle in 2D space.\n",
      "Initialize the rectangle with width and height.\n",
      "        \n",
      "Get the width of the rectangle.\n",
      "Get the height of the rectangle.\n",
      "Calculate the area of the rectangle.\n",
      "        \n",
      "Calculate the perimeter of the rectangle.\n",
      "        \n",
      "Provide a description of the rectangle's properties.\n",
      "        \n",
      "repr is for programmer\n",
      "str is for common person\n"
     ]
    }
   ],
   "source": [
    "print(Rectangle.__doc__)\n",
    "print(Rectangle.__init__.__doc__)\n",
    "print(Rectangle. width.__doc__)\n",
    "print(Rectangle.height.__doc__)\n",
    "print(Rectangle.area.__doc__)\n",
    "print(Rectangle.perimeter.__doc__)\n",
    "print(Rectangle.locate.__doc__)\n",
    "print(Rectangle.__repr__.__doc__)\n",
    "print(Rectangle.__str__.__doc__)"
   ]
  },
  {
   "cell_type": "markdown",
   "id": "5344485f-9155-4a04-9b03-6f9e7ffa78e1",
   "metadata": {},
   "source": [
    "<hr>"
   ]
  },
  {
   "cell_type": "markdown",
   "id": "2e22389a-b06f-4ca8-afb5-aedb6cdee2d5",
   "metadata": {},
   "source": [
    "<h2 style=\"margin-left: 10px;text-decoration: underline;\"><i><b>Task : 6</b></b></i></h2>"
   ]
  },
  {
   "cell_type": "markdown",
   "id": "6baa4405-8b94-4abd-a10e-ddfe787dbd60",
   "metadata": {},
   "source": [
    "<h2 style=\"margin-left: 80px;text-decoration: underline;\"><i><b>  Triangle:  </b></i></h2>"
   ]
  },
  {
   "cell_type": "markdown",
   "id": "a2f54e49-7851-425c-b045-477caf52cf1a",
   "metadata": {},
   "source": [
    "<h4 style=\"margin-left: 110px;text-decoration: underline;\"><i><b> A three-sided polygon with three edges and three vertices. There are various types of \n",
    "triangles (e.g., equilateral, isosceles, scalene).\n",
    "</b></i></h4>"
   ]
  },
  {
   "cell_type": "code",
   "execution_count": 1025,
   "id": "ac6bed4c-7f7a-49ab-8b69-cf3f281b9b72",
   "metadata": {},
   "outputs": [],
   "source": [
    "class Triangle:\n",
    "    \"\"\"A class to represent a triangle in 2D space.\"\"\"\n",
    "    def __init__(self, side_a: float, side_b: float, side_c: float):\n",
    "        \"\"\"Initialize the triangle with three sides.\n",
    "        \"\"\"\n",
    "        self._side_a = side_a\n",
    "        self._side_b = side_b\n",
    "        self._side_c = side_c\n",
    "    @property\n",
    "    def side_a(self) -> float:\n",
    "        \"\"\"Get the length of the first side.\"\"\"\n",
    "        return self._side_a\n",
    "    @side_a.setter\n",
    "    def side_a(self, value: float):\n",
    "        \"\"\"Set the length of the first side.\n",
    "        \"\"\"\n",
    "        self._side_a = value\n",
    "    @property\n",
    "    def side_b(self) -> float:\n",
    "        \"\"\"Get the length of the second side.\"\"\"\n",
    "        return self._side_b\n",
    "    @side_b.setter\n",
    "    def side_b(self, value: float):\n",
    "        \"\"\"Set the length of the second side.\n",
    "        \"\"\"\n",
    "        self._side_b = value\n",
    "    @property\n",
    "    def side_c(self) -> float:\n",
    "        \"\"\"Get the length of the third side.\"\"\"\n",
    "        return self._side_c\n",
    "    @side_c.setter\n",
    "    def side_c(self, value: float):\n",
    "        \"\"\"Set the length of the third side.\n",
    "        \"\"\"\n",
    "        self._side_c = value\n",
    "    def area(self) -> float:\n",
    "        \"\"\"Calculate the area of the triangle using Heron's formula.\n",
    "        \"\"\"\n",
    "        s = self.perimeter() / 2\n",
    "        return (s * (s - self._side_a) * (s - self._side_b) * (s - self._side_c)) ** 0.5\n",
    "\n",
    "    def perimeter(self) -> float:\n",
    "        \"\"\"Calculate the perimeter of the triangle.\n",
    "        \"\"\"\n",
    "        return self._side_a + self._side_b + self._side_c\n",
    "    def locate(self) -> str:\n",
    "        \"\"\"Provide a description of the triangle's properties.\n",
    "        \"\"\"\n",
    "        return (f\"Triangle with sides: {self.side_a}, {self.side_b}, {self.side_c}\")\n",
    "    def __repr__(self) -> str:\n",
    "        \"\"\"Repr is for programmer\"\"\"\n",
    "        return f\"Triangle(side_a={self._side_a}, side_b={self._side_b}, side_c={self._side_c})\"\n",
    "    def __str__(self) -> str:\n",
    "        \"\"\"Return a user-friendly string representation of the triangle.\"\"\"\n",
    "        return (f\"Triangle with sides {self.side_a}, {self.side_b}, {self.side_c}\")"
   ]
  },
  {
   "cell_type": "markdown",
   "id": "10052685-3f44-46ab-ab52-03e3487e9e1c",
   "metadata": {},
   "source": [
    "<h5><i><b>a.</b> <i></b>Define inst_1 and pass two numbers. </i></h5></i></h5>"
   ]
  },
  {
   "cell_type": "code",
   "execution_count": 1028,
   "id": "36286057-9068-494a-bbac-406602c05a3e",
   "metadata": {},
   "outputs": [],
   "source": [
    "T1 = Triangle(9, 2, 6)"
   ]
  },
  {
   "cell_type": "markdown",
   "id": "23ec54c7-bb4e-4053-b380-955457631d69",
   "metadata": {},
   "source": [
    "<h5><i><b>b.</b> <i></b> Make another instance inst2.  </i></h5></i></h5>"
   ]
  },
  {
   "cell_type": "code",
   "execution_count": 1031,
   "id": "d415b141-d15e-447a-be25-0a5098db4808",
   "metadata": {},
   "outputs": [],
   "source": [
    "T2 = Triangle(6, 8, 4)"
   ]
  },
  {
   "cell_type": "markdown",
   "id": "1c87270c-8ac5-42ce-87db-4546afeaf722",
   "metadata": {},
   "source": [
    "<h5><i><b>c.</b> <i></b>Print inst_1 and inst_2, for this use the print command and pass theinst_1 and inst_2. </i></h5></i></h5>"
   ]
  },
  {
   "cell_type": "code",
   "execution_count": 1034,
   "id": "c7b2b946-77d3-4794-ba56-1ba0243551bf",
   "metadata": {},
   "outputs": [
    {
     "name": "stdout",
     "output_type": "stream",
     "text": [
      "Triangle with sides 9, 2, 6\n"
     ]
    }
   ],
   "source": [
    "print(T1)"
   ]
  },
  {
   "cell_type": "code",
   "execution_count": 1036,
   "id": "bfbe5178-9250-450d-817d-1d8feff7372d",
   "metadata": {},
   "outputs": [
    {
     "name": "stdout",
     "output_type": "stream",
     "text": [
      "Triangle with sides 6, 8, 4\n"
     ]
    }
   ],
   "source": [
    "print(T2)"
   ]
  },
  {
   "cell_type": "markdown",
   "id": "85e0d77b-f273-44c8-87ea-0b18107d4e5b",
   "metadata": {},
   "source": [
    "<h5><i><b>d.</b> <i></b>Call the __dict__ on the object of the class. </i></h5></i></h5>"
   ]
  },
  {
   "cell_type": "code",
   "execution_count": 1039,
   "id": "584eb9be-31a7-4d17-8c3d-06e83781ee67",
   "metadata": {},
   "outputs": [
    {
     "data": {
      "text/plain": [
       "mappingproxy({'__module__': '__main__',\n",
       "              '__doc__': 'A class to represent a triangle in 2D space.',\n",
       "              '__init__': <function __main__.Triangle.__init__(self, side_a: float, side_b: float, side_c: float)>,\n",
       "              'side_a': <property at 0x17908679210>,\n",
       "              'side_b': <property at 0x17908678ef0>,\n",
       "              'side_c': <property at 0x1790867b290>,\n",
       "              'area': <function __main__.Triangle.area(self) -> float>,\n",
       "              'perimeter': <function __main__.Triangle.perimeter(self) -> float>,\n",
       "              'locate': <function __main__.Triangle.locate(self) -> str>,\n",
       "              '__repr__': <function __main__.Triangle.__repr__(self) -> str>,\n",
       "              '__str__': <function __main__.Triangle.__str__(self) -> str>,\n",
       "              '__dict__': <attribute '__dict__' of 'Triangle' objects>,\n",
       "              '__weakref__': <attribute '__weakref__' of 'Triangle' objects>})"
      ]
     },
     "execution_count": 1039,
     "metadata": {},
     "output_type": "execute_result"
    }
   ],
   "source": [
    "Triangle.__dict__"
   ]
  },
  {
   "cell_type": "markdown",
   "id": "3efb7f3c-87d7-426c-bd70-194e3867eb87",
   "metadata": {},
   "source": [
    "<h5><i><b>e.</b> <i></b>Also pass the class name to the vars built-in function. </i></h5></i></h5>"
   ]
  },
  {
   "cell_type": "code",
   "execution_count": 1041,
   "id": "c12407a2-7082-422d-a8a1-b0e85ce13104",
   "metadata": {},
   "outputs": [
    {
     "data": {
      "text/plain": [
       "mappingproxy({'__module__': '__main__',\n",
       "              '__doc__': 'A class to represent a triangle in 2D space.',\n",
       "              '__init__': <function __main__.Triangle.__init__(self, side_a: float, side_b: float, side_c: float)>,\n",
       "              'side_a': <property at 0x17908679210>,\n",
       "              'side_b': <property at 0x17908678ef0>,\n",
       "              'side_c': <property at 0x1790867b290>,\n",
       "              'area': <function __main__.Triangle.area(self) -> float>,\n",
       "              'perimeter': <function __main__.Triangle.perimeter(self) -> float>,\n",
       "              'locate': <function __main__.Triangle.locate(self) -> str>,\n",
       "              '__repr__': <function __main__.Triangle.__repr__(self) -> str>,\n",
       "              '__str__': <function __main__.Triangle.__str__(self) -> str>,\n",
       "              '__dict__': <attribute '__dict__' of 'Triangle' objects>,\n",
       "              '__weakref__': <attribute '__weakref__' of 'Triangle' objects>})"
      ]
     },
     "execution_count": 1041,
     "metadata": {},
     "output_type": "execute_result"
    }
   ],
   "source": [
    "vars(Triangle)"
   ]
  },
  {
   "cell_type": "markdown",
   "id": "6c7bee13-e2be-4038-b6c3-0fc48bb03b27",
   "metadata": {},
   "source": [
    "<h5><i><b>f.</b> <i></b>Call the __dict__ on the object of the class. </i></h5></i></h5>"
   ]
  },
  {
   "cell_type": "code",
   "execution_count": 1043,
   "id": "0bd9681a-93d7-4a4b-b426-174ee19b1338",
   "metadata": {},
   "outputs": [
    {
     "data": {
      "text/plain": [
       "{'_side_a': 9, '_side_b': 2, '_side_c': 6}"
      ]
     },
     "execution_count": 1043,
     "metadata": {},
     "output_type": "execute_result"
    }
   ],
   "source": [
    "T1.__dict__"
   ]
  },
  {
   "cell_type": "code",
   "execution_count": 1045,
   "id": "24b2e6dc-239d-4ae1-b091-8d094cf5a1d8",
   "metadata": {},
   "outputs": [
    {
     "data": {
      "text/plain": [
       "{'_side_a': 6, '_side_b': 8, '_side_c': 4}"
      ]
     },
     "execution_count": 1045,
     "metadata": {},
     "output_type": "execute_result"
    }
   ],
   "source": [
    "T2.__dict__"
   ]
  },
  {
   "cell_type": "markdown",
   "id": "819181fe-8053-4936-9d28-adcd07b499f9",
   "metadata": {},
   "source": [
    "<h5><i><b>g.</b> <i></b>Pass the class name to help.</i></h5></i></h5>"
   ]
  },
  {
   "cell_type": "code",
   "execution_count": 1050,
   "id": "091a6acd-d094-4502-b52d-247e2e43b803",
   "metadata": {},
   "outputs": [
    {
     "name": "stdout",
     "output_type": "stream",
     "text": [
      "Help on class Triangle in module __main__:\n",
      "\n",
      "class Triangle(builtins.object)\n",
      " |  Triangle(side_a: float, side_b: float, side_c: float)\n",
      " |\n",
      " |  A class to represent a triangle in 2D space.\n",
      " |\n",
      " |  Methods defined here:\n",
      " |\n",
      " |  __init__(self, side_a: float, side_b: float, side_c: float)\n",
      " |      Initialize the triangle with three sides.\n",
      " |\n",
      " |  __repr__(self) -> str\n",
      " |      Repr is for programmer\n",
      " |\n",
      " |  __str__(self) -> str\n",
      " |      Return a user-friendly string representation of the triangle.\n",
      " |\n",
      " |  area(self) -> float\n",
      " |      Calculate the area of the triangle using Heron's formula.\n",
      " |\n",
      " |  locate(self) -> str\n",
      " |      Provide a description of the triangle's properties.\n",
      " |\n",
      " |  perimeter(self) -> float\n",
      " |      Calculate the perimeter of the triangle.\n",
      " |\n",
      " |  ----------------------------------------------------------------------\n",
      " |  Data descriptors defined here:\n",
      " |\n",
      " |  __dict__\n",
      " |      dictionary for instance variables\n",
      " |\n",
      " |  __weakref__\n",
      " |      list of weak references to the object\n",
      " |\n",
      " |  side_a\n",
      " |      Get the length of the first side.\n",
      " |\n",
      " |  side_b\n",
      " |      Get the length of the second side.\n",
      " |\n",
      " |  side_c\n",
      " |      Get the length of the third side.\n",
      "\n"
     ]
    }
   ],
   "source": [
    "help(Triangle)"
   ]
  },
  {
   "cell_type": "markdown",
   "id": "11ab9f14-c966-4556-8a01-4235188cba24",
   "metadata": {},
   "source": [
    "<h5><i><b>h.</b> <i></b>Print the doc-string and annotations of both the class and each instance method. </i></h5></i></h5>"
   ]
  },
  {
   "cell_type": "code",
   "execution_count": 1053,
   "id": "c0be64be-bf88-42d9-aa0b-7b9fbf698038",
   "metadata": {},
   "outputs": [
    {
     "name": "stdout",
     "output_type": "stream",
     "text": [
      "A class to represent a triangle in 2D space.\n",
      "Initialize the triangle with three sides.\n",
      "        \n",
      "Get the length of the first side.\n",
      "Get the length of the second side.\n",
      "Get the length of the third side.\n",
      "Calculate the area of the triangle using Heron's formula.\n",
      "        \n",
      "Calculate the perimeter of the triangle.\n",
      "        \n",
      "Provide a description of the triangle's properties.\n",
      "        \n",
      "Repr is for programmer\n",
      "Return a user-friendly string representation of the triangle.\n"
     ]
    }
   ],
   "source": [
    "print(Triangle.__doc__)\n",
    "print(Triangle.__init__.__doc__)\n",
    "print(Triangle.side_a.__doc__)\n",
    "print(Triangle.side_b.__doc__)\n",
    "print(Triangle.side_c.__doc__)\n",
    "print(Triangle.area.__doc__)\n",
    "print(Triangle.perimeter.__doc__)\n",
    "print(Triangle.locate.__doc__)\n",
    "print(Triangle.__repr__.__doc__)\n",
    "print(Triangle.__str__.__doc__)"
   ]
  },
  {
   "cell_type": "markdown",
   "id": "af5ba204-5bea-41b4-8fb1-537e7fb4b519",
   "metadata": {},
   "source": [
    "<hr>"
   ]
  },
  {
   "cell_type": "markdown",
   "id": "06b8fb38-d93b-4d81-8423-7c69c94c5c1f",
   "metadata": {},
   "source": [
    "<h2 style=\"margin-left: 10px;text-decoration: underline;\"><i><b>Task : 7</b></b></i></h2>"
   ]
  },
  {
   "cell_type": "markdown",
   "id": "9c1f543c-65ea-4422-bba0-36f856ef4a5f",
   "metadata": {},
   "source": [
    "<h2 style=\"margin-left: 80px;text-decoration: underline;\"><i><b>  Trapezoid  </b></i></h2>"
   ]
  },
  {
   "cell_type": "markdown",
   "id": "e3c50923-6cb0-447d-81ae-935345d4ce29",
   "metadata": {},
   "source": [
    "<h4 style=\"margin-left: 110px;text-decoration: underline;\"><i><b> A four-sided figure with at least one pair of parallel sides\n",
    "</b></i></h4>"
   ]
  },
  {
   "cell_type": "code",
   "execution_count": 1059,
   "id": "7bfce396-8a01-4981-9b37-70e1080b4ed6",
   "metadata": {},
   "outputs": [],
   "source": [
    "class Trapezoid:\n",
    "    \"\"\"A class to represent a trapezoid (or trapezium) in 2D space.\"\"\"\n",
    "\n",
    "    def __init__(self, base1: float, base2: float, height: float):\n",
    "        \"\"\"Initialize the trapezoid with two bases and a height.\n",
    "        \"\"\"\n",
    "        self._base1 = base1\n",
    "        self._base2 = base2\n",
    "        self._height = height\n",
    "\n",
    "    @property\n",
    "    def base1(self) -> float:\n",
    "        \"\"\"Get the length of the first base.\"\"\"\n",
    "        return self._base1\n",
    "\n",
    "    @base1.setter\n",
    "    def base1(self, value: float):\n",
    "        \"\"\"Set the length of the first base.\n",
    "        \"\"\"\n",
    "        self._base1 = value\n",
    "\n",
    "    @property\n",
    "    def base2(self) -> float:\n",
    "        \"\"\"Get the length of the second base.\"\"\"\n",
    "        return self._base2\n",
    "\n",
    "    @base2.setter\n",
    "    def base2(self, value: float):\n",
    "        \"\"\"Set the length of the second base.\n",
    "        \"\"\"\n",
    "        self._base2 = value\n",
    "\n",
    "    @property\n",
    "    def height(self) -> float:\n",
    "        \"\"\"Get the height of the trapezoid.\"\"\"\n",
    "        return self._height\n",
    "\n",
    "    @height.setter\n",
    "    def height(self, value: float):\n",
    "        \"\"\"Set the height of the trapezoid.\n",
    "        \"\"\"\n",
    "        self._height = value\n",
    "\n",
    "    def area(self) -> float:\n",
    "        \"\"\"Calculate the area of the trapezoid.\n",
    "        \"\"\"\n",
    "        return ((self._base1 + self._base2) / 2) * self._height\n",
    "\n",
    "    def perimeter(self, side_a: float, side_b: float) -> float:\n",
    "        \"\"\"Calculate the perimeter of the trapezoid.\n",
    "        \"\"\"\n",
    "        return self._base1 + self._base2 + side_a + side_b\n",
    "\n",
    "    def locate(self) -> str:\n",
    "        \"\"\"Provide a description of the trapezoid's properties.\n",
    "        \"\"\"\n",
    "        return (f\"Trapezoid with bases: {self.base1} and {self.base2}\")\n",
    "\n",
    "    def __repr__(self) -> str:\n",
    "        \"\"\"Repr is for programmer\"\"\"\n",
    "        return (f\"Trapezoid(base1={self._base1}, base2={self._base2}, \"\n",
    "                f\"height={self._height})\")\n",
    "\n",
    "    def __str__(self) -> str:\n",
    "        \"\"\"Return a user-friendly string representation of the trapezoid.\"\"\"\n",
    "        return (f\"Trapezoid with bases {self.base1} and {self.base2}\")\n"
   ]
  },
  {
   "cell_type": "code",
   "execution_count": 1061,
   "id": "334e7a3f-8653-4674-b884-9425df5a283c",
   "metadata": {},
   "outputs": [],
   "source": [
    "trapezoid = Trapezoid(2, 4, 6)"
   ]
  },
  {
   "cell_type": "code",
   "execution_count": 1063,
   "id": "6b85c078-d3dd-4564-b0c1-5e405174f6a7",
   "metadata": {},
   "outputs": [
    {
     "name": "stdout",
     "output_type": "stream",
     "text": [
      "Trapezoid with bases 2 and 4\n"
     ]
    }
   ],
   "source": [
    "print(trapezoid)"
   ]
  },
  {
   "cell_type": "code",
   "execution_count": 1065,
   "id": "ee680dca-f018-4066-b379-3ed350ece28f",
   "metadata": {},
   "outputs": [
    {
     "data": {
      "text/plain": [
       "Trapezoid(base1=2, base2=4, height=6)"
      ]
     },
     "execution_count": 1065,
     "metadata": {},
     "output_type": "execute_result"
    }
   ],
   "source": [
    "trapezoid"
   ]
  },
  {
   "cell_type": "code",
   "execution_count": 1067,
   "id": "e61615f9-5161-4c06-b64d-c18bf9e4a1fa",
   "metadata": {},
   "outputs": [
    {
     "data": {
      "text/plain": [
       "mappingproxy({'__module__': '__main__',\n",
       "              '__doc__': 'A class to represent a trapezoid (or trapezium) in 2D space.',\n",
       "              '__init__': <function __main__.Trapezoid.__init__(self, base1: float, base2: float, height: float)>,\n",
       "              'base1': <property at 0x179078dd080>,\n",
       "              'base2': <property at 0x179078dcd60>,\n",
       "              'height': <property at 0x179078dce50>,\n",
       "              'area': <function __main__.Trapezoid.area(self) -> float>,\n",
       "              'perimeter': <function __main__.Trapezoid.perimeter(self, side_a: float, side_b: float) -> float>,\n",
       "              'locate': <function __main__.Trapezoid.locate(self) -> str>,\n",
       "              '__repr__': <function __main__.Trapezoid.__repr__(self) -> str>,\n",
       "              '__str__': <function __main__.Trapezoid.__str__(self) -> str>,\n",
       "              '__dict__': <attribute '__dict__' of 'Trapezoid' objects>,\n",
       "              '__weakref__': <attribute '__weakref__' of 'Trapezoid' objects>})"
      ]
     },
     "execution_count": 1067,
     "metadata": {},
     "output_type": "execute_result"
    }
   ],
   "source": [
    "Trapezoid.__dict__"
   ]
  },
  {
   "cell_type": "code",
   "execution_count": 1069,
   "id": "ac4f60cb-84ee-476a-8cd7-9984feb6d52f",
   "metadata": {},
   "outputs": [
    {
     "data": {
      "text/plain": [
       "mappingproxy({'__module__': '__main__',\n",
       "              '__doc__': 'A class to represent a trapezoid (or trapezium) in 2D space.',\n",
       "              '__init__': <function __main__.Trapezoid.__init__(self, base1: float, base2: float, height: float)>,\n",
       "              'base1': <property at 0x179078dd080>,\n",
       "              'base2': <property at 0x179078dcd60>,\n",
       "              'height': <property at 0x179078dce50>,\n",
       "              'area': <function __main__.Trapezoid.area(self) -> float>,\n",
       "              'perimeter': <function __main__.Trapezoid.perimeter(self, side_a: float, side_b: float) -> float>,\n",
       "              'locate': <function __main__.Trapezoid.locate(self) -> str>,\n",
       "              '__repr__': <function __main__.Trapezoid.__repr__(self) -> str>,\n",
       "              '__str__': <function __main__.Trapezoid.__str__(self) -> str>,\n",
       "              '__dict__': <attribute '__dict__' of 'Trapezoid' objects>,\n",
       "              '__weakref__': <attribute '__weakref__' of 'Trapezoid' objects>})"
      ]
     },
     "execution_count": 1069,
     "metadata": {},
     "output_type": "execute_result"
    }
   ],
   "source": [
    "vars(Trapezoid)"
   ]
  },
  {
   "cell_type": "code",
   "execution_count": 1071,
   "id": "ecc36114-85b4-4016-98d2-04ed72dec019",
   "metadata": {},
   "outputs": [
    {
     "data": {
      "text/plain": [
       "{'_base1': 2, '_base2': 4, '_height': 6}"
      ]
     },
     "execution_count": 1071,
     "metadata": {},
     "output_type": "execute_result"
    }
   ],
   "source": [
    "trapezoid.__dict__"
   ]
  },
  {
   "cell_type": "code",
   "execution_count": 1073,
   "id": "ccd369ba-38f2-4eb3-b7d3-a2bc397720ac",
   "metadata": {},
   "outputs": [
    {
     "name": "stdout",
     "output_type": "stream",
     "text": [
      "Help on class Trapezoid in module __main__:\n",
      "\n",
      "class Trapezoid(builtins.object)\n",
      " |  Trapezoid(base1: float, base2: float, height: float)\n",
      " |\n",
      " |  A class to represent a trapezoid (or trapezium) in 2D space.\n",
      " |\n",
      " |  Methods defined here:\n",
      " |\n",
      " |  __init__(self, base1: float, base2: float, height: float)\n",
      " |      Initialize the trapezoid with two bases and a height.\n",
      " |\n",
      " |  __repr__(self) -> str\n",
      " |      Repr is for programmer\n",
      " |\n",
      " |  __str__(self) -> str\n",
      " |      Return a user-friendly string representation of the trapezoid.\n",
      " |\n",
      " |  area(self) -> float\n",
      " |      Calculate the area of the trapezoid.\n",
      " |\n",
      " |  locate(self) -> str\n",
      " |      Provide a description of the trapezoid's properties.\n",
      " |\n",
      " |  perimeter(self, side_a: float, side_b: float) -> float\n",
      " |      Calculate the perimeter of the trapezoid.\n",
      " |\n",
      " |  ----------------------------------------------------------------------\n",
      " |  Data descriptors defined here:\n",
      " |\n",
      " |  __dict__\n",
      " |      dictionary for instance variables\n",
      " |\n",
      " |  __weakref__\n",
      " |      list of weak references to the object\n",
      " |\n",
      " |  base1\n",
      " |      Get the length of the first base.\n",
      " |\n",
      " |  base2\n",
      " |      Get the length of the second base.\n",
      " |\n",
      " |  height\n",
      " |      Get the height of the trapezoid.\n",
      "\n"
     ]
    }
   ],
   "source": [
    "help(Trapezoid)"
   ]
  },
  {
   "cell_type": "code",
   "execution_count": 1075,
   "id": "716f5429-fb90-4b44-9077-4cf28f895a6e",
   "metadata": {},
   "outputs": [
    {
     "name": "stdout",
     "output_type": "stream",
     "text": [
      "A class to represent a trapezoid (or trapezium) in 2D space.\n",
      "Initialize the trapezoid with two bases and a height.\n",
      "        \n",
      "Get the length of the first base.\n",
      "Get the length of the second base.\n",
      "Calculate the area of the trapezoid.\n",
      "        \n",
      "Calculate the perimeter of the trapezoid.\n",
      "        \n"
     ]
    }
   ],
   "source": [
    "print(Trapezoid.__doc__)\n",
    "print(Trapezoid.__init__.__doc__)\n",
    "print(Trapezoid.base1.__doc__)\n",
    "print(Trapezoid.base2.__doc__)\n",
    "print(Trapezoid.area.__doc__)\n",
    "print(Trapezoid.perimeter.__doc__)"
   ]
  },
  {
   "cell_type": "code",
   "execution_count": 1077,
   "id": "00a46a73-cd6a-45b5-aca6-4f8dbbdb2955",
   "metadata": {},
   "outputs": [],
   "source": [
    "class Trapezoid:\n",
    "    \"\"\"A class to represent a trapezoid (or trapezium) in 2D space.\"\"\"\n",
    "\n",
    "    def __init__(self, base1: float=9, base2: float=8, height: float=15):\n",
    "        \"\"\"Initialize the trapezoid with two bases and a height.\n",
    "        \"\"\"\n",
    "        self._base1 = base1\n",
    "        self._base2 = base2\n",
    "        self._height = height"
   ]
  },
  {
   "cell_type": "code",
   "execution_count": 1079,
   "id": "a15209ac-7c25-427e-9287-0b7131909709",
   "metadata": {},
   "outputs": [],
   "source": [
    "tr= Trapezoid()"
   ]
  },
  {
   "cell_type": "code",
   "execution_count": 1081,
   "id": "4e6b3cd1-da24-42f2-af69-e8b56996d37f",
   "metadata": {},
   "outputs": [
    {
     "data": {
      "text/plain": [
       "<__main__.Trapezoid at 0x17908730860>"
      ]
     },
     "execution_count": 1081,
     "metadata": {},
     "output_type": "execute_result"
    }
   ],
   "source": [
    "tr"
   ]
  },
  {
   "cell_type": "markdown",
   "id": "5edeac78-9ac2-4f04-ac22-43da17ed7942",
   "metadata": {},
   "source": [
    "<hr>"
   ]
  },
  {
   "cell_type": "markdown",
   "id": "f48b5be6-e3f8-4467-8218-ac7e8f1406b0",
   "metadata": {},
   "source": [
    "<h2 style=\"margin-left: 10px;text-decoration: underline;\"><i><b>Task : 8</b></b></i></h2>"
   ]
  },
  {
   "cell_type": "markdown",
   "id": "e6ebf7a1-bb62-4b23-8ff1-5ce4bd80e081",
   "metadata": {},
   "source": [
    "<h2 style=\"margin-left: 80px;text-decoration: underline;\"><i><b>  Parallelogram:  </b></i></h2>"
   ]
  },
  {
   "cell_type": "markdown",
   "id": "098897d8-0375-4df1-8638-542345b939c6",
   "metadata": {},
   "source": [
    "<h4 style=\"margin-left: 110px;text-decoration: underline;\"><i><b> A four-sided shape with opposite sides that are equal and parallel.\n",
    "</b></i></h4>"
   ]
  },
  {
   "cell_type": "code",
   "execution_count": 1087,
   "id": "b259a46a-3f84-4ba2-98d5-e9ee82acd326",
   "metadata": {},
   "outputs": [],
   "source": [
    "class Parallelogram:\n",
    "    \"\"\"A class to represent a parallelogram in 2D space.\"\"\"\n",
    "\n",
    "    def __init__(self, base: float, height: float):\n",
    "        \"\"\"Initialize the parallelogram with base and height.\n",
    "        \"\"\"\n",
    "        self._base = base\n",
    "        self._height = height\n",
    "\n",
    "    @property\n",
    "    def base(self) -> float:\n",
    "        \"\"\"Get the length of the base.\"\"\"\n",
    "        return self._base\n",
    "\n",
    "    @base.setter\n",
    "    def base(self, value: float):\n",
    "        \"\"\"Set the length of the base.\n",
    "        \"\"\"\n",
    "        self._base = value\n",
    "\n",
    "    @property\n",
    "    def height(self) -> float:\n",
    "        \"\"\"Get the height of the parallelogram.\"\"\"\n",
    "        return self._height\n",
    "\n",
    "    @height.setter\n",
    "    def height(self, value: float):\n",
    "        \"\"\"Set the height of the parallelogram.\n",
    "        \"\"\"\n",
    "        self._height = value\n",
    "\n",
    "    def area(self) -> float:\n",
    "        \"\"\"Calculate the area of the parallelogram.\n",
    "        \"\"\"\n",
    "        return self._base * self._height\n",
    "\n",
    "    def perimeter(self, side_length: float) -> float:\n",
    "        \"\"\"Calculate the perimeter of the parallelogram.\n",
    "        \"\"\"\n",
    "        return 2 * (self._base + side_length)\n",
    "\n",
    "    def locate(self) -> str:\n",
    "        \"\"\"Provide a description of the parallelogram's properties.\n",
    "        \"\"\"\n",
    "        return (f\"Parallelogram with base: {self.base}, height: {self.height}\")\n",
    "\n",
    "    def __repr__(self) -> str:\n",
    "        \"\"\"Repr is for programmers.\"\"\"\n",
    "        return f\"Parallelogram(base={self._base}, height={self._height})\"\n",
    "\n",
    "    def __str__(self) -> str:\n",
    "        \"\"\"Return a user-friendly string representation of the parallelogram.\"\"\"\n",
    "        return (f\"Parallelogram with base {self.base} & height {self.height}\")"
   ]
  },
  {
   "cell_type": "code",
   "execution_count": 1089,
   "id": "c2b26d1a-2a57-4b58-b050-79da515c5994",
   "metadata": {},
   "outputs": [],
   "source": [
    "inst_1=Parallelogram(4,8)"
   ]
  },
  {
   "cell_type": "code",
   "execution_count": 1091,
   "id": "80e8dfbf-bbda-4d5d-8102-7babf740897e",
   "metadata": {},
   "outputs": [],
   "source": [
    "inst_2=Parallelogram(7,9)"
   ]
  },
  {
   "cell_type": "code",
   "execution_count": 1093,
   "id": "02d02b72-67c8-4dff-b222-6aad77e66093",
   "metadata": {},
   "outputs": [
    {
     "name": "stdout",
     "output_type": "stream",
     "text": [
      "Parallelogram with base 4 & height 8\n"
     ]
    }
   ],
   "source": [
    "print(inst_1)"
   ]
  },
  {
   "cell_type": "code",
   "execution_count": 1095,
   "id": "17088028-06dd-4ccc-923b-18044ee4f5ed",
   "metadata": {},
   "outputs": [
    {
     "name": "stdout",
     "output_type": "stream",
     "text": [
      "Parallelogram with base 7 & height 9\n"
     ]
    }
   ],
   "source": [
    "print(inst_2)"
   ]
  },
  {
   "cell_type": "code",
   "execution_count": 1097,
   "id": "6c918566-a5b7-4aad-bf58-93d14d6de60a",
   "metadata": {},
   "outputs": [
    {
     "data": {
      "text/plain": [
       "mappingproxy({'__module__': '__main__',\n",
       "              '__doc__': 'A class to represent a parallelogram in 2D space.',\n",
       "              '__init__': <function __main__.Parallelogram.__init__(self, base: float, height: float)>,\n",
       "              'base': <property at 0x179087106d0>,\n",
       "              'height': <property at 0x17908712a70>,\n",
       "              'area': <function __main__.Parallelogram.area(self) -> float>,\n",
       "              'perimeter': <function __main__.Parallelogram.perimeter(self, side_length: float) -> float>,\n",
       "              'locate': <function __main__.Parallelogram.locate(self) -> str>,\n",
       "              '__repr__': <function __main__.Parallelogram.__repr__(self) -> str>,\n",
       "              '__str__': <function __main__.Parallelogram.__str__(self) -> str>,\n",
       "              '__dict__': <attribute '__dict__' of 'Parallelogram' objects>,\n",
       "              '__weakref__': <attribute '__weakref__' of 'Parallelogram' objects>})"
      ]
     },
     "execution_count": 1097,
     "metadata": {},
     "output_type": "execute_result"
    }
   ],
   "source": [
    "Parallelogram.__dict__"
   ]
  },
  {
   "cell_type": "code",
   "execution_count": 1099,
   "id": "98d2dbe5-a368-493c-85f9-48c37142e2ca",
   "metadata": {},
   "outputs": [
    {
     "data": {
      "text/plain": [
       "{'_base': 4, '_height': 8}"
      ]
     },
     "execution_count": 1099,
     "metadata": {},
     "output_type": "execute_result"
    }
   ],
   "source": [
    "inst_1.__dict__"
   ]
  },
  {
   "cell_type": "code",
   "execution_count": 1101,
   "id": "10a5c5c7-dbdb-4c86-bb4a-d0be32fb4b74",
   "metadata": {},
   "outputs": [
    {
     "data": {
      "text/plain": [
       "{'_base': 7, '_height': 9}"
      ]
     },
     "execution_count": 1101,
     "metadata": {},
     "output_type": "execute_result"
    }
   ],
   "source": [
    "inst_2.__dict__"
   ]
  },
  {
   "cell_type": "code",
   "execution_count": 1103,
   "id": "4a61b65c-1a76-4e68-b7bb-839f8d569e77",
   "metadata": {},
   "outputs": [
    {
     "data": {
      "text/plain": [
       "mappingproxy({'__module__': '__main__',\n",
       "              '__doc__': 'A class to represent a parallelogram in 2D space.',\n",
       "              '__init__': <function __main__.Parallelogram.__init__(self, base: float, height: float)>,\n",
       "              'base': <property at 0x179087106d0>,\n",
       "              'height': <property at 0x17908712a70>,\n",
       "              'area': <function __main__.Parallelogram.area(self) -> float>,\n",
       "              'perimeter': <function __main__.Parallelogram.perimeter(self, side_length: float) -> float>,\n",
       "              'locate': <function __main__.Parallelogram.locate(self) -> str>,\n",
       "              '__repr__': <function __main__.Parallelogram.__repr__(self) -> str>,\n",
       "              '__str__': <function __main__.Parallelogram.__str__(self) -> str>,\n",
       "              '__dict__': <attribute '__dict__' of 'Parallelogram' objects>,\n",
       "              '__weakref__': <attribute '__weakref__' of 'Parallelogram' objects>})"
      ]
     },
     "execution_count": 1103,
     "metadata": {},
     "output_type": "execute_result"
    }
   ],
   "source": [
    "vars(Parallelogram)"
   ]
  },
  {
   "cell_type": "code",
   "execution_count": 1105,
   "id": "2d4ed7df-2965-4868-958e-22f6d1925061",
   "metadata": {},
   "outputs": [
    {
     "name": "stdout",
     "output_type": "stream",
     "text": [
      "Help on class Parallelogram in module __main__:\n",
      "\n",
      "class Parallelogram(builtins.object)\n",
      " |  Parallelogram(base: float, height: float)\n",
      " |\n",
      " |  A class to represent a parallelogram in 2D space.\n",
      " |\n",
      " |  Methods defined here:\n",
      " |\n",
      " |  __init__(self, base: float, height: float)\n",
      " |      Initialize the parallelogram with base and height.\n",
      " |\n",
      " |  __repr__(self) -> str\n",
      " |      Repr is for programmers.\n",
      " |\n",
      " |  __str__(self) -> str\n",
      " |      Return a user-friendly string representation of the parallelogram.\n",
      " |\n",
      " |  area(self) -> float\n",
      " |      Calculate the area of the parallelogram.\n",
      " |\n",
      " |  locate(self) -> str\n",
      " |      Provide a description of the parallelogram's properties.\n",
      " |\n",
      " |  perimeter(self, side_length: float) -> float\n",
      " |      Calculate the perimeter of the parallelogram.\n",
      " |\n",
      " |  ----------------------------------------------------------------------\n",
      " |  Data descriptors defined here:\n",
      " |\n",
      " |  __dict__\n",
      " |      dictionary for instance variables\n",
      " |\n",
      " |  __weakref__\n",
      " |      list of weak references to the object\n",
      " |\n",
      " |  base\n",
      " |      Get the length of the base.\n",
      " |\n",
      " |  height\n",
      " |      Get the height of the parallelogram.\n",
      "\n"
     ]
    }
   ],
   "source": [
    "help(Parallelogram)"
   ]
  },
  {
   "cell_type": "code",
   "execution_count": 1107,
   "id": "092a3770-c2a2-4ed8-9b34-d369d6052d91",
   "metadata": {},
   "outputs": [
    {
     "name": "stdout",
     "output_type": "stream",
     "text": [
      "A class to represent a parallelogram in 2D space.\n"
     ]
    }
   ],
   "source": [
    "print(Parallelogram.__doc__)"
   ]
  },
  {
   "cell_type": "code",
   "execution_count": 1109,
   "id": "5ded6ffb-28b1-4856-b8ba-b50bbf58ab02",
   "metadata": {},
   "outputs": [
    {
     "name": "stdout",
     "output_type": "stream",
     "text": [
      "Initialize the parallelogram with base and height.\n",
      "        \n"
     ]
    }
   ],
   "source": [
    "print(Parallelogram.__init__.__doc__)"
   ]
  },
  {
   "cell_type": "code",
   "execution_count": 1111,
   "id": "853dbe8c-0f07-45f7-8124-3374ecac5a3f",
   "metadata": {},
   "outputs": [
    {
     "name": "stdout",
     "output_type": "stream",
     "text": [
      "Get the length of the base.\n",
      "Get the height of the parallelogram.\n",
      "Calculate the area of the parallelogram.\n",
      "        \n",
      "Calculate the perimeter of the parallelogram.\n",
      "        \n",
      "Repr is for programmers.\n",
      "Return a user-friendly string representation of the parallelogram.\n"
     ]
    }
   ],
   "source": [
    "print(Parallelogram.base.__doc__)\n",
    "print(Parallelogram.height.__doc__)\n",
    "print(Parallelogram.area.__doc__)\n",
    "print(Parallelogram.perimeter.__doc__)\n",
    "print(Parallelogram.__repr__.__doc__)\n",
    "print(Parallelogram.__str__.__doc__)"
   ]
  },
  {
   "cell_type": "code",
   "execution_count": 1113,
   "id": "38e9b745-e573-40ba-b0fa-7b4560cc2c5c",
   "metadata": {},
   "outputs": [],
   "source": [
    "class Parallelogram:\n",
    "    \"\"\"A class to represent a parallelogram in 2D space.\"\"\"\n",
    "\n",
    "    def __init__(self, base: float=3, height: float=8):\n",
    "        \"\"\"Initialize the parallelogram with base and height.\n",
    "        \"\"\"\n",
    "        self._base = base\n",
    "        self._height = height"
   ]
  },
  {
   "cell_type": "code",
   "execution_count": 1115,
   "id": "f8527dbc-c32f-4685-b299-164fbc1e1e71",
   "metadata": {},
   "outputs": [],
   "source": [
    "para=Parallelogram()"
   ]
  },
  {
   "cell_type": "markdown",
   "id": "8a6d034d-f291-4571-a328-359cb8d3c8ec",
   "metadata": {},
   "source": [
    "<hr>"
   ]
  },
  {
   "cell_type": "markdown",
   "id": "ef75eeb2-c0f6-41e6-a7fb-5211d6ae9f0e",
   "metadata": {},
   "source": [
    "<h2 style=\"margin-left: 10px;text-decoration: underline;\"><i><b>Task : 9</b></b></i></h2>"
   ]
  },
  {
   "cell_type": "markdown",
   "id": "d8faa45d-349c-434d-bb27-dce482e01c38",
   "metadata": {},
   "source": [
    "<h2 style=\"margin-left: 80px;text-decoration: underline;\"><i><b>  Rhombus:  </b></i></h2>"
   ]
  },
  {
   "cell_type": "markdown",
   "id": "5ba6521a-d2e4-4911-ab21-dc2b5f3be42c",
   "metadata": {},
   "source": [
    "<h4 style=\"margin-left: 110px;text-decoration: underline;\"><i><b>  A parallelogram where all sides are of equal length, but the angles are not necessarily \n",
    "90 degrees.\n",
    "</b></i></h4>"
   ]
  },
  {
   "cell_type": "code",
   "execution_count": 1121,
   "id": "ab762094-8b4f-4947-84e1-2309207e391b",
   "metadata": {},
   "outputs": [],
   "source": [
    "class Rhombus:\n",
    "    \"\"\"A class to represent a rhombus in 2D space.\"\"\"\n",
    "\n",
    "    def __init__(self, side_length: float, height: float):\n",
    "        \"\"\"Initialize the rhombus with side length and height.\n",
    "        \"\"\"\n",
    "        self._side_length = side_length\n",
    "        self._height = height\n",
    "\n",
    "    @property\n",
    "    def side_length(self) -> float:\n",
    "        \"\"\"Get the length of each side.\"\"\"\n",
    "        return self._side_length\n",
    "\n",
    "    @side_length.setter\n",
    "    def side_length(self, value: float):\n",
    "        \"\"\"Set the length of each side.\n",
    "        \"\"\"\n",
    "        self._side_length = value\n",
    "\n",
    "    @property\n",
    "    def height(self) -> float:\n",
    "        \"\"\"Get the height of the rhombus.\"\"\"\n",
    "        return self._height\n",
    "\n",
    "    @height.setter\n",
    "    def height(self, value: float):\n",
    "        \"\"\"Set the height of the rhombus.\n",
    "        \"\"\"\n",
    "        self._height = value\n",
    "    @property\n",
    "    def area(self) -> float:\n",
    "        \"\"\"Calculate the area of the rhombus.\n",
    "        \"\"\"\n",
    "        return self._side_length * self._height\n",
    "    @property\n",
    "    def perimeter(self) -> float:\n",
    "        \"\"\"Calculate the perimeter of the rhombus.\n",
    "        \"\"\"\n",
    "        return 4 * self._side_length\n",
    "\n",
    "    def locate(self) -> str:\n",
    "        \"\"\"Provide a description of the rhombus's properties.\n",
    "        \"\"\"\n",
    "        return (f\"Rhombus with side length: {self.side_length}, height: {self.height}\")\n",
    "\n",
    "    def __repr__(self) -> str:\n",
    "        \"\"\"Repr is for programmer.\"\"\"\n",
    "        return f\"Rhombus(side_length={self._side_length}, height={self._height})\"\n",
    "\n",
    "    def __str__(self) -> str:\n",
    "        \"\"\"Return a user-friendly string representation of the rhombus.\"\"\"\n",
    "        return (f\"Rhombus with side length {self.side_length} & height {self.height}\")"
   ]
  },
  {
   "cell_type": "code",
   "execution_count": 1123,
   "id": "6e5f6eb2-00f8-4a75-971f-4512dc40b193",
   "metadata": {},
   "outputs": [],
   "source": [
    "inst_1=Rhombus(8,9)"
   ]
  },
  {
   "cell_type": "code",
   "execution_count": 1125,
   "id": "a323cda4-07f7-4d2e-a073-062e2bade53f",
   "metadata": {},
   "outputs": [],
   "source": [
    "inst_2=Rhombus(7,12)"
   ]
  },
  {
   "cell_type": "code",
   "execution_count": 1127,
   "id": "5a472bd7-166c-422d-aeeb-fd77a8e57ceb",
   "metadata": {},
   "outputs": [
    {
     "name": "stdout",
     "output_type": "stream",
     "text": [
      "Rhombus with side length 8 & height 9\n"
     ]
    }
   ],
   "source": [
    "print(inst_1)"
   ]
  },
  {
   "cell_type": "code",
   "execution_count": 1129,
   "id": "e6061238-f2c2-4604-84bc-08ffbf993bff",
   "metadata": {},
   "outputs": [
    {
     "name": "stdout",
     "output_type": "stream",
     "text": [
      "Rhombus with side length 7 & height 12\n"
     ]
    }
   ],
   "source": [
    "print(inst_2)"
   ]
  },
  {
   "cell_type": "code",
   "execution_count": 1131,
   "id": "0d4b8e01-aeca-4af8-aa2c-07eb57634e4e",
   "metadata": {},
   "outputs": [
    {
     "data": {
      "text/plain": [
       "mappingproxy({'__module__': '__main__',\n",
       "              '__doc__': 'A class to represent a rhombus in 2D space.',\n",
       "              '__init__': <function __main__.Rhombus.__init__(self, side_length: float, height: float)>,\n",
       "              'side_length': <property at 0x1790862a660>,\n",
       "              'height': <property at 0x1790862ae80>,\n",
       "              'area': <property at 0x179086e4180>,\n",
       "              'perimeter': <property at 0x1790862b060>,\n",
       "              'locate': <function __main__.Rhombus.locate(self) -> str>,\n",
       "              '__repr__': <function __main__.Rhombus.__repr__(self) -> str>,\n",
       "              '__str__': <function __main__.Rhombus.__str__(self) -> str>,\n",
       "              '__dict__': <attribute '__dict__' of 'Rhombus' objects>,\n",
       "              '__weakref__': <attribute '__weakref__' of 'Rhombus' objects>})"
      ]
     },
     "execution_count": 1131,
     "metadata": {},
     "output_type": "execute_result"
    }
   ],
   "source": [
    "Rhombus.__dict__"
   ]
  },
  {
   "cell_type": "code",
   "execution_count": 1133,
   "id": "84d1d734-2f28-4ede-a88a-f1e7e8e333c3",
   "metadata": {},
   "outputs": [
    {
     "data": {
      "text/plain": [
       "{'_side_length': 8, '_height': 9}"
      ]
     },
     "execution_count": 1133,
     "metadata": {},
     "output_type": "execute_result"
    }
   ],
   "source": [
    "inst_1.__dict__"
   ]
  },
  {
   "cell_type": "code",
   "execution_count": 1135,
   "id": "3ad3cbd5-10d1-4bf9-b304-2570c0abb07c",
   "metadata": {},
   "outputs": [
    {
     "data": {
      "text/plain": [
       "{'_side_length': 7, '_height': 12}"
      ]
     },
     "execution_count": 1135,
     "metadata": {},
     "output_type": "execute_result"
    }
   ],
   "source": [
    "inst_2.__dict__"
   ]
  },
  {
   "cell_type": "code",
   "execution_count": 1137,
   "id": "df95dfc0-fd34-423f-87c3-b21d7766c522",
   "metadata": {},
   "outputs": [
    {
     "data": {
      "text/plain": [
       "mappingproxy({'__module__': '__main__',\n",
       "              '__doc__': 'A class to represent a rhombus in 2D space.',\n",
       "              '__init__': <function __main__.Rhombus.__init__(self, side_length: float, height: float)>,\n",
       "              'side_length': <property at 0x1790862a660>,\n",
       "              'height': <property at 0x1790862ae80>,\n",
       "              'area': <property at 0x179086e4180>,\n",
       "              'perimeter': <property at 0x1790862b060>,\n",
       "              'locate': <function __main__.Rhombus.locate(self) -> str>,\n",
       "              '__repr__': <function __main__.Rhombus.__repr__(self) -> str>,\n",
       "              '__str__': <function __main__.Rhombus.__str__(self) -> str>,\n",
       "              '__dict__': <attribute '__dict__' of 'Rhombus' objects>,\n",
       "              '__weakref__': <attribute '__weakref__' of 'Rhombus' objects>})"
      ]
     },
     "execution_count": 1137,
     "metadata": {},
     "output_type": "execute_result"
    }
   ],
   "source": [
    "vars(Rhombus)"
   ]
  },
  {
   "cell_type": "code",
   "execution_count": 1139,
   "id": "85ed647d-0596-4d6f-951f-a75af4fdecfa",
   "metadata": {},
   "outputs": [
    {
     "name": "stdout",
     "output_type": "stream",
     "text": [
      "Help on class Rhombus in module __main__:\n",
      "\n",
      "class Rhombus(builtins.object)\n",
      " |  Rhombus(side_length: float, height: float)\n",
      " |\n",
      " |  A class to represent a rhombus in 2D space.\n",
      " |\n",
      " |  Methods defined here:\n",
      " |\n",
      " |  __init__(self, side_length: float, height: float)\n",
      " |      Initialize the rhombus with side length and height.\n",
      " |\n",
      " |  __repr__(self) -> str\n",
      " |      Repr is for programmer.\n",
      " |\n",
      " |  __str__(self) -> str\n",
      " |      Return a user-friendly string representation of the rhombus.\n",
      " |\n",
      " |  locate(self) -> str\n",
      " |      Provide a description of the rhombus's properties.\n",
      " |\n",
      " |  ----------------------------------------------------------------------\n",
      " |  Readonly properties defined here:\n",
      " |\n",
      " |  area\n",
      " |      Calculate the area of the rhombus.\n",
      " |\n",
      " |  perimeter\n",
      " |      Calculate the perimeter of the rhombus.\n",
      " |\n",
      " |  ----------------------------------------------------------------------\n",
      " |  Data descriptors defined here:\n",
      " |\n",
      " |  __dict__\n",
      " |      dictionary for instance variables\n",
      " |\n",
      " |  __weakref__\n",
      " |      list of weak references to the object\n",
      " |\n",
      " |  height\n",
      " |      Get the height of the rhombus.\n",
      " |\n",
      " |  side_length\n",
      " |      Get the length of each side.\n",
      "\n"
     ]
    }
   ],
   "source": [
    "help(Rhombus)"
   ]
  },
  {
   "cell_type": "code",
   "execution_count": 1141,
   "id": "9d38d6c9-0aa8-46a5-846c-0ced3b907220",
   "metadata": {},
   "outputs": [
    {
     "name": "stdout",
     "output_type": "stream",
     "text": [
      "A class to represent a rhombus in 2D space.\n"
     ]
    }
   ],
   "source": [
    "print(Rhombus.__doc__)"
   ]
  },
  {
   "cell_type": "code",
   "execution_count": 1143,
   "id": "72598780-7d15-464a-b2c5-0e615adad11f",
   "metadata": {},
   "outputs": [
    {
     "name": "stdout",
     "output_type": "stream",
     "text": [
      "Initialize the rhombus with side length and height.\n",
      "        \n",
      "Get the length of each side.\n",
      "Get the height of the rhombus.\n",
      "Calculate the area of the rhombus.\n",
      "        \n",
      "Calculate the perimeter of the rhombus.\n",
      "        \n",
      "Repr is for programmer.\n",
      "Return a user-friendly string representation of the rhombus.\n"
     ]
    }
   ],
   "source": [
    "print(Rhombus.__init__.__doc__)\n",
    "print(Rhombus.side_length.__doc__)\n",
    "print(Rhombus.height.__doc__)\n",
    "print(Rhombus.area.__doc__)\n",
    "print(Rhombus.perimeter.__doc__)\n",
    "print(Rhombus.__repr__.__doc__)\n",
    "print(Rhombus.__str__.__doc__)"
   ]
  },
  {
   "cell_type": "code",
   "execution_count": 1145,
   "id": "332ac30f-702f-495b-98bf-53c51c1e4dc7",
   "metadata": {},
   "outputs": [],
   "source": [
    "class Rhombus:\n",
    "    \"\"\"A class to represent a rhombus in 2D space.\"\"\"\n",
    "\n",
    "    def __init__(self, side_length: float=2, height: float=8):\n",
    "        \"\"\"Initialize the rhombus with side length and height.\n",
    "        \"\"\"\n",
    "        self._side_length = side_length\n",
    "        self._height = height"
   ]
  },
  {
   "cell_type": "code",
   "execution_count": 1147,
   "id": "1d27ad86-7779-4c8a-a9b8-5448aa7f517d",
   "metadata": {},
   "outputs": [],
   "source": [
    "Rh=Rhombus()"
   ]
  },
  {
   "cell_type": "markdown",
   "id": "c2cd400e-aff4-4930-8e6f-a2bee200d665",
   "metadata": {},
   "source": [
    "<hr>"
   ]
  },
  {
   "cell_type": "markdown",
   "id": "783d418b-fef9-4ad6-9ed4-70ac817fd473",
   "metadata": {},
   "source": [
    "<h2 style=\"margin-left: 10px;text-decoration: underline;\"><i><b>Task : 10</b></b></i></h2>"
   ]
  },
  {
   "cell_type": "markdown",
   "id": "77a13544-02bd-43fb-a3d5-00e77c8a00dc",
   "metadata": {},
   "source": [
    "<h4 style=\"margin-left: 110px;text-decoration: underline;\"><i><b> These shapes serve as building blocks for more complex forms in geometry and design.\n",
    "</b></i></h4>"
   ]
  },
  {
   "cell_type": "code",
   "execution_count": 1152,
   "id": "ba0b26c7-9f90-4e0c-a6e9-c34a680df394",
   "metadata": {},
   "outputs": [],
   "source": [
    "class Shape:\n",
    "    \"\"\"A class to represent a generic geometric shape.\"\"\"\n",
    "\n",
    "    def __init__(self, name: str):\n",
    "        \"\"\"Initialize the shape with a name.\n",
    "        \"\"\"\n",
    "        self._name = name\n",
    "\n",
    "    @property\n",
    "    def name(self) -> str:\n",
    "        \"\"\"Get the name of the shape.\"\"\"\n",
    "        return self._name\n",
    "\n",
    "    @name.setter\n",
    "    def name(self, value: str):\n",
    "        \"\"\"Set the name of the shape.\n",
    "        \"\"\"\n",
    "        self._name = value\n",
    "\n",
    "    def area(self) -> float:\n",
    "        \"\"\"Calculate the area of the shape.\n",
    "        \"\"\"\n",
    "        raise NotImplementedError(\"This method should be implemented by subclasses.\")\n",
    "\n",
    "    def perimeter(self) -> float:\n",
    "        \"\"\"Calculate the perimeter of the shape.\n",
    "        \"\"\"\n",
    "        raise NotImplementedError(\"This method should be implemented by subclasses.\")\n",
    "\n",
    "    def locate(self) -> str:\n",
    "        \"\"\"Provide a description of the shape's properties.\n",
    "        \"\"\"\n",
    "        return f\"{self.name} with undefined area and perimeter.\"\n",
    "\n",
    "    def __repr__(self) -> str:\n",
    "        \"\"\"Repr is for programmer.\"\"\"\n",
    "        return f\"Shape(name={self._name})\"\n",
    "\n",
    "    def __str__(self) -> str:\n",
    "        \"\"\"Return a user-friendly string representation of the shape.\"\"\"\n",
    "        return f\"Shape is {self.name}\""
   ]
  },
  {
   "cell_type": "code",
   "execution_count": 1153,
   "id": "e4dedecf-6b53-4a71-870a-157d93798318",
   "metadata": {},
   "outputs": [],
   "source": [
    "inst_1=Shape(\"rectangle\")"
   ]
  },
  {
   "cell_type": "code",
   "execution_count": 1154,
   "id": "47d7defb-4144-4e34-a51e-26430e4940a0",
   "metadata": {},
   "outputs": [],
   "source": [
    "inst_2=Shape(\"square\")"
   ]
  },
  {
   "cell_type": "code",
   "execution_count": 1155,
   "id": "26d10bab-e2e7-4f15-9a02-158177aa0fff",
   "metadata": {},
   "outputs": [
    {
     "name": "stdout",
     "output_type": "stream",
     "text": [
      "Shape is rectangle\n"
     ]
    }
   ],
   "source": [
    "print(inst_1)"
   ]
  },
  {
   "cell_type": "code",
   "execution_count": 1160,
   "id": "502c1e93-fde1-418a-89bd-1bb0ac55f437",
   "metadata": {},
   "outputs": [
    {
     "name": "stdout",
     "output_type": "stream",
     "text": [
      "Shape is square\n"
     ]
    }
   ],
   "source": [
    "print(inst_2)"
   ]
  },
  {
   "cell_type": "code",
   "execution_count": 1162,
   "id": "f405970f-db98-4f3b-ba8a-6c65f3561a3b",
   "metadata": {},
   "outputs": [
    {
     "data": {
      "text/plain": [
       "mappingproxy({'__module__': '__main__',\n",
       "              '__doc__': 'A class to represent a generic geometric shape.',\n",
       "              '__init__': <function __main__.Shape.__init__(self, name: str)>,\n",
       "              'name': <property at 0x179086fe7a0>,\n",
       "              'area': <function __main__.Shape.area(self) -> float>,\n",
       "              'perimeter': <function __main__.Shape.perimeter(self) -> float>,\n",
       "              'locate': <function __main__.Shape.locate(self) -> str>,\n",
       "              '__repr__': <function __main__.Shape.__repr__(self) -> str>,\n",
       "              '__str__': <function __main__.Shape.__str__(self) -> str>,\n",
       "              '__dict__': <attribute '__dict__' of 'Shape' objects>,\n",
       "              '__weakref__': <attribute '__weakref__' of 'Shape' objects>})"
      ]
     },
     "execution_count": 1162,
     "metadata": {},
     "output_type": "execute_result"
    }
   ],
   "source": [
    "Shape.__dict__"
   ]
  },
  {
   "cell_type": "code",
   "execution_count": 1164,
   "id": "3d47cf3d-2946-4dc2-a7cd-1550a64410af",
   "metadata": {},
   "outputs": [
    {
     "data": {
      "text/plain": [
       "{'_name': 'rectangle'}"
      ]
     },
     "execution_count": 1164,
     "metadata": {},
     "output_type": "execute_result"
    }
   ],
   "source": [
    "inst_1.__dict__"
   ]
  },
  {
   "cell_type": "code",
   "execution_count": 1166,
   "id": "e0753a0a-17f9-47b1-b521-799ff12bfdc0",
   "metadata": {},
   "outputs": [
    {
     "data": {
      "text/plain": [
       "{'_name': 'square'}"
      ]
     },
     "execution_count": 1166,
     "metadata": {},
     "output_type": "execute_result"
    }
   ],
   "source": [
    "inst_2.__dict__"
   ]
  },
  {
   "cell_type": "code",
   "execution_count": 1168,
   "id": "3c6fa95f-ea42-48cc-bc32-1b0b3e4c68b6",
   "metadata": {},
   "outputs": [
    {
     "data": {
      "text/plain": [
       "mappingproxy({'__module__': '__main__',\n",
       "              '__doc__': 'A class to represent a generic geometric shape.',\n",
       "              '__init__': <function __main__.Shape.__init__(self, name: str)>,\n",
       "              'name': <property at 0x179086fe7a0>,\n",
       "              'area': <function __main__.Shape.area(self) -> float>,\n",
       "              'perimeter': <function __main__.Shape.perimeter(self) -> float>,\n",
       "              'locate': <function __main__.Shape.locate(self) -> str>,\n",
       "              '__repr__': <function __main__.Shape.__repr__(self) -> str>,\n",
       "              '__str__': <function __main__.Shape.__str__(self) -> str>,\n",
       "              '__dict__': <attribute '__dict__' of 'Shape' objects>,\n",
       "              '__weakref__': <attribute '__weakref__' of 'Shape' objects>})"
      ]
     },
     "execution_count": 1168,
     "metadata": {},
     "output_type": "execute_result"
    }
   ],
   "source": [
    "vars(Shape)"
   ]
  },
  {
   "cell_type": "code",
   "execution_count": 1170,
   "id": "77959bc3-9d36-4669-bb8b-cdeca6729e9b",
   "metadata": {},
   "outputs": [
    {
     "name": "stdout",
     "output_type": "stream",
     "text": [
      "Help on class Shape in module __main__:\n",
      "\n",
      "class Shape(builtins.object)\n",
      " |  Shape(name: str)\n",
      " |\n",
      " |  A class to represent a generic geometric shape.\n",
      " |\n",
      " |  Methods defined here:\n",
      " |\n",
      " |  __init__(self, name: str)\n",
      " |      Initialize the shape with a name.\n",
      " |\n",
      " |  __repr__(self) -> str\n",
      " |      Repr is for programmer.\n",
      " |\n",
      " |  __str__(self) -> str\n",
      " |      Return a user-friendly string representation of the shape.\n",
      " |\n",
      " |  area(self) -> float\n",
      " |      Calculate the area of the shape.\n",
      " |\n",
      " |  locate(self) -> str\n",
      " |      Provide a description of the shape's properties.\n",
      " |\n",
      " |  perimeter(self) -> float\n",
      " |      Calculate the perimeter of the shape.\n",
      " |\n",
      " |  ----------------------------------------------------------------------\n",
      " |  Data descriptors defined here:\n",
      " |\n",
      " |  __dict__\n",
      " |      dictionary for instance variables\n",
      " |\n",
      " |  __weakref__\n",
      " |      list of weak references to the object\n",
      " |\n",
      " |  name\n",
      " |      Get the name of the shape.\n",
      "\n"
     ]
    }
   ],
   "source": [
    "help(Shape)"
   ]
  },
  {
   "cell_type": "code",
   "execution_count": 1172,
   "id": "c66f3705-4b66-4f50-8c8a-e1d0e8f0f2b6",
   "metadata": {},
   "outputs": [
    {
     "name": "stdout",
     "output_type": "stream",
     "text": [
      "A class to represent a generic geometric shape.\n"
     ]
    }
   ],
   "source": [
    "print(Shape.__doc__)"
   ]
  },
  {
   "cell_type": "code",
   "execution_count": 1174,
   "id": "08d1a029-f02c-4d51-a8ff-174c7da720cb",
   "metadata": {},
   "outputs": [
    {
     "name": "stdout",
     "output_type": "stream",
     "text": [
      "Initialize the shape with a name.\n",
      "        \n",
      "Get the name of the shape.\n",
      "Get the name of the shape.\n",
      "Calculate the perimeter of the shape.\n",
      "        \n",
      "Repr is for programmer.\n",
      "Return a user-friendly string representation of the shape.\n"
     ]
    }
   ],
   "source": [
    "print(Shape.__init__.__doc__)\n",
    "print(Shape.name.__doc__)\n",
    "print(Shape.name.__doc__)\n",
    "print(Shape.perimeter.__doc__)\n",
    "print(Shape.__repr__.__doc__)\n",
    "print(Shape.__str__.__doc__)"
   ]
  },
  {
   "cell_type": "code",
   "execution_count": 1176,
   "id": "95afb137-e6a7-461d-a20d-e99ea99594e0",
   "metadata": {},
   "outputs": [],
   "source": [
    "class Shape:\n",
    "    \"\"\"A class to represent a generic geometric shape.\"\"\"\n",
    "\n",
    "    def __init__(self, name: str=\"swan\"):\n",
    "        \"\"\"Initialize the shape with a name.\n",
    "        \"\"\"\n",
    "        self._name = name"
   ]
  },
  {
   "cell_type": "code",
   "execution_count": 1178,
   "id": "a38272fb-21a3-4203-bd35-56a46a62a0c9",
   "metadata": {},
   "outputs": [],
   "source": [
    "sh=Shape()"
   ]
  },
  {
   "cell_type": "markdown",
   "id": "08d27e3c-b931-43ff-a800-0d3f454521af",
   "metadata": {},
   "source": [
    "<hr>"
   ]
  },
  {
   "cell_type": "markdown",
   "id": "570e11a3-6746-482b-9949-650492bbd49a",
   "metadata": {},
   "source": [
    "<h1 style=\"margin-left: 10px;text-decoration: underline;text-decoration-style: double;\"><i><b>Circuit:</b></b></i></h1>"
   ]
  },
  {
   "cell_type": "markdown",
   "id": "7f00d235-87f2-4dac-9cee-8eabcda6384f",
   "metadata": {},
   "source": [
    "<h2 style=\"margin-left: 10px;text-decoration: underline;\"><i><b>Task : 11</b></b></i></h2>"
   ]
  },
  {
   "cell_type": "markdown",
   "id": "b11ef725-6701-44c0-a58f-63999723995a",
   "metadata": {},
   "source": [
    "<h2 style=\"margin-left: 80px;text-decoration: underline;\"><i><b>  Resistor:  </b></i></h2>"
   ]
  },
  {
   "cell_type": "markdown",
   "id": "cc612d65-2ec3-4c7f-8846-64978af96692",
   "metadata": {},
   "source": [
    "<h3 style=\"margin-left: 110px;text-decoration: underline;\"><i><b> Make a class for a circuit with only one resistor. \n",
    "</b></i></h3>"
   ]
  },
  {
   "cell_type": "code",
   "execution_count": 1237,
   "id": "a03cf810-9769-4e26-8c12-4cad7ed5ca3b",
   "metadata": {},
   "outputs": [],
   "source": [
    "class Circuit:\n",
    "    \"\"\"\n",
    "    A class representing a circuit with one resistor.\n",
    "    \"\"\"\n",
    "\n",
    "    def __init__(self, R: float, E: float):\n",
    "        \"\"\"\n",
    "        Initialize the circuit with resistance and voltage.\n",
    "        \"\"\"\n",
    "        self._R = R\n",
    "        self._E = E\n",
    "\n",
    "    @property\n",
    "    def R(self) -> float:\n",
    "        \"\"\"\n",
    "        Get the resistance of the circuit.\n",
    "        \"\"\"\n",
    "        return self._R\n",
    "\n",
    "    @R.setter\n",
    "    def R(self, value: float):\n",
    "        \"\"\"\n",
    "        Set the resistance of the circuit.\n",
    "        \"\"\"\n",
    "        self._R = value\n",
    "\n",
    "    @property\n",
    "    def E(self) -> float:\n",
    "        \"\"\"\n",
    "        Get the voltage of the circuit.\n",
    "        \"\"\"\n",
    "        return self._E\n",
    "\n",
    "    @E.setter\n",
    "    def E(self, value: float):\n",
    "        \"\"\"\n",
    "        Set the voltage of the circuit.\n",
    "        \"\"\"\n",
    "        self._E = value\n",
    "\n",
    "    def current(self) -> float:\n",
    "        \"\"\"\n",
    "        Calculate the current in the circuit using Ohm's Law.\n",
    "        \"\"\"\n",
    "        return self._E / self._R\n",
    "\n",
    "    def __repr__(self) -> str:\n",
    "        \"\"\"\n",
    "        Repr is for programmer.\n",
    "        \"\"\"\n",
    "        return f\"Circuit(resistance={self.R} Ω, voltage={self.E} V)\"\n",
    "\n",
    "    def __str__(self) -> str:\n",
    "        \"\"\"\n",
    "        Return a human-readable string representation of the circuit.\n",
    "        \"\"\"\n",
    "        return f\"Circuit with resistance {self.R} Ω and voltage {self.E} V\"\n",
    "\n",
    "    @staticmethod\n",
    "    def power(E: float, I: float) -> float:\n",
    "        \"\"\"\n",
    "        Calculate the power in the circuit using the formula P = V x I.\n",
    "        \"\"\"\n",
    "        return E * I\n",
    "\n",
    "    @classmethod\n",
    "    def create_circuit(cls, R: float, E: float):\n",
    "        \"\"\"\n",
    "        Create a new circuit with the given resistance and voltage.\n",
    "        \"\"\"\n",
    "        return cls(R, E)"
   ]
  },
  {
   "cell_type": "code",
   "execution_count": 1239,
   "id": "131bc9b6-da05-4640-8af3-f2b0df79ff76",
   "metadata": {},
   "outputs": [],
   "source": [
    "inst_1=Circuit(3,20)"
   ]
  },
  {
   "cell_type": "code",
   "execution_count": 1241,
   "id": "b93a2145-5c1e-4ec0-bc83-27e4ae465e11",
   "metadata": {},
   "outputs": [],
   "source": [
    "inst_2=Circuit(5,10)"
   ]
  },
  {
   "cell_type": "code",
   "execution_count": 1243,
   "id": "d4264bad-1a98-4e55-92e0-2b09fd497ffb",
   "metadata": {},
   "outputs": [
    {
     "name": "stdout",
     "output_type": "stream",
     "text": [
      "Circuit with resistance 3 Ω and voltage 20 V\n"
     ]
    }
   ],
   "source": [
    "print(inst_1)"
   ]
  },
  {
   "cell_type": "code",
   "execution_count": 1245,
   "id": "4218dec1-94a7-4e99-b19f-dc9a7078e98a",
   "metadata": {},
   "outputs": [
    {
     "name": "stdout",
     "output_type": "stream",
     "text": [
      "Circuit with resistance 5 Ω and voltage 10 V\n"
     ]
    }
   ],
   "source": [
    "print(inst_2)"
   ]
  },
  {
   "cell_type": "code",
   "execution_count": 1246,
   "id": "33e3ddf4-d0f3-4d31-af38-8beecd55bb6a",
   "metadata": {},
   "outputs": [
    {
     "data": {
      "text/plain": [
       "6.666666666666667"
      ]
     },
     "execution_count": 1246,
     "metadata": {},
     "output_type": "execute_result"
    }
   ],
   "source": [
    "inst_1.current()"
   ]
  },
  {
   "cell_type": "code",
   "execution_count": 1247,
   "id": "cc785a70-a4da-4cac-9466-6373ac89af6b",
   "metadata": {},
   "outputs": [
    {
     "data": {
      "text/plain": [
       "2.0"
      ]
     },
     "execution_count": 1247,
     "metadata": {},
     "output_type": "execute_result"
    }
   ],
   "source": [
    "inst_2.current()"
   ]
  },
  {
   "cell_type": "code",
   "execution_count": 1248,
   "id": "af792d9f-94dd-4860-b3ff-ba58b6274539",
   "metadata": {},
   "outputs": [
    {
     "data": {
      "text/plain": [
       "mappingproxy({'__module__': '__main__',\n",
       "              '__doc__': '\\n    A class representing a circuit with one resistor.\\n    ',\n",
       "              '__init__': <function __main__.Circuit.__init__(self, R: float, E: float)>,\n",
       "              'R': <property at 0x17908748c70>,\n",
       "              'E': <property at 0x17908749760>,\n",
       "              'current': <function __main__.Circuit.current(self) -> float>,\n",
       "              '__repr__': <function __main__.Circuit.__repr__(self) -> str>,\n",
       "              '__str__': <function __main__.Circuit.__str__(self) -> str>,\n",
       "              'power': <staticmethod(<function Circuit.power at 0x00000179087C9080>)>,\n",
       "              'create_circuit': <classmethod(<function Circuit.create_circuit at 0x00000179087C9120>)>,\n",
       "              '__dict__': <attribute '__dict__' of 'Circuit' objects>,\n",
       "              '__weakref__': <attribute '__weakref__' of 'Circuit' objects>})"
      ]
     },
     "execution_count": 1248,
     "metadata": {},
     "output_type": "execute_result"
    }
   ],
   "source": [
    "Circuit.__dict__"
   ]
  },
  {
   "cell_type": "code",
   "execution_count": 1249,
   "id": "4bd59960-6b0b-4e13-8146-73c4c3265528",
   "metadata": {},
   "outputs": [
    {
     "data": {
      "text/plain": [
       "{'_R': 3, '_E': 20}"
      ]
     },
     "execution_count": 1249,
     "metadata": {},
     "output_type": "execute_result"
    }
   ],
   "source": [
    "inst_1.__dict__"
   ]
  },
  {
   "cell_type": "code",
   "execution_count": 1250,
   "id": "882373f5-4b2a-4548-9690-4a7a6a08bd96",
   "metadata": {},
   "outputs": [
    {
     "data": {
      "text/plain": [
       "{'_R': 5, '_E': 10}"
      ]
     },
     "execution_count": 1250,
     "metadata": {},
     "output_type": "execute_result"
    }
   ],
   "source": [
    "inst_2.__dict__"
   ]
  },
  {
   "cell_type": "code",
   "execution_count": 1257,
   "id": "8d4bb502-3339-4c68-b5b8-1f144d3b0cde",
   "metadata": {},
   "outputs": [
    {
     "data": {
      "text/plain": [
       "mappingproxy({'__module__': '__main__',\n",
       "              '__doc__': '\\n    A class representing a circuit with one resistor.\\n    ',\n",
       "              '__init__': <function __main__.Circuit.__init__(self, R: float, E: float)>,\n",
       "              'R': <property at 0x17908748c70>,\n",
       "              'E': <property at 0x17908749760>,\n",
       "              'current': <function __main__.Circuit.current(self) -> float>,\n",
       "              '__repr__': <function __main__.Circuit.__repr__(self) -> str>,\n",
       "              '__str__': <function __main__.Circuit.__str__(self) -> str>,\n",
       "              'power': <staticmethod(<function Circuit.power at 0x00000179087C9080>)>,\n",
       "              'create_circuit': <classmethod(<function Circuit.create_circuit at 0x00000179087C9120>)>,\n",
       "              '__dict__': <attribute '__dict__' of 'Circuit' objects>,\n",
       "              '__weakref__': <attribute '__weakref__' of 'Circuit' objects>})"
      ]
     },
     "execution_count": 1257,
     "metadata": {},
     "output_type": "execute_result"
    }
   ],
   "source": [
    "vars(Circuit)"
   ]
  },
  {
   "cell_type": "code",
   "execution_count": 1259,
   "id": "090c3354-46e3-4f0e-867e-dbe41bbf7687",
   "metadata": {},
   "outputs": [
    {
     "name": "stdout",
     "output_type": "stream",
     "text": [
      "Help on class Circuit in module __main__:\n",
      "\n",
      "class Circuit(builtins.object)\n",
      " |  Circuit(R: float, E: float)\n",
      " |\n",
      " |  A class representing a circuit with one resistor.\n",
      " |\n",
      " |  Methods defined here:\n",
      " |\n",
      " |  __init__(self, R: float, E: float)\n",
      " |      Initialize the circuit with resistance and voltage.\n",
      " |\n",
      " |  __repr__(self) -> str\n",
      " |      Repr is for programmer.\n",
      " |\n",
      " |  __str__(self) -> str\n",
      " |      Return a human-readable string representation of the circuit.\n",
      " |\n",
      " |  current(self) -> float\n",
      " |      Calculate the current in the circuit using Ohm's Law.\n",
      " |\n",
      " |  ----------------------------------------------------------------------\n",
      " |  Class methods defined here:\n",
      " |\n",
      " |  create_circuit(R: float, E: float)\n",
      " |      Create a new circuit with the given resistance and voltage.\n",
      " |\n",
      " |  ----------------------------------------------------------------------\n",
      " |  Static methods defined here:\n",
      " |\n",
      " |  power(E: float, I: float) -> float\n",
      " |      Calculate the power in the circuit using the formula P = V x I.\n",
      " |\n",
      " |  ----------------------------------------------------------------------\n",
      " |  Data descriptors defined here:\n",
      " |\n",
      " |  E\n",
      " |      Get the voltage of the circuit.\n",
      " |\n",
      " |  R\n",
      " |      Get the resistance of the circuit.\n",
      " |\n",
      " |  __dict__\n",
      " |      dictionary for instance variables\n",
      " |\n",
      " |  __weakref__\n",
      " |      list of weak references to the object\n",
      "\n"
     ]
    }
   ],
   "source": [
    "help(Circuit)"
   ]
  },
  {
   "cell_type": "code",
   "execution_count": 1261,
   "id": "cab8884f-6885-4d7a-8d54-f2d0b8e1370e",
   "metadata": {},
   "outputs": [
    {
     "name": "stdout",
     "output_type": "stream",
     "text": [
      "\n",
      "    A class representing a circuit with one resistor.\n",
      "    \n",
      "\n",
      "        Initialize the circuit with resistance and voltage.\n",
      "        \n",
      "\n",
      "        Get the resistance of the circuit.\n",
      "        \n",
      "\n",
      "        Calculate the current in the circuit using Ohm's Law.\n",
      "        \n",
      "\n",
      "        Repr is for programmer.\n",
      "        \n",
      "\n",
      "        Return a human-readable string representation of the circuit.\n",
      "        \n"
     ]
    }
   ],
   "source": [
    "print(Circuit.__doc__)\n",
    "print(Circuit.__init__.__doc__)\n",
    "print(Circuit.R.__doc__)\n",
    "print(Circuit.current.__doc__)\n",
    "print(Circuit.__repr__.__doc__)\n",
    "print(Circuit.__str__.__doc__)"
   ]
  },
  {
   "cell_type": "code",
   "execution_count": 1263,
   "id": "08a775e8-1942-4548-94ff-314acbf5360e",
   "metadata": {},
   "outputs": [],
   "source": [
    "class Circuit:\n",
    "    \"\"\"A class to represent a simple electrical circuit with one resistor.\"\"\"\n",
    "\n",
    "    def __init__(self, R: float=9.0,E:float=50.2):\n",
    "        \"\"\"Initialize the circuit with a resistor.\n",
    "        \"\"\"\n",
    "        self._R = R\n",
    "        self._E = E"
   ]
  },
  {
   "cell_type": "code",
   "execution_count": 1265,
   "id": "a7acd09d-04f7-40fb-a5b9-752e34645de3",
   "metadata": {},
   "outputs": [],
   "source": [
    "c=Circuit()"
   ]
  },
  {
   "cell_type": "markdown",
   "id": "d5c219e8-aebb-4dfa-8873-0a4528f7569c",
   "metadata": {},
   "source": [
    "<hr>"
   ]
  },
  {
   "cell_type": "markdown",
   "id": "38a814f9-aab2-4e02-a3b9-c9ec15978624",
   "metadata": {},
   "source": [
    "<h2 style=\"margin-left: 10px;text-decoration: underline;\"><i><b>Task : 12</b></b></i></h2>"
   ]
  },
  {
   "cell_type": "markdown",
   "id": "b9423e35-3cb7-4b90-b9b7-4878f1ecd41f",
   "metadata": {},
   "source": [
    "<h2 style=\"margin-left: 80px;text-decoration: underline;\"><i><b>  RL circuit : </b></i></h2>"
   ]
  },
  {
   "cell_type": "markdown",
   "id": "6a0ac3de-60b3-477f-a29e-3992a203f42e",
   "metadata": {},
   "source": [
    "<h3 style=\"margin-left: 110px;text-decoration: underline;\"><i><b>Making a class for the RL circuit \n",
    "</b></i></h3>"
   ]
  },
  {
   "cell_type": "code",
   "execution_count": 1284,
   "id": "8c930165-e76b-4fcf-bad2-f703dd911a22",
   "metadata": {},
   "outputs": [],
   "source": [
    "import math\n",
    "class RL_parallel_Circuit:\n",
    "    \"\"\"A class to represent a simple RL circuit with a resistor and an inductor.\"\"\"\n",
    "\n",
    "    def __init__(self, R: float, X_L: float, E):\n",
    "        \"\"\"Initialize the RL circuit with a resistor and an inductor.\n",
    "        \"\"\"\n",
    "        self._R = R\n",
    "        self._X_L= X_L\n",
    "        self._E = E\n",
    "\n",
    "    @property\n",
    "    def R(self) -> float:\n",
    "        \"\"\"Get the resistance of the resistor.\"\"\"\n",
    "        return self._R\n",
    "\n",
    "    @R.setter\n",
    "    def R(self, value: float):\n",
    "        \"\"\"Set the resistance of the resistor.\n",
    "        \"\"\"\n",
    "        self._R = value\n",
    "\n",
    "    @property\n",
    "    def  X_L(self) -> float:\n",
    "        \"\"\"Get the reactance of the inductor.\"\"\"\n",
    "        return self._X_L\n",
    "\n",
    "    @ X_L.setter\n",
    "    def  X_L(self, value: float):\n",
    "        \"\"\"Set the reactance of the inductor.\n",
    "        \"\"\"\n",
    "        self._X_L = value\n",
    "    @property\n",
    "    def E(self) -> float:\n",
    "        \"\"\"Get the voltage.\"\"\"\n",
    "        return self._E\n",
    "\n",
    "    @ E.setter\n",
    "    def  E(self, value: float):\n",
    "        \"\"\"Set the voltage of the inductor.\n",
    "        \"\"\"\n",
    "        self._E = value\n",
    "    def zt(self) -> str:\n",
    "        \"\"\"Provide a description of the RL circuit's properties.\n",
    "        \"\"\"\n",
    "        zt=1/(1/self._R)+(1/self._X_L)\n",
    "        return zt\n",
    "    def I(self):\n",
    "        I=self._E/self._R\n",
    "        return I\n",
    "    def I_R(self):\n",
    "        I_R=self._E/self._R\n",
    "        return I_R\n",
    "    def I_XL(self):\n",
    "        I_XL=self.E/j(self._XL)\n",
    "        return I_XL\n",
    "    def Pt(self,current):\n",
    "        Pt= ((I)**2)*(self._R)\n",
    "        return Pt\n",
    "    @classmethod\n",
    "    def P_f(cls):\n",
    "        P_f=self._R/zt\n",
    "        return P_f\n",
    "    @staticmethod\n",
    "    def angle():\n",
    "        return math.atan(self._XL/self._R)\n",
    "    def __repr__(self) -> str:\n",
    "        \"\"\"repr is for programmer\"\"\"\n",
    "        return f\"RL_parallel_Circuit(resistance={self._R}, reactance={self._X_L}, voltge={self._E})\"\n",
    "    def __str__(self) -> str:\n",
    "        \"\"\"str is for common people\"\"\"\n",
    "        return (f\" RL_parallel_Circuit has Resistance {self.R} ohms, reactance {self.X_L} henrys & voltage = {self.E}volt\")"
   ]
  },
  {
   "cell_type": "code",
   "execution_count": 1286,
   "id": "e78f2f79-e871-4ab2-b17f-fdac175cbd2f",
   "metadata": {},
   "outputs": [],
   "source": [
    "inst= RL_parallel_Circuit(3,7,8)"
   ]
  },
  {
   "cell_type": "code",
   "execution_count": 1288,
   "id": "3bb25817-5305-40dd-91db-7acb00494491",
   "metadata": {},
   "outputs": [
    {
     "name": "stdout",
     "output_type": "stream",
     "text": [
      " RL_parallel_Circuit has Resistance 3 ohms, reactance 7 henrys & voltage = 8volt\n"
     ]
    }
   ],
   "source": [
    "print(inst)"
   ]
  },
  {
   "cell_type": "code",
   "execution_count": 1290,
   "id": "54d0bc8e-2e90-4831-99b3-98e8d308b1c0",
   "metadata": {},
   "outputs": [
    {
     "data": {
      "text/plain": [
       "3.142857142857143"
      ]
     },
     "execution_count": 1290,
     "metadata": {},
     "output_type": "execute_result"
    }
   ],
   "source": [
    "inst.zt()"
   ]
  },
  {
   "cell_type": "code",
   "execution_count": 1292,
   "id": "d2305200-4dd4-4114-a144-63ed47402572",
   "metadata": {},
   "outputs": [
    {
     "data": {
      "text/plain": [
       "2.6666666666666665"
      ]
     },
     "execution_count": 1292,
     "metadata": {},
     "output_type": "execute_result"
    }
   ],
   "source": [
    "inst.I()"
   ]
  },
  {
   "cell_type": "code",
   "execution_count": 1294,
   "id": "50e02d29-2722-465d-83f9-d40d07f8e271",
   "metadata": {},
   "outputs": [
    {
     "data": {
      "text/plain": [
       "{'_R': 3, '_X_L': 7, '_E': 8}"
      ]
     },
     "execution_count": 1294,
     "metadata": {},
     "output_type": "execute_result"
    }
   ],
   "source": [
    "inst.__dict__"
   ]
  },
  {
   "cell_type": "code",
   "execution_count": 1296,
   "id": "bcdaf099-34f6-48a9-9bc2-76733d3e643e",
   "metadata": {},
   "outputs": [
    {
     "data": {
      "text/plain": [
       "mappingproxy({'__module__': '__main__',\n",
       "              '__doc__': 'A class to represent a simple RL circuit with a resistor and an inductor.',\n",
       "              '__init__': <function __main__.RL_parallel_Circuit.__init__(self, R: float, X_L: float, E)>,\n",
       "              'R': <property at 0x179087f0ef0>,\n",
       "              'X_L': <property at 0x179087f0f40>,\n",
       "              'E': <property at 0x179087f0ea0>,\n",
       "              'zt': <function __main__.RL_parallel_Circuit.zt(self) -> str>,\n",
       "              'I': <function __main__.RL_parallel_Circuit.I(self)>,\n",
       "              'I_R': <function __main__.RL_parallel_Circuit.I_R(self)>,\n",
       "              'I_XL': <function __main__.RL_parallel_Circuit.I_XL(self)>,\n",
       "              'Pt': <function __main__.RL_parallel_Circuit.Pt(self, current)>,\n",
       "              'P_f': <classmethod(<function RL_parallel_Circuit.P_f at 0x00000179087CA7A0>)>,\n",
       "              'angle': <staticmethod(<function RL_parallel_Circuit.angle at 0x00000179087CA840>)>,\n",
       "              '__repr__': <function __main__.RL_parallel_Circuit.__repr__(self) -> str>,\n",
       "              '__str__': <function __main__.RL_parallel_Circuit.__str__(self) -> str>,\n",
       "              '__dict__': <attribute '__dict__' of 'RL_parallel_Circuit' objects>,\n",
       "              '__weakref__': <attribute '__weakref__' of 'RL_parallel_Circuit' objects>})"
      ]
     },
     "execution_count": 1296,
     "metadata": {},
     "output_type": "execute_result"
    }
   ],
   "source": [
    "RL_parallel_Circuit.__dict__"
   ]
  },
  {
   "cell_type": "code",
   "execution_count": 1298,
   "id": "9d84e78c-def1-42f9-938a-cab015e9b1af",
   "metadata": {},
   "outputs": [
    {
     "data": {
      "text/plain": [
       "mappingproxy({'__module__': '__main__',\n",
       "              '__doc__': 'A class to represent a simple RL circuit with a resistor and an inductor.',\n",
       "              '__init__': <function __main__.RL_parallel_Circuit.__init__(self, R: float, X_L: float, E)>,\n",
       "              'R': <property at 0x179087f0ef0>,\n",
       "              'X_L': <property at 0x179087f0f40>,\n",
       "              'E': <property at 0x179087f0ea0>,\n",
       "              'zt': <function __main__.RL_parallel_Circuit.zt(self) -> str>,\n",
       "              'I': <function __main__.RL_parallel_Circuit.I(self)>,\n",
       "              'I_R': <function __main__.RL_parallel_Circuit.I_R(self)>,\n",
       "              'I_XL': <function __main__.RL_parallel_Circuit.I_XL(self)>,\n",
       "              'Pt': <function __main__.RL_parallel_Circuit.Pt(self, current)>,\n",
       "              'P_f': <classmethod(<function RL_parallel_Circuit.P_f at 0x00000179087CA7A0>)>,\n",
       "              'angle': <staticmethod(<function RL_parallel_Circuit.angle at 0x00000179087CA840>)>,\n",
       "              '__repr__': <function __main__.RL_parallel_Circuit.__repr__(self) -> str>,\n",
       "              '__str__': <function __main__.RL_parallel_Circuit.__str__(self) -> str>,\n",
       "              '__dict__': <attribute '__dict__' of 'RL_parallel_Circuit' objects>,\n",
       "              '__weakref__': <attribute '__weakref__' of 'RL_parallel_Circuit' objects>})"
      ]
     },
     "execution_count": 1298,
     "metadata": {},
     "output_type": "execute_result"
    }
   ],
   "source": [
    "vars( RL_parallel_Circuit)"
   ]
  },
  {
   "cell_type": "code",
   "execution_count": 1300,
   "id": "5545c2a5-a7d6-44b5-a77f-4a4ef557f0ca",
   "metadata": {},
   "outputs": [
    {
     "name": "stdout",
     "output_type": "stream",
     "text": [
      "Help on class RL_parallel_Circuit in module __main__:\n",
      "\n",
      "class RL_parallel_Circuit(builtins.object)\n",
      " |  RL_parallel_Circuit(R: float, X_L: float, E)\n",
      " |\n",
      " |  A class to represent a simple RL circuit with a resistor and an inductor.\n",
      " |\n",
      " |  Methods defined here:\n",
      " |\n",
      " |  I(self)\n",
      " |\n",
      " |  I_R(self)\n",
      " |\n",
      " |  I_XL(self)\n",
      " |\n",
      " |  Pt(self, current)\n",
      " |\n",
      " |  __init__(self, R: float, X_L: float, E)\n",
      " |      Initialize the RL circuit with a resistor and an inductor.\n",
      " |\n",
      " |  __repr__(self) -> str\n",
      " |      repr is for programmer\n",
      " |\n",
      " |  __str__(self) -> str\n",
      " |      str is for common people\n",
      " |\n",
      " |  zt(self) -> str\n",
      " |      Provide a description of the RL circuit's properties.\n",
      " |\n",
      " |  ----------------------------------------------------------------------\n",
      " |  Class methods defined here:\n",
      " |\n",
      " |  P_f()\n",
      " |\n",
      " |  ----------------------------------------------------------------------\n",
      " |  Static methods defined here:\n",
      " |\n",
      " |  angle()\n",
      " |\n",
      " |  ----------------------------------------------------------------------\n",
      " |  Data descriptors defined here:\n",
      " |\n",
      " |  E\n",
      " |      Get the voltage.\n",
      " |\n",
      " |  R\n",
      " |      Get the resistance of the resistor.\n",
      " |\n",
      " |  X_L\n",
      " |      Get the reactance of the inductor.\n",
      " |\n",
      " |  __dict__\n",
      " |      dictionary for instance variables\n",
      " |\n",
      " |  __weakref__\n",
      " |      list of weak references to the object\n",
      "\n"
     ]
    }
   ],
   "source": [
    "help( RL_parallel_Circuit)"
   ]
  },
  {
   "cell_type": "code",
   "execution_count": 1302,
   "id": "31042414-560a-4461-b594-9525ac3e3936",
   "metadata": {},
   "outputs": [],
   "source": [
    "class RL_parallel_Circuit:\n",
    "    \"\"\"A class to represent a simple electrical circuit with one resistor.\"\"\"\n",
    "\n",
    "    def __init__(self, R: float=9.0,X_L:float=3.0,E:float=50.2):\n",
    "        \"\"\"Initialize the circuit with a resistor.\n",
    "        \"\"\"\n",
    "        self._R = R\n",
    "        self.X_L=X_L\n",
    "        self._E = E"
   ]
  },
  {
   "cell_type": "code",
   "execution_count": 1304,
   "id": "c5c79dff-63bb-4121-95d5-3681a6a83120",
   "metadata": {},
   "outputs": [],
   "source": [
    "y=RL_parallel_Circuit()"
   ]
  },
  {
   "cell_type": "markdown",
   "id": "8a6e4668-d3c4-4022-b3ef-f7f86c1b84d8",
   "metadata": {},
   "source": [
    "<hr>"
   ]
  },
  {
   "cell_type": "markdown",
   "id": "d09b5b85-1030-40e9-97c3-62afdc6e3fd5",
   "metadata": {},
   "source": [
    "<h2 style=\"margin-left: 10px;text-decoration: underline;\"><i><b>Task : 13</b></b></i></h2>"
   ]
  },
  {
   "cell_type": "markdown",
   "id": "6f5a9f60-c96e-453b-91e1-e33a841610d8",
   "metadata": {},
   "source": [
    "<h2 style=\"margin-left: 80px;text-decoration: underline;\"><i><b>  RC circuits:  </b></i></h2>"
   ]
  },
  {
   "cell_type": "markdown",
   "id": "3f5a2871-3830-4224-b7c3-492e51735cf0",
   "metadata": {},
   "source": [
    "<h3 style=\"margin-left: 110px;text-decoration: underline;\"><i><b> Making a class for the RC circuits.\n",
    "</b></i></h3>"
   ]
  },
  {
   "cell_type": "code",
   "execution_count": 1327,
   "id": "cc2ccc33-a93d-4a27-a3a8-1f35ddd9667a",
   "metadata": {},
   "outputs": [],
   "source": [
    "import math\n",
    "class RL_series_circuit:\n",
    "    \"\"\"A class to represent a RL_series_circuit with one resistor, & an inductor\"\"\"\n",
    "    def __init__(self, R: float, X_L: float, E: float):\n",
    "        \"\"\"Initialize the circuit with a resistor, inductor.\n",
    "        \"\"\"\n",
    "        self._R = R\n",
    "        self._X_L = X_L\n",
    "        self._E = E\n",
    "    \n",
    "    @property\n",
    "    def R(self):\n",
    "        \"\"\"Get the resistance of resistor.\"\"\"\n",
    "        return self._R\n",
    "\n",
    "    @R.setter\n",
    "    def R(self, value):\n",
    "        \"\"\"Set the resistance of the resistor.\n",
    "        \"\"\"\n",
    "        self._R = value\n",
    "        \n",
    "    @property\n",
    "    def X_L(self):\n",
    "        \"\"\"Get the inductance\"\"\"\n",
    "        return self._X_L\n",
    "\n",
    "    @X_L.setter\n",
    "    def X_L(self, value):\n",
    "        \"\"\"Set the inductance of the inductor.\n",
    "        \"\"\"\n",
    "        self._X_L = value\n",
    "\n",
    "    @property\n",
    "    def E(self):\n",
    "        \"\"\"Get the voltage\"\"\"\n",
    "        return (self._E)\n",
    "\n",
    "    @E.setter\n",
    "    def E(self, value):\n",
    "        \"\"\"set the voltage\"\"\"\n",
    "        self._E = (value)\n",
    "        \n",
    "    @property\n",
    "    def zt(self):\n",
    "        \"\"\"give the impedence of circuit\"\"\"\n",
    "        zt=self._R + self._X_L\n",
    "        return zt\n",
    "\n",
    "    @property\n",
    "    def I_t(self):\n",
    "        \"\"\"give the total_current of circuit\"\"\"\n",
    "        zt=self._R + self._X_L\n",
    "        I_t= self._E/zt\n",
    "        return I_t\n",
    "\n",
    "    @property\n",
    "    def V_R(self):\n",
    "        \"\"\"give the resistor_voltage of circuit\"\"\"\n",
    "        return (self.I_t * self._R)\n",
    "\n",
    "    @property\n",
    "    def V_L(self):\n",
    "        \"\"\"give the inductor_voltage of circuit\"\"\"\n",
    "        zt=self._R + self._X_L\n",
    "        I_t= self._E/zt\n",
    "        return (I_t * self._X_L)\n",
    "\n",
    "    @property\n",
    "    def P_t(self):\n",
    "        \"\"\"give the total_power of circuit\"\"\"\n",
    "        return ((self.I_t) ** 2 * self._R)\n",
    "    @classmethod\n",
    "    def P_f(cls):\n",
    "        \"\"\"give the power_factor of circuit\"\"\"\n",
    "        zt=self._R + self._X_L\n",
    "        P_f=self._R/zt\n",
    "        return P_f\n",
    "    @staticmethod\n",
    "    def angle(self,R,X_L):\n",
    "        \"\"\"give the angle of circuit\"\"\"\n",
    "        return math.atan(self._X_L/self._R)\n",
    "    def __repr__(self) -> str:\n",
    "        \"\"\"repr is for programmer\"\"\"\n",
    "        return f\"RL_Series_Circuit(resistance={self._R}, inductance={self._X_L}, voltage={self._E})\"\n",
    "\n",
    "    def __str__(self) -> str:\n",
    "        \"\"\"str is for common person or for the coder that use programmer code\"\"\"\n",
    "        return f\"RL_Series_Circuit with resistance {self._R} ohm, inductance {self._X_L} ohm & voltage: {self._E}V\"\n"
   ]
  },
  {
   "cell_type": "code",
   "execution_count": 1358,
   "id": "066a8870-1c4c-4b6d-b259-35d0be15b5f8",
   "metadata": {},
   "outputs": [],
   "source": [
    "inst_1=RL_series_circuit(2,0.002,50)"
   ]
  },
  {
   "cell_type": "code",
   "execution_count": 1360,
   "id": "83e1c685-7d6f-4023-a823-96636742ebeb",
   "metadata": {},
   "outputs": [],
   "source": [
    "inst_2=RL_series_circuit(2,4,6)"
   ]
  },
  {
   "cell_type": "code",
   "execution_count": 1362,
   "id": "c707aaf9-84f5-46ee-a449-7966b0a61b1f",
   "metadata": {},
   "outputs": [
    {
     "name": "stdout",
     "output_type": "stream",
     "text": [
      "RL_Series_Circuit with resistance 2 ohm, inductance 0.002 ohm & voltage: 50V\n"
     ]
    }
   ],
   "source": [
    "print(inst_1)"
   ]
  },
  {
   "cell_type": "code",
   "execution_count": 1364,
   "id": "18bf2422-da06-4099-a62b-cee9e67e9246",
   "metadata": {},
   "outputs": [
    {
     "name": "stdout",
     "output_type": "stream",
     "text": [
      "RL_Series_Circuit with resistance 2 ohm, inductance 4 ohm & voltage: 6V\n"
     ]
    }
   ],
   "source": [
    "print(inst_2)"
   ]
  },
  {
   "cell_type": "code",
   "execution_count": 1366,
   "id": "140c26bf-3d33-4ec9-989c-9dc5da6f79eb",
   "metadata": {},
   "outputs": [
    {
     "data": {
      "text/plain": [
       "2.002"
      ]
     },
     "execution_count": 1366,
     "metadata": {},
     "output_type": "execute_result"
    }
   ],
   "source": [
    "inst_1.zt"
   ]
  },
  {
   "cell_type": "code",
   "execution_count": 1368,
   "id": "f92ecaef-212c-40cf-9fd8-69c38cb3f5d8",
   "metadata": {},
   "outputs": [
    {
     "data": {
      "text/plain": [
       "0.04995004995004996"
      ]
     },
     "execution_count": 1368,
     "metadata": {},
     "output_type": "execute_result"
    }
   ],
   "source": [
    "inst_1.V_L"
   ]
  },
  {
   "cell_type": "code",
   "execution_count": 1370,
   "id": "16da9074-ba3e-4d23-a3e0-24380b9a16dd",
   "metadata": {},
   "outputs": [
    {
     "data": {
      "text/plain": [
       "49.95004995004996"
      ]
     },
     "execution_count": 1370,
     "metadata": {},
     "output_type": "execute_result"
    }
   ],
   "source": [
    "inst_1.V_R"
   ]
  },
  {
   "cell_type": "code",
   "execution_count": 1372,
   "id": "a47fe021-d3aa-4ff8-9f01-4d6659f3090a",
   "metadata": {},
   "outputs": [
    {
     "data": {
      "text/plain": [
       "24.97502497502498"
      ]
     },
     "execution_count": 1372,
     "metadata": {},
     "output_type": "execute_result"
    }
   ],
   "source": [
    "inst_1.I_t"
   ]
  },
  {
   "cell_type": "code",
   "execution_count": 1374,
   "id": "10d18e36-ecca-4476-8b45-3fc2cac76929",
   "metadata": {},
   "outputs": [
    {
     "data": {
      "text/plain": [
       "mappingproxy({'__module__': '__main__',\n",
       "              '__doc__': 'A class to represent a RL_series_circuit with one resistor, & an inductor',\n",
       "              '__init__': <function __main__.RL_series_circuit.__init__(self, R: float, X_L: float, E: float)>,\n",
       "              'R': <property at 0x179087c3010>,\n",
       "              'X_L': <property at 0x179087c3060>,\n",
       "              'E': <property at 0x179087c2fc0>,\n",
       "              'zt': <property at 0x179087c0860>,\n",
       "              'I_t': <property at 0x179087c16c0>,\n",
       "              'V_R': <property at 0x179087c30b0>,\n",
       "              'V_L': <property at 0x179087c3100>,\n",
       "              'P_t': <property at 0x179087c3150>,\n",
       "              'P_f': <classmethod(<function RL_series_circuit.P_f at 0x00000179087CB2E0>)>,\n",
       "              'angle': <staticmethod(<function RL_series_circuit.angle at 0x00000179087CB380>)>,\n",
       "              '__repr__': <function __main__.RL_series_circuit.__repr__(self) -> str>,\n",
       "              '__str__': <function __main__.RL_series_circuit.__str__(self) -> str>,\n",
       "              '__dict__': <attribute '__dict__' of 'RL_series_circuit' objects>,\n",
       "              '__weakref__': <attribute '__weakref__' of 'RL_series_circuit' objects>})"
      ]
     },
     "execution_count": 1374,
     "metadata": {},
     "output_type": "execute_result"
    }
   ],
   "source": [
    "RL_series_circuit.__dict__"
   ]
  },
  {
   "cell_type": "code",
   "execution_count": 1376,
   "id": "1ff23bfd-dd1f-4463-957c-9e0a1bd76052",
   "metadata": {},
   "outputs": [
    {
     "data": {
      "text/plain": [
       "{'_R': 2, '_X_L': 0.002, '_E': 50}"
      ]
     },
     "execution_count": 1376,
     "metadata": {},
     "output_type": "execute_result"
    }
   ],
   "source": [
    "inst_1.__dict__"
   ]
  },
  {
   "cell_type": "code",
   "execution_count": 1378,
   "id": "b751cfe3-6c32-47d6-acc0-7e20f5d15fe3",
   "metadata": {},
   "outputs": [
    {
     "data": {
      "text/plain": [
       "{'_R': 2, '_X_L': 4, '_E': 6}"
      ]
     },
     "execution_count": 1378,
     "metadata": {},
     "output_type": "execute_result"
    }
   ],
   "source": [
    "inst_2.__dict__"
   ]
  },
  {
   "cell_type": "code",
   "execution_count": 1380,
   "id": "5229166e-4870-4175-b6c8-15d26027b99f",
   "metadata": {},
   "outputs": [
    {
     "data": {
      "text/plain": [
       "mappingproxy({'__module__': '__main__',\n",
       "              '__doc__': 'A class to represent a RL_series_circuit with one resistor, & an inductor',\n",
       "              '__init__': <function __main__.RL_series_circuit.__init__(self, R: float, X_L: float, E: float)>,\n",
       "              'R': <property at 0x179087c3010>,\n",
       "              'X_L': <property at 0x179087c3060>,\n",
       "              'E': <property at 0x179087c2fc0>,\n",
       "              'zt': <property at 0x179087c0860>,\n",
       "              'I_t': <property at 0x179087c16c0>,\n",
       "              'V_R': <property at 0x179087c30b0>,\n",
       "              'V_L': <property at 0x179087c3100>,\n",
       "              'P_t': <property at 0x179087c3150>,\n",
       "              'P_f': <classmethod(<function RL_series_circuit.P_f at 0x00000179087CB2E0>)>,\n",
       "              'angle': <staticmethod(<function RL_series_circuit.angle at 0x00000179087CB380>)>,\n",
       "              '__repr__': <function __main__.RL_series_circuit.__repr__(self) -> str>,\n",
       "              '__str__': <function __main__.RL_series_circuit.__str__(self) -> str>,\n",
       "              '__dict__': <attribute '__dict__' of 'RL_series_circuit' objects>,\n",
       "              '__weakref__': <attribute '__weakref__' of 'RL_series_circuit' objects>})"
      ]
     },
     "execution_count": 1380,
     "metadata": {},
     "output_type": "execute_result"
    }
   ],
   "source": [
    "vars(RL_series_circuit)"
   ]
  },
  {
   "cell_type": "code",
   "execution_count": 1382,
   "id": "8fe00359-0984-4384-9006-a60eb268c446",
   "metadata": {},
   "outputs": [
    {
     "name": "stdout",
     "output_type": "stream",
     "text": [
      "Help on class RL_series_circuit in module __main__:\n",
      "\n",
      "class RL_series_circuit(builtins.object)\n",
      " |  RL_series_circuit(R: float, X_L: float, E: float)\n",
      " |\n",
      " |  A class to represent a RL_series_circuit with one resistor, & an inductor\n",
      " |\n",
      " |  Methods defined here:\n",
      " |\n",
      " |  __init__(self, R: float, X_L: float, E: float)\n",
      " |      Initialize the circuit with a resistor, inductor.\n",
      " |\n",
      " |  __repr__(self) -> str\n",
      " |      repr is for programmer\n",
      " |\n",
      " |  __str__(self) -> str\n",
      " |      str is for common person or for the coder that use programmer code\n",
      " |\n",
      " |  ----------------------------------------------------------------------\n",
      " |  Class methods defined here:\n",
      " |\n",
      " |  P_f()\n",
      " |      give the power_factor of circuit\n",
      " |\n",
      " |  ----------------------------------------------------------------------\n",
      " |  Static methods defined here:\n",
      " |\n",
      " |  angle(self, R, X_L)\n",
      " |      give the angle of circuit\n",
      " |\n",
      " |  ----------------------------------------------------------------------\n",
      " |  Readonly properties defined here:\n",
      " |\n",
      " |  I_t\n",
      " |      give the total_current of circuit\n",
      " |\n",
      " |  P_t\n",
      " |      give the total_power of circuit\n",
      " |\n",
      " |  V_L\n",
      " |      give the inductor_voltage of circuit\n",
      " |\n",
      " |  V_R\n",
      " |      give the resistor_voltage of circuit\n",
      " |\n",
      " |  zt\n",
      " |      give the impedence of circuit\n",
      " |\n",
      " |  ----------------------------------------------------------------------\n",
      " |  Data descriptors defined here:\n",
      " |\n",
      " |  E\n",
      " |      Get the voltage\n",
      " |\n",
      " |  R\n",
      " |      Get the resistance of resistor.\n",
      " |\n",
      " |  X_L\n",
      " |      Get the inductance\n",
      " |\n",
      " |  __dict__\n",
      " |      dictionary for instance variables\n",
      " |\n",
      " |  __weakref__\n",
      " |      list of weak references to the object\n",
      "\n"
     ]
    }
   ],
   "source": [
    "help(RL_series_circuit)"
   ]
  },
  {
   "cell_type": "code",
   "execution_count": 1384,
   "id": "a10533d5-4585-4208-8ac8-82fd55e06c6c",
   "metadata": {},
   "outputs": [
    {
     "name": "stdout",
     "output_type": "stream",
     "text": [
      "A class to represent a RL_series_circuit with one resistor, & an inductor\n",
      "Initialize the circuit with a resistor, inductor.\n",
      "        \n",
      "Get the resistance of resistor.\n",
      "Get the inductance\n",
      "give the impedence of circuit\n",
      "give the total_current of circuit\n",
      "give the resistor_voltage of circuit\n",
      "give the inductor_voltage of circuit\n",
      "give the power_factor of circuit\n",
      "repr is for programmer\n",
      "str is for common person or for the coder that use programmer code\n"
     ]
    }
   ],
   "source": [
    "print(RL_series_circuit.__doc__)\n",
    "print(RL_series_circuit.__init__.__doc__)\n",
    "print(RL_series_circuit.R.__doc__)\n",
    "print(RL_series_circuit.X_L.__doc__)\n",
    "print(RL_series_circuit.zt.__doc__)\n",
    "print(RL_series_circuit.I_t.__doc__)\n",
    "print(RL_series_circuit.V_R.__doc__)\n",
    "print(RL_series_circuit.V_L.__doc__)\n",
    "print(RL_series_circuit.P_f.__doc__)\n",
    "print(RL_series_circuit.__repr__.__doc__)\n",
    "print(RL_series_circuit.__str__.__doc__)"
   ]
  },
  {
   "cell_type": "code",
   "execution_count": 1386,
   "id": "12b7f68a-4f10-4fc5-8785-41e9bea6f79e",
   "metadata": {},
   "outputs": [],
   "source": [
    "class RL_series_circuit:\n",
    "    \"\"\"A class to represent a simple RL circuit with a resistor and an inductor.\"\"\"\n",
    "\n",
    "    def __init__(self, R: float=4, X_L: float=0.0092):\n",
    "        \"\"\"Initialize the RL circuit with a resistor and an inductor.\n",
    "        \"\"\"\n",
    "        self._R = R\n",
    "        self._X_L = X_L"
   ]
  },
  {
   "cell_type": "code",
   "execution_count": 1388,
   "id": "fd64e35d-0653-45e2-ad8a-d4542d65a882",
   "metadata": {},
   "outputs": [],
   "source": [
    "RL=RL_series_circuit()"
   ]
  },
  {
   "cell_type": "markdown",
   "id": "b2a507f5-4967-414a-8c2c-73f90947de4f",
   "metadata": {},
   "source": [
    "<h2 style=\"margin-left: 10px;text-decoration: underline;\"><i><b>Task : 14</b></b></i></h2>"
   ]
  },
  {
   "cell_type": "markdown",
   "id": "bd280d26-1956-436b-a6b2-0453d7fafee1",
   "metadata": {},
   "source": [
    "<h2 style=\"margin-left: 80px;text-decoration: underline;\"><i><b>  RLC parallel circuits:  </b></i></h2>"
   ]
  },
  {
   "cell_type": "markdown",
   "id": "795f241d-2166-4107-b1a9-c52941e38164",
   "metadata": {},
   "source": [
    "<h3 style=\"margin-left: 110px;text-decoration: underline;\"><i><b> Making a class for RLC parallel circuits.\n",
    "</b></i></h3>"
   ]
  },
  {
   "cell_type": "code",
   "execution_count": 1399,
   "id": "5214a7db-57b7-473d-9b3b-589da2e141b1",
   "metadata": {},
   "outputs": [],
   "source": [
    "import math\n",
    "class RC_parallel_Circuit:\n",
    "    \"\"\"A class to represent a simple RC circuit with a resistor and a capacitor.\"\"\"\n",
    "\n",
    "    def __init__(self, R: float, X_C: float, I:float):\n",
    "        \"\"\"Initialize the RC circuit with a resistor and a capacitor.\n",
    "        \"\"\"\n",
    "        self._R = R\n",
    "        self._X_C = X_C\n",
    "        self._I = I\n",
    "\n",
    "    @property\n",
    "    def R(self) -> float:\n",
    "        \"\"\"Get the resistance of the resistor.\"\"\"\n",
    "        return self._R\n",
    "\n",
    "    @R.setter\n",
    "    def R(self, value: float):\n",
    "        \"\"\"Set the resistance of the resistor.\n",
    "        \"\"\"\n",
    "        self._R = value\n",
    "\n",
    "    @property\n",
    "    def X_C(self) -> float:\n",
    "        \"\"\"Get the capacitance of the capacitor.\"\"\"\n",
    "        return self._X_C\n",
    "\n",
    "    @X_C.setter\n",
    "    def X_C(self, value: float):\n",
    "        \"\"\"Set the capacitance of the capacitor.\n",
    "        \"\"\"\n",
    "        self._X_C = value\n",
    "        \n",
    "    @property\n",
    "    def I(self) -> float:\n",
    "        \"\"\"Get current.\"\"\"\n",
    "        return self._I\n",
    "    @I.setter\n",
    "    def I(self, value: float):\n",
    "        \"\"\"Set the current\"\"\"\n",
    "        self._I = value\n",
    "    def zt(self) -> str:\n",
    "        \"\"\"give the total_impedence of the circuit\"\"\"\n",
    "        zt= 1/(1/self._R)+(1/self._X_C)\n",
    "        return zt\n",
    "    def E(self):\n",
    "        \"\"\"give the voltage of the circuit\"\"\"\n",
    "        E=self._I*self._R\n",
    "        return E\n",
    "    def I_R(self):\n",
    "        \"\"\"give the resistor_current of the circuit\"\"\"\n",
    "        E=self._I*self._R\n",
    "        I_R=E/self._R\n",
    "        return I_R\n",
    "    def I_C(self):\n",
    "        \"\"\"give the capacitor_current of the circuit\"\"\"\n",
    "        E=self._I*self._R\n",
    "        I_C=E/(self._X_C)\n",
    "        return I_C\n",
    "    @classmethod\n",
    "    def P_t(cls,voltage):\n",
    "        \"\"\"give the total_power of the circuit\"\"\"\n",
    "        P_t= ((E)**2)/self._R\n",
    "        return P_t\n",
    "    @staticmethod\n",
    "    def angle(R,X_C):\n",
    "        \"\"\"give the angle of circuit\"\"\"\n",
    "        return math.atan(X_C/R)\n",
    "    def __repr__(self) -> str:\n",
    "        \"\"\"repr is for programmer\"\"\"\n",
    "        return f\"RC_parallel_Circuit(resistance={self._R}, capacitance={self._X_C})\"\n",
    "    def __str__(self) -> str:\n",
    "        \"\"\"str is for common people\"\"\"\n",
    "        return (f\"RC_parallel_Circuit has Resistance {self.R} ohms & Capacitance {self.X_C} farads\")"
   ]
  },
  {
   "cell_type": "code",
   "execution_count": 1401,
   "id": "d29b20e7-ad2b-4b2a-ab39-095343dfb95d",
   "metadata": {},
   "outputs": [],
   "source": [
    "inst_1=RC_parallel_Circuit(2,6,9)"
   ]
  },
  {
   "cell_type": "code",
   "execution_count": 1403,
   "id": "7067278d-af84-4773-946d-b316fcc86598",
   "metadata": {},
   "outputs": [],
   "source": [
    "inst_2=RC_parallel_Circuit(7,8,15)"
   ]
  },
  {
   "cell_type": "code",
   "execution_count": 1405,
   "id": "ebfc694c-8789-4f99-ae67-fcf4149c6c99",
   "metadata": {},
   "outputs": [
    {
     "data": {
      "text/plain": [
       "7.125"
      ]
     },
     "execution_count": 1405,
     "metadata": {},
     "output_type": "execute_result"
    }
   ],
   "source": [
    "inst_2.zt()"
   ]
  },
  {
   "cell_type": "code",
   "execution_count": 1407,
   "id": "231901ef-6b94-426d-82de-595a0419360d",
   "metadata": {},
   "outputs": [
    {
     "data": {
      "text/plain": [
       "105"
      ]
     },
     "execution_count": 1407,
     "metadata": {},
     "output_type": "execute_result"
    }
   ],
   "source": [
    "inst_2.E()"
   ]
  },
  {
   "cell_type": "code",
   "execution_count": 1409,
   "id": "3dbec409-cac2-4c1d-9a7a-87dea526ccca",
   "metadata": {},
   "outputs": [
    {
     "data": {
      "text/plain": [
       "15.0"
      ]
     },
     "execution_count": 1409,
     "metadata": {},
     "output_type": "execute_result"
    }
   ],
   "source": [
    "inst_2.I_R()"
   ]
  },
  {
   "cell_type": "code",
   "execution_count": 1411,
   "id": "bb36f6d4-9418-4793-bd14-ad1b420eb74d",
   "metadata": {},
   "outputs": [
    {
     "data": {
      "text/plain": [
       "13.125"
      ]
     },
     "execution_count": 1411,
     "metadata": {},
     "output_type": "execute_result"
    }
   ],
   "source": [
    "inst_2.I_C()"
   ]
  },
  {
   "cell_type": "code",
   "execution_count": 1413,
   "id": "68410bee-825e-4a83-8fb3-82410fdf905a",
   "metadata": {},
   "outputs": [
    {
     "data": {
      "text/plain": [
       "0.982793723247329"
      ]
     },
     "execution_count": 1413,
     "metadata": {},
     "output_type": "execute_result"
    }
   ],
   "source": [
    "inst_2.angle(2,3)"
   ]
  },
  {
   "cell_type": "code",
   "execution_count": 1415,
   "id": "cd17390e-2a1d-4c0c-825a-df000d64ea5b",
   "metadata": {},
   "outputs": [
    {
     "name": "stdout",
     "output_type": "stream",
     "text": [
      "RC_parallel_Circuit has Resistance 2 ohms & Capacitance 6 farads\n"
     ]
    }
   ],
   "source": [
    "print(inst_1)"
   ]
  },
  {
   "cell_type": "code",
   "execution_count": 1417,
   "id": "4867238c-2011-4317-b877-431b0e5b6935",
   "metadata": {},
   "outputs": [
    {
     "name": "stdout",
     "output_type": "stream",
     "text": [
      "RC_parallel_Circuit has Resistance 7 ohms & Capacitance 8 farads\n"
     ]
    }
   ],
   "source": [
    "print(inst_2)"
   ]
  },
  {
   "cell_type": "code",
   "execution_count": 1419,
   "id": "05b7a4ae-10d1-4357-94f8-1c8d1a1fc43d",
   "metadata": {},
   "outputs": [
    {
     "data": {
      "text/plain": [
       "mappingproxy({'__module__': '__main__',\n",
       "              '__doc__': 'A class to represent a simple RC circuit with a resistor and a capacitor.',\n",
       "              '__init__': <function __main__.RC_parallel_Circuit.__init__(self, R: float, X_C: float, I: float)>,\n",
       "              'R': <property at 0x179087fc2c0>,\n",
       "              'X_C': <property at 0x179087fc3b0>,\n",
       "              'I': <property at 0x179087fc450>,\n",
       "              'zt': <function __main__.RC_parallel_Circuit.zt(self) -> str>,\n",
       "              'E': <function __main__.RC_parallel_Circuit.E(self)>,\n",
       "              'I_R': <function __main__.RC_parallel_Circuit.I_R(self)>,\n",
       "              'I_C': <function __main__.RC_parallel_Circuit.I_C(self)>,\n",
       "              'P_t': <classmethod(<function RC_parallel_Circuit.P_t at 0x000001790880D120>)>,\n",
       "              'angle': <staticmethod(<function RC_parallel_Circuit.angle at 0x000001790880C400>)>,\n",
       "              '__repr__': <function __main__.RC_parallel_Circuit.__repr__(self) -> str>,\n",
       "              '__str__': <function __main__.RC_parallel_Circuit.__str__(self) -> str>,\n",
       "              '__dict__': <attribute '__dict__' of 'RC_parallel_Circuit' objects>,\n",
       "              '__weakref__': <attribute '__weakref__' of 'RC_parallel_Circuit' objects>})"
      ]
     },
     "execution_count": 1419,
     "metadata": {},
     "output_type": "execute_result"
    }
   ],
   "source": [
    "RC_parallel_Circuit.__dict__"
   ]
  },
  {
   "cell_type": "code",
   "execution_count": 1421,
   "id": "f9317f8e-e0e1-408d-8c27-e61eac6dd9bd",
   "metadata": {},
   "outputs": [
    {
     "data": {
      "text/plain": [
       "{'_R': 2, '_X_C': 6, '_I': 9}"
      ]
     },
     "execution_count": 1421,
     "metadata": {},
     "output_type": "execute_result"
    }
   ],
   "source": [
    "inst_1.__dict__"
   ]
  },
  {
   "cell_type": "code",
   "execution_count": 1423,
   "id": "67199b72-c7e3-459c-8b43-ba61c282b3f0",
   "metadata": {},
   "outputs": [
    {
     "data": {
      "text/plain": [
       "{'_R': 7, '_X_C': 8, '_I': 15}"
      ]
     },
     "execution_count": 1423,
     "metadata": {},
     "output_type": "execute_result"
    }
   ],
   "source": [
    "inst_2.__dict__"
   ]
  },
  {
   "cell_type": "code",
   "execution_count": 1425,
   "id": "a891c055-8e81-425f-8ef4-9e3c0c478230",
   "metadata": {},
   "outputs": [
    {
     "data": {
      "text/plain": [
       "mappingproxy({'__module__': '__main__',\n",
       "              '__doc__': 'A class to represent a simple RC circuit with a resistor and a capacitor.',\n",
       "              '__init__': <function __main__.RC_parallel_Circuit.__init__(self, R: float, X_C: float, I: float)>,\n",
       "              'R': <property at 0x179087fc2c0>,\n",
       "              'X_C': <property at 0x179087fc3b0>,\n",
       "              'I': <property at 0x179087fc450>,\n",
       "              'zt': <function __main__.RC_parallel_Circuit.zt(self) -> str>,\n",
       "              'E': <function __main__.RC_parallel_Circuit.E(self)>,\n",
       "              'I_R': <function __main__.RC_parallel_Circuit.I_R(self)>,\n",
       "              'I_C': <function __main__.RC_parallel_Circuit.I_C(self)>,\n",
       "              'P_t': <classmethod(<function RC_parallel_Circuit.P_t at 0x000001790880D120>)>,\n",
       "              'angle': <staticmethod(<function RC_parallel_Circuit.angle at 0x000001790880C400>)>,\n",
       "              '__repr__': <function __main__.RC_parallel_Circuit.__repr__(self) -> str>,\n",
       "              '__str__': <function __main__.RC_parallel_Circuit.__str__(self) -> str>,\n",
       "              '__dict__': <attribute '__dict__' of 'RC_parallel_Circuit' objects>,\n",
       "              '__weakref__': <attribute '__weakref__' of 'RC_parallel_Circuit' objects>})"
      ]
     },
     "execution_count": 1425,
     "metadata": {},
     "output_type": "execute_result"
    }
   ],
   "source": [
    "vars(RC_parallel_Circuit)"
   ]
  },
  {
   "cell_type": "code",
   "execution_count": 1427,
   "id": "903a4657-1142-4f91-9f5e-2721e33781cc",
   "metadata": {},
   "outputs": [
    {
     "name": "stdout",
     "output_type": "stream",
     "text": [
      "Help on class RC_parallel_Circuit in module __main__:\n",
      "\n",
      "class RC_parallel_Circuit(builtins.object)\n",
      " |  RC_parallel_Circuit(R: float, X_C: float, I: float)\n",
      " |\n",
      " |  A class to represent a simple RC circuit with a resistor and a capacitor.\n",
      " |\n",
      " |  Methods defined here:\n",
      " |\n",
      " |  E(self)\n",
      " |      give the voltage of the circuit\n",
      " |\n",
      " |  I_C(self)\n",
      " |      give the capacitor_current of the circuit\n",
      " |\n",
      " |  I_R(self)\n",
      " |      give the resistor_current of the circuit\n",
      " |\n",
      " |  __init__(self, R: float, X_C: float, I: float)\n",
      " |      Initialize the RC circuit with a resistor and a capacitor.\n",
      " |\n",
      " |  __repr__(self) -> str\n",
      " |      repr is for programmer\n",
      " |\n",
      " |  __str__(self) -> str\n",
      " |      str is for common people\n",
      " |\n",
      " |  zt(self) -> str\n",
      " |      give the total_impedence of the circuit\n",
      " |\n",
      " |  ----------------------------------------------------------------------\n",
      " |  Class methods defined here:\n",
      " |\n",
      " |  P_t(voltage)\n",
      " |      give the total_power of the circuit\n",
      " |\n",
      " |  ----------------------------------------------------------------------\n",
      " |  Static methods defined here:\n",
      " |\n",
      " |  angle(R, X_C)\n",
      " |      give the angle of circuit\n",
      " |\n",
      " |  ----------------------------------------------------------------------\n",
      " |  Data descriptors defined here:\n",
      " |\n",
      " |  I\n",
      " |      Get current.\n",
      " |\n",
      " |  R\n",
      " |      Get the resistance of the resistor.\n",
      " |\n",
      " |  X_C\n",
      " |      Get the capacitance of the capacitor.\n",
      " |\n",
      " |  __dict__\n",
      " |      dictionary for instance variables\n",
      " |\n",
      " |  __weakref__\n",
      " |      list of weak references to the object\n",
      "\n"
     ]
    }
   ],
   "source": [
    "help(RC_parallel_Circuit)"
   ]
  },
  {
   "cell_type": "code",
   "execution_count": 1429,
   "id": "19b93ae3-af2c-4b48-9be4-57a9c18d231a",
   "metadata": {},
   "outputs": [
    {
     "name": "stdout",
     "output_type": "stream",
     "text": [
      "A class to represent a simple RC circuit with a resistor and a capacitor.\n",
      "Initialize the RC circuit with a resistor and a capacitor.\n",
      "        \n",
      "Get the resistance of the resistor.\n",
      "Get the capacitance of the capacitor.\n",
      "repr is for programmer\n",
      "str is for common people\n"
     ]
    }
   ],
   "source": [
    "print(RC_parallel_Circuit.__doc__)\n",
    "print(RC_parallel_Circuit.__init__.__doc__)\n",
    "print(RC_parallel_Circuit.R.__doc__)\n",
    "print(RC_parallel_Circuit.X_C.__doc__)\n",
    "print(RC_parallel_Circuit.__repr__.__doc__)\n",
    "print(RC_parallel_Circuit.__str__.__doc__)"
   ]
  },
  {
   "cell_type": "code",
   "execution_count": 1431,
   "id": "41344767-152d-4e44-bdee-5de5a3b93e51",
   "metadata": {},
   "outputs": [],
   "source": [
    "import math\n",
    "class RC_parallel_Circuit:\n",
    "    \"\"\"A class to represent a simple RC circuit with a resistor and a capacitor.\"\"\"\n",
    "\n",
    "    def __init__(self, R: float=8, X_C: float=4, I=12):\n",
    "        \"\"\"Initialize the RC circuit with a resistor and a capacitor.\n",
    "        \"\"\"\n",
    "        self._R = R\n",
    "        self._X_C = X_C\n",
    "        self._I = I"
   ]
  },
  {
   "cell_type": "code",
   "execution_count": 1433,
   "id": "1825f61e-c992-4716-8465-e198a592a286",
   "metadata": {},
   "outputs": [],
   "source": [
    "RC=RC_parallel_Circuit()"
   ]
  },
  {
   "cell_type": "markdown",
   "id": "b5c03530-ea21-4a23-b7e0-3d237d374e11",
   "metadata": {},
   "source": [
    "<hr>"
   ]
  },
  {
   "cell_type": "markdown",
   "id": "f34e663e-8b15-4886-a240-19c9bc09b20a",
   "metadata": {},
   "source": [
    "<h2 style=\"margin-left: 10px;text-decoration: underline;\"><i><b>Task : 15</b></b></i></h2>"
   ]
  },
  {
   "cell_type": "markdown",
   "id": "8f6734c7-5008-42c2-9975-15f871296892",
   "metadata": {},
   "source": [
    "<h2 style=\"margin-left: 80px;text-decoration: underline;\"><i><b>  RLC series resonance:  </b></i></h2>"
   ]
  },
  {
   "cell_type": "markdown",
   "id": "9158487d-7de8-424c-a80f-43498410f606",
   "metadata": {},
   "source": [
    "<h3 style=\"margin-left: 110px;text-decoration: underline;\"><i><b> Modify the RLC series for the series resonance case.\n",
    "</b></i></h3>"
   ]
  },
  {
   "cell_type": "code",
   "execution_count": 1501,
   "id": "72f377c2-ebe8-4c6c-951e-9e70ea9c5210",
   "metadata": {},
   "outputs": [],
   "source": [
    "import math\n",
    "class series_RLC_circuit:\n",
    "    \"\"\"\n",
    "    Represents a series RLC circuit.\n",
    "    \"\"\"\n",
    "\n",
    "    def __init__(self, R: float, X_L: float, X_C: float) -> None:\n",
    "        \"\"\"\n",
    "        Initializes an RLC circuit object.\n",
    "        \"\"\"\n",
    "        self._R = R\n",
    "        self._X_L = X_L\n",
    "        self._X_C = X_C\n",
    "    @property\n",
    "    def R(self) -> float:\n",
    "        \"\"\"\n",
    "        Gets the resistance.\n",
    "        \"\"\"\n",
    "        return self._R\n",
    "\n",
    "    @R.setter\n",
    "    def R(self, value: float) -> None:\n",
    "        \"\"\"\n",
    "        Sets the resistance.\n",
    "        \"\"\"\n",
    "        self._R = value\n",
    "\n",
    "    @property\n",
    "    def X_L(self) -> float:\n",
    "        \"\"\"\n",
    "        Gets the inductance.\n",
    "        \"\"\"\n",
    "        return self._X_L\n",
    "\n",
    "    @X_L.setter\n",
    "    def X_L(self, value: float) -> None:\n",
    "        \"\"\"\n",
    "        Sets the inductance.\n",
    "        \"\"\"\n",
    "        self._X_L = value\n",
    "\n",
    "    @property\n",
    "    def X_C(self) -> float:\n",
    "        \"\"\"\n",
    "        Gets the capacitance.\n",
    "        \"\"\"\n",
    "        return self._X_C\n",
    "\n",
    "    @X_C.setter\n",
    "    def X_C(self, value: float) -> None:\n",
    "        \"\"\"\n",
    "        Sets the capacitance.\n",
    "        \"\"\"\n",
    "        self._X_C = value\n",
    "    @property\n",
    "    def impedance(self) -> float:\n",
    "        \"\"\"\n",
    "        Calculates the impedance.\n",
    "        \"\"\"\n",
    "        reactance= X_L-X_C\n",
    "        return math.sqrt(self.R ** 2 + reactance ** 2)\n",
    "\n",
    "    @property\n",
    "    def phase(self) -> float:\n",
    "        \"\"\"\n",
    "        Calculates the phase angle.\n",
    "        \"\"\"\n",
    "        reactance= X_L-X_C\n",
    "        return math.atan(reactance / self.R)\n",
    "\n",
    "    @property\n",
    "    def power_factor(self) -> float:\n",
    "        \"\"\"\n",
    "        Calculates the power factor.\n",
    "        \"\"\"\n",
    "        return math.cos(self.phase)\n",
    "\n",
    "    def current(self, voltage: float) -> float:\n",
    "        \"\"\"\n",
    "        Calculates the current.\n",
    "        \"\"\"\n",
    "        return voltage / self.impedance\n",
    "\n",
    "    def __repr__(self) -> str:\n",
    "        \"\"\"\n",
    "        Repr is for programmer.\n",
    "        \"\"\"\n",
    "        return f\"string representation of the RLC circuit object.\"\n",
    "    def __str__(self):\n",
    "        \"\"\"\n",
    "        str is for common person\"\"\"\n",
    "        return (f\"series_RLC_circuit has {self.R} ohms resistance,{self.X_L} henry inductance,{self.X_C} farad capacitor\")"
   ]
  },
  {
   "cell_type": "code",
   "execution_count": 1503,
   "id": "1e73f7d9-6131-43a8-8579-72ed2ac3c671",
   "metadata": {},
   "outputs": [],
   "source": [
    "inst_1=series_RLC_circuit(5,9,12)"
   ]
  },
  {
   "cell_type": "code",
   "execution_count": 1505,
   "id": "5d0f207a-b62b-4580-a451-223d0313d6c4",
   "metadata": {},
   "outputs": [],
   "source": [
    "inst_2=series_RLC_circuit(2,1,6)"
   ]
  },
  {
   "cell_type": "code",
   "execution_count": 1507,
   "id": "98c89233-da02-409e-9a12-fe3df5cfc684",
   "metadata": {},
   "outputs": [
    {
     "name": "stdout",
     "output_type": "stream",
     "text": [
      "series_RLC_circuit has 5 ohms resistance,9 henry inductance,12 farad capacitor\n"
     ]
    }
   ],
   "source": [
    "print(inst_1)"
   ]
  },
  {
   "cell_type": "code",
   "execution_count": 1509,
   "id": "263a4f0d-99e4-455f-91d4-0141e909141e",
   "metadata": {},
   "outputs": [
    {
     "name": "stdout",
     "output_type": "stream",
     "text": [
      "series_RLC_circuit has 2 ohms resistance,1 henry inductance,6 farad capacitor\n"
     ]
    }
   ],
   "source": [
    "print(inst_2)"
   ]
  },
  {
   "cell_type": "code",
   "execution_count": 1511,
   "id": "b046292c-9b5a-4acb-a7e7-85df180b2a90",
   "metadata": {},
   "outputs": [
    {
     "data": {
      "text/plain": [
       "mappingproxy({'__module__': '__main__',\n",
       "              '__doc__': '\\n    Represents a series RLC circuit.\\n    ',\n",
       "              '__init__': <function __main__.series_RLC_circuit.__init__(self, R: float, X_L: float, X_C: float) -> None>,\n",
       "              'R': <property at 0x1790883cf40>,\n",
       "              'X_L': <property at 0x1790883d9e0>,\n",
       "              'X_C': <property at 0x1790883cfe0>,\n",
       "              'impedance': <property at 0x17908762980>,\n",
       "              'phase': <property at 0x1790883d350>,\n",
       "              'power_factor': <property at 0x1790883d710>,\n",
       "              'current': <function __main__.series_RLC_circuit.current(self, voltage: float) -> float>,\n",
       "              '__repr__': <function __main__.series_RLC_circuit.__repr__(self) -> str>,\n",
       "              '__str__': <function __main__.series_RLC_circuit.__str__(self)>,\n",
       "              '__dict__': <attribute '__dict__' of 'series_RLC_circuit' objects>,\n",
       "              '__weakref__': <attribute '__weakref__' of 'series_RLC_circuit' objects>})"
      ]
     },
     "execution_count": 1511,
     "metadata": {},
     "output_type": "execute_result"
    }
   ],
   "source": [
    "series_RLC_circuit.__dict__"
   ]
  },
  {
   "cell_type": "code",
   "execution_count": 1512,
   "id": "4fe426d3-df50-4fc3-be26-e3efa7e04be8",
   "metadata": {},
   "outputs": [
    {
     "data": {
      "text/plain": [
       "{'_R': 5, '_X_L': 9, '_X_C': 12}"
      ]
     },
     "execution_count": 1512,
     "metadata": {},
     "output_type": "execute_result"
    }
   ],
   "source": [
    "inst_1.__dict__"
   ]
  },
  {
   "cell_type": "code",
   "execution_count": 1515,
   "id": "00051374-5aa8-43e5-bcf7-92439fc326ae",
   "metadata": {},
   "outputs": [
    {
     "data": {
      "text/plain": [
       "{'_R': 2, '_X_L': 1, '_X_C': 6}"
      ]
     },
     "execution_count": 1515,
     "metadata": {},
     "output_type": "execute_result"
    }
   ],
   "source": [
    "inst_2.__dict__"
   ]
  },
  {
   "cell_type": "code",
   "execution_count": 1517,
   "id": "48ff972d-251b-4e85-b64c-a67ecfd027ca",
   "metadata": {},
   "outputs": [
    {
     "data": {
      "text/plain": [
       "mappingproxy({'__module__': '__main__',\n",
       "              '__doc__': '\\n    Represents a series RLC circuit.\\n    ',\n",
       "              '__init__': <function __main__.series_RLC_circuit.__init__(self, R: float, X_L: float, X_C: float) -> None>,\n",
       "              'R': <property at 0x1790883cf40>,\n",
       "              'X_L': <property at 0x1790883d9e0>,\n",
       "              'X_C': <property at 0x1790883cfe0>,\n",
       "              'impedance': <property at 0x17908762980>,\n",
       "              'phase': <property at 0x1790883d350>,\n",
       "              'power_factor': <property at 0x1790883d710>,\n",
       "              'current': <function __main__.series_RLC_circuit.current(self, voltage: float) -> float>,\n",
       "              '__repr__': <function __main__.series_RLC_circuit.__repr__(self) -> str>,\n",
       "              '__str__': <function __main__.series_RLC_circuit.__str__(self)>,\n",
       "              '__dict__': <attribute '__dict__' of 'series_RLC_circuit' objects>,\n",
       "              '__weakref__': <attribute '__weakref__' of 'series_RLC_circuit' objects>})"
      ]
     },
     "execution_count": 1517,
     "metadata": {},
     "output_type": "execute_result"
    }
   ],
   "source": [
    "vars(series_RLC_circuit)"
   ]
  },
  {
   "cell_type": "code",
   "execution_count": 1519,
   "id": "f10da499-e272-4519-a1a7-1528d052cd6c",
   "metadata": {},
   "outputs": [
    {
     "name": "stdout",
     "output_type": "stream",
     "text": [
      "Help on class series_RLC_circuit in module __main__:\n",
      "\n",
      "class series_RLC_circuit(builtins.object)\n",
      " |  series_RLC_circuit(R: float, X_L: float, X_C: float) -> None\n",
      " |\n",
      " |  Represents a series RLC circuit.\n",
      " |\n",
      " |  Methods defined here:\n",
      " |\n",
      " |  __init__(self, R: float, X_L: float, X_C: float) -> None\n",
      " |      Initializes an RLC circuit object.\n",
      " |\n",
      " |  __repr__(self) -> str\n",
      " |      Repr is for programmer.\n",
      " |\n",
      " |  __str__(self)\n",
      " |      str is for common person\n",
      " |\n",
      " |  current(self, voltage: float) -> float\n",
      " |      Calculates the current.\n",
      " |\n",
      " |  ----------------------------------------------------------------------\n",
      " |  Readonly properties defined here:\n",
      " |\n",
      " |  impedance\n",
      " |      Calculates the impedance.\n",
      " |\n",
      " |  phase\n",
      " |      Calculates the phase angle.\n",
      " |\n",
      " |  power_factor\n",
      " |      Calculates the power factor.\n",
      " |\n",
      " |  ----------------------------------------------------------------------\n",
      " |  Data descriptors defined here:\n",
      " |\n",
      " |  R\n",
      " |      Gets the resistance.\n",
      " |\n",
      " |  X_C\n",
      " |      Gets the capacitance.\n",
      " |\n",
      " |  X_L\n",
      " |      Gets the inductance.\n",
      " |\n",
      " |  __dict__\n",
      " |      dictionary for instance variables\n",
      " |\n",
      " |  __weakref__\n",
      " |      list of weak references to the object\n",
      "\n"
     ]
    }
   ],
   "source": [
    "help(series_RLC_circuit)"
   ]
  },
  {
   "cell_type": "code",
   "execution_count": 1525,
   "id": "7d29643e-6d3c-4890-9b67-fa218e7015e2",
   "metadata": {},
   "outputs": [
    {
     "name": "stdout",
     "output_type": "stream",
     "text": [
      "\n",
      "    Represents a series RLC circuit.\n",
      "    \n",
      "\n",
      "        Initializes an RLC circuit object.\n",
      "        \n",
      "\n",
      "        Gets the resistance.\n",
      "        \n",
      "\n",
      "        Gets the inductance.\n",
      "        \n",
      "\n",
      "        Gets the capacitance.\n",
      "        \n",
      "\n",
      "        Calculates the impedance.\n",
      "        \n",
      "\n",
      "        Repr is for programmer.\n",
      "        \n",
      "\n",
      "        str is for common person\n"
     ]
    }
   ],
   "source": [
    "print(series_RLC_circuit.__doc__)\n",
    "print(series_RLC_circuit.__init__.__doc__)\n",
    "print(series_RLC_circuit.R.__doc__)\n",
    "print(series_RLC_circuit.X_L.__doc__)\n",
    "print(series_RLC_circuit.X_C.__doc__)\n",
    "print(series_RLC_circuit.impedance.__doc__)\n",
    "print(series_RLC_circuit.__repr__.__doc__)\n",
    "print(series_RLC_circuit.__str__.__doc__)"
   ]
  },
  {
   "cell_type": "markdown",
   "id": "39a44922-5dad-4dcb-8bc6-79d378023cfa",
   "metadata": {},
   "source": [
    "<hr>"
   ]
  },
  {
   "cell_type": "markdown",
   "id": "a063ed81-26c5-4f29-8614-3d85b2ca879e",
   "metadata": {},
   "source": [
    "<h2 style=\"margin-left: 10px;text-decoration: underline;\"><i><b>Task : 16</b></b></i></h2>"
   ]
  },
  {
   "cell_type": "markdown",
   "id": "c512c92d-7c8f-459f-bd49-d671baaf64af",
   "metadata": {},
   "source": [
    "<h2 style=\"margin-left: 80px;text-decoration: underline;\"><i><b>  RLC parallel resonance :  </b></i></h2>"
   ]
  },
  {
   "cell_type": "markdown",
   "id": "40d6c3a8-b82a-4916-bb71-0ec4d15a7121",
   "metadata": {},
   "source": [
    "<h3 style=\"margin-left: 110px;text-decoration: underline;\"><i><b>Modify the RLC parallel for the parallel resonance case.\n",
    "</b></i></h3>"
   ]
  },
  {
   "cell_type": "code",
   "execution_count": 1435,
   "id": "562ab944-e46e-44d5-88ad-86f81689338f",
   "metadata": {},
   "outputs": [],
   "source": [
    "import math\n",
    "class RLCParallelCircuit:\n",
    "    \"\"\"A class to represent a simple RLC parallel circuit with a resistor, inductor, and capacitor.\"\"\"\n",
    "\n",
    "    def __init__(self, R: float, X_L: float, X_C: float):\n",
    "        \"\"\"Initialize the RLC parallel circuit with a resistor, inductor, and capacitor.\n",
    "        \"\"\"\n",
    "        self._R = R\n",
    "        self._X_L = X_L\n",
    "        self._X_C = X_C\n",
    "\n",
    "    @property\n",
    "    def R(self) -> float:\n",
    "        \"\"\"Get the resistance of the resistor.\"\"\"\n",
    "        return self._R\n",
    "\n",
    "    @R.setter\n",
    "    def R(self, value: float):\n",
    "        \"\"\"Set the resistance of the resistor.\n",
    "        \"\"\"\n",
    "        self._R = value\n",
    "\n",
    "    @property\n",
    "    def X_L(self) -> float:\n",
    "        \"\"\"Get the inductance of the inductor.\"\"\"\n",
    "        return self._X_L\n",
    "\n",
    "    @X_L.setter\n",
    "    def X_L(self, value: float):\n",
    "        \"\"\"Set the inductance of the inductor.\n",
    "        \"\"\"\n",
    "        self._X_L = value\n",
    "\n",
    "    @property\n",
    "    def X_C(self) -> float:\n",
    "        \"\"\"Get the capacitance of the capacitor.\"\"\"\n",
    "        return self._X_C\n",
    "\n",
    "    @X_C.setter\n",
    "    def X_C(self, value: float):\n",
    "        \"\"\"Set the capacitance of the capacitor.\n",
    "        \"\"\"\n",
    "        self._X_C = value\n",
    "    @property\n",
    "    def resonance_frequency(self) -> float:\n",
    "        \"\"\"Calculate the resonance frequency of the RLC parallel circuit.\n",
    "        \"\"\"\n",
    "        L=1/2*math.pi*X_L\n",
    "        C=-1/2*math.pi*X_C\n",
    "        return 1 / (2 * math.pi * (L * C) ** 0.5)\n",
    "    def total_impedance(self, frequency: float) -> complex:\n",
    "        \"\"\"Calculate the total impedance of the RLC parallel circuit.\n",
    "        \"\"\"\n",
    "        total_impedance = 1 / (1/R + 1/XL + 1/XC)\n",
    "        return total_impedance\n",
    "    def Quality_factor(self):\n",
    "        \"\"\"give the Quality_factor of the circuit\"\"\"\n",
    "        Q.f=self._XL/self._R\n",
    "        return Q.f\n",
    "    def Bandwidth(self):\n",
    "        \"\"\"give the bandwidth of the circuit\"\"\"\n",
    "        B.w=resonance_frequency/Q.f\n",
    "        return B.w\n",
    "    def __repr__(self) -> str:\n",
    "        \"\"\"repr is for programmer\"\"\"\n",
    "        return (f\"RLCParallelCircuit(R={self._R},I={self._X_L}, C={self._X_C})\")\n",
    "\n",
    "    def __str__(self) -> str:\n",
    "        \"\"\"str is for common people\"\"\"\n",
    "        return (f\"RLC Parallel Circuit has Resistance {self.R} ohms,{self._X_L} henrys, C= {self._X_C} farads\")"
   ]
  },
  {
   "cell_type": "code",
   "execution_count": 1437,
   "id": "2bdb8fcf-746d-4c01-9cab-5e59a95813ef",
   "metadata": {},
   "outputs": [],
   "source": [
    "inst_1=RLCParallelCircuit(5,9,7)"
   ]
  },
  {
   "cell_type": "code",
   "execution_count": 1446,
   "id": "55ee000f-6270-4d69-ba2d-a79476673eea",
   "metadata": {},
   "outputs": [],
   "source": [
    "inst_2=RLCParallelCircuit(1,7,3)"
   ]
  },
  {
   "cell_type": "code",
   "execution_count": 1448,
   "id": "648a0c96-4410-4617-b849-d97267ed3003",
   "metadata": {},
   "outputs": [
    {
     "name": "stdout",
     "output_type": "stream",
     "text": [
      "RLC Parallel Circuit has Resistance 5 ohms,9 henrys, C= 7 farads\n"
     ]
    }
   ],
   "source": [
    "print(inst_1)"
   ]
  },
  {
   "cell_type": "code",
   "execution_count": 1450,
   "id": "eb4c0a5c-8ae3-4a64-891f-e20e31b5e8dd",
   "metadata": {},
   "outputs": [
    {
     "name": "stdout",
     "output_type": "stream",
     "text": [
      "RLC Parallel Circuit has Resistance 1 ohms,7 henrys, C= 3 farads\n"
     ]
    }
   ],
   "source": [
    "print(inst_2)"
   ]
  },
  {
   "cell_type": "code",
   "execution_count": 1452,
   "id": "39ac8adb-92ba-41a8-b919-1342ecd6ba36",
   "metadata": {},
   "outputs": [
    {
     "data": {
      "text/plain": [
       "mappingproxy({'__module__': '__main__',\n",
       "              '__doc__': 'A class to represent a simple RLC parallel circuit with a resistor, inductor, and capacitor.',\n",
       "              '__init__': <function __main__.RLCParallelCircuit.__init__(self, R: float, X_L: float, X_C: float)>,\n",
       "              'R': <property at 0x179087fb010>,\n",
       "              'X_L': <property at 0x179087fb290>,\n",
       "              'X_C': <property at 0x179087fa250>,\n",
       "              'resonance_frequency': <property at 0x179087fb2e0>,\n",
       "              'total_impedance': <function __main__.RLCParallelCircuit.total_impedance(self, frequency: float) -> complex>,\n",
       "              'Quality_factor': <function __main__.RLCParallelCircuit.Quality_factor(self)>,\n",
       "              'Bandwidth': <function __main__.RLCParallelCircuit.Bandwidth(self)>,\n",
       "              '__repr__': <function __main__.RLCParallelCircuit.__repr__(self) -> str>,\n",
       "              '__str__': <function __main__.RLCParallelCircuit.__str__(self) -> str>,\n",
       "              '__dict__': <attribute '__dict__' of 'RLCParallelCircuit' objects>,\n",
       "              '__weakref__': <attribute '__weakref__' of 'RLCParallelCircuit' objects>})"
      ]
     },
     "execution_count": 1452,
     "metadata": {},
     "output_type": "execute_result"
    }
   ],
   "source": [
    "RLCParallelCircuit.__dict__"
   ]
  },
  {
   "cell_type": "code",
   "execution_count": null,
   "id": "edcf35d8-5da6-46bf-9efe-4a6fb11c700d",
   "metadata": {},
   "outputs": [],
   "source": [
    "inst_1.__dict__"
   ]
  },
  {
   "cell_type": "code",
   "execution_count": null,
   "id": "9f572fa7-6656-4ef4-b5ad-80d26a97fc82",
   "metadata": {},
   "outputs": [],
   "source": [
    "inst_2.__dict__"
   ]
  },
  {
   "cell_type": "code",
   "execution_count": null,
   "id": "d63aee4c-563c-4e60-b63d-5aabb337942e",
   "metadata": {},
   "outputs": [],
   "source": [
    "vars(RLCParallelCircuit)"
   ]
  },
  {
   "cell_type": "code",
   "execution_count": null,
   "id": "29b35243-0a0e-4435-bb67-793a202fbb98",
   "metadata": {},
   "outputs": [],
   "source": [
    "help(RLCParallelCircuit)"
   ]
  },
  {
   "cell_type": "code",
   "execution_count": 1528,
   "id": "c890bf36-93a5-4182-80ad-b02f06e9f419",
   "metadata": {},
   "outputs": [
    {
     "name": "stdout",
     "output_type": "stream",
     "text": [
      "A class to represent a simple RLC parallel circuit with a resistor, inductor, and capacitor.\n",
      "{}\n",
      "Initialize the RLC parallel circuit with a resistor, inductor, and capacitor.\n",
      "        \n",
      "{'R': <class 'float'>, 'X_L': <class 'float'>, 'X_C': <class 'float'>}\n",
      "Get the resistance of the resistor.\n",
      "Get the inductance of the inductor.\n",
      "Get the capacitance of the capacitor.\n",
      "repr is for programmer\n",
      "str is for common people\n"
     ]
    }
   ],
   "source": [
    "print(RLCParallelCircuit.__doc__)\n",
    "print(RLCParallelCircuit.__annotations__)\n",
    "print(RLCParallelCircuit.__init__.__doc__)\n",
    "print(RLCParallelCircuit.__init__.__annotations__)\n",
    "print(RLCParallelCircuit.R.__doc__)\n",
    "print(RLCParallelCircuit.X_L.__doc__)\n",
    "print(RLCParallelCircuit.X_C.__doc__)\n",
    "print(RLCParallelCircuit.__repr__.__doc__)\n",
    "print(RLCParallelCircuit.__str__.__doc__)"
   ]
  },
  {
   "cell_type": "markdown",
   "id": "666eb833-ef31-4978-856e-0efd9e753d30",
   "metadata": {},
   "source": [
    "<hr>"
   ]
  }
 ],
 "metadata": {
  "kernelspec": {
   "display_name": "Python 3 (ipykernel)",
   "language": "python",
   "name": "python3"
  },
  "language_info": {
   "codemirror_mode": {
    "name": "ipython",
    "version": 3
   },
   "file_extension": ".py",
   "mimetype": "text/x-python",
   "name": "python",
   "nbconvert_exporter": "python",
   "pygments_lexer": "ipython3",
   "version": "3.12.4"
  }
 },
 "nbformat": 4,
 "nbformat_minor": 5
}
