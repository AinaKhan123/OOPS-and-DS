{
 "cells": [
  {
   "cell_type": "markdown",
   "id": "b252f873-2adf-4c73-a67c-7a876911ee65",
   "metadata": {},
   "source": [
    "<h1 style=\"margin-left: 10px; text-decoration: underline; text-decoration-style: double;\"><strong><i> Lab Practice: </i></strong></h1>"
   ]
  },
  {
   "cell_type": "markdown",
   "id": "a4e12919-2252-4897-bd2f-79739b557348",
   "metadata": {},
   "source": [
    "<p style=\"margin-left: 10px;text-decoration: underline;\"><strong> Name </strong>: Aina khan</p>\n",
    "<p style=\"margin-left: 10px;text-decoration: underline;\"><strong> Reg No </strong>: 0540 <p>\n",
    "<p style=\"margin-left: 10px;text-decoration: underline;\"><strong> Lab Practice </strong>: <strong> 13 </strong> <p>"
   ]
  },
  {
   "cell_type": "markdown",
   "id": "c52216f2-36d3-4e24-a9c5-c9d8012c1b90",
   "metadata": {},
   "source": [
    "<hr>"
   ]
  },
  {
   "cell_type": "markdown",
   "id": "0f273bf0-05bf-42ba-b8e3-7e3204d47845",
   "metadata": {},
   "source": [
    "<h1 style=\"margin-left: 29px;text-decoration: underline;text-decoration-style: double;\"><i><b>Lab Title :</b></i></h1>"
   ]
  },
  {
   "cell_type": "markdown",
   "id": "84386c6e-a2e8-446d-8d94-d1d0fd57d615",
   "metadata": {},
   "source": [
    "<h2 style=\"margin-left: 129px;text-decoration: underline;text-decoration-style: double;\"><i><b>PRIORITY QUEUE\n",
    "</b></i></h2>"
   ]
  },
  {
   "cell_type": "markdown",
   "id": "4c4194f0-45c3-45f0-b763-fa1c402a7109",
   "metadata": {},
   "source": [
    "<h1 style=\"margin-left: 19px;text-decoration: underline;\"><i><b>INTRODUCTION:</b></i></h1>"
   ]
  },
  {
   "cell_type": "markdown",
   "id": "9984f194-053d-4367-963d-b04aa97f393d",
   "metadata": {},
   "source": [
    "<h4 style=\"margin-left: 10px;\"><i><b> The aim of this lab is to understand the concepts of priority queue and how it \n",
    "works.\n",
    "</b></i></h4>"
   ]
  },
  {
   "cell_type": "markdown",
   "id": "ed501b24-9892-434d-aaad-54e543db127a",
   "metadata": {},
   "source": [
    "<h1 style=\"margin-left: 19px;text-decoration: underline;\"><i><b>INTRODUCTION:</b></i></h1>"
   ]
  },
  {
   "cell_type": "markdown",
   "id": "7f298fcc-213c-43b6-999e-f23a841fcba5",
   "metadata": {},
   "source": [
    "<h4 style=\"margin-left: 10px;\"><i><b>A priority queue is a data structure that stores elements along with associated \n",
    "priorities. The key feature of a priority queue is that the element with the highest (or lowest) \n",
    "priority is always at the front and is the next to be removed..</b></i></h4>"
   ]
  },
  {
   "cell_type": "markdown",
   "id": "f17bfa52-8a24-4477-bafd-5a49708e03d6",
   "metadata": {},
   "source": [
    "<hr>"
   ]
  },
  {
   "cell_type": "markdown",
   "id": "e8afd472-4bc8-4a4d-830f-ae506aa0eb86",
   "metadata": {},
   "source": [
    "<h2 style=\"margin-left: 10px;text-decoration: underline;\"><i><b>1. Lab work task:</b></b></i></h2>"
   ]
  },
  {
   "cell_type": "markdown",
   "id": "4752c699-b4f7-4b3b-b2e9-87ea682c44a5",
   "metadata": {},
   "source": [
    "<h4 style=\"margin-left: 10px;text-decoration: underline;\"><i><b> Importing heapq for priority queue:\n",
    "We use the heapq module for its efficient implementation of a binary heap, which is \n",
    "the underlying data structure for our priority queue.</b></i></h4>"
   ]
  },
  {
   "cell_type": "code",
   "execution_count": 150,
   "id": "d2ab3b35-2b93-4ef9-b035-9a2ed32f804a",
   "metadata": {},
   "outputs": [],
   "source": [
    "import heapq"
   ]
  },
  {
   "cell_type": "markdown",
   "id": "b01f3bd4-666a-4390-9953-388be672e621",
   "metadata": {},
   "source": [
    "<h1 style=\"margin-left: 10px;text-decoration: underline;\"><i><b> 2. Enqueue (Insert):</b></i></h1>"
   ]
  },
  {
   "cell_type": "code",
   "execution_count": 153,
   "id": "f6fece08-9ea9-4df7-9f65-b25a80ad6aa6",
   "metadata": {},
   "outputs": [],
   "source": [
    "import heapq\n",
    "def enqueue(self, data, priority):\n",
    "    heapq.heappush(self.heap, (priority, data))"
   ]
  },
  {
   "cell_type": "markdown",
   "id": "859c9f4a-dfd4-4b82-8f05-15e4b3f1c4cc",
   "metadata": {},
   "source": [
    "<h4 style=\"margin-left: 10px;text-decoration: underline;\"><i><b> IMPLEMENTING PUSH OPERATION:<br>CODE:</b></i></h4>"
   ]
  },
  {
   "cell_type": "code",
   "execution_count": 156,
   "id": "4f5e243a-54fd-4885-8661-771d3b0c1349",
   "metadata": {},
   "outputs": [],
   "source": [
    "from heapq import heappush\n",
    "fruits = []\n",
    "heappush(fruits, \"orange\")\n",
    "heappush(fruits, \"apple\")\n",
    "heappush(fruits, \"banana\")"
   ]
  },
  {
   "cell_type": "code",
   "execution_count": 158,
   "id": "aa4865dd-70cb-4433-9ea7-711bed2284ce",
   "metadata": {},
   "outputs": [
    {
     "name": "stdout",
     "output_type": "stream",
     "text": [
      "['apple', 'orange', 'banana']\n"
     ]
    }
   ],
   "source": [
    "print(fruits)"
   ]
  },
  {
   "cell_type": "markdown",
   "id": "4cd55558-779a-4c82-b5a4-72ba8477f430",
   "metadata": {},
   "source": [
    "<h1 style=\"margin-left: 10px;text-decoration: underline;\"><i><b> 3. Dequeue (Remove):</b></i></h1>"
   ]
  },
  {
   "cell_type": "code",
   "execution_count": 161,
   "id": "bd0cba35-f0f0-4958-8566-4e0caa644200",
   "metadata": {},
   "outputs": [
    {
     "data": {
      "text/plain": [
       "['banana', 'orange']"
      ]
     },
     "execution_count": 161,
     "metadata": {},
     "output_type": "execute_result"
    }
   ],
   "source": [
    "from heapq import heappop\n",
    "heappop(fruits)\n",
    "fruits"
   ]
  },
  {
   "cell_type": "markdown",
   "id": "44bc758b-ef80-406a-8c6b-dcdb1fa5e38f",
   "metadata": {},
   "source": [
    "<h4 style=\"margin-left: 10px;text-decoration: underline;\"><i><b> COMPAIRING STRING OBJECTS:</b></i></h4>"
   ]
  },
  {
   "cell_type": "code",
   "execution_count": 164,
   "id": "eb792187-f55a-4773-82a3-7fcf57037358",
   "metadata": {},
   "outputs": [],
   "source": [
    "Person1 = (\"John\", \"Brown\", 42)\n",
    "person2 = (\"John\", \"Doe\", 42)\n",
    "person3 = (\"John\", \"Doe\", 24)"
   ]
  },
  {
   "cell_type": "code",
   "execution_count": 166,
   "id": "de43433c-46d3-4646-81e6-89b971035476",
   "metadata": {},
   "outputs": [
    {
     "data": {
      "text/plain": [
       "True"
      ]
     },
     "execution_count": 166,
     "metadata": {},
     "output_type": "execute_result"
    }
   ],
   "source": [
    "Person1 < person2"
   ]
  },
  {
   "cell_type": "code",
   "execution_count": 168,
   "id": "107486eb-938a-4639-9983-203788d9878f",
   "metadata": {},
   "outputs": [
    {
     "data": {
      "text/plain": [
       "False"
      ]
     },
     "execution_count": 168,
     "metadata": {},
     "output_type": "execute_result"
    }
   ],
   "source": [
    "person2 < person3"
   ]
  },
  {
   "cell_type": "markdown",
   "id": "9f444da0-59b7-4fdb-88a1-ed74a14289af",
   "metadata": {},
   "source": [
    "<h1 style=\"margin-left: 10px;text-decoration: underline;\"><i><b> 4. BUILDING PRIORITY QUEUE DATA TYPE:</b></i></h1>"
   ]
  },
  {
   "cell_type": "markdown",
   "id": "69f39e6a-309f-45ee-931b-fa34b0312575",
   "metadata": {},
   "source": [
    "<h4 style=\"margin-left: 10px;text-decoration: underline;\"><i><b> a. To build a priority queue data type, you can use the heapq module in Python, which \n",
    "provides a convenient way to implement a priority queue using a binary heap. </b></i></h4>"
   ]
  },
  {
   "cell_type": "markdown",
   "id": "124a8666-d545-4237-a0de-015a1c2ba80f",
   "metadata": {},
   "source": [
    "<h1><b>CODE:</b></h1>"
   ]
  },
  {
   "cell_type": "code",
   "execution_count": 173,
   "id": "a9f0e276-2385-49c7-87ee-04409ac1409a",
   "metadata": {},
   "outputs": [],
   "source": [
    "from collections import deque\n",
    "from heapq import heappop, heappush\n",
    "\n",
    "class PriorityQueue:\n",
    "    def __init__(self):\n",
    "        self._elements = []\n",
    "\n",
    "    def enqueue_with_priority(self, priority, value):\n",
    "        heappush(self._elements, (priority, value))\n",
    "\n",
    "    def dequeue(self):\n",
    "        return heappop(self._elements)"
   ]
  },
  {
   "cell_type": "markdown",
   "id": "37049fd0-106d-4430-b597-5290799b6c5b",
   "metadata": {},
   "source": [
    "<h4 style=\"margin-left: 10px;text-decoration: underline;\"><i><b>i. It’s a basic priority queue implementation, which defines a heap of elements using a \n",
    "Python list and two methods that manipulate it. The enqueue_with_priority() method \n",
    "takes two arguments, a priority and a corresponding value. </b></i></h4>"
   ]
  },
  {
   "cell_type": "code",
   "execution_count": 176,
   "id": "77f9a3f1-4b39-4c6e-b569-4583869e2d98",
   "metadata": {},
   "outputs": [],
   "source": [
    "CRITICAL = 3\n",
    "IMPORTANT = 2\n",
    "NEUTRAL = 1\n",
    "\n",
    "messages = PriorityQueue()\n",
    "\n",
    "messages.enqueue_with_priority(IMPORTANT, \"Windshield wipers turned on\")\n",
    "messages.enqueue_with_priority(NEUTRAL, \"Radio station tuned in\")\n",
    "messages.enqueue_with_priority(CRITICAL, \"Brake pedal depressed\")\n",
    "messages.enqueue_with_priority(IMPORTANT, \"Hazard lights turned on\")"
   ]
  },
  {
   "cell_type": "code",
   "execution_count": 178,
   "id": "7798ded8-0ac0-44f5-9d7f-dd260fc8d990",
   "metadata": {},
   "outputs": [
    {
     "data": {
      "text/plain": [
       "[(1, 'Radio station tuned in'),\n",
       " (2, 'Hazard lights turned on'),\n",
       " (3, 'Brake pedal depressed'),\n",
       " (2, 'Windshield wipers turned on')]"
      ]
     },
     "execution_count": 178,
     "metadata": {},
     "output_type": "execute_result"
    }
   ],
   "source": [
    "messages._elements"
   ]
  },
  {
   "cell_type": "code",
   "execution_count": 180,
   "id": "22588833-376e-4d0b-86f6-7dc2e2108a31",
   "metadata": {},
   "outputs": [
    {
     "data": {
      "text/plain": [
       "(1, 'Radio station tuned in')"
      ]
     },
     "execution_count": 180,
     "metadata": {},
     "output_type": "execute_result"
    }
   ],
   "source": [
    "messages.dequeue()"
   ]
  },
  {
   "cell_type": "markdown",
   "id": "c00dd8b1-4fe9-4b50-8661-eee84029056b",
   "metadata": {},
   "source": [
    "<h4 style=\"margin-left: 10px;text-decoration: underline;\"><i><b>5. NEGATIVE PRIORITY:<br><br>\n",
    "i. By just making the priority negative you will get With this small change, you’ll push \n",
    "critical messages ahead of important and neutral ones.<br><br>\n",
    "ii. You will unpack the value from the tuple by accessing its second component, located \n",
    "at index one using the square bracket ( [ ] ) syntax. </b></i></h4>"
   ]
  },
  {
   "cell_type": "code",
   "execution_count": 183,
   "id": "62b15c95-4535-4059-98d0-cbbcd5bd760a",
   "metadata": {},
   "outputs": [],
   "source": [
    "import heapq\n",
    "class PriorityQueue:\n",
    "    def __init__(self):\n",
    "        self._elements = []\n",
    "    def enqueue_with_priority(self, priority, value):\n",
    "        heapq.heappush(self._elements, (-priority, value))\n",
    "    def dequeue(self):\n",
    "        return heapq.heappop(self._elements)[1]"
   ]
  },
  {
   "cell_type": "markdown",
   "id": "0e63fa21-a3e9-4c98-a8a5-d4d9db5eba26",
   "metadata": {},
   "source": [
    "<h4 style=\"margin-left: 10px;text-decoration: underline;\"><i><b> NOW RUN THE FOLLOWING CODE: </b></i></h4>"
   ]
  },
  {
   "cell_type": "code",
   "execution_count": 186,
   "id": "28cad727-0b58-4114-bc8d-bef86e28bab7",
   "metadata": {},
   "outputs": [
    {
     "data": {
      "text/plain": [
       "(2, 'Hazard lights turned on')"
      ]
     },
     "execution_count": 186,
     "metadata": {},
     "output_type": "execute_result"
    }
   ],
   "source": [
    "messages.dequeue()"
   ]
  },
  {
   "cell_type": "code",
   "execution_count": 188,
   "id": "329f68a0-7dc9-4e48-b2b8-ee4c92d9dd64",
   "metadata": {},
   "outputs": [
    {
     "data": {
      "text/plain": [
       "(2, 'Windshield wipers turned on')"
      ]
     },
     "execution_count": 188,
     "metadata": {},
     "output_type": "execute_result"
    }
   ],
   "source": [
    "messages.dequeue()"
   ]
  },
  {
   "cell_type": "code",
   "execution_count": 190,
   "id": "5ba1b995-66f6-4212-b6a7-098d9b62732b",
   "metadata": {},
   "outputs": [
    {
     "data": {
      "text/plain": [
       "(3, 'Brake pedal depressed')"
      ]
     },
     "execution_count": 190,
     "metadata": {},
     "output_type": "execute_result"
    }
   ],
   "source": [
    "messages.dequeue()"
   ]
  },
  {
   "cell_type": "code",
   "execution_count": 192,
   "id": "88bb732c-67bb-41db-b951-fb319c0e0c17",
   "metadata": {},
   "outputs": [
    {
     "ename": "IndexError",
     "evalue": "index out of range",
     "output_type": "error",
     "traceback": [
      "\u001b[1;31m---------------------------------------------------------------------------\u001b[0m",
      "\u001b[1;31mIndexError\u001b[0m                                Traceback (most recent call last)",
      "Cell \u001b[1;32mIn[192], line 1\u001b[0m\n\u001b[1;32m----> 1\u001b[0m messages\u001b[38;5;241m.\u001b[39mdequeue()\n",
      "Cell \u001b[1;32mIn[173], line 12\u001b[0m, in \u001b[0;36mPriorityQueue.dequeue\u001b[1;34m(self)\u001b[0m\n\u001b[0;32m     11\u001b[0m \u001b[38;5;28;01mdef\u001b[39;00m \u001b[38;5;21mdequeue\u001b[39m(\u001b[38;5;28mself\u001b[39m):\n\u001b[1;32m---> 12\u001b[0m     \u001b[38;5;28;01mreturn\u001b[39;00m heappop(\u001b[38;5;28mself\u001b[39m\u001b[38;5;241m.\u001b[39m_elements)\n",
      "\u001b[1;31mIndexError\u001b[0m: index out of range"
     ]
    }
   ],
   "source": [
    "messages.dequeue()"
   ]
  },
  {
   "cell_type": "markdown",
   "id": "2fc82ed5-c180-4b01-8a67-99885309c744",
   "metadata": {},
   "source": [
    "<h4 style=\"margin-left: 10px;text-decoration: underline;\"><i><b> HANDLING CORNER CASES IN PRIORITY QUEUE:<br><br>\n",
    " COMPARISON CASE:\n",
    "CODE: </b></i></h4>"
   ]
  },
  {
   "cell_type": "code",
   "execution_count": 195,
   "id": "7954d042-45b3-4a1a-8644-e6ff9fecbc5c",
   "metadata": {},
   "outputs": [],
   "source": [
    "from dataclasses import dataclass\n",
    "@dataclass\n",
    "class Message:\n",
    "    event: str"
   ]
  },
  {
   "cell_type": "code",
   "execution_count": 197,
   "id": "17c7e801-0bdc-4a71-8bb4-2ab648e20e21",
   "metadata": {},
   "outputs": [],
   "source": [
    "wipers = Message(\"Windshield wipers turned on\")\n",
    "hazard_lights = Message(\"Hazard lights turned on\")"
   ]
  },
  {
   "cell_type": "code",
   "execution_count": 199,
   "id": "cba227bb-d89f-40a9-8cac-48c289a4cba9",
   "metadata": {},
   "outputs": [],
   "source": [
    "messages = PriorityQueue()\n",
    "messages.enqueue_with_priority(CRITICAL, wipers)\n",
    "messages.enqueue_with_priority(IMPORTANT, hazard_lights)"
   ]
  },
  {
   "cell_type": "code",
   "execution_count": 201,
   "id": "a6829820-687d-4249-9b53-68c4c6387a6d",
   "metadata": {},
   "outputs": [
    {
     "ename": "NameError",
     "evalue": "name 'message' is not defined",
     "output_type": "error",
     "traceback": [
      "\u001b[1;31m---------------------------------------------------------------------------\u001b[0m",
      "\u001b[1;31mNameError\u001b[0m                                 Traceback (most recent call last)",
      "Cell \u001b[1;32mIn[201], line 1\u001b[0m\n\u001b[1;32m----> 1\u001b[0m messages\u001b[38;5;241m.\u001b[39menqueue_with_priority(CRITICAL, message(\u001b[38;5;124m\"\u001b[39m\u001b[38;5;124mABS engaged\u001b[39m\u001b[38;5;124m\"\u001b[39m))\n",
      "\u001b[1;31mNameError\u001b[0m: name 'message' is not defined"
     ]
    }
   ],
   "source": [
    "messages.enqueue_with_priority(CRITICAL, message(\"ABS engaged\"))"
   ]
  },
  {
   "cell_type": "markdown",
   "id": "07c48515-7a40-4c76-860e-323c6fc1a1fb",
   "metadata": {},
   "source": [
    "<h4 style=\"margin-left: 10px;text-decoration: underline;\"><i><b>You can use the count() iterator from the itertools module to count from zero to infinity in a \n",
    "concise way: </b></i></h4>"
   ]
  },
  {
   "cell_type": "code",
   "execution_count": 204,
   "id": "242a6aca-c077-4e0a-97b1-ee334b704929",
   "metadata": {},
   "outputs": [],
   "source": [
    "from collections import deque\n",
    "from heapq import heappop, heappush\n",
    "from itertools import count\n",
    "\n",
    "class PriorityQueue:\n",
    "    def __init__(self):\n",
    "        self._elements = []\n",
    "        self._counter = count()\n",
    "\n",
    "    def enqueue_with_priority(self, priority, value):\n",
    "        element = (-priority, next(self._counter), value)  # Use a tuple for priority, counter, and value\n",
    "        heappush(self._elements, element)\n",
    "\n",
    "    def dequeue(self):\n",
    "        return heappop(self._elements)[-1]  # Return the last element of the popped tuple (the value)"
   ]
  },
  {
   "cell_type": "code",
   "execution_count": 206,
   "id": "b409828f-1083-4f8f-93b9-94983176736d",
   "metadata": {},
   "outputs": [],
   "source": [
    "class IterableMixin:\n",
    "    def __len__(self):\n",
    "        return len(self._elements)\n",
    "\n",
    "    def __iter__(self):\n",
    "        while len(self) > 0:\n",
    "            yield self.dequeue()"
   ]
  },
  {
   "cell_type": "markdown",
   "id": "c01ed2ba-d7c7-461b-a99f-87d7e04aa277",
   "metadata": {},
   "source": [
    "<h1><b>ENCOURAGING :</b></h1>"
   ]
  },
  {
   "cell_type": "markdown",
   "id": "171a39f1-a20b-4c37-bbed-8cd298a08145",
   "metadata": {},
   "source": [
    "<h4 style=\"margin-left: 10px;text-decoration: underline;\"><i><b>You moved the .__len__() and .__iter__() methods from the Queue class to a \n",
    "separate IterableMixin class and made the former extend that mixin</b></i></h4>"
   ]
  },
  {
   "cell_type": "code",
   "execution_count": 126,
   "id": "30b67b56-25c7-4cf7-b447-a1fe56620ecd",
   "metadata": {},
   "outputs": [],
   "source": [
    "from collections import deque\n",
    "from heapq import heappop, heappush\n",
    "from itertools import count"
   ]
  },
  {
   "cell_type": "code",
   "execution_count": 136,
   "id": "a402c51f-6a31-476f-92e4-135f469bf0e5",
   "metadata": {},
   "outputs": [
    {
     "ename": "SyntaxError",
     "evalue": "invalid syntax (1948527196.py, line 1)",
     "output_type": "error",
     "traceback": [
      "\u001b[1;36m  Cell \u001b[1;32mIn[136], line 1\u001b[1;36m\u001b[0m\n\u001b[1;33m    lass Stack(Queue):\u001b[0m\n\u001b[1;37m         ^\u001b[0m\n\u001b[1;31mSyntaxError\u001b[0m\u001b[1;31m:\u001b[0m invalid syntax\n"
     ]
    }
   ],
   "source": [
    "lass Stack(Queue):\n",
    "    def dequeue(self):\n",
    "        return self._elements.pop()\n",
    "\n",
    "class PriorityQueue(IterableMixin):\n",
    "    def __init__(self):\n",
    "        self._elements = []\n",
    "        self._counter = count()\n",
    "\n",
    "    def enqueue_with_priority(self, priority, value):\n",
    "        element = (-priority, next(self._counter), value)\n",
    "        heappush(self._elements, element)\n",
    "\n",
    "    def dequeue(self):\n",
    "        return heappop(self._elements)[-1]\n",
    "\n",
    "class IterableMixin:\n",
    "    def __len__(self):\n",
    "        return len(self._elements)\n",
    "\n",
    "    def __iter__(self):\n",
    "        while len(self) > 0:\n",
    "            yield self.dequeue()\n",
    "\n",
    "class Queue(IterableMixin):\n",
    "    def __init__(self, *elements):\n",
    "        self._elements = deque(elements)\n",
    "\n",
    "    def enqueue(self, element):\n",
    "        self._elements.append(element)\n",
    "\n",
    "    def dequeue(self):\n",
    "        return self._elements.popleft()"
   ]
  },
  {
   "cell_type": "markdown",
   "id": "dbfcadd7-0991-41b4-ab2a-ec28595e5865",
   "metadata": {},
   "source": [
    "<hr>"
   ]
  }
 ],
 "metadata": {
  "kernelspec": {
   "display_name": "Python 3 (ipykernel)",
   "language": "python",
   "name": "python3"
  },
  "language_info": {
   "codemirror_mode": {
    "name": "ipython",
    "version": 3
   },
   "file_extension": ".py",
   "mimetype": "text/x-python",
   "name": "python",
   "nbconvert_exporter": "python",
   "pygments_lexer": "ipython3",
   "version": "3.12.4"
  }
 },
 "nbformat": 4,
 "nbformat_minor": 5
}
