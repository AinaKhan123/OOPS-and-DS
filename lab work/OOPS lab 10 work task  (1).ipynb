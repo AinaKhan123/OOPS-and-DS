{
 "cells": [
  {
   "cell_type": "markdown",
   "id": "1cc6093c-1760-45ff-bcb8-3fe83d8f4d9b",
   "metadata": {},
   "source": [
    "<h1 style=\"margin-left: 10px; text-decoration: underline; text-decoration-style: double;\"><strong><i> Lab Practice: </i></strong></h1>"
   ]
  },
  {
   "cell_type": "markdown",
   "id": "4e431a82-48e4-443a-8348-ac1a5ffdda75",
   "metadata": {},
   "source": [
    "<p style=\"margin-left: 10px;text-decoration: underline;\"><strong> Name </strong>: Aina khan</p>\n",
    "<p style=\"margin-left: 10px;text-decoration: underline;\"><strong> Reg No </strong>: 0540 <p>\n",
    "<p style=\"margin-left: 10px;text-decoration: underline;\"><strong> Lab Practice </strong>: <strong> 10 </strong> <p>"
   ]
  },
  {
   "cell_type": "markdown",
   "id": "c8c4afc5-c99f-4bb9-a32d-eba3cf7794e9",
   "metadata": {},
   "source": [
    "<hr>"
   ]
  },
  {
   "cell_type": "markdown",
   "id": "a9a04a4c-62b4-46e2-a4be-6b66f8ce0c58",
   "metadata": {},
   "source": [
    "<h1 style=\"margin-left: 29px;text-decoration: underline;text-decoration-style: double;\"><i><b>Lab Title :</b></i></h1>"
   ]
  },
  {
   "cell_type": "markdown",
   "id": "5a494435-560a-4a87-b438-fd21ab252f2b",
   "metadata": {},
   "source": [
    "<h2 style=\"margin-left: 129px;text-decoration: underline;text-decoration-style: double;\"><i><b>\" Modules and Package\"\n",
    "</b></i></h2>"
   ]
  },
  {
   "cell_type": "markdown",
   "id": "da6975dd-49cf-44f7-8ea8-d38f06a1cb41",
   "metadata": {},
   "source": [
    "<h1 style=\"margin-left: 29px;text-decoration: underline;text-decoration-style: double;\"><i><b>task:1 :</b></i></h1>"
   ]
  },
  {
   "cell_type": "markdown",
   "id": "238c9d44-88da-4288-b247-a8a47a6b0839",
   "metadata": {},
   "source": [
    "Convert labs 7, 8, and 9 into modules, package them with name inheritance, and \n",
    "revise the corresponding tasks. "
   ]
  },
  {
   "cell_type": "code",
   "execution_count": 1412,
   "id": "eef0fff1-0dfc-4868-8e98-2fafe3c71b23",
   "metadata": {},
   "outputs": [],
   "source": [
    "import os\n",
    "os.chdir(r'C:\\Users\\DELL\\Desktop\\UET\\3 semester\\OOPS lab\\inheritence')"
   ]
  },
  {
   "cell_type": "code",
   "execution_count": 1414,
   "id": "cce1122c-9f78-46ae-ae85-8149167a0f93",
   "metadata": {},
   "outputs": [],
   "source": [
    "import hr"
   ]
  },
  {
   "cell_type": "code",
   "execution_count": 1416,
   "id": "ee73c79f-efb7-4970-975d-d7ce7e331dbb",
   "metadata": {},
   "outputs": [],
   "source": [
    "from hr import PayrollSystem"
   ]
  },
  {
   "cell_type": "code",
   "execution_count": 1418,
   "id": "2343ef6b-526b-42f8-9f8b-410d926760f9",
   "metadata": {},
   "outputs": [],
   "source": [
    "import productivity"
   ]
  },
  {
   "cell_type": "code",
   "execution_count": 1420,
   "id": "56138bf0-df10-4119-88f6-a2245c32e13a",
   "metadata": {},
   "outputs": [],
   "source": [
    "from productivity import ProductivitySystem"
   ]
  },
  {
   "cell_type": "code",
   "execution_count": 1422,
   "id": "edf0dd4b-4731-4eac-b8b3-ac8c2dd12209",
   "metadata": {},
   "outputs": [],
   "source": [
    "import employees"
   ]
  },
  {
   "cell_type": "code",
   "execution_count": 1424,
   "id": "c84a889c-76f0-45ee-a2e9-dfcc2667f751",
   "metadata": {},
   "outputs": [],
   "source": [
    "from employees import SalaryEmployee"
   ]
  },
  {
   "cell_type": "code",
   "execution_count": 1426,
   "id": "5f871b0a-6712-423e-958e-4c0deb5dc82a",
   "metadata": {},
   "outputs": [],
   "source": [
    "s=SalaryEmployee(3,\"ali\",40)"
   ]
  },
  {
   "cell_type": "code",
   "execution_count": 1428,
   "id": "ffd898e4-bbeb-480a-aef7-8e8a28c5f641",
   "metadata": {},
   "outputs": [
    {
     "data": {
      "text/plain": [
       "40"
      ]
     },
     "execution_count": 1428,
     "metadata": {},
     "output_type": "execute_result"
    }
   ],
   "source": [
    "s.calculate_payroll()"
   ]
  },
  {
   "cell_type": "code",
   "execution_count": 1430,
   "id": "30ba045d-7fc5-41ff-a823-83cfb72858a0",
   "metadata": {},
   "outputs": [
    {
     "data": {
      "text/plain": [
       "40"
      ]
     },
     "execution_count": 1430,
     "metadata": {},
     "output_type": "execute_result"
    }
   ],
   "source": [
    "s.weekly_salary"
   ]
  },
  {
   "cell_type": "code",
   "execution_count": 1432,
   "id": "d48147ab-9ced-4865-b2b8-d4fb5f4e162f",
   "metadata": {},
   "outputs": [],
   "source": [
    "from employees import HourlyEmployee"
   ]
  },
  {
   "cell_type": "code",
   "execution_count": 1434,
   "id": "7e8aa886-40e3-4a0a-bd06-ce8022583b05",
   "metadata": {},
   "outputs": [],
   "source": [
    "h=HourlyEmployee(3,\"ali\",4,60)"
   ]
  },
  {
   "cell_type": "code",
   "execution_count": 1435,
   "id": "4cb85834-5ed2-4a8c-8eee-e1d2f2450bf9",
   "metadata": {},
   "outputs": [
    {
     "data": {
      "text/plain": [
       "4"
      ]
     },
     "execution_count": 1435,
     "metadata": {},
     "output_type": "execute_result"
    }
   ],
   "source": [
    "h.hours_worked"
   ]
  },
  {
   "cell_type": "code",
   "execution_count": 1436,
   "id": "1f2f78d1-3727-46e8-b895-19e245b66399",
   "metadata": {},
   "outputs": [
    {
     "data": {
      "text/plain": [
       "60"
      ]
     },
     "execution_count": 1436,
     "metadata": {},
     "output_type": "execute_result"
    }
   ],
   "source": [
    "h.hourly_rate"
   ]
  },
  {
   "cell_type": "code",
   "execution_count": 1437,
   "id": "d005a674-215b-4abc-a5ac-34079a86766b",
   "metadata": {},
   "outputs": [
    {
     "data": {
      "text/plain": [
       "240"
      ]
     },
     "execution_count": 1437,
     "metadata": {},
     "output_type": "execute_result"
    }
   ],
   "source": [
    "h.calculate_payroll()"
   ]
  },
  {
   "cell_type": "code",
   "execution_count": 1442,
   "id": "3e5c48a2-072f-4d31-921d-d0ee6f5df129",
   "metadata": {},
   "outputs": [],
   "source": [
    "from employees import CommissionEmployee"
   ]
  },
  {
   "cell_type": "code",
   "execution_count": 1444,
   "id": "a8bd9afd-1f16-4012-bcec-bc5ff186c2e2",
   "metadata": {},
   "outputs": [],
   "source": [
    "\n",
    "c=CommissionEmployee(4,\"ali\",60,5)"
   ]
  },
  {
   "cell_type": "code",
   "execution_count": 1446,
   "id": "53bfad6f-fe3f-40ef-9b2a-43957be8757c",
   "metadata": {},
   "outputs": [
    {
     "data": {
      "text/plain": [
       "5"
      ]
     },
     "execution_count": 1446,
     "metadata": {},
     "output_type": "execute_result"
    }
   ],
   "source": [
    "c.commission"
   ]
  },
  {
   "cell_type": "code",
   "execution_count": 1448,
   "id": "d0ad397e-14a6-415c-8221-0460f71b3164",
   "metadata": {},
   "outputs": [
    {
     "data": {
      "text/plain": [
       "65"
      ]
     },
     "execution_count": 1448,
     "metadata": {},
     "output_type": "execute_result"
    }
   ],
   "source": [
    "\n",
    "c.calculate_payroll()"
   ]
  },
  {
   "cell_type": "code",
   "execution_count": 1450,
   "id": "3be97dac-c2cf-4607-9b42-5d01ede1571b",
   "metadata": {},
   "outputs": [],
   "source": [
    "from employees import Manager"
   ]
  },
  {
   "cell_type": "code",
   "execution_count": 1452,
   "id": "a88c1c29-0289-41a1-89df-5659242399aa",
   "metadata": {},
   "outputs": [],
   "source": [
    "m=Manager(3,\"ali\",40)"
   ]
  },
  {
   "cell_type": "code",
   "execution_count": 1454,
   "id": "e135323d-bde5-4f73-b641-20f622e745b0",
   "metadata": {},
   "outputs": [
    {
     "name": "stdout",
     "output_type": "stream",
     "text": [
      "ali screams and yells for 8 hours.\n"
     ]
    }
   ],
   "source": [
    "m.work(8)"
   ]
  },
  {
   "cell_type": "code",
   "execution_count": 1456,
   "id": "93d51095-db63-4555-a154-3ca79740e87d",
   "metadata": {},
   "outputs": [],
   "source": [
    "from employees import Secretary"
   ]
  },
  {
   "cell_type": "code",
   "execution_count": 1458,
   "id": "d5070743-1082-4a6e-b279-77a14ac257f7",
   "metadata": {},
   "outputs": [],
   "source": [
    "s=Secretary(3,\"ali\",40)"
   ]
  },
  {
   "cell_type": "code",
   "execution_count": 1460,
   "id": "2b9d236e-90bc-4a9e-a55a-3271cd1f937b",
   "metadata": {},
   "outputs": [
    {
     "name": "stdout",
     "output_type": "stream",
     "text": [
      "ali expends 2 hours doing office paperwork.\n"
     ]
    }
   ],
   "source": [
    "s.work(2)"
   ]
  },
  {
   "cell_type": "code",
   "execution_count": 1462,
   "id": "41ddab11-33a5-47da-8a57-28e927a23557",
   "metadata": {},
   "outputs": [],
   "source": [
    "from employees import SalesPerson"
   ]
  },
  {
   "cell_type": "code",
   "execution_count": 1463,
   "id": "cdc7fdd1-3889-4dcd-9f00-bd0163618202",
   "metadata": {},
   "outputs": [],
   "source": [
    "ss=SalesPerson(3,\"ali\",40,10)"
   ]
  },
  {
   "cell_type": "code",
   "execution_count": 1466,
   "id": "9dd75fe2-0c60-4758-9481-3d8d7a5263f4",
   "metadata": {},
   "outputs": [
    {
     "name": "stdout",
     "output_type": "stream",
     "text": [
      "ali expends 3 hours on the phone.\n"
     ]
    }
   ],
   "source": [
    "ss.work(3)"
   ]
  },
  {
   "cell_type": "code",
   "execution_count": 1468,
   "id": "10086025-70a4-45f2-a91c-95dcc65e82bc",
   "metadata": {},
   "outputs": [],
   "source": [
    "from employees import FactoryWorker"
   ]
  },
  {
   "cell_type": "code",
   "execution_count": 1470,
   "id": "a4dd8f81-6db5-4d8e-8f50-b46b67210e0c",
   "metadata": {},
   "outputs": [],
   "source": [
    "f=FactoryWorker(3,\"ali\",40,3)"
   ]
  },
  {
   "cell_type": "code",
   "execution_count": 1472,
   "id": "f55c8251-4076-4c90-bbf9-449bdcf710ea",
   "metadata": {},
   "outputs": [
    {
     "name": "stdout",
     "output_type": "stream",
     "text": [
      "ali manufactures gadgets for 4 hours.\n"
     ]
    }
   ],
   "source": [
    "f.work(4)"
   ]
  },
  {
   "cell_type": "code",
   "execution_count": 1474,
   "id": "d8fd3709-6e60-46a4-817d-5bad73a06fcc",
   "metadata": {},
   "outputs": [],
   "source": [
    "from employees import TemporarySecretary"
   ]
  },
  {
   "cell_type": "code",
   "execution_count": 1476,
   "id": "249ec363-7589-41a9-9cff-f069c22569df",
   "metadata": {},
   "outputs": [
    {
     "name": "stdout",
     "output_type": "stream",
     "text": [
      "Tracking Employee Productivity\n",
      "==============================\n",
      "Mary Poppins screams and yells for 40 hours.\n",
      "John Smith expends 40 hours doing office paperwork.\n",
      "Kevin Bacon expends 40 hours on the phone.\n",
      "Jane Doe manufactures gadgets for 40 hours.\n",
      "Robin Williams expends 40 hours doing office paperwork.\n",
      "\n",
      "Calculating Payroll\n",
      "===================\n",
      "Payroll for: 1 - Mary Poppins\n",
      "- Check amount: 3000\n",
      "\n",
      "Payroll for: 2 - John Smith\n",
      "- Check amount: 1500\n",
      "\n",
      "Payroll for: 3 - Kevin Bacon\n",
      "- Check amount: 1250\n",
      "\n",
      "Payroll for: 4 - Jane Doe\n",
      "- Check amount: 600\n",
      "\n",
      "Payroll for: 5 - Robin Williams\n",
      "- Check amount: 360\n",
      "\n"
     ]
    }
   ],
   "source": [
    "manager = Manager(1, \"Mary Poppins\", 3000)\n",
    "secretary = Secretary(2, \"John Smith\", 1500)\n",
    "sales_guy = SalesPerson(3, \"Kevin Bacon\", 1000, 250)\n",
    "factory_worker = FactoryWorker(4, \"Jane Doe\", 40, 15)\n",
    "temporary_secretary = TemporarySecretary(5, \"Robin Williams\", 40, 9)\n",
    "company_employees = [\n",
    "    manager,\n",
    "    secretary,\n",
    "    sales_guy,\n",
    "    factory_worker,\n",
    "    temporary_secretary,\n",
    "]\n",
    "\n",
    "productivity_system = ProductivitySystem()\n",
    "productivity_system.track(company_employees, 40)\n",
    "\n",
    "payroll_system = PayrollSystem()\n",
    "payroll_system.calculate_payroll(company_employees)"
   ]
  },
  {
   "cell_type": "markdown",
   "id": "0398372f-dbfd-48c5-a5f3-1464b47319de",
   "metadata": {},
   "source": [
    "Convert the Geometry classes covered in lab 6 to modules, create a package with the \n",
    "classes names, and repeat the corresponding tasks. "
   ]
  },
  {
   "cell_type": "code",
   "execution_count": 1479,
   "id": "865c11e7-3fa3-416f-8a4f-011856425e3b",
   "metadata": {},
   "outputs": [],
   "source": [
    "import os\n",
    "os.chdir(r'C:\\Users\\DELL\\Desktop\\UET\\3 semester\\OOPS lab\\classes')"
   ]
  },
  {
   "cell_type": "code",
   "execution_count": 1481,
   "id": "b13a679f-a147-479b-810e-c9456249fce4",
   "metadata": {},
   "outputs": [],
   "source": [
    "import classes"
   ]
  },
  {
   "cell_type": "code",
   "execution_count": 1483,
   "id": "aff5e607-60e6-4b95-9941-f9a62b2da4b1",
   "metadata": {},
   "outputs": [],
   "source": [
    "from classes import cls"
   ]
  },
  {
   "cell_type": "code",
   "execution_count": 1485,
   "id": "aa89863f-44e4-4ba5-a9b6-c24f1d455133",
   "metadata": {},
   "outputs": [],
   "source": [
    "from cls import Square"
   ]
  },
  {
   "cell_type": "code",
   "execution_count": 1487,
   "id": "4e14b1be-13b8-4e33-9089-fa36010829f7",
   "metadata": {},
   "outputs": [],
   "source": [
    "inst_1=Square(3)"
   ]
  },
  {
   "cell_type": "code",
   "execution_count": 1489,
   "id": "47390465-da77-41c4-acb4-2e64ed2f4422",
   "metadata": {},
   "outputs": [
    {
     "name": "stdout",
     "output_type": "stream",
     "text": [
      "Square with side length: 3,Area: 9, Perimeter: 12\n"
     ]
    }
   ],
   "source": [
    "print(inst_1)"
   ]
  },
  {
   "cell_type": "code",
   "execution_count": 1491,
   "id": "6d981db8-c98a-44bb-84f4-bb0a4b8a9db9",
   "metadata": {},
   "outputs": [
    {
     "data": {
      "text/plain": [
       "mappingproxy({'__module__': 'cls',\n",
       "              '__doc__': 'A class to represent a square in 2D space.',\n",
       "              '__init__': <function cls.Square.__init__(self, side_length: float)>,\n",
       "              'side_length': <property at 0x2299ab031f0>,\n",
       "              'area': <function cls.Square.area(self) -> float>,\n",
       "              'perimeter': <function cls.Square.perimeter(self) -> float>,\n",
       "              'locate': <function cls.Square.locate(self) -> str>,\n",
       "              '__repr__': <function cls.Square.__repr__(self) -> str>,\n",
       "              '__str__': <function cls.Square.__str__(self) -> str>,\n",
       "              '__dict__': <attribute '__dict__' of 'Square' objects>,\n",
       "              '__weakref__': <attribute '__weakref__' of 'Square' objects>})"
      ]
     },
     "execution_count": 1491,
     "metadata": {},
     "output_type": "execute_result"
    }
   ],
   "source": [
    "Square.__dict__"
   ]
  },
  {
   "cell_type": "code",
   "execution_count": 1493,
   "id": "e88a340b-6b16-4073-a44c-fcb970f891f0",
   "metadata": {},
   "outputs": [
    {
     "data": {
      "text/plain": [
       "{'_side_length': 3}"
      ]
     },
     "execution_count": 1493,
     "metadata": {},
     "output_type": "execute_result"
    }
   ],
   "source": [
    "inst_1.__dict__"
   ]
  },
  {
   "cell_type": "code",
   "execution_count": 1495,
   "id": "814bfd6c-7f45-4603-8ad5-ef3864c0cd64",
   "metadata": {},
   "outputs": [
    {
     "data": {
      "text/plain": [
       "mappingproxy({'__module__': 'cls',\n",
       "              '__doc__': 'A class to represent a square in 2D space.',\n",
       "              '__init__': <function cls.Square.__init__(self, side_length: float)>,\n",
       "              'side_length': <property at 0x2299ab031f0>,\n",
       "              'area': <function cls.Square.area(self) -> float>,\n",
       "              'perimeter': <function cls.Square.perimeter(self) -> float>,\n",
       "              'locate': <function cls.Square.locate(self) -> str>,\n",
       "              '__repr__': <function cls.Square.__repr__(self) -> str>,\n",
       "              '__str__': <function cls.Square.__str__(self) -> str>,\n",
       "              '__dict__': <attribute '__dict__' of 'Square' objects>,\n",
       "              '__weakref__': <attribute '__weakref__' of 'Square' objects>})"
      ]
     },
     "execution_count": 1495,
     "metadata": {},
     "output_type": "execute_result"
    }
   ],
   "source": [
    "vars(Square)"
   ]
  },
  {
   "cell_type": "code",
   "execution_count": 1497,
   "id": "c56ccd2f-7bed-401a-be07-285b8092b621",
   "metadata": {},
   "outputs": [
    {
     "name": "stdout",
     "output_type": "stream",
     "text": [
      "Help on class Square in module cls:\n",
      "\n",
      "class Square(builtins.object)\n",
      " |  Square(side_length: float)\n",
      " |\n",
      " |  A class to represent a square in 2D space.\n",
      " |\n",
      " |  Methods defined here:\n",
      " |\n",
      " |  __init__(self, side_length: float)\n",
      " |      Initialize the square with a side length.\n",
      " |\n",
      " |  __repr__(self) -> str\n",
      " |      repr is for programmer.\n",
      " |\n",
      " |  __str__(self) -> str\n",
      " |      str is for common person or human readable\n",
      " |\n",
      " |  area(self) -> float\n",
      " |      Calculate the area of the square.\n",
      " |\n",
      " |  locate(self) -> str\n",
      " |      Provide a description of the square's properties.\n",
      " |\n",
      " |  perimeter(self) -> float\n",
      " |      Calculate the perimeter of the square.\n",
      " |\n",
      " |  ----------------------------------------------------------------------\n",
      " |  Data descriptors defined here:\n",
      " |\n",
      " |  __dict__\n",
      " |      dictionary for instance variables\n",
      " |\n",
      " |  __weakref__\n",
      " |      list of weak references to the object\n",
      " |\n",
      " |  side_length\n",
      " |      Get the length of a side of the square.\n",
      "\n"
     ]
    }
   ],
   "source": [
    "help(Square)"
   ]
  },
  {
   "cell_type": "code",
   "execution_count": 1499,
   "id": "467c5efa-dccf-4ddf-a3c5-59b62d5efa2f",
   "metadata": {},
   "outputs": [
    {
     "name": "stdout",
     "output_type": "stream",
     "text": [
      "A class to represent a square in 2D space.\n"
     ]
    }
   ],
   "source": [
    "print(Square.__doc__)"
   ]
  },
  {
   "cell_type": "code",
   "execution_count": 1501,
   "id": "9a48314c-6c16-4032-a288-70efc33963b3",
   "metadata": {},
   "outputs": [
    {
     "name": "stdout",
     "output_type": "stream",
     "text": [
      "Initialize the square with a side length.\n",
      "        \n"
     ]
    }
   ],
   "source": [
    "print(Square.__init__.__doc__)"
   ]
  },
  {
   "cell_type": "code",
   "execution_count": 1503,
   "id": "1cde4b83-f430-4b5e-aace-3c3522878765",
   "metadata": {},
   "outputs": [
    {
     "name": "stdout",
     "output_type": "stream",
     "text": [
      "repr is for programmer.\n"
     ]
    }
   ],
   "source": [
    "print(Square.__repr__.__doc__)"
   ]
  },
  {
   "cell_type": "code",
   "execution_count": 1505,
   "id": "e8967ba8-c52b-4feb-872e-8c21213f1ada",
   "metadata": {},
   "outputs": [
    {
     "name": "stdout",
     "output_type": "stream",
     "text": [
      "str is for common person or human readable\n"
     ]
    }
   ],
   "source": [
    "print(Square.__str__.__doc__)"
   ]
  },
  {
   "cell_type": "code",
   "execution_count": 1507,
   "id": "37275e5c-fef5-4392-84f0-88e4acc753f2",
   "metadata": {},
   "outputs": [],
   "source": [
    "class Square:\n",
    "    \"\"\"A class to represent a square in 2D space.\"\"\"\n",
    "\n",
    "    def __init__(self, side_length: float=4):\n",
    "        \"\"\"Initialize the square with a side length.\n",
    "        \"\"\"\n",
    "        self._side_length = side_length              "
   ]
  },
  {
   "cell_type": "code",
   "execution_count": 1509,
   "id": "164bf221-80b4-4a9a-9f45-9171b70f7392",
   "metadata": {},
   "outputs": [],
   "source": [
    "sq=Square()"
   ]
  },
  {
   "cell_type": "code",
   "execution_count": 1511,
   "id": "4711003e-e64b-445a-80e8-f472d55753fe",
   "metadata": {},
   "outputs": [],
   "source": [
    "from cls import Rectangle"
   ]
  },
  {
   "cell_type": "code",
   "execution_count": 1513,
   "id": "699d4eda-b3ba-4b85-bbe9-89eecc3410bf",
   "metadata": {},
   "outputs": [],
   "source": [
    "inst_1=Rectangle(5,9)"
   ]
  },
  {
   "cell_type": "code",
   "execution_count": 1515,
   "id": "54ed7bd1-b45d-4eee-88d0-3e2939cb3066",
   "metadata": {},
   "outputs": [
    {
     "name": "stdout",
     "output_type": "stream",
     "text": [
      "Rectangle with width 5 & height 9 \n"
     ]
    }
   ],
   "source": [
    "print(inst_1)"
   ]
  },
  {
   "cell_type": "code",
   "execution_count": 1517,
   "id": "b9f1e7cb-2515-4d45-ada5-c5868d5581e2",
   "metadata": {},
   "outputs": [
    {
     "data": {
      "text/plain": [
       "mappingproxy({'__module__': 'cls',\n",
       "              '__doc__': 'A class to represent a rectangle in 2D space.',\n",
       "              '__init__': <function cls.Rectangle.__init__(self, width: float, height: float)>,\n",
       "              'width': <property at 0x2299aaeb510>,\n",
       "              'height': <property at 0x2299aaeaca0>,\n",
       "              'area': <function cls.Rectangle.area(self) -> float>,\n",
       "              'perimeter': <function cls.Rectangle.perimeter(self) -> float>,\n",
       "              'locate': <function cls.Rectangle.locate(self) -> str>,\n",
       "              '__repr__': <function cls.Rectangle.__repr__(self) -> str>,\n",
       "              '__str__': <function cls.Rectangle.__str__(self) -> str>,\n",
       "              '__dict__': <attribute '__dict__' of 'Rectangle' objects>,\n",
       "              '__weakref__': <attribute '__weakref__' of 'Rectangle' objects>})"
      ]
     },
     "execution_count": 1517,
     "metadata": {},
     "output_type": "execute_result"
    }
   ],
   "source": [
    "Rectangle.__dict__"
   ]
  },
  {
   "cell_type": "code",
   "execution_count": 1519,
   "id": "cf40ed41-064e-4a22-a6e6-657b1346f7b4",
   "metadata": {},
   "outputs": [
    {
     "data": {
      "text/plain": [
       "mappingproxy({'__module__': 'cls',\n",
       "              '__doc__': 'A class to represent a rectangle in 2D space.',\n",
       "              '__init__': <function cls.Rectangle.__init__(self, width: float, height: float)>,\n",
       "              'width': <property at 0x2299aaeb510>,\n",
       "              'height': <property at 0x2299aaeaca0>,\n",
       "              'area': <function cls.Rectangle.area(self) -> float>,\n",
       "              'perimeter': <function cls.Rectangle.perimeter(self) -> float>,\n",
       "              'locate': <function cls.Rectangle.locate(self) -> str>,\n",
       "              '__repr__': <function cls.Rectangle.__repr__(self) -> str>,\n",
       "              '__str__': <function cls.Rectangle.__str__(self) -> str>,\n",
       "              '__dict__': <attribute '__dict__' of 'Rectangle' objects>,\n",
       "              '__weakref__': <attribute '__weakref__' of 'Rectangle' objects>})"
      ]
     },
     "execution_count": 1519,
     "metadata": {},
     "output_type": "execute_result"
    }
   ],
   "source": [
    "vars(Rectangle)"
   ]
  },
  {
   "cell_type": "code",
   "execution_count": 1521,
   "id": "7e11cff6-f61f-4c8b-bd50-b9a18ea1783d",
   "metadata": {},
   "outputs": [
    {
     "data": {
      "text/plain": [
       "{'_width': 5, '_height': 9}"
      ]
     },
     "execution_count": 1521,
     "metadata": {},
     "output_type": "execute_result"
    }
   ],
   "source": [
    "inst_1.__dict__"
   ]
  },
  {
   "cell_type": "code",
   "execution_count": 1522,
   "id": "9cc2d3c1-fbd7-4a2a-b192-5b1e137477b2",
   "metadata": {},
   "outputs": [
    {
     "data": {
      "text/plain": [
       "mappingproxy({'__module__': 'cls',\n",
       "              '__doc__': 'A class to represent a rectangle in 2D space.',\n",
       "              '__init__': <function cls.Rectangle.__init__(self, width: float, height: float)>,\n",
       "              'width': <property at 0x2299aaeb510>,\n",
       "              'height': <property at 0x2299aaeaca0>,\n",
       "              'area': <function cls.Rectangle.area(self) -> float>,\n",
       "              'perimeter': <function cls.Rectangle.perimeter(self) -> float>,\n",
       "              'locate': <function cls.Rectangle.locate(self) -> str>,\n",
       "              '__repr__': <function cls.Rectangle.__repr__(self) -> str>,\n",
       "              '__str__': <function cls.Rectangle.__str__(self) -> str>,\n",
       "              '__dict__': <attribute '__dict__' of 'Rectangle' objects>,\n",
       "              '__weakref__': <attribute '__weakref__' of 'Rectangle' objects>})"
      ]
     },
     "execution_count": 1522,
     "metadata": {},
     "output_type": "execute_result"
    }
   ],
   "source": [
    "vars(Rectangle)"
   ]
  },
  {
   "cell_type": "code",
   "execution_count": 1523,
   "id": "fe5eb20a-9186-4471-96e1-63c4f63f45f2",
   "metadata": {},
   "outputs": [
    {
     "name": "stdout",
     "output_type": "stream",
     "text": [
      "Help on class Rectangle in module cls:\n",
      "\n",
      "class Rectangle(builtins.object)\n",
      " |  Rectangle(width: float, height: float)\n",
      " |\n",
      " |  A class to represent a rectangle in 2D space.\n",
      " |\n",
      " |  Methods defined here:\n",
      " |\n",
      " |  __init__(self, width: float, height: float)\n",
      " |      Initialize the rectangle with width and height.\n",
      " |\n",
      " |  __repr__(self) -> str\n",
      " |      repr is for programmer\n",
      " |\n",
      " |  __str__(self) -> str\n",
      " |      str is for common person\n",
      " |\n",
      " |  area(self) -> float\n",
      " |      Calculate the area of the rectangle.\n",
      " |\n",
      " |  locate(self) -> str\n",
      " |      Provide a description of the rectangle's properties.\n",
      " |\n",
      " |  perimeter(self) -> float\n",
      " |      Calculate the perimeter of the rectangle.\n",
      " |\n",
      " |  ----------------------------------------------------------------------\n",
      " |  Data descriptors defined here:\n",
      " |\n",
      " |  __dict__\n",
      " |      dictionary for instance variables\n",
      " |\n",
      " |  __weakref__\n",
      " |      list of weak references to the object\n",
      " |\n",
      " |  height\n",
      " |      Get the height of the rectangle.\n",
      " |\n",
      " |  width\n",
      " |      Get the width of the rectangle.\n",
      "\n"
     ]
    }
   ],
   "source": [
    "help(Rectangle)"
   ]
  },
  {
   "cell_type": "code",
   "execution_count": 1527,
   "id": "464222f2-b972-4509-968e-e2b3368cd272",
   "metadata": {},
   "outputs": [
    {
     "name": "stdout",
     "output_type": "stream",
     "text": [
      "A class to represent a rectangle in 2D space.\n"
     ]
    }
   ],
   "source": [
    "print(Rectangle.__doc__)"
   ]
  },
  {
   "cell_type": "code",
   "execution_count": 1529,
   "id": "a6fd4630-274b-4b2d-a66d-e990fc5c730a",
   "metadata": {},
   "outputs": [
    {
     "name": "stdout",
     "output_type": "stream",
     "text": [
      "Initialize the rectangle with width and height.\n",
      "        \n"
     ]
    }
   ],
   "source": [
    "print(Rectangle.__init__.__doc__)"
   ]
  },
  {
   "cell_type": "code",
   "execution_count": 1531,
   "id": "f444a563-3276-41d0-8df5-5f85fb8d21b0",
   "metadata": {},
   "outputs": [
    {
     "name": "stdout",
     "output_type": "stream",
     "text": [
      "Get the width of the rectangle.\n"
     ]
    }
   ],
   "source": [
    "print(Rectangle. width.__doc__)"
   ]
  },
  {
   "cell_type": "code",
   "execution_count": 3,
   "id": "31968980-32cf-4ed1-912e-d3fad44b337b",
   "metadata": {},
   "outputs": [
    {
     "ename": "ModuleNotFoundError",
     "evalue": "No module named 'cls'",
     "output_type": "error",
     "traceback": [
      "\u001b[1;31m---------------------------------------------------------------------------\u001b[0m",
      "\u001b[1;31mModuleNotFoundError\u001b[0m                       Traceback (most recent call last)",
      "Cell \u001b[1;32mIn[3], line 1\u001b[0m\n\u001b[1;32m----> 1\u001b[0m \u001b[38;5;28;01mfrom\u001b[39;00m \u001b[38;5;21;01mcls\u001b[39;00m \u001b[38;5;28;01mimport\u001b[39;00m Triangle\n",
      "\u001b[1;31mModuleNotFoundError\u001b[0m: No module named 'cls'"
     ]
    }
   ],
   "source": [
    "from cls import Triangle"
   ]
  },
  {
   "cell_type": "code",
   "execution_count": 5,
   "id": "19d03899-1fb6-481d-83ad-e035f6894c56",
   "metadata": {},
   "outputs": [
    {
     "ename": "NameError",
     "evalue": "name 'Triangle' is not defined",
     "output_type": "error",
     "traceback": [
      "\u001b[1;31m---------------------------------------------------------------------------\u001b[0m",
      "\u001b[1;31mNameError\u001b[0m                                 Traceback (most recent call last)",
      "Cell \u001b[1;32mIn[5], line 1\u001b[0m\n\u001b[1;32m----> 1\u001b[0m inst_1\u001b[38;5;241m=\u001b[39mTriangle(\u001b[38;5;241m2\u001b[39m,\u001b[38;5;241m3\u001b[39m,\u001b[38;5;241m4\u001b[39m)\n",
      "\u001b[1;31mNameError\u001b[0m: name 'Triangle' is not defined"
     ]
    }
   ],
   "source": [
    "inst_1=Triangle(2,3,4)"
   ]
  },
  {
   "cell_type": "code",
   "execution_count": 1537,
   "id": "188d4a70-0cd1-4569-955d-8bea6d79591f",
   "metadata": {},
   "outputs": [
    {
     "name": "stdout",
     "output_type": "stream",
     "text": [
      "Triangle with sides 2, 3, 4\n"
     ]
    }
   ],
   "source": [
    "print(inst_1)"
   ]
  },
  {
   "cell_type": "code",
   "execution_count": 1539,
   "id": "da4e38b3-efe5-4150-bc47-5079c10ed913",
   "metadata": {},
   "outputs": [
    {
     "data": {
      "text/plain": [
       "mappingproxy({'__module__': 'cls',\n",
       "              '__doc__': 'A class to represent a triangle in 2D space.',\n",
       "              '__init__': <function cls.Triangle.__init__(self, side_a: float, side_b: float, side_c: float)>,\n",
       "              'side_a': <property at 0x2299aaea1b0>,\n",
       "              'side_b': <property at 0x2299aaea020>,\n",
       "              'side_c': <property at 0x2299aaeb600>,\n",
       "              'area': <function cls.Triangle.area(self) -> float>,\n",
       "              'perimeter': <function cls.Triangle.perimeter(self) -> float>,\n",
       "              'locate': <function cls.Triangle.locate(self) -> str>,\n",
       "              '__repr__': <function cls.Triangle.__repr__(self) -> str>,\n",
       "              '__str__': <function cls.Triangle.__str__(self) -> str>,\n",
       "              '__dict__': <attribute '__dict__' of 'Triangle' objects>,\n",
       "              '__weakref__': <attribute '__weakref__' of 'Triangle' objects>})"
      ]
     },
     "execution_count": 1539,
     "metadata": {},
     "output_type": "execute_result"
    }
   ],
   "source": [
    "Triangle.__dict__"
   ]
  },
  {
   "cell_type": "code",
   "execution_count": 1541,
   "id": "55d430e9-23b7-4447-9131-64f522a0aa98",
   "metadata": {},
   "outputs": [
    {
     "data": {
      "text/plain": [
       "{'_side_a': 2, '_side_b': 3, '_side_c': 4}"
      ]
     },
     "execution_count": 1541,
     "metadata": {},
     "output_type": "execute_result"
    }
   ],
   "source": [
    "inst_1.__dict__"
   ]
  },
  {
   "cell_type": "code",
   "execution_count": 1543,
   "id": "20804915-0e89-4dfb-89f7-c07676b4053d",
   "metadata": {},
   "outputs": [
    {
     "data": {
      "text/plain": [
       "mappingproxy({'__module__': 'cls',\n",
       "              '__doc__': 'A class to represent a triangle in 2D space.',\n",
       "              '__init__': <function cls.Triangle.__init__(self, side_a: float, side_b: float, side_c: float)>,\n",
       "              'side_a': <property at 0x2299aaea1b0>,\n",
       "              'side_b': <property at 0x2299aaea020>,\n",
       "              'side_c': <property at 0x2299aaeb600>,\n",
       "              'area': <function cls.Triangle.area(self) -> float>,\n",
       "              'perimeter': <function cls.Triangle.perimeter(self) -> float>,\n",
       "              'locate': <function cls.Triangle.locate(self) -> str>,\n",
       "              '__repr__': <function cls.Triangle.__repr__(self) -> str>,\n",
       "              '__str__': <function cls.Triangle.__str__(self) -> str>,\n",
       "              '__dict__': <attribute '__dict__' of 'Triangle' objects>,\n",
       "              '__weakref__': <attribute '__weakref__' of 'Triangle' objects>})"
      ]
     },
     "execution_count": 1543,
     "metadata": {},
     "output_type": "execute_result"
    }
   ],
   "source": [
    "vars(Triangle)"
   ]
  },
  {
   "cell_type": "code",
   "execution_count": 1545,
   "id": "97dcaf49-8b70-4100-ae22-bf4e91e300ae",
   "metadata": {},
   "outputs": [
    {
     "name": "stdout",
     "output_type": "stream",
     "text": [
      "Help on class Triangle in module cls:\n",
      "\n",
      "class Triangle(builtins.object)\n",
      " |  Triangle(side_a: float, side_b: float, side_c: float)\n",
      " |\n",
      " |  A class to represent a triangle in 2D space.\n",
      " |\n",
      " |  Methods defined here:\n",
      " |\n",
      " |  __init__(self, side_a: float, side_b: float, side_c: float)\n",
      " |      Initialize the triangle with three sides.\n",
      " |\n",
      " |  __repr__(self) -> str\n",
      " |      Repr is for programmer\n",
      " |\n",
      " |  __str__(self) -> str\n",
      " |      Return a user-friendly string representation of the triangle.\n",
      " |\n",
      " |  area(self) -> float\n",
      " |      Calculate the area of the triangle using Heron's formula.\n",
      " |\n",
      " |  locate(self) -> str\n",
      " |      Provide a description of the triangle's properties.\n",
      " |\n",
      " |  perimeter(self) -> float\n",
      " |      Calculate the perimeter of the triangle.\n",
      " |\n",
      " |  ----------------------------------------------------------------------\n",
      " |  Data descriptors defined here:\n",
      " |\n",
      " |  __dict__\n",
      " |      dictionary for instance variables\n",
      " |\n",
      " |  __weakref__\n",
      " |      list of weak references to the object\n",
      " |\n",
      " |  side_a\n",
      " |      Get the length of the first side.\n",
      " |\n",
      " |  side_b\n",
      " |      Get the length of the second side.\n",
      " |\n",
      " |  side_c\n",
      " |      Get the length of the third side.\n",
      "\n"
     ]
    }
   ],
   "source": [
    "help(Triangle)"
   ]
  },
  {
   "cell_type": "code",
   "execution_count": 1546,
   "id": "81ef9660-2152-48e5-a3e4-b3ab231f1179",
   "metadata": {},
   "outputs": [
    {
     "name": "stdout",
     "output_type": "stream",
     "text": [
      "A class to represent a triangle in 2D space.\n"
     ]
    }
   ],
   "source": [
    " print(Triangle.__doc__)"
   ]
  },
  {
   "cell_type": "code",
   "execution_count": 1547,
   "id": "6a80ec14-82cb-4869-8e45-2025118cbcb9",
   "metadata": {},
   "outputs": [
    {
     "name": "stdout",
     "output_type": "stream",
     "text": [
      "Initialize the triangle with three sides.\n",
      "        \n"
     ]
    }
   ],
   "source": [
    " print(Triangle.__init__.__doc__)"
   ]
  },
  {
   "cell_type": "code",
   "execution_count": 1548,
   "id": "f990a45e-75c5-4f0e-a6e7-66f7e3ac8a2d",
   "metadata": {},
   "outputs": [
    {
     "name": "stdout",
     "output_type": "stream",
     "text": [
      "Get the length of the first side.\n"
     ]
    }
   ],
   "source": [
    " print(Triangle.side_a.__doc__)"
   ]
  },
  {
   "cell_type": "code",
   "execution_count": 1553,
   "id": "5e0c541a-604c-44c4-b7b1-34fccba419d9",
   "metadata": {},
   "outputs": [
    {
     "name": "stdout",
     "output_type": "stream",
     "text": [
      "Get the length of the second side.\n"
     ]
    }
   ],
   "source": [
    " print(Triangle.side_b.__doc__)"
   ]
  },
  {
   "cell_type": "code",
   "execution_count": 1554,
   "id": "c28b0725-7a9d-4af3-8ecb-cc74fbfa262f",
   "metadata": {},
   "outputs": [
    {
     "name": "stdout",
     "output_type": "stream",
     "text": [
      "Get the length of the third side.\n"
     ]
    }
   ],
   "source": [
    " print(Triangle.side_c.__doc__)"
   ]
  },
  {
   "cell_type": "code",
   "execution_count": 1557,
   "id": "3f27fa0d-160b-4458-91b9-61ced043925f",
   "metadata": {},
   "outputs": [
    {
     "name": "stdout",
     "output_type": "stream",
     "text": [
      "Calculate the area of the triangle using Heron's formula.\n",
      "        \n"
     ]
    }
   ],
   "source": [
    " print(Triangle.area.__doc__)"
   ]
  },
  {
   "cell_type": "code",
   "execution_count": 1558,
   "id": "24a7f628-b539-416a-83b7-cda26ceccd46",
   "metadata": {},
   "outputs": [
    {
     "name": "stdout",
     "output_type": "stream",
     "text": [
      "Calculate the perimeter of the triangle.\n",
      "        \n"
     ]
    }
   ],
   "source": [
    " print(Triangle.perimeter.__doc__)"
   ]
  },
  {
   "cell_type": "code",
   "execution_count": 1559,
   "id": "b38ff9fa-4d6e-405a-ad7b-da71ede603de",
   "metadata": {},
   "outputs": [
    {
     "name": "stdout",
     "output_type": "stream",
     "text": [
      "Provide a description of the triangle's properties.\n",
      "        \n"
     ]
    }
   ],
   "source": [
    " print(Triangle.locate.__doc__)"
   ]
  },
  {
   "cell_type": "code",
   "execution_count": 1561,
   "id": "303fe8ae-1e9b-4f92-b5f4-4b4ac5220136",
   "metadata": {},
   "outputs": [
    {
     "name": "stdout",
     "output_type": "stream",
     "text": [
      "Repr is for programmer\n"
     ]
    }
   ],
   "source": [
    " print(Triangle.__repr__.__doc__)"
   ]
  },
  {
   "cell_type": "code",
   "execution_count": 1564,
   "id": "71caeb37-f56c-4417-89e7-d2bd12d3a9d1",
   "metadata": {},
   "outputs": [
    {
     "name": "stdout",
     "output_type": "stream",
     "text": [
      "Return a user-friendly string representation of the triangle.\n"
     ]
    }
   ],
   "source": [
    " print(Triangle.__str__.__doc__)"
   ]
  },
  {
   "cell_type": "code",
   "execution_count": 1567,
   "id": "04b3be17-c690-4ca4-b8c9-652f53e66019",
   "metadata": {},
   "outputs": [],
   "source": [
    "class Triangle:\n",
    "    \"\"\"A class to represent a triangle in 2D space.\"\"\"\n",
    "    def __init__(self, side_a: float=6, side_b: float=7, side_c: float=2):\n",
    "        \"\"\"Initialize the triangle with three sides.\n",
    "        \"\"\"\n",
    "        self._side_a = side_a\n",
    "        self._side_b = side_b\n",
    "        self._side_c = side_c"
   ]
  },
  {
   "cell_type": "code",
   "execution_count": 1569,
   "id": "3e903a25-55a4-4f9c-a912-dac81653592b",
   "metadata": {},
   "outputs": [],
   "source": [
    "tr=Triangle()"
   ]
  },
  {
   "cell_type": "code",
   "execution_count": 1571,
   "id": "46b7b326-8e0d-4d22-bf24-91924c09b293",
   "metadata": {},
   "outputs": [],
   "source": [
    "from cls import Trapezoid"
   ]
  },
  {
   "cell_type": "code",
   "execution_count": 1573,
   "id": "0ab75bee-65bd-473d-835c-52a3d8b8d75b",
   "metadata": {},
   "outputs": [],
   "source": [
    "inst_1=Trapezoid(2,3,9)"
   ]
  },
  {
   "cell_type": "code",
   "execution_count": 1575,
   "id": "66506ab3-d125-4eb0-8a8c-42666b287966",
   "metadata": {},
   "outputs": [
    {
     "name": "stdout",
     "output_type": "stream",
     "text": [
      "Trapezoid with bases 2 and 3\n"
     ]
    }
   ],
   "source": [
    "print(inst_1)"
   ]
  },
  {
   "cell_type": "code",
   "execution_count": 1576,
   "id": "a6764981-8a60-4711-a5fe-dedff81c39e0",
   "metadata": {},
   "outputs": [
    {
     "data": {
      "text/plain": [
       "mappingproxy({'__module__': 'cls',\n",
       "              '__doc__': 'A class to represent a trapezoid (or trapezium) in 2D space.',\n",
       "              '__init__': <function cls.Trapezoid.__init__(self, base1: float, base2: float, height: float)>,\n",
       "              'base1': <property at 0x2299aaeb060>,\n",
       "              'base2': <property at 0x2299aaeb010>,\n",
       "              'height': <property at 0x2299aaeafc0>,\n",
       "              'area': <function cls.Trapezoid.area(self) -> float>,\n",
       "              'perimeter': <function cls.Trapezoid.perimeter(self, side_a: float, side_b: float) -> float>,\n",
       "              'locate': <function cls.Trapezoid.locate(self) -> str>,\n",
       "              '__repr__': <function cls.Trapezoid.__repr__(self) -> str>,\n",
       "              '__str__': <function cls.Trapezoid.__str__(self) -> str>,\n",
       "              '__dict__': <attribute '__dict__' of 'Trapezoid' objects>,\n",
       "              '__weakref__': <attribute '__weakref__' of 'Trapezoid' objects>})"
      ]
     },
     "execution_count": 1576,
     "metadata": {},
     "output_type": "execute_result"
    }
   ],
   "source": [
    "Trapezoid.__dict__"
   ]
  },
  {
   "cell_type": "code",
   "execution_count": 1579,
   "id": "e5bfc246-18b9-43d2-82d1-dd8f805979a1",
   "metadata": {},
   "outputs": [
    {
     "data": {
      "text/plain": [
       "{'_base1': 2, '_base2': 3, '_height': 9}"
      ]
     },
     "execution_count": 1579,
     "metadata": {},
     "output_type": "execute_result"
    }
   ],
   "source": [
    "inst_1.__dict__"
   ]
  },
  {
   "cell_type": "code",
   "execution_count": 1580,
   "id": "1458c122-2ffc-4a17-851f-0a3d9110f823",
   "metadata": {},
   "outputs": [
    {
     "data": {
      "text/plain": [
       "mappingproxy({'__module__': 'cls',\n",
       "              '__doc__': 'A class to represent a trapezoid (or trapezium) in 2D space.',\n",
       "              '__init__': <function cls.Trapezoid.__init__(self, base1: float, base2: float, height: float)>,\n",
       "              'base1': <property at 0x2299aaeb060>,\n",
       "              'base2': <property at 0x2299aaeb010>,\n",
       "              'height': <property at 0x2299aaeafc0>,\n",
       "              'area': <function cls.Trapezoid.area(self) -> float>,\n",
       "              'perimeter': <function cls.Trapezoid.perimeter(self, side_a: float, side_b: float) -> float>,\n",
       "              'locate': <function cls.Trapezoid.locate(self) -> str>,\n",
       "              '__repr__': <function cls.Trapezoid.__repr__(self) -> str>,\n",
       "              '__str__': <function cls.Trapezoid.__str__(self) -> str>,\n",
       "              '__dict__': <attribute '__dict__' of 'Trapezoid' objects>,\n",
       "              '__weakref__': <attribute '__weakref__' of 'Trapezoid' objects>})"
      ]
     },
     "execution_count": 1580,
     "metadata": {},
     "output_type": "execute_result"
    }
   ],
   "source": [
    "vars(Trapezoid)"
   ]
  },
  {
   "cell_type": "code",
   "execution_count": 1581,
   "id": "b24f9580-08a6-4c6b-8ecd-78eec6850d58",
   "metadata": {},
   "outputs": [
    {
     "name": "stdout",
     "output_type": "stream",
     "text": [
      "Help on class Trapezoid in module cls:\n",
      "\n",
      "class Trapezoid(builtins.object)\n",
      " |  Trapezoid(base1: float, base2: float, height: float)\n",
      " |\n",
      " |  A class to represent a trapezoid (or trapezium) in 2D space.\n",
      " |\n",
      " |  Methods defined here:\n",
      " |\n",
      " |  __init__(self, base1: float, base2: float, height: float)\n",
      " |      Initialize the trapezoid with two bases and a height.\n",
      " |\n",
      " |  __repr__(self) -> str\n",
      " |      Repr is for programmer\n",
      " |\n",
      " |  __str__(self) -> str\n",
      " |      Return a user-friendly string representation of the trapezoid.\n",
      " |\n",
      " |  area(self) -> float\n",
      " |      Calculate the area of the trapezoid.\n",
      " |\n",
      " |  locate(self) -> str\n",
      " |      Provide a description of the trapezoid's properties.\n",
      " |\n",
      " |  perimeter(self, side_a: float, side_b: float) -> float\n",
      " |      Calculate the perimeter of the trapezoid.\n",
      " |\n",
      " |  ----------------------------------------------------------------------\n",
      " |  Data descriptors defined here:\n",
      " |\n",
      " |  __dict__\n",
      " |      dictionary for instance variables\n",
      " |\n",
      " |  __weakref__\n",
      " |      list of weak references to the object\n",
      " |\n",
      " |  base1\n",
      " |      Get the length of the first base.\n",
      " |\n",
      " |  base2\n",
      " |      Get the length of the second base.\n",
      " |\n",
      " |  height\n",
      " |      Get the height of the trapezoid.\n",
      "\n"
     ]
    }
   ],
   "source": [
    "help(Trapezoid)"
   ]
  },
  {
   "cell_type": "code",
   "execution_count": 1582,
   "id": "2bd025ee-7384-467b-a811-85fe8fe09f82",
   "metadata": {},
   "outputs": [
    {
     "name": "stdout",
     "output_type": "stream",
     "text": [
      "A class to represent a trapezoid (or trapezium) in 2D space.\n"
     ]
    }
   ],
   "source": [
    "print(Trapezoid.__doc__)"
   ]
  },
  {
   "cell_type": "code",
   "execution_count": 1583,
   "id": "bf742868-b99d-4555-a9d2-5f2972bf6e88",
   "metadata": {},
   "outputs": [
    {
     "name": "stdout",
     "output_type": "stream",
     "text": [
      "Initialize the trapezoid with two bases and a height.\n",
      "        \n"
     ]
    }
   ],
   "source": [
    "print(Trapezoid.__init__.__doc__)"
   ]
  },
  {
   "cell_type": "code",
   "execution_count": 1584,
   "id": "153d7801-8c40-4f48-8410-b1a0716b01ef",
   "metadata": {},
   "outputs": [
    {
     "name": "stdout",
     "output_type": "stream",
     "text": [
      "Get the length of the first base.\n"
     ]
    }
   ],
   "source": [
    "print(Trapezoid.base1.__doc__)"
   ]
  },
  {
   "cell_type": "code",
   "execution_count": 1590,
   "id": "3d2a0504-1384-4cec-9073-8e5f401c0ecc",
   "metadata": {},
   "outputs": [
    {
     "name": "stdout",
     "output_type": "stream",
     "text": [
      "Get the length of the second base.\n"
     ]
    }
   ],
   "source": [
    "print(Trapezoid.base2.__doc__)"
   ]
  },
  {
   "cell_type": "code",
   "execution_count": 1592,
   "id": "92ff92eb-11e4-4fe8-aa0d-5c84011d23ea",
   "metadata": {},
   "outputs": [
    {
     "name": "stdout",
     "output_type": "stream",
     "text": [
      "Get the height of the trapezoid.\n"
     ]
    }
   ],
   "source": [
    "print(Trapezoid.height.__doc__)"
   ]
  },
  {
   "cell_type": "code",
   "execution_count": 1594,
   "id": "108cf6cc-5b77-4a34-81e1-341474e0cfab",
   "metadata": {},
   "outputs": [
    {
     "name": "stdout",
     "output_type": "stream",
     "text": [
      "Calculate the area of the trapezoid.\n",
      "        \n"
     ]
    }
   ],
   "source": [
    "print(Trapezoid.area.__doc__)"
   ]
  },
  {
   "cell_type": "code",
   "execution_count": 1596,
   "id": "9b9650ad-14a4-4a19-a50f-6c590d721968",
   "metadata": {},
   "outputs": [
    {
     "name": "stdout",
     "output_type": "stream",
     "text": [
      "Calculate the perimeter of the trapezoid.\n",
      "        \n"
     ]
    }
   ],
   "source": [
    "print(Trapezoid.perimeter.__doc__)"
   ]
  },
  {
   "cell_type": "code",
   "execution_count": 1597,
   "id": "dcfd1aff-55e5-40b8-b24a-f8998e492810",
   "metadata": {},
   "outputs": [
    {
     "name": "stdout",
     "output_type": "stream",
     "text": [
      "Provide a description of the trapezoid's properties.\n",
      "        \n"
     ]
    }
   ],
   "source": [
    "print(Trapezoid.locate.__doc__)"
   ]
  },
  {
   "cell_type": "code",
   "execution_count": 1601,
   "id": "fd83af22-3f8f-4d24-aa7e-6482e3a60cf0",
   "metadata": {},
   "outputs": [
    {
     "name": "stdout",
     "output_type": "stream",
     "text": [
      "Repr is for programmer\n"
     ]
    }
   ],
   "source": [
    "print(Trapezoid.__repr__.__doc__)"
   ]
  },
  {
   "cell_type": "code",
   "execution_count": 1603,
   "id": "e79d3fab-f1eb-418f-be6c-e83e60d49a91",
   "metadata": {},
   "outputs": [
    {
     "name": "stdout",
     "output_type": "stream",
     "text": [
      "Return a user-friendly string representation of the trapezoid.\n"
     ]
    }
   ],
   "source": [
    "print(Trapezoid.__str__.__doc__)"
   ]
  },
  {
   "cell_type": "code",
   "execution_count": 1605,
   "id": "c85bac55-7473-4bd9-912d-ee4f98c5f760",
   "metadata": {},
   "outputs": [],
   "source": [
    "class Trapezoid:\n",
    "    \"\"\"A class to represent a trapezoid (or trapezium) in 2D space.\"\"\"\n",
    "\n",
    "    def __init__(self, base1: float=9, base2: float=8, height: float=15):\n",
    "        \"\"\"Initialize the trapezoid with two bases and a height.\n",
    "        \"\"\"\n",
    "        self._base1 = base1\n",
    "        self._base2 = base2\n",
    "        self._height = height"
   ]
  },
  {
   "cell_type": "code",
   "execution_count": 1607,
   "id": "08ceb0a4-424b-4078-8c21-a43ffcb4b850",
   "metadata": {},
   "outputs": [],
   "source": [
    "tr= Trapezoid()"
   ]
  },
  {
   "cell_type": "code",
   "execution_count": 1609,
   "id": "560513cb-237e-4403-bf44-a87077e522af",
   "metadata": {},
   "outputs": [],
   "source": [
    "from cls import Parallelogram"
   ]
  },
  {
   "cell_type": "code",
   "execution_count": 1611,
   "id": "391fdc3c-a178-4b86-a993-37bd6e19dc50",
   "metadata": {},
   "outputs": [],
   "source": [
    "inst_1=Parallelogram(4,8)"
   ]
  },
  {
   "cell_type": "code",
   "execution_count": 1613,
   "id": "65bcf63e-d24b-4f76-8ff2-9863db51484b",
   "metadata": {},
   "outputs": [
    {
     "name": "stdout",
     "output_type": "stream",
     "text": [
      "Parallelogram with base 4 & height 8\n"
     ]
    }
   ],
   "source": [
    "print(inst_1)"
   ]
  },
  {
   "cell_type": "code",
   "execution_count": 1615,
   "id": "41f4c8be-a595-4574-b812-32df88d61abd",
   "metadata": {},
   "outputs": [
    {
     "data": {
      "text/plain": [
       "mappingproxy({'__module__': 'cls',\n",
       "              '__doc__': 'A class to represent a parallelogram in 2D space.',\n",
       "              '__init__': <function cls.Parallelogram.__init__(self, base: float, height: float)>,\n",
       "              'base': <property at 0x2299aa6fab0>,\n",
       "              'height': <property at 0x2299aa6f6f0>,\n",
       "              'area': <function cls.Parallelogram.area(self) -> float>,\n",
       "              'perimeter': <function cls.Parallelogram.perimeter(self, side_length: float) -> float>,\n",
       "              'locate': <function cls.Parallelogram.locate(self) -> str>,\n",
       "              '__repr__': <function cls.Parallelogram.__repr__(self) -> str>,\n",
       "              '__str__': <function cls.Parallelogram.__str__(self) -> str>,\n",
       "              '__dict__': <attribute '__dict__' of 'Parallelogram' objects>,\n",
       "              '__weakref__': <attribute '__weakref__' of 'Parallelogram' objects>})"
      ]
     },
     "execution_count": 1615,
     "metadata": {},
     "output_type": "execute_result"
    }
   ],
   "source": [
    "Parallelogram.__dict__"
   ]
  },
  {
   "cell_type": "code",
   "execution_count": 1617,
   "id": "ff8417dc-a3da-4eba-84c4-137cc8d2842d",
   "metadata": {},
   "outputs": [
    {
     "data": {
      "text/plain": [
       "{'_base': 4, '_height': 8}"
      ]
     },
     "execution_count": 1617,
     "metadata": {},
     "output_type": "execute_result"
    }
   ],
   "source": [
    "inst_1.__dict__"
   ]
  },
  {
   "cell_type": "code",
   "execution_count": 1619,
   "id": "55c779f2-4edb-46bb-a8a7-630b73ece4e8",
   "metadata": {},
   "outputs": [
    {
     "data": {
      "text/plain": [
       "mappingproxy({'__module__': 'cls',\n",
       "              '__doc__': 'A class to represent a parallelogram in 2D space.',\n",
       "              '__init__': <function cls.Parallelogram.__init__(self, base: float, height: float)>,\n",
       "              'base': <property at 0x2299aa6fab0>,\n",
       "              'height': <property at 0x2299aa6f6f0>,\n",
       "              'area': <function cls.Parallelogram.area(self) -> float>,\n",
       "              'perimeter': <function cls.Parallelogram.perimeter(self, side_length: float) -> float>,\n",
       "              'locate': <function cls.Parallelogram.locate(self) -> str>,\n",
       "              '__repr__': <function cls.Parallelogram.__repr__(self) -> str>,\n",
       "              '__str__': <function cls.Parallelogram.__str__(self) -> str>,\n",
       "              '__dict__': <attribute '__dict__' of 'Parallelogram' objects>,\n",
       "              '__weakref__': <attribute '__weakref__' of 'Parallelogram' objects>})"
      ]
     },
     "execution_count": 1619,
     "metadata": {},
     "output_type": "execute_result"
    }
   ],
   "source": [
    "vars(Parallelogram)"
   ]
  },
  {
   "cell_type": "code",
   "execution_count": 1621,
   "id": "b7b717db-874f-4a6b-8f9a-5cbb0d89a25f",
   "metadata": {},
   "outputs": [
    {
     "name": "stdout",
     "output_type": "stream",
     "text": [
      "Help on class Parallelogram in module cls:\n",
      "\n",
      "class Parallelogram(builtins.object)\n",
      " |  Parallelogram(base: float, height: float)\n",
      " |\n",
      " |  A class to represent a parallelogram in 2D space.\n",
      " |\n",
      " |  Methods defined here:\n",
      " |\n",
      " |  __init__(self, base: float, height: float)\n",
      " |      Initialize the parallelogram with base and height.\n",
      " |\n",
      " |  __repr__(self) -> str\n",
      " |      Repr is for programmers.\n",
      " |\n",
      " |  __str__(self) -> str\n",
      " |      Return a user-friendly string representation of the parallelogram.\n",
      " |\n",
      " |  area(self) -> float\n",
      " |      Calculate the area of the parallelogram.\n",
      " |\n",
      " |  locate(self) -> str\n",
      " |      Provide a description of the parallelogram's properties.\n",
      " |\n",
      " |  perimeter(self, side_length: float) -> float\n",
      " |      Calculate the perimeter of the parallelogram.\n",
      " |\n",
      " |  ----------------------------------------------------------------------\n",
      " |  Data descriptors defined here:\n",
      " |\n",
      " |  __dict__\n",
      " |      dictionary for instance variables\n",
      " |\n",
      " |  __weakref__\n",
      " |      list of weak references to the object\n",
      " |\n",
      " |  base\n",
      " |      Get the length of the base.\n",
      " |\n",
      " |  height\n",
      " |      Get the height of the parallelogram.\n",
      "\n"
     ]
    }
   ],
   "source": [
    "help(Parallelogram)"
   ]
  },
  {
   "cell_type": "code",
   "execution_count": 1623,
   "id": "1a54d58b-3560-4ba0-8876-9efe640c211d",
   "metadata": {},
   "outputs": [
    {
     "name": "stdout",
     "output_type": "stream",
     "text": [
      "A class to represent a parallelogram in 2D space.\n"
     ]
    }
   ],
   "source": [
    "print(Parallelogram.__doc__)"
   ]
  },
  {
   "cell_type": "code",
   "execution_count": 1625,
   "id": "d854491d-2340-48ef-9069-38ecebc54f57",
   "metadata": {},
   "outputs": [
    {
     "name": "stdout",
     "output_type": "stream",
     "text": [
      "Initialize the parallelogram with base and height.\n",
      "        \n"
     ]
    }
   ],
   "source": [
    "print(Parallelogram.__init__.__doc__)"
   ]
  },
  {
   "cell_type": "code",
   "execution_count": 1627,
   "id": "2272ee27-c1c8-48ac-8455-7223ed552251",
   "metadata": {},
   "outputs": [
    {
     "name": "stdout",
     "output_type": "stream",
     "text": [
      "Get the length of the base.\n"
     ]
    }
   ],
   "source": [
    "print(Parallelogram.base.__doc__)"
   ]
  },
  {
   "cell_type": "code",
   "execution_count": 1629,
   "id": "317256eb-c342-4c14-9d26-38208bbbc7a9",
   "metadata": {},
   "outputs": [
    {
     "name": "stdout",
     "output_type": "stream",
     "text": [
      "Get the height of the parallelogram.\n"
     ]
    }
   ],
   "source": [
    "print(Parallelogram.height.__doc__)"
   ]
  },
  {
   "cell_type": "code",
   "execution_count": 1631,
   "id": "29385aa7-afe8-483f-b260-87b32afa7294",
   "metadata": {},
   "outputs": [
    {
     "name": "stdout",
     "output_type": "stream",
     "text": [
      "Calculate the area of the parallelogram.\n",
      "        \n"
     ]
    }
   ],
   "source": [
    "print(Parallelogram.area.__doc__)"
   ]
  },
  {
   "cell_type": "code",
   "execution_count": 1632,
   "id": "8aa19c7a-b0b0-403a-a721-e8708e1b02fe",
   "metadata": {},
   "outputs": [
    {
     "name": "stdout",
     "output_type": "stream",
     "text": [
      "Calculate the perimeter of the parallelogram.\n",
      "        \n"
     ]
    }
   ],
   "source": [
    "print(Parallelogram.perimeter.__doc__)"
   ]
  },
  {
   "cell_type": "code",
   "execution_count": 1635,
   "id": "54e47f63-a3a4-4942-91d3-dfc27ada9942",
   "metadata": {},
   "outputs": [
    {
     "name": "stdout",
     "output_type": "stream",
     "text": [
      "Provide a description of the parallelogram's properties.\n",
      "        \n"
     ]
    }
   ],
   "source": [
    "print(Parallelogram.locate.__doc__)"
   ]
  },
  {
   "cell_type": "code",
   "execution_count": 1637,
   "id": "a69bcdc4-a6fe-4c70-a758-30fbe456c02d",
   "metadata": {},
   "outputs": [
    {
     "name": "stdout",
     "output_type": "stream",
     "text": [
      "Repr is for programmers.\n"
     ]
    }
   ],
   "source": [
    "print(Parallelogram.__repr__.__doc__)"
   ]
  },
  {
   "cell_type": "code",
   "execution_count": 1639,
   "id": "d6354750-ea2d-4fd2-82e4-0aa4d78222fd",
   "metadata": {},
   "outputs": [
    {
     "name": "stdout",
     "output_type": "stream",
     "text": [
      "Return a user-friendly string representation of the parallelogram.\n"
     ]
    }
   ],
   "source": [
    "print(Parallelogram.__str__.__doc__)"
   ]
  },
  {
   "cell_type": "code",
   "execution_count": 1640,
   "id": "389b3015-223a-4691-b134-9a6a418a5dac",
   "metadata": {},
   "outputs": [],
   "source": [
    "class Parallelogram:\n",
    "    \"\"\"A class to represent a parallelogram in 2D space.\"\"\"\n",
    "\n",
    "    def __init__(self, base: float=3, height: float=8):\n",
    "        \"\"\"Initialize the parallelogram with base and height.\n",
    "        \"\"\"\n",
    "        self._base = base\n",
    "        self._height = height"
   ]
  },
  {
   "cell_type": "code",
   "execution_count": 1643,
   "id": "18634f34-4378-4a8c-a1eb-f1a40bd39be2",
   "metadata": {},
   "outputs": [],
   "source": [
    "para=Parallelogram()"
   ]
  },
  {
   "cell_type": "code",
   "execution_count": 1645,
   "id": "8b9e197a-493e-4a0d-9563-0d5ec379acc1",
   "metadata": {},
   "outputs": [],
   "source": [
    "from cls import Rhombus"
   ]
  },
  {
   "cell_type": "code",
   "execution_count": 1647,
   "id": "3c3fa564-1ff8-47da-b6ba-69382e659382",
   "metadata": {},
   "outputs": [],
   "source": [
    "inst_1=Rhombus(8,9)"
   ]
  },
  {
   "cell_type": "code",
   "execution_count": 1649,
   "id": "fe65b314-5333-4d68-98f5-28f6fdd8014c",
   "metadata": {},
   "outputs": [
    {
     "data": {
      "text/plain": [
       "mappingproxy({'__module__': 'cls',\n",
       "              '__doc__': 'A class to represent a rhombus in 2D space.',\n",
       "              '__init__': <function cls.Rhombus.__init__(self, side_length: float, height: float)>,\n",
       "              'side_length': <property at 0x2299aa6f5b0>,\n",
       "              'height': <property at 0x2299aa6d1c0>,\n",
       "              'area': <property at 0x2299aa6fb50>,\n",
       "              'perimeter': <property at 0x2299aa6f9c0>,\n",
       "              'locate': <function cls.Rhombus.locate(self) -> str>,\n",
       "              '__repr__': <function cls.Rhombus.__repr__(self) -> str>,\n",
       "              '__str__': <function cls.Rhombus.__str__(self) -> str>,\n",
       "              '__dict__': <attribute '__dict__' of 'Rhombus' objects>,\n",
       "              '__weakref__': <attribute '__weakref__' of 'Rhombus' objects>})"
      ]
     },
     "execution_count": 1649,
     "metadata": {},
     "output_type": "execute_result"
    }
   ],
   "source": [
    "Rhombus.__dict__"
   ]
  },
  {
   "cell_type": "code",
   "execution_count": 1651,
   "id": "2dca9579-d10f-4297-943c-b877ac2c81b6",
   "metadata": {},
   "outputs": [
    {
     "data": {
      "text/plain": [
       "{'_side_length': 8, '_height': 9}"
      ]
     },
     "execution_count": 1651,
     "metadata": {},
     "output_type": "execute_result"
    }
   ],
   "source": [
    "inst_1.__dict__"
   ]
  },
  {
   "cell_type": "code",
   "execution_count": 1653,
   "id": "3e16da0c-6a1d-4e4b-9fcb-d0aa53d3297f",
   "metadata": {},
   "outputs": [
    {
     "data": {
      "text/plain": [
       "mappingproxy({'__module__': 'cls',\n",
       "              '__doc__': 'A class to represent a rhombus in 2D space.',\n",
       "              '__init__': <function cls.Rhombus.__init__(self, side_length: float, height: float)>,\n",
       "              'side_length': <property at 0x2299aa6f5b0>,\n",
       "              'height': <property at 0x2299aa6d1c0>,\n",
       "              'area': <property at 0x2299aa6fb50>,\n",
       "              'perimeter': <property at 0x2299aa6f9c0>,\n",
       "              'locate': <function cls.Rhombus.locate(self) -> str>,\n",
       "              '__repr__': <function cls.Rhombus.__repr__(self) -> str>,\n",
       "              '__str__': <function cls.Rhombus.__str__(self) -> str>,\n",
       "              '__dict__': <attribute '__dict__' of 'Rhombus' objects>,\n",
       "              '__weakref__': <attribute '__weakref__' of 'Rhombus' objects>})"
      ]
     },
     "execution_count": 1653,
     "metadata": {},
     "output_type": "execute_result"
    }
   ],
   "source": [
    "vars(Rhombus)"
   ]
  },
  {
   "cell_type": "code",
   "execution_count": 1654,
   "id": "3325ef87-ee75-4be2-b733-ffd9a2b759bb",
   "metadata": {},
   "outputs": [
    {
     "name": "stdout",
     "output_type": "stream",
     "text": [
      "Help on class Rhombus in module cls:\n",
      "\n",
      "class Rhombus(builtins.object)\n",
      " |  Rhombus(side_length: float, height: float)\n",
      " |\n",
      " |  A class to represent a rhombus in 2D space.\n",
      " |\n",
      " |  Methods defined here:\n",
      " |\n",
      " |  __init__(self, side_length: float, height: float)\n",
      " |      Initialize the rhombus with side length and height.\n",
      " |\n",
      " |  __repr__(self) -> str\n",
      " |      Repr is for programmer.\n",
      " |\n",
      " |  __str__(self) -> str\n",
      " |      Return a user-friendly string representation of the rhombus.\n",
      " |\n",
      " |  locate(self) -> str\n",
      " |      Provide a description of the rhombus's properties.\n",
      " |\n",
      " |  ----------------------------------------------------------------------\n",
      " |  Readonly properties defined here:\n",
      " |\n",
      " |  area\n",
      " |      Calculate the area of the rhombus.\n",
      " |\n",
      " |  perimeter\n",
      " |      Calculate the perimeter of the rhombus.\n",
      " |\n",
      " |  ----------------------------------------------------------------------\n",
      " |  Data descriptors defined here:\n",
      " |\n",
      " |  __dict__\n",
      " |      dictionary for instance variables\n",
      " |\n",
      " |  __weakref__\n",
      " |      list of weak references to the object\n",
      " |\n",
      " |  height\n",
      " |      Get the height of the rhombus.\n",
      " |\n",
      " |  side_length\n",
      " |      Get the length of each side.\n",
      "\n"
     ]
    }
   ],
   "source": [
    "help(Rhombus)"
   ]
  },
  {
   "cell_type": "code",
   "execution_count": 1655,
   "id": "46c2071e-b38c-4e52-b63a-a48f098984ed",
   "metadata": {},
   "outputs": [
    {
     "name": "stdout",
     "output_type": "stream",
     "text": [
      "A class to represent a rhombus in 2D space.\n"
     ]
    }
   ],
   "source": [
    "print(Rhombus.__doc__)"
   ]
  },
  {
   "cell_type": "code",
   "execution_count": 1657,
   "id": "ed45fcd2-55bb-439c-8e6a-99db17325cb7",
   "metadata": {},
   "outputs": [
    {
     "name": "stdout",
     "output_type": "stream",
     "text": [
      "Initialize the rhombus with side length and height.\n",
      "        \n"
     ]
    }
   ],
   "source": [
    "print(Rhombus.__init__.__doc__)"
   ]
  },
  {
   "cell_type": "code",
   "execution_count": 1661,
   "id": "0748c50a-a101-4931-8184-337f73c95d8c",
   "metadata": {},
   "outputs": [
    {
     "name": "stdout",
     "output_type": "stream",
     "text": [
      "Get the length of each side.\n"
     ]
    }
   ],
   "source": [
    "print(Rhombus.side_length.__doc__)"
   ]
  },
  {
   "cell_type": "code",
   "execution_count": 1662,
   "id": "4e7cf728-3226-47f5-907b-d96992ac0fc9",
   "metadata": {},
   "outputs": [
    {
     "name": "stdout",
     "output_type": "stream",
     "text": [
      "Get the height of the rhombus.\n"
     ]
    }
   ],
   "source": [
    "print(Rhombus.height.__doc__)"
   ]
  },
  {
   "cell_type": "code",
   "execution_count": 1663,
   "id": "fef42ae6-21e0-4814-b2e5-cb497028b453",
   "metadata": {},
   "outputs": [
    {
     "name": "stdout",
     "output_type": "stream",
     "text": [
      "Calculate the area of the rhombus.\n",
      "        \n"
     ]
    }
   ],
   "source": [
    "print(Rhombus.area.__doc__)"
   ]
  },
  {
   "cell_type": "code",
   "execution_count": 1664,
   "id": "265624f8-f44f-4bf4-8bbb-034d370bd9f1",
   "metadata": {},
   "outputs": [
    {
     "name": "stdout",
     "output_type": "stream",
     "text": [
      "Calculate the perimeter of the rhombus.\n",
      "        \n"
     ]
    }
   ],
   "source": [
    "print(Rhombus.perimeter.__doc__)"
   ]
  },
  {
   "cell_type": "code",
   "execution_count": 1668,
   "id": "cdbea64b-b9d2-4595-978c-775d86f4bab5",
   "metadata": {},
   "outputs": [
    {
     "name": "stdout",
     "output_type": "stream",
     "text": [
      "Provide a description of the rhombus's properties.\n",
      "        \n"
     ]
    }
   ],
   "source": [
    "print(Rhombus.locate.__doc__)"
   ]
  },
  {
   "cell_type": "code",
   "execution_count": 1670,
   "id": "b7dfc8a6-08fc-415f-8626-89daabc32bb1",
   "metadata": {},
   "outputs": [
    {
     "name": "stdout",
     "output_type": "stream",
     "text": [
      "Repr is for programmer.\n"
     ]
    }
   ],
   "source": [
    "print(Rhombus.__repr__.__doc__)"
   ]
  },
  {
   "cell_type": "code",
   "execution_count": 1673,
   "id": "cdef1ae1-91bc-4007-abdb-64c0d9d98f0c",
   "metadata": {},
   "outputs": [
    {
     "name": "stdout",
     "output_type": "stream",
     "text": [
      "Return a user-friendly string representation of the rhombus.\n"
     ]
    }
   ],
   "source": [
    "print(Rhombus.__str__.__doc__)"
   ]
  },
  {
   "cell_type": "code",
   "execution_count": 1675,
   "id": "4dbf49ce-747b-4ce1-a2ad-1c9241e5afd2",
   "metadata": {},
   "outputs": [],
   "source": [
    "class Rhombus:\n",
    "    \"\"\"A class to represent a rhombus in 2D space.\"\"\"\n",
    "\n",
    "    def __init__(self, side_length: float=2, height: float=8):\n",
    "        \"\"\"Initialize the rhombus with side length and height.\n",
    "        \"\"\"\n",
    "        self._side_length = side_length\n",
    "        self._height = height"
   ]
  },
  {
   "cell_type": "code",
   "execution_count": 1677,
   "id": "3f6e610b-fa43-42bf-a5c2-7ec1b5077750",
   "metadata": {},
   "outputs": [],
   "source": [
    "Rh=Rhombus()"
   ]
  },
  {
   "cell_type": "code",
   "execution_count": 1679,
   "id": "d97a4ac0-38b8-4005-bf34-c28426730d16",
   "metadata": {},
   "outputs": [],
   "source": [
    "from cls import Shape"
   ]
  },
  {
   "cell_type": "code",
   "execution_count": 1681,
   "id": "f9fba537-93bd-4fb6-afc8-b115f54d899f",
   "metadata": {},
   "outputs": [],
   "source": [
    "inst_1=Shape(\"square\")"
   ]
  },
  {
   "cell_type": "code",
   "execution_count": 1683,
   "id": "e83d6a60-c5b7-4fa9-9d43-1a73c8321c0f",
   "metadata": {},
   "outputs": [
    {
     "name": "stdout",
     "output_type": "stream",
     "text": [
      "Shape is square\n"
     ]
    }
   ],
   "source": [
    "print(inst_1)"
   ]
  },
  {
   "cell_type": "code",
   "execution_count": 1684,
   "id": "14715e2b-9807-48fe-86ff-838b2db29196",
   "metadata": {},
   "outputs": [
    {
     "data": {
      "text/plain": [
       "mappingproxy({'__module__': 'cls',\n",
       "              '__doc__': 'A class to represent a generic geometric shape.',\n",
       "              '__init__': <function cls.Shape.__init__(self, name: str)>,\n",
       "              'name': <property at 0x2299aa6f650>,\n",
       "              'area': <function cls.Shape.area(self) -> float>,\n",
       "              'perimeter': <function cls.Shape.perimeter(self) -> float>,\n",
       "              'locate': <function cls.Shape.locate(self) -> str>,\n",
       "              '__repr__': <function cls.Shape.__repr__(self) -> str>,\n",
       "              '__str__': <function cls.Shape.__str__(self) -> str>,\n",
       "              '__dict__': <attribute '__dict__' of 'Shape' objects>,\n",
       "              '__weakref__': <attribute '__weakref__' of 'Shape' objects>})"
      ]
     },
     "execution_count": 1684,
     "metadata": {},
     "output_type": "execute_result"
    }
   ],
   "source": [
    "Shape.__dict__"
   ]
  },
  {
   "cell_type": "code",
   "execution_count": 1686,
   "id": "c3d6ccdd-8481-48f5-adcb-f5b233b26aef",
   "metadata": {},
   "outputs": [
    {
     "data": {
      "text/plain": [
       "{'_name': 'square'}"
      ]
     },
     "execution_count": 1686,
     "metadata": {},
     "output_type": "execute_result"
    }
   ],
   "source": [
    "inst_1.__dict__"
   ]
  },
  {
   "cell_type": "code",
   "execution_count": 1689,
   "id": "02e7b2c6-89cf-4391-afd3-25137af752cd",
   "metadata": {},
   "outputs": [
    {
     "data": {
      "text/plain": [
       "mappingproxy({'__module__': 'cls',\n",
       "              '__doc__': 'A class to represent a generic geometric shape.',\n",
       "              '__init__': <function cls.Shape.__init__(self, name: str)>,\n",
       "              'name': <property at 0x2299aa6f650>,\n",
       "              'area': <function cls.Shape.area(self) -> float>,\n",
       "              'perimeter': <function cls.Shape.perimeter(self) -> float>,\n",
       "              'locate': <function cls.Shape.locate(self) -> str>,\n",
       "              '__repr__': <function cls.Shape.__repr__(self) -> str>,\n",
       "              '__str__': <function cls.Shape.__str__(self) -> str>,\n",
       "              '__dict__': <attribute '__dict__' of 'Shape' objects>,\n",
       "              '__weakref__': <attribute '__weakref__' of 'Shape' objects>})"
      ]
     },
     "execution_count": 1689,
     "metadata": {},
     "output_type": "execute_result"
    }
   ],
   "source": [
    "vars(Shape)"
   ]
  },
  {
   "cell_type": "code",
   "execution_count": 1691,
   "id": "de35ea00-41b5-46e7-b1ec-78420f8cddd8",
   "metadata": {},
   "outputs": [
    {
     "name": "stdout",
     "output_type": "stream",
     "text": [
      "Help on class Shape in module cls:\n",
      "\n",
      "class Shape(builtins.object)\n",
      " |  Shape(name: str)\n",
      " |\n",
      " |  A class to represent a generic geometric shape.\n",
      " |\n",
      " |  Methods defined here:\n",
      " |\n",
      " |  __init__(self, name: str)\n",
      " |      Initialize the shape with a name.\n",
      " |\n",
      " |  __repr__(self) -> str\n",
      " |      Repr is for programmer.\n",
      " |\n",
      " |  __str__(self) -> str\n",
      " |      Return a user-friendly string representation of the shape.\n",
      " |\n",
      " |  area(self) -> float\n",
      " |      Calculate the area of the shape.\n",
      " |\n",
      " |  locate(self) -> str\n",
      " |      Provide a description of the shape's properties.\n",
      " |\n",
      " |  perimeter(self) -> float\n",
      " |      Calculate the perimeter of the shape.\n",
      " |\n",
      " |  ----------------------------------------------------------------------\n",
      " |  Data descriptors defined here:\n",
      " |\n",
      " |  __dict__\n",
      " |      dictionary for instance variables\n",
      " |\n",
      " |  __weakref__\n",
      " |      list of weak references to the object\n",
      " |\n",
      " |  name\n",
      " |      Get the name of the shape.\n",
      "\n"
     ]
    }
   ],
   "source": [
    "help(Shape)"
   ]
  },
  {
   "cell_type": "code",
   "execution_count": 1692,
   "id": "9df5e965-3931-44b4-ac01-c41dfd0f1792",
   "metadata": {},
   "outputs": [
    {
     "name": "stdout",
     "output_type": "stream",
     "text": [
      "A class to represent a generic geometric shape.\n"
     ]
    }
   ],
   "source": [
    "print(Shape.__doc__)"
   ]
  },
  {
   "cell_type": "code",
   "execution_count": 1695,
   "id": "c917f7a5-db84-45f9-b0e9-4e6892bb4d19",
   "metadata": {},
   "outputs": [
    {
     "name": "stdout",
     "output_type": "stream",
     "text": [
      "Initialize the shape with a name.\n",
      "        \n"
     ]
    }
   ],
   "source": [
    "print(Shape.__init__.__doc__)"
   ]
  },
  {
   "cell_type": "code",
   "execution_count": 1697,
   "id": "6ba42d84-1333-4c0f-8de8-71df21a5779c",
   "metadata": {},
   "outputs": [
    {
     "name": "stdout",
     "output_type": "stream",
     "text": [
      "Get the name of the shape.\n"
     ]
    }
   ],
   "source": [
    "print(Shape.name.__doc__)"
   ]
  },
  {
   "cell_type": "code",
   "execution_count": 1699,
   "id": "f37fa251-2749-4d85-8fb6-6593b77a2347",
   "metadata": {},
   "outputs": [
    {
     "name": "stdout",
     "output_type": "stream",
     "text": [
      "Calculate the area of the shape.\n",
      "        \n"
     ]
    }
   ],
   "source": [
    "print(Shape.area.__doc__)"
   ]
  },
  {
   "cell_type": "code",
   "execution_count": 1701,
   "id": "5687e367-1d07-4fb6-b94b-5efe1cbe9f89",
   "metadata": {},
   "outputs": [
    {
     "name": "stdout",
     "output_type": "stream",
     "text": [
      "Calculate the perimeter of the shape.\n",
      "        \n"
     ]
    }
   ],
   "source": [
    "print(Shape.perimeter.__doc__)"
   ]
  },
  {
   "cell_type": "code",
   "execution_count": 1703,
   "id": "b49f399c-4987-438a-b414-4aeb6b7cf8e4",
   "metadata": {},
   "outputs": [
    {
     "name": "stdout",
     "output_type": "stream",
     "text": [
      "Provide a description of the shape's properties.\n",
      "        \n"
     ]
    }
   ],
   "source": [
    "print(Shape.locate.__doc__)"
   ]
  },
  {
   "cell_type": "code",
   "execution_count": 1705,
   "id": "daff8d60-3303-427a-805b-585e902f4ab7",
   "metadata": {},
   "outputs": [
    {
     "name": "stdout",
     "output_type": "stream",
     "text": [
      "Repr is for programmer.\n"
     ]
    }
   ],
   "source": [
    "print(Shape.__repr__.__doc__)"
   ]
  },
  {
   "cell_type": "code",
   "execution_count": 1707,
   "id": "ba514ac1-7495-48d5-92eb-e76fe2609a36",
   "metadata": {},
   "outputs": [
    {
     "name": "stdout",
     "output_type": "stream",
     "text": [
      "Return a user-friendly string representation of the shape.\n"
     ]
    }
   ],
   "source": [
    "print(Shape.__str__.__doc__)"
   ]
  },
  {
   "cell_type": "code",
   "execution_count": 1709,
   "id": "380f7944-efda-4775-8b4d-4c2885dfd7b6",
   "metadata": {},
   "outputs": [],
   "source": [
    "class Shape:\n",
    "    \"\"\"A class to represent a generic geometric shape.\"\"\"\n",
    "\n",
    "    def __init__(self, name: str=\"square\"):\n",
    "        \"\"\"Initialize the shape with a name.\n",
    "        \"\"\"\n",
    "        self._name = name"
   ]
  },
  {
   "cell_type": "code",
   "execution_count": 1711,
   "id": "1ca24a80-90f0-4541-ac4a-249c99b3bff2",
   "metadata": {},
   "outputs": [],
   "source": [
    "sh=Shape()"
   ]
  },
  {
   "cell_type": "markdown",
   "id": "6ceb43d0-9ffb-4aa4-b53e-d3e58fdb4df3",
   "metadata": {},
   "source": [
    "6: Convert the circuit tasks in lab 6 to module/s, create a package with the circuit's \n",
    "name, and revise the tasks."
   ]
  },
  {
   "cell_type": "code",
   "execution_count": 1714,
   "id": "0057c321-75c6-4841-ab2d-6c2874e4bd13",
   "metadata": {},
   "outputs": [],
   "source": [
    "import os\n",
    "os.chdir(r'C:\\Users\\DELL\\Desktop\\UET\\3 semester\\OOPS lab\\circuits')"
   ]
  },
  {
   "cell_type": "code",
   "execution_count": 1716,
   "id": "85b03aef-ddd1-4896-b7b2-c674f4e1f43d",
   "metadata": {},
   "outputs": [],
   "source": [
    "import circuits"
   ]
  },
  {
   "cell_type": "code",
   "execution_count": 1718,
   "id": "d038099d-cc18-4f29-aa42-29a3ea225a7a",
   "metadata": {},
   "outputs": [],
   "source": [
    "from circuits import Circuit"
   ]
  },
  {
   "cell_type": "code",
   "execution_count": 1720,
   "id": "7d46b500-1fc2-4509-b0d2-4310db268c5c",
   "metadata": {},
   "outputs": [],
   "source": [
    "inst_1=Circuit(3,20)"
   ]
  },
  {
   "cell_type": "code",
   "execution_count": 1722,
   "id": "acc40711-4b8f-41f8-b9bb-61ec2b64f6f3",
   "metadata": {},
   "outputs": [
    {
     "name": "stdout",
     "output_type": "stream",
     "text": [
      "Circuit with resistance 3 Ω and voltage 20 V\n"
     ]
    }
   ],
   "source": [
    "print(inst_1)"
   ]
  },
  {
   "cell_type": "code",
   "execution_count": 1724,
   "id": "fec9ca1a-b017-432c-8bfa-c57c6e7ed0e7",
   "metadata": {},
   "outputs": [
    {
     "data": {
      "text/plain": [
       "6.666666666666667"
      ]
     },
     "execution_count": 1724,
     "metadata": {},
     "output_type": "execute_result"
    }
   ],
   "source": [
    "inst_1.current()"
   ]
  },
  {
   "cell_type": "code",
   "execution_count": 1726,
   "id": "47e00337-7d37-45d5-83ef-6a6f639322d0",
   "metadata": {},
   "outputs": [
    {
     "data": {
      "text/plain": [
       "mappingproxy({'__module__': 'circuits',\n",
       "              '__doc__': '\\n    A class representing a circuit with one resistor.\\n    ',\n",
       "              '__init__': <function circuits.Circuit.__init__(self, R: float, E: float)>,\n",
       "              'R': <property at 0x2299ab396c0>,\n",
       "              'E': <property at 0x2299ab39670>,\n",
       "              'current': <function circuits.Circuit.current(self) -> float>,\n",
       "              '__repr__': <function circuits.Circuit.__repr__(self) -> str>,\n",
       "              '__str__': <function circuits.Circuit.__str__(self) -> str>,\n",
       "              'power': <staticmethod(<function Circuit.power at 0x000002299AB90A40>)>,\n",
       "              'create_circuit': <classmethod(<function Circuit.create_circuit at 0x000002299AB91580>)>,\n",
       "              '__dict__': <attribute '__dict__' of 'Circuit' objects>,\n",
       "              '__weakref__': <attribute '__weakref__' of 'Circuit' objects>})"
      ]
     },
     "execution_count": 1726,
     "metadata": {},
     "output_type": "execute_result"
    }
   ],
   "source": [
    "Circuit.__dict__"
   ]
  },
  {
   "cell_type": "code",
   "execution_count": 1727,
   "id": "0858fc3f-0d56-4074-9d9c-fcdff24d6ba2",
   "metadata": {},
   "outputs": [
    {
     "data": {
      "text/plain": [
       "{'_R': 3, '_E': 20}"
      ]
     },
     "execution_count": 1727,
     "metadata": {},
     "output_type": "execute_result"
    }
   ],
   "source": [
    "inst_1.__dict__"
   ]
  },
  {
   "cell_type": "code",
   "execution_count": 1730,
   "id": "4facf967-076a-4035-8dbd-5327c4fe9284",
   "metadata": {},
   "outputs": [
    {
     "data": {
      "text/plain": [
       "mappingproxy({'__module__': 'circuits',\n",
       "              '__doc__': '\\n    A class representing a circuit with one resistor.\\n    ',\n",
       "              '__init__': <function circuits.Circuit.__init__(self, R: float, E: float)>,\n",
       "              'R': <property at 0x2299ab396c0>,\n",
       "              'E': <property at 0x2299ab39670>,\n",
       "              'current': <function circuits.Circuit.current(self) -> float>,\n",
       "              '__repr__': <function circuits.Circuit.__repr__(self) -> str>,\n",
       "              '__str__': <function circuits.Circuit.__str__(self) -> str>,\n",
       "              'power': <staticmethod(<function Circuit.power at 0x000002299AB90A40>)>,\n",
       "              'create_circuit': <classmethod(<function Circuit.create_circuit at 0x000002299AB91580>)>,\n",
       "              '__dict__': <attribute '__dict__' of 'Circuit' objects>,\n",
       "              '__weakref__': <attribute '__weakref__' of 'Circuit' objects>})"
      ]
     },
     "execution_count": 1730,
     "metadata": {},
     "output_type": "execute_result"
    }
   ],
   "source": [
    "vars(Circuit)"
   ]
  },
  {
   "cell_type": "code",
   "execution_count": 1732,
   "id": "b7885101-d8dd-440c-9bf1-405c476cb74a",
   "metadata": {},
   "outputs": [
    {
     "name": "stdout",
     "output_type": "stream",
     "text": [
      "Help on class Circuit in module circuits:\n",
      "\n",
      "class Circuit(builtins.object)\n",
      " |  Circuit(R: float, E: float)\n",
      " |\n",
      " |  A class representing a circuit with one resistor.\n",
      " |\n",
      " |  Methods defined here:\n",
      " |\n",
      " |  __init__(self, R: float, E: float)\n",
      " |      Initialize the circuit with resistance and voltage.\n",
      " |\n",
      " |  __repr__(self) -> str\n",
      " |      Repr is for programmer.\n",
      " |\n",
      " |  __str__(self) -> str\n",
      " |      Return a human-readable string representation of the circuit.\n",
      " |\n",
      " |  current(self) -> float\n",
      " |      Calculate the current in the circuit using Ohm's Law.\n",
      " |\n",
      " |  ----------------------------------------------------------------------\n",
      " |  Class methods defined here:\n",
      " |\n",
      " |  create_circuit(R: float, E: float)\n",
      " |      Create a new circuit with the given resistance and voltage.\n",
      " |\n",
      " |  ----------------------------------------------------------------------\n",
      " |  Static methods defined here:\n",
      " |\n",
      " |  power(E: float, I: float) -> float\n",
      " |      Calculate the power in the circuit using the formula P = V x I.\n",
      " |\n",
      " |  ----------------------------------------------------------------------\n",
      " |  Data descriptors defined here:\n",
      " |\n",
      " |  E\n",
      " |      Get the voltage of the circuit.\n",
      " |\n",
      " |  R\n",
      " |      Get the resistance of the circuit.\n",
      " |\n",
      " |  __dict__\n",
      " |      dictionary for instance variables\n",
      " |\n",
      " |  __weakref__\n",
      " |      list of weak references to the object\n",
      "\n"
     ]
    }
   ],
   "source": [
    "help(Circuit)"
   ]
  },
  {
   "cell_type": "code",
   "execution_count": 1734,
   "id": "5ec5244f-eb5b-4c29-bfa2-ec9884717430",
   "metadata": {},
   "outputs": [
    {
     "name": "stdout",
     "output_type": "stream",
     "text": [
      "\n",
      "    A class representing a circuit with one resistor.\n",
      "    \n"
     ]
    }
   ],
   "source": [
    "print(Circuit.__doc__)"
   ]
  },
  {
   "cell_type": "code",
   "execution_count": 1736,
   "id": "d8970a2c-3b7a-460f-b80e-855c602aa33a",
   "metadata": {},
   "outputs": [
    {
     "name": "stdout",
     "output_type": "stream",
     "text": [
      "\n",
      "        Initialize the circuit with resistance and voltage.\n",
      "        \n"
     ]
    }
   ],
   "source": [
    "print(Circuit.__init__.__doc__)"
   ]
  },
  {
   "cell_type": "code",
   "execution_count": 1738,
   "id": "4a265041-f19f-4c18-9846-2053dacce857",
   "metadata": {},
   "outputs": [
    {
     "name": "stdout",
     "output_type": "stream",
     "text": [
      "\n",
      "        Get the resistance of the circuit.\n",
      "        \n"
     ]
    }
   ],
   "source": [
    "print(Circuit.R.__doc__)"
   ]
  },
  {
   "cell_type": "code",
   "execution_count": 1740,
   "id": "9cd6da72-3433-4657-bda9-9221ffbcb949",
   "metadata": {},
   "outputs": [
    {
     "name": "stdout",
     "output_type": "stream",
     "text": [
      "\n",
      "        Calculate the current in the circuit using Ohm's Law.\n",
      "        \n"
     ]
    }
   ],
   "source": [
    "print(Circuit.current.__doc__)"
   ]
  },
  {
   "cell_type": "code",
   "execution_count": 1742,
   "id": "a29e5d4b-70b1-4113-b8d7-7e3ee93c970d",
   "metadata": {},
   "outputs": [
    {
     "name": "stdout",
     "output_type": "stream",
     "text": [
      "\n",
      "        Repr is for programmer.\n",
      "        \n"
     ]
    }
   ],
   "source": [
    "print(Circuit.__repr__.__doc__)"
   ]
  },
  {
   "cell_type": "code",
   "execution_count": 1744,
   "id": "e9cca067-d9a8-430b-85b9-dc3294933f5c",
   "metadata": {},
   "outputs": [
    {
     "name": "stdout",
     "output_type": "stream",
     "text": [
      "\n",
      "        Return a human-readable string representation of the circuit.\n",
      "        \n"
     ]
    }
   ],
   "source": [
    "print(Circuit.__str__.__doc__)"
   ]
  },
  {
   "cell_type": "code",
   "execution_count": 1746,
   "id": "21ddcaff-c5cf-44b3-9977-0f8a6728f0fd",
   "metadata": {},
   "outputs": [],
   "source": [
    "from circuits import RL_parallel_Circuit"
   ]
  },
  {
   "cell_type": "code",
   "execution_count": 1748,
   "id": "5b07599a-f340-493d-b255-6a29715f3813",
   "metadata": {},
   "outputs": [],
   "source": [
    "inst_1= RL_parallel_Circuit(3,7,8)"
   ]
  },
  {
   "cell_type": "code",
   "execution_count": 1749,
   "id": "5fa9e799-e451-4ddc-b2a5-3c50d53b149e",
   "metadata": {},
   "outputs": [
    {
     "name": "stdout",
     "output_type": "stream",
     "text": [
      " RL_parallel_Circuit has Resistance 3 ohms, reactance 7 henrys & voltage = 8volt\n"
     ]
    }
   ],
   "source": [
    "print(inst_1)"
   ]
  },
  {
   "cell_type": "code",
   "execution_count": 1752,
   "id": "8f14310a-20fe-4bc0-8928-90d72cc70a1b",
   "metadata": {},
   "outputs": [
    {
     "data": {
      "text/plain": [
       "3.142857142857143"
      ]
     },
     "execution_count": 1752,
     "metadata": {},
     "output_type": "execute_result"
    }
   ],
   "source": [
    "inst_1.zt()"
   ]
  },
  {
   "cell_type": "code",
   "execution_count": 1754,
   "id": "26f32bb6-710b-4367-b98e-f1ce665f277c",
   "metadata": {},
   "outputs": [
    {
     "data": {
      "text/plain": [
       "2.6666666666666665"
      ]
     },
     "execution_count": 1754,
     "metadata": {},
     "output_type": "execute_result"
    }
   ],
   "source": [
    "inst_1.I()"
   ]
  },
  {
   "cell_type": "code",
   "execution_count": 1755,
   "id": "30ba59e3-2d2c-415f-b52e-e6b8bbc7370b",
   "metadata": {},
   "outputs": [
    {
     "data": {
      "text/plain": [
       "{'_R': 3, '_X_L': 7, '_E': 8}"
      ]
     },
     "execution_count": 1755,
     "metadata": {},
     "output_type": "execute_result"
    }
   ],
   "source": [
    "inst_1.__dict__"
   ]
  },
  {
   "cell_type": "code",
   "execution_count": 1758,
   "id": "0b8c462e-407b-44ef-a9f4-30fe7cf2cc12",
   "metadata": {},
   "outputs": [
    {
     "data": {
      "text/plain": [
       "mappingproxy({'__module__': 'circuits',\n",
       "              '__doc__': 'A class to represent a simple RL circuit with a resistor and an inductor.',\n",
       "              '__init__': <function circuits.RL_parallel_Circuit.__init__(self, R: float, X_L: float, E)>,\n",
       "              'R': <property at 0x2299ab39580>,\n",
       "              'X_L': <property at 0x2299ab394e0>,\n",
       "              'E': <property at 0x2299ab38810>,\n",
       "              'zt': <function circuits.RL_parallel_Circuit.zt(self) -> str>,\n",
       "              'I': <function circuits.RL_parallel_Circuit.I(self)>,\n",
       "              'I_R': <function circuits.RL_parallel_Circuit.I_R(self)>,\n",
       "              'I_XL': <function circuits.RL_parallel_Circuit.I_XL(self)>,\n",
       "              'Pt': <function circuits.RL_parallel_Circuit.Pt(self, current)>,\n",
       "              'P_f': <classmethod(<function RL_parallel_Circuit.P_f at 0x000002299AB91080>)>,\n",
       "              'angle': <staticmethod(<function RL_parallel_Circuit.angle at 0x000002299AB91DA0>)>,\n",
       "              '__repr__': <function circuits.RL_parallel_Circuit.__repr__(self) -> str>,\n",
       "              '__str__': <function circuits.RL_parallel_Circuit.__str__(self) -> str>,\n",
       "              '__dict__': <attribute '__dict__' of 'RL_parallel_Circuit' objects>,\n",
       "              '__weakref__': <attribute '__weakref__' of 'RL_parallel_Circuit' objects>})"
      ]
     },
     "execution_count": 1758,
     "metadata": {},
     "output_type": "execute_result"
    }
   ],
   "source": [
    "RL_parallel_Circuit.__dict__"
   ]
  },
  {
   "cell_type": "code",
   "execution_count": 1760,
   "id": "718713cc-17cd-4bbd-870a-c24cad02ebee",
   "metadata": {},
   "outputs": [
    {
     "data": {
      "text/plain": [
       "mappingproxy({'__module__': 'circuits',\n",
       "              '__doc__': 'A class to represent a simple RL circuit with a resistor and an inductor.',\n",
       "              '__init__': <function circuits.RL_parallel_Circuit.__init__(self, R: float, X_L: float, E)>,\n",
       "              'R': <property at 0x2299ab39580>,\n",
       "              'X_L': <property at 0x2299ab394e0>,\n",
       "              'E': <property at 0x2299ab38810>,\n",
       "              'zt': <function circuits.RL_parallel_Circuit.zt(self) -> str>,\n",
       "              'I': <function circuits.RL_parallel_Circuit.I(self)>,\n",
       "              'I_R': <function circuits.RL_parallel_Circuit.I_R(self)>,\n",
       "              'I_XL': <function circuits.RL_parallel_Circuit.I_XL(self)>,\n",
       "              'Pt': <function circuits.RL_parallel_Circuit.Pt(self, current)>,\n",
       "              'P_f': <classmethod(<function RL_parallel_Circuit.P_f at 0x000002299AB91080>)>,\n",
       "              'angle': <staticmethod(<function RL_parallel_Circuit.angle at 0x000002299AB91DA0>)>,\n",
       "              '__repr__': <function circuits.RL_parallel_Circuit.__repr__(self) -> str>,\n",
       "              '__str__': <function circuits.RL_parallel_Circuit.__str__(self) -> str>,\n",
       "              '__dict__': <attribute '__dict__' of 'RL_parallel_Circuit' objects>,\n",
       "              '__weakref__': <attribute '__weakref__' of 'RL_parallel_Circuit' objects>})"
      ]
     },
     "execution_count": 1760,
     "metadata": {},
     "output_type": "execute_result"
    }
   ],
   "source": [
    "vars( RL_parallel_Circuit)"
   ]
  },
  {
   "cell_type": "code",
   "execution_count": 1762,
   "id": "c106304e-3c84-43be-ac94-0a169427eef9",
   "metadata": {},
   "outputs": [
    {
     "name": "stdout",
     "output_type": "stream",
     "text": [
      "Help on class RL_parallel_Circuit in module circuits:\n",
      "\n",
      "class RL_parallel_Circuit(builtins.object)\n",
      " |  RL_parallel_Circuit(R: float, X_L: float, E)\n",
      " |\n",
      " |  A class to represent a simple RL circuit with a resistor and an inductor.\n",
      " |\n",
      " |  Methods defined here:\n",
      " |\n",
      " |  I(self)\n",
      " |\n",
      " |  I_R(self)\n",
      " |\n",
      " |  I_XL(self)\n",
      " |\n",
      " |  Pt(self, current)\n",
      " |\n",
      " |  __init__(self, R: float, X_L: float, E)\n",
      " |      Initialize the RL circuit with a resistor and an inductor.\n",
      " |\n",
      " |  __repr__(self) -> str\n",
      " |      repr is for programmer\n",
      " |\n",
      " |  __str__(self) -> str\n",
      " |      str is for common people\n",
      " |\n",
      " |  zt(self) -> str\n",
      " |      Provide a description of the RL circuit's properties.\n",
      " |\n",
      " |  ----------------------------------------------------------------------\n",
      " |  Class methods defined here:\n",
      " |\n",
      " |  P_f()\n",
      " |\n",
      " |  ----------------------------------------------------------------------\n",
      " |  Static methods defined here:\n",
      " |\n",
      " |  angle()\n",
      " |\n",
      " |  ----------------------------------------------------------------------\n",
      " |  Data descriptors defined here:\n",
      " |\n",
      " |  E\n",
      " |      Get the voltage.\n",
      " |\n",
      " |  R\n",
      " |      Get the resistance of the resistor.\n",
      " |\n",
      " |  X_L\n",
      " |      Get the reactance of the inductor.\n",
      " |\n",
      " |  __dict__\n",
      " |      dictionary for instance variables\n",
      " |\n",
      " |  __weakref__\n",
      " |      list of weak references to the object\n",
      "\n"
     ]
    }
   ],
   "source": [
    "help( RL_parallel_Circuit)"
   ]
  },
  {
   "cell_type": "code",
   "execution_count": 1764,
   "id": "32e49ba5-e2f7-4f8b-9b69-76795ad6d35a",
   "metadata": {},
   "outputs": [],
   "source": [
    "from circuits import RL_series_circuit"
   ]
  },
  {
   "cell_type": "code",
   "execution_count": 1766,
   "id": "37fe369a-8da6-43a9-803c-c908df49f338",
   "metadata": {},
   "outputs": [],
   "source": [
    "inst_1=RL_series_circuit(2,0.002,50)"
   ]
  },
  {
   "cell_type": "code",
   "execution_count": 1768,
   "id": "a73c89a4-5ddb-4e3a-8347-f8bb29c4e941",
   "metadata": {},
   "outputs": [
    {
     "name": "stdout",
     "output_type": "stream",
     "text": [
      "RL_Series_Circuit with resistance 2 ohm, inductance 0.002 ohm & voltage: 50V\n"
     ]
    }
   ],
   "source": [
    "print(inst_1)"
   ]
  },
  {
   "cell_type": "code",
   "execution_count": 1770,
   "id": "c94f5f0e-f679-47ab-a048-ad4ace68d4df",
   "metadata": {},
   "outputs": [
    {
     "data": {
      "text/plain": [
       "2.002"
      ]
     },
     "execution_count": 1770,
     "metadata": {},
     "output_type": "execute_result"
    }
   ],
   "source": [
    "inst_1.zt"
   ]
  },
  {
   "cell_type": "code",
   "execution_count": 1772,
   "id": "eeddca4d-27b5-4009-92c8-380c6320dd34",
   "metadata": {},
   "outputs": [
    {
     "data": {
      "text/plain": [
       "0.04995004995004996"
      ]
     },
     "execution_count": 1772,
     "metadata": {},
     "output_type": "execute_result"
    }
   ],
   "source": [
    "inst_1.V_L"
   ]
  },
  {
   "cell_type": "code",
   "execution_count": 1773,
   "id": "ef181955-1811-4e5a-8159-f70e5efc3b62",
   "metadata": {},
   "outputs": [
    {
     "data": {
      "text/plain": [
       "49.95004995004996"
      ]
     },
     "execution_count": 1773,
     "metadata": {},
     "output_type": "execute_result"
    }
   ],
   "source": [
    "inst_1.V_R"
   ]
  },
  {
   "cell_type": "code",
   "execution_count": 1776,
   "id": "c3892512-f8ff-4f52-9ed7-93153d9f6e14",
   "metadata": {},
   "outputs": [
    {
     "data": {
      "text/plain": [
       "24.97502497502498"
      ]
     },
     "execution_count": 1776,
     "metadata": {},
     "output_type": "execute_result"
    }
   ],
   "source": [
    "inst_1.I_t"
   ]
  },
  {
   "cell_type": "code",
   "execution_count": 1778,
   "id": "71a05311-04b5-4f67-8aef-59a3323f5314",
   "metadata": {},
   "outputs": [
    {
     "data": {
      "text/plain": [
       "mappingproxy({'__module__': 'circuits',\n",
       "              '__doc__': 'A class to represent a RL_series_circuit with one resistor, & an inductor',\n",
       "              '__init__': <function circuits.RL_series_circuit.__init__(self, R: float, X_L: float, E: float)>,\n",
       "              'R': <property at 0x2299ab383b0>,\n",
       "              'X_L': <property at 0x2299ab38400>,\n",
       "              'E': <property at 0x2299ab38900>,\n",
       "              'zt': <property at 0x2299ab387c0>,\n",
       "              'I_t': <property at 0x2299ab38450>,\n",
       "              'V_R': <property at 0x2299ab388b0>,\n",
       "              'V_L': <property at 0x2299ab389a0>,\n",
       "              'P_t': <property at 0x2299ab38950>,\n",
       "              'P_f': <classmethod(<function RL_series_circuit.P_f at 0x000002299AB927A0>)>,\n",
       "              'angle': <staticmethod(<function RL_series_circuit.angle at 0x000002299AB92840>)>,\n",
       "              '__repr__': <function circuits.RL_series_circuit.__repr__(self) -> str>,\n",
       "              '__str__': <function circuits.RL_series_circuit.__str__(self) -> str>,\n",
       "              '__dict__': <attribute '__dict__' of 'RL_series_circuit' objects>,\n",
       "              '__weakref__': <attribute '__weakref__' of 'RL_series_circuit' objects>})"
      ]
     },
     "execution_count": 1778,
     "metadata": {},
     "output_type": "execute_result"
    }
   ],
   "source": [
    "RL_series_circuit.__dict__"
   ]
  },
  {
   "cell_type": "code",
   "execution_count": 1780,
   "id": "4dd1aac9-0969-4536-8b18-d0b39670756d",
   "metadata": {},
   "outputs": [
    {
     "data": {
      "text/plain": [
       "{'_R': 2, '_X_L': 0.002, '_E': 50}"
      ]
     },
     "execution_count": 1780,
     "metadata": {},
     "output_type": "execute_result"
    }
   ],
   "source": [
    "inst_1.__dict__"
   ]
  },
  {
   "cell_type": "code",
   "execution_count": 1782,
   "id": "b6ddb358-fcda-4132-9603-8f0dc76095b3",
   "metadata": {},
   "outputs": [
    {
     "data": {
      "text/plain": [
       "mappingproxy({'__module__': 'circuits',\n",
       "              '__doc__': 'A class to represent a RL_series_circuit with one resistor, & an inductor',\n",
       "              '__init__': <function circuits.RL_series_circuit.__init__(self, R: float, X_L: float, E: float)>,\n",
       "              'R': <property at 0x2299ab383b0>,\n",
       "              'X_L': <property at 0x2299ab38400>,\n",
       "              'E': <property at 0x2299ab38900>,\n",
       "              'zt': <property at 0x2299ab387c0>,\n",
       "              'I_t': <property at 0x2299ab38450>,\n",
       "              'V_R': <property at 0x2299ab388b0>,\n",
       "              'V_L': <property at 0x2299ab389a0>,\n",
       "              'P_t': <property at 0x2299ab38950>,\n",
       "              'P_f': <classmethod(<function RL_series_circuit.P_f at 0x000002299AB927A0>)>,\n",
       "              'angle': <staticmethod(<function RL_series_circuit.angle at 0x000002299AB92840>)>,\n",
       "              '__repr__': <function circuits.RL_series_circuit.__repr__(self) -> str>,\n",
       "              '__str__': <function circuits.RL_series_circuit.__str__(self) -> str>,\n",
       "              '__dict__': <attribute '__dict__' of 'RL_series_circuit' objects>,\n",
       "              '__weakref__': <attribute '__weakref__' of 'RL_series_circuit' objects>})"
      ]
     },
     "execution_count": 1782,
     "metadata": {},
     "output_type": "execute_result"
    }
   ],
   "source": [
    "vars(RL_series_circuit)"
   ]
  },
  {
   "cell_type": "code",
   "execution_count": 1784,
   "id": "f1e78b8e-3719-4ff9-9585-394f9ea82d10",
   "metadata": {},
   "outputs": [
    {
     "name": "stdout",
     "output_type": "stream",
     "text": [
      "Help on class RL_series_circuit in module circuits:\n",
      "\n",
      "class RL_series_circuit(builtins.object)\n",
      " |  RL_series_circuit(R: float, X_L: float, E: float)\n",
      " |\n",
      " |  A class to represent a RL_series_circuit with one resistor, & an inductor\n",
      " |\n",
      " |  Methods defined here:\n",
      " |\n",
      " |  __init__(self, R: float, X_L: float, E: float)\n",
      " |      Initialize the circuit with a resistor, inductor.\n",
      " |\n",
      " |  __repr__(self) -> str\n",
      " |      repr is for programmer\n",
      " |\n",
      " |  __str__(self) -> str\n",
      " |      str is for common person or for the coder that use programmer code\n",
      " |\n",
      " |  ----------------------------------------------------------------------\n",
      " |  Class methods defined here:\n",
      " |\n",
      " |  P_f()\n",
      " |      give the power_factor of circuit\n",
      " |\n",
      " |  ----------------------------------------------------------------------\n",
      " |  Static methods defined here:\n",
      " |\n",
      " |  angle(self, R, X_L)\n",
      " |      give the angle of circuit\n",
      " |\n",
      " |  ----------------------------------------------------------------------\n",
      " |  Readonly properties defined here:\n",
      " |\n",
      " |  I_t\n",
      " |      give the total_current of circuit\n",
      " |\n",
      " |  P_t\n",
      " |      give the total_power of circuit\n",
      " |\n",
      " |  V_L\n",
      " |      give the inductor_voltage of circuit\n",
      " |\n",
      " |  V_R\n",
      " |      give the resistor_voltage of circuit\n",
      " |\n",
      " |  zt\n",
      " |      give the impedence of circuit\n",
      " |\n",
      " |  ----------------------------------------------------------------------\n",
      " |  Data descriptors defined here:\n",
      " |\n",
      " |  E\n",
      " |      Get the voltage\n",
      " |\n",
      " |  R\n",
      " |      Get the resistance of resistor.\n",
      " |\n",
      " |  X_L\n",
      " |      Get the inductance\n",
      " |\n",
      " |  __dict__\n",
      " |      dictionary for instance variables\n",
      " |\n",
      " |  __weakref__\n",
      " |      list of weak references to the object\n",
      "\n"
     ]
    }
   ],
   "source": [
    "help(RL_series_circuit)"
   ]
  },
  {
   "cell_type": "code",
   "execution_count": 1786,
   "id": "f1ca5545-7588-40c4-bfcf-cd01276d2dd2",
   "metadata": {},
   "outputs": [
    {
     "name": "stdout",
     "output_type": "stream",
     "text": [
      "A class to represent a RL_series_circuit with one resistor, & an inductor\n"
     ]
    }
   ],
   "source": [
    "print(RL_series_circuit.__doc__)"
   ]
  },
  {
   "cell_type": "code",
   "execution_count": 1788,
   "id": "d35caacf-aa66-4566-ba34-becf60b8600e",
   "metadata": {},
   "outputs": [
    {
     "name": "stdout",
     "output_type": "stream",
     "text": [
      "Initialize the circuit with a resistor, inductor.\n",
      "        \n"
     ]
    }
   ],
   "source": [
    "print(RL_series_circuit.__init__.__doc__)"
   ]
  },
  {
   "cell_type": "code",
   "execution_count": 1790,
   "id": "e7b36421-8f4b-4826-acc2-e652b440c78d",
   "metadata": {},
   "outputs": [
    {
     "name": "stdout",
     "output_type": "stream",
     "text": [
      "Get the resistance of resistor.\n"
     ]
    }
   ],
   "source": [
    "print(RL_series_circuit.R.__doc__)"
   ]
  },
  {
   "cell_type": "code",
   "execution_count": 1792,
   "id": "6d4e5630-2d51-466b-9e21-8cee83d8cbf2",
   "metadata": {},
   "outputs": [
    {
     "name": "stdout",
     "output_type": "stream",
     "text": [
      "Get the inductance\n"
     ]
    }
   ],
   "source": [
    "print(RL_series_circuit.X_L.__doc__)"
   ]
  },
  {
   "cell_type": "code",
   "execution_count": 1793,
   "id": "19904b4c-f8eb-4ec6-b57f-7a2626f21f85",
   "metadata": {},
   "outputs": [
    {
     "name": "stdout",
     "output_type": "stream",
     "text": [
      "give the impedence of circuit\n"
     ]
    }
   ],
   "source": [
    "print(RL_series_circuit.zt.__doc__)"
   ]
  },
  {
   "cell_type": "code",
   "execution_count": 1796,
   "id": "9fcf7c13-eef5-46d6-82c1-0146c7169084",
   "metadata": {},
   "outputs": [
    {
     "name": "stdout",
     "output_type": "stream",
     "text": [
      "give the total_current of circuit\n"
     ]
    }
   ],
   "source": [
    "print(RL_series_circuit.I_t.__doc__)"
   ]
  },
  {
   "cell_type": "code",
   "execution_count": 1798,
   "id": "752f95e3-b3cb-4075-b7e5-d3254997aad5",
   "metadata": {},
   "outputs": [
    {
     "name": "stdout",
     "output_type": "stream",
     "text": [
      "give the resistor_voltage of circuit\n"
     ]
    }
   ],
   "source": [
    "print(RL_series_circuit.V_R.__doc__)"
   ]
  },
  {
   "cell_type": "code",
   "execution_count": 1800,
   "id": "53f110c6-a502-4b8b-9948-9328acf4a694",
   "metadata": {},
   "outputs": [
    {
     "name": "stdout",
     "output_type": "stream",
     "text": [
      "give the inductor_voltage of circuit\n"
     ]
    }
   ],
   "source": [
    "print(RL_series_circuit.V_L.__doc__)"
   ]
  },
  {
   "cell_type": "code",
   "execution_count": 1802,
   "id": "db266597-9fb3-4486-a89e-e25b92a5b930",
   "metadata": {},
   "outputs": [
    {
     "name": "stdout",
     "output_type": "stream",
     "text": [
      "give the power_factor of circuit\n"
     ]
    }
   ],
   "source": [
    "print(RL_series_circuit.P_f.__doc__)"
   ]
  },
  {
   "cell_type": "code",
   "execution_count": 1804,
   "id": "bbfcb526-f4e6-4c85-b46e-63b65efed94a",
   "metadata": {},
   "outputs": [
    {
     "name": "stdout",
     "output_type": "stream",
     "text": [
      "give the angle of circuit\n"
     ]
    }
   ],
   "source": [
    "print(RL_series_circuit.angle.__doc__)"
   ]
  },
  {
   "cell_type": "code",
   "execution_count": 1805,
   "id": "e5336f77-44ec-4697-8372-18f9079d2e63",
   "metadata": {},
   "outputs": [
    {
     "name": "stdout",
     "output_type": "stream",
     "text": [
      "repr is for programmer\n"
     ]
    }
   ],
   "source": [
    "print(RL_series_circuit.__repr__.__doc__)"
   ]
  },
  {
   "cell_type": "code",
   "execution_count": 1806,
   "id": "4a9b585b-8d12-487f-a7ef-b73ca5611786",
   "metadata": {},
   "outputs": [
    {
     "name": "stdout",
     "output_type": "stream",
     "text": [
      "str is for common person or for the coder that use programmer code\n"
     ]
    }
   ],
   "source": [
    "print(RL_series_circuit.__str__.__doc__)"
   ]
  },
  {
   "cell_type": "code",
   "execution_count": 1807,
   "id": "b81eeb58-6dcd-4696-9bd7-6b11b4fddd97",
   "metadata": {},
   "outputs": [],
   "source": [
    "from circuits import RC_parallel_Circuit"
   ]
  },
  {
   "cell_type": "code",
   "execution_count": 1808,
   "id": "a921be6e-7da2-4fe3-af24-cffb0e060cd8",
   "metadata": {},
   "outputs": [],
   "source": [
    "inst_2=RC_parallel_Circuit(2,6,9)"
   ]
  },
  {
   "cell_type": "code",
   "execution_count": 1809,
   "id": "be09db63-8a46-4078-a3f8-d621201ba93f",
   "metadata": {},
   "outputs": [
    {
     "data": {
      "text/plain": [
       "2.1666666666666665"
      ]
     },
     "execution_count": 1809,
     "metadata": {},
     "output_type": "execute_result"
    }
   ],
   "source": [
    "inst_2.zt()"
   ]
  },
  {
   "cell_type": "code",
   "execution_count": 1810,
   "id": "ed9be231-36df-4b36-9828-b3c7bf8d27f2",
   "metadata": {},
   "outputs": [
    {
     "data": {
      "text/plain": [
       "18"
      ]
     },
     "execution_count": 1810,
     "metadata": {},
     "output_type": "execute_result"
    }
   ],
   "source": [
    "inst_2.E()"
   ]
  },
  {
   "cell_type": "code",
   "execution_count": 1811,
   "id": "6bd6e566-5fdd-4766-a66d-c3d57a064b09",
   "metadata": {},
   "outputs": [
    {
     "data": {
      "text/plain": [
       "9.0"
      ]
     },
     "execution_count": 1811,
     "metadata": {},
     "output_type": "execute_result"
    }
   ],
   "source": [
    "inst_2.I_R()"
   ]
  },
  {
   "cell_type": "code",
   "execution_count": 1812,
   "id": "ad259467-91a9-48d4-bdde-83c96b3e6591",
   "metadata": {},
   "outputs": [
    {
     "data": {
      "text/plain": [
       "3.0"
      ]
     },
     "execution_count": 1812,
     "metadata": {},
     "output_type": "execute_result"
    }
   ],
   "source": [
    "inst_2.I_C()"
   ]
  },
  {
   "cell_type": "code",
   "execution_count": 1813,
   "id": "522b9b87-21f1-41ff-8d3c-9a73ea9779d6",
   "metadata": {},
   "outputs": [
    {
     "data": {
      "text/plain": [
       "0.982793723247329"
      ]
     },
     "execution_count": 1813,
     "metadata": {},
     "output_type": "execute_result"
    }
   ],
   "source": [
    "inst_2.angle(2,3)"
   ]
  },
  {
   "cell_type": "code",
   "execution_count": 1814,
   "id": "b9331dc0-4ee3-4643-9074-9523569755f0",
   "metadata": {},
   "outputs": [
    {
     "name": "stdout",
     "output_type": "stream",
     "text": [
      "RL_Series_Circuit with resistance 2 ohm, inductance 0.002 ohm & voltage: 50V\n"
     ]
    }
   ],
   "source": [
    "print(inst_1)"
   ]
  },
  {
   "cell_type": "code",
   "execution_count": 1815,
   "id": "6d72cc87-6927-449f-b71f-7f98d2eb14b0",
   "metadata": {},
   "outputs": [
    {
     "name": "stdout",
     "output_type": "stream",
     "text": [
      "RC_parallel_Circuit has Resistance 2 ohms & Capacitance 6 farads\n"
     ]
    }
   ],
   "source": [
    "print(inst_2)"
   ]
  },
  {
   "cell_type": "code",
   "execution_count": 1816,
   "id": "684c66b6-ee2c-42d1-8440-d68d5e490f5c",
   "metadata": {},
   "outputs": [
    {
     "data": {
      "text/plain": [
       "mappingproxy({'__module__': 'circuits',\n",
       "              '__doc__': 'A class to represent a simple RC circuit with a resistor and a capacitor.',\n",
       "              '__init__': <function circuits.RC_parallel_Circuit.__init__(self, R: float, X_C: float, I: float)>,\n",
       "              'R': <property at 0x2299ab38b80>,\n",
       "              'X_C': <property at 0x2299ab38ae0>,\n",
       "              'I': <property at 0x2299ab38db0>,\n",
       "              'zt': <function circuits.RC_parallel_Circuit.zt(self) -> str>,\n",
       "              'E': <function circuits.RC_parallel_Circuit.E(self)>,\n",
       "              'I_R': <function circuits.RC_parallel_Circuit.I_R(self)>,\n",
       "              'I_C': <function circuits.RC_parallel_Circuit.I_C(self)>,\n",
       "              'P_t': <classmethod(<function RC_parallel_Circuit.P_t at 0x000002299AB93100>)>,\n",
       "              'angle': <staticmethod(<function RC_parallel_Circuit.angle at 0x000002299AB931A0>)>,\n",
       "              '__repr__': <function circuits.RC_parallel_Circuit.__repr__(self) -> str>,\n",
       "              '__str__': <function circuits.RC_parallel_Circuit.__str__(self) -> str>,\n",
       "              '__dict__': <attribute '__dict__' of 'RC_parallel_Circuit' objects>,\n",
       "              '__weakref__': <attribute '__weakref__' of 'RC_parallel_Circuit' objects>})"
      ]
     },
     "execution_count": 1816,
     "metadata": {},
     "output_type": "execute_result"
    }
   ],
   "source": [
    "RC_parallel_Circuit.__dict__"
   ]
  },
  {
   "cell_type": "code",
   "execution_count": 1817,
   "id": "18e427e6-cd43-4349-8044-39b9c901691b",
   "metadata": {},
   "outputs": [
    {
     "data": {
      "text/plain": [
       "{'_R': 2, '_X_C': 6, '_I': 9}"
      ]
     },
     "execution_count": 1817,
     "metadata": {},
     "output_type": "execute_result"
    }
   ],
   "source": [
    "inst_2.__dict__"
   ]
  },
  {
   "cell_type": "code",
   "execution_count": 1818,
   "id": "6f8ff460-e8f6-409a-947a-a4a27f9f7d3c",
   "metadata": {},
   "outputs": [
    {
     "data": {
      "text/plain": [
       "mappingproxy({'__module__': 'circuits',\n",
       "              '__doc__': 'A class to represent a simple RC circuit with a resistor and a capacitor.',\n",
       "              '__init__': <function circuits.RC_parallel_Circuit.__init__(self, R: float, X_C: float, I: float)>,\n",
       "              'R': <property at 0x2299ab38b80>,\n",
       "              'X_C': <property at 0x2299ab38ae0>,\n",
       "              'I': <property at 0x2299ab38db0>,\n",
       "              'zt': <function circuits.RC_parallel_Circuit.zt(self) -> str>,\n",
       "              'E': <function circuits.RC_parallel_Circuit.E(self)>,\n",
       "              'I_R': <function circuits.RC_parallel_Circuit.I_R(self)>,\n",
       "              'I_C': <function circuits.RC_parallel_Circuit.I_C(self)>,\n",
       "              'P_t': <classmethod(<function RC_parallel_Circuit.P_t at 0x000002299AB93100>)>,\n",
       "              'angle': <staticmethod(<function RC_parallel_Circuit.angle at 0x000002299AB931A0>)>,\n",
       "              '__repr__': <function circuits.RC_parallel_Circuit.__repr__(self) -> str>,\n",
       "              '__str__': <function circuits.RC_parallel_Circuit.__str__(self) -> str>,\n",
       "              '__dict__': <attribute '__dict__' of 'RC_parallel_Circuit' objects>,\n",
       "              '__weakref__': <attribute '__weakref__' of 'RC_parallel_Circuit' objects>})"
      ]
     },
     "execution_count": 1818,
     "metadata": {},
     "output_type": "execute_result"
    }
   ],
   "source": [
    "vars(RC_parallel_Circuit)"
   ]
  },
  {
   "cell_type": "code",
   "execution_count": 1819,
   "id": "c7cad3f3-0267-496b-bf90-97fea2932184",
   "metadata": {},
   "outputs": [
    {
     "name": "stdout",
     "output_type": "stream",
     "text": [
      "Help on class RC_parallel_Circuit in module circuits:\n",
      "\n",
      "class RC_parallel_Circuit(builtins.object)\n",
      " |  RC_parallel_Circuit(R: float, X_C: float, I: float)\n",
      " |\n",
      " |  A class to represent a simple RC circuit with a resistor and a capacitor.\n",
      " |\n",
      " |  Methods defined here:\n",
      " |\n",
      " |  E(self)\n",
      " |      give the voltage of the circuit\n",
      " |\n",
      " |  I_C(self)\n",
      " |      give the capacitor_current of the circuit\n",
      " |\n",
      " |  I_R(self)\n",
      " |      give the resistor_current of the circuit\n",
      " |\n",
      " |  __init__(self, R: float, X_C: float, I: float)\n",
      " |      Initialize the RC circuit with a resistor and a capacitor.\n",
      " |\n",
      " |  __repr__(self) -> str\n",
      " |      repr is for programmer\n",
      " |\n",
      " |  __str__(self) -> str\n",
      " |      str is for common people\n",
      " |\n",
      " |  zt(self) -> str\n",
      " |      give the total_impedence of the circuit\n",
      " |\n",
      " |  ----------------------------------------------------------------------\n",
      " |  Class methods defined here:\n",
      " |\n",
      " |  P_t(voltage)\n",
      " |      give the total_power of the circuit\n",
      " |\n",
      " |  ----------------------------------------------------------------------\n",
      " |  Static methods defined here:\n",
      " |\n",
      " |  angle(R, X_C)\n",
      " |      give the angle of circuit\n",
      " |\n",
      " |  ----------------------------------------------------------------------\n",
      " |  Data descriptors defined here:\n",
      " |\n",
      " |  I\n",
      " |      Get current.\n",
      " |\n",
      " |  R\n",
      " |      Get the resistance of the resistor.\n",
      " |\n",
      " |  X_C\n",
      " |      Get the capacitance of the capacitor.\n",
      " |\n",
      " |  __dict__\n",
      " |      dictionary for instance variables\n",
      " |\n",
      " |  __weakref__\n",
      " |      list of weak references to the object\n",
      "\n"
     ]
    }
   ],
   "source": [
    "help(RC_parallel_Circuit)"
   ]
  },
  {
   "cell_type": "code",
   "execution_count": 1820,
   "id": "958134df-b63c-435a-8689-40840fd1c379",
   "metadata": {},
   "outputs": [
    {
     "name": "stdout",
     "output_type": "stream",
     "text": [
      "A class to represent a simple RC circuit with a resistor and a capacitor.\n"
     ]
    }
   ],
   "source": [
    "print(RC_parallel_Circuit.__doc__)"
   ]
  },
  {
   "cell_type": "code",
   "execution_count": 1821,
   "id": "ecb0bdd1-912c-47d4-beea-b090309d77c2",
   "metadata": {},
   "outputs": [
    {
     "name": "stdout",
     "output_type": "stream",
     "text": [
      "Initialize the RC circuit with a resistor and a capacitor.\n",
      "        \n"
     ]
    }
   ],
   "source": [
    "print(RC_parallel_Circuit.__init__.__doc__)"
   ]
  },
  {
   "cell_type": "code",
   "execution_count": 1840,
   "id": "c68bf5bb-7ff6-43f2-8969-18c10080c6d0",
   "metadata": {},
   "outputs": [
    {
     "name": "stdout",
     "output_type": "stream",
     "text": [
      "Get the resistance of the resistor.\n"
     ]
    }
   ],
   "source": [
    "print(RC_parallel_Circuit.R.__doc__)"
   ]
  },
  {
   "cell_type": "code",
   "execution_count": 1842,
   "id": "3dc63f4e-679c-492c-8169-8e68b4d31485",
   "metadata": {},
   "outputs": [
    {
     "name": "stdout",
     "output_type": "stream",
     "text": [
      "Get the capacitance of the capacitor.\n"
     ]
    }
   ],
   "source": [
    "print(RC_parallel_Circuit.X_C.__doc__)"
   ]
  },
  {
   "cell_type": "code",
   "execution_count": 1844,
   "id": "c8bd47d0-aa17-4f80-8615-8e7ea4475f3f",
   "metadata": {},
   "outputs": [
    {
     "name": "stdout",
     "output_type": "stream",
     "text": [
      "repr is for programmer\n"
     ]
    }
   ],
   "source": [
    "print(RC_parallel_Circuit.__repr__.__doc__)"
   ]
  },
  {
   "cell_type": "code",
   "execution_count": 1846,
   "id": "f58015b4-7226-4356-9ecd-81011b4f2da1",
   "metadata": {},
   "outputs": [
    {
     "name": "stdout",
     "output_type": "stream",
     "text": [
      "str is for common people\n"
     ]
    }
   ],
   "source": [
    "print(RC_parallel_Circuit.__str__.__doc__)"
   ]
  },
  {
   "cell_type": "code",
   "execution_count": 1848,
   "id": "2c73975c-5797-4717-ad03-2a1d96053545",
   "metadata": {},
   "outputs": [],
   "source": [
    "from circuits import RC_series_Circuit"
   ]
  },
  {
   "cell_type": "code",
   "execution_count": 1850,
   "id": "0265144a-8f96-4530-bc3b-98bf5378edc5",
   "metadata": {},
   "outputs": [],
   "source": [
    "inst_1=RC_series_Circuit(2,5,9)"
   ]
  },
  {
   "cell_type": "code",
   "execution_count": 1852,
   "id": "ad553ac2-58e0-493f-b5d2-226620b48a37",
   "metadata": {},
   "outputs": [
    {
     "name": "stdout",
     "output_type": "stream",
     "text": [
      "RC_series_Circuit has Resistance 2 ohms, Capacitance 5 farads & 9 ampere\n"
     ]
    }
   ],
   "source": [
    "print(inst_1)"
   ]
  },
  {
   "cell_type": "code",
   "execution_count": 1854,
   "id": "ad1bfd03-ad97-4554-bf0e-3cf125938601",
   "metadata": {},
   "outputs": [
    {
     "data": {
      "text/plain": [
       "mappingproxy({'__module__': 'circuits',\n",
       "              '__doc__': 'A class to represent a simple RC circuit with a resistor and a capacitor.',\n",
       "              '__init__': <function circuits.RC_series_Circuit.__init__(self, R: float, X_C: float, I)>,\n",
       "              'R': <property at 0x2299ab39300>,\n",
       "              'X_C': <property at 0x2299ab39260>,\n",
       "              'I': <property at 0x2299ab391c0>,\n",
       "              'zt': <function circuits.RC_series_Circuit.zt(self) -> str>,\n",
       "              'E': <function circuits.RC_series_Circuit.E(self, voltage)>,\n",
       "              'V_R': <function circuits.RC_series_Circuit.V_R(self)>,\n",
       "              'V_C': <function circuits.RC_series_Circuit.V_C(self)>,\n",
       "              'P_t': <classmethod(<function RC_series_Circuit.P_t at 0x000002299AB93A60>)>,\n",
       "              'P_f': <staticmethod(<function RC_series_Circuit.P_f at 0x000002299AB93B00>)>,\n",
       "              '__repr__': <function circuits.RC_series_Circuit.__repr__(self) -> str>,\n",
       "              '__str__': <function circuits.RC_series_Circuit.__str__(self) -> str>,\n",
       "              '__dict__': <attribute '__dict__' of 'RC_series_Circuit' objects>,\n",
       "              '__weakref__': <attribute '__weakref__' of 'RC_series_Circuit' objects>})"
      ]
     },
     "execution_count": 1854,
     "metadata": {},
     "output_type": "execute_result"
    }
   ],
   "source": [
    "RC_series_Circuit.__dict__"
   ]
  },
  {
   "cell_type": "code",
   "execution_count": 1855,
   "id": "56339981-130c-4a0e-bc37-d74781d4a012",
   "metadata": {},
   "outputs": [
    {
     "data": {
      "text/plain": [
       "{'_R': 2, '_X_C': 5, '_I': 9}"
      ]
     },
     "execution_count": 1855,
     "metadata": {},
     "output_type": "execute_result"
    }
   ],
   "source": [
    "inst_1.__dict__"
   ]
  },
  {
   "cell_type": "code",
   "execution_count": 1858,
   "id": "0e2baebd-a33b-477b-a070-dd292718676d",
   "metadata": {},
   "outputs": [
    {
     "data": {
      "text/plain": [
       "mappingproxy({'__module__': 'circuits',\n",
       "              '__doc__': 'A class to represent a simple RC circuit with a resistor and a capacitor.',\n",
       "              '__init__': <function circuits.RC_series_Circuit.__init__(self, R: float, X_C: float, I)>,\n",
       "              'R': <property at 0x2299ab39300>,\n",
       "              'X_C': <property at 0x2299ab39260>,\n",
       "              'I': <property at 0x2299ab391c0>,\n",
       "              'zt': <function circuits.RC_series_Circuit.zt(self) -> str>,\n",
       "              'E': <function circuits.RC_series_Circuit.E(self, voltage)>,\n",
       "              'V_R': <function circuits.RC_series_Circuit.V_R(self)>,\n",
       "              'V_C': <function circuits.RC_series_Circuit.V_C(self)>,\n",
       "              'P_t': <classmethod(<function RC_series_Circuit.P_t at 0x000002299AB93A60>)>,\n",
       "              'P_f': <staticmethod(<function RC_series_Circuit.P_f at 0x000002299AB93B00>)>,\n",
       "              '__repr__': <function circuits.RC_series_Circuit.__repr__(self) -> str>,\n",
       "              '__str__': <function circuits.RC_series_Circuit.__str__(self) -> str>,\n",
       "              '__dict__': <attribute '__dict__' of 'RC_series_Circuit' objects>,\n",
       "              '__weakref__': <attribute '__weakref__' of 'RC_series_Circuit' objects>})"
      ]
     },
     "execution_count": 1858,
     "metadata": {},
     "output_type": "execute_result"
    }
   ],
   "source": [
    "vars(RC_series_Circuit)"
   ]
  },
  {
   "cell_type": "code",
   "execution_count": 1860,
   "id": "8df8bba4-6c20-4bf8-a52b-2b1e16e31b70",
   "metadata": {},
   "outputs": [
    {
     "name": "stdout",
     "output_type": "stream",
     "text": [
      "Help on class RC_series_Circuit in module circuits:\n",
      "\n",
      "class RC_series_Circuit(builtins.object)\n",
      " |  RC_series_Circuit(R: float, X_C: float, I)\n",
      " |\n",
      " |  A class to represent a simple RC circuit with a resistor and a capacitor.\n",
      " |\n",
      " |  Methods defined here:\n",
      " |\n",
      " |  E(self, voltage)\n",
      " |      give voltage\n",
      " |\n",
      " |  V_C(self)\n",
      " |\n",
      " |  V_R(self)\n",
      " |\n",
      " |  __init__(self, R: float, X_C: float, I)\n",
      " |      Initialize the RC circuit with a resistor and a capacitor.\n",
      " |\n",
      " |  __repr__(self) -> str\n",
      " |      repr is for programmer\n",
      " |\n",
      " |  __str__(self) -> str\n",
      " |      str is for common people\n",
      " |\n",
      " |  zt(self) -> str\n",
      " |      give the total_impedence of the circuit\n",
      " |\n",
      " |  ----------------------------------------------------------------------\n",
      " |  Class methods defined here:\n",
      " |\n",
      " |  P_t()\n",
      " |\n",
      " |  ----------------------------------------------------------------------\n",
      " |  Static methods defined here:\n",
      " |\n",
      " |  P_f(R, zt)\n",
      " |\n",
      " |  ----------------------------------------------------------------------\n",
      " |  Data descriptors defined here:\n",
      " |\n",
      " |  I\n",
      " |      Get current.\n",
      " |\n",
      " |  R\n",
      " |      Get the resistance of the resistor.\n",
      " |\n",
      " |  X_C\n",
      " |      Get the capacitance of the capacitor.\n",
      " |\n",
      " |  __dict__\n",
      " |      dictionary for instance variables\n",
      " |\n",
      " |  __weakref__\n",
      " |      list of weak references to the object\n",
      "\n"
     ]
    }
   ],
   "source": [
    "help(RC_series_Circuit)"
   ]
  },
  {
   "cell_type": "code",
   "execution_count": 1862,
   "id": "f3537c76-3cc3-4242-a0d4-8a9d7d1c970b",
   "metadata": {},
   "outputs": [],
   "source": [
    "from circuits import RLC_parallel_circuit"
   ]
  },
  {
   "cell_type": "code",
   "execution_count": 1864,
   "id": "2af2f2b2-f20e-46eb-bd52-be6bc4cc74fb",
   "metadata": {},
   "outputs": [],
   "source": [
    "inst_1=RLC_parallel_circuit(4,8,9)"
   ]
  },
  {
   "cell_type": "code",
   "execution_count": 1866,
   "id": "9a7a413b-0541-4150-8a6c-bb81113bd0f2",
   "metadata": {},
   "outputs": [
    {
     "name": "stdout",
     "output_type": "stream",
     "text": [
      "RLC_parallel_circuit has 4 ohms resistance,8 henry inductance,9 farad capacitor\n"
     ]
    }
   ],
   "source": [
    "print(inst_1)"
   ]
  },
  {
   "cell_type": "code",
   "execution_count": 1868,
   "id": "0446aa32-0575-4151-b1bc-032ce121c69a",
   "metadata": {},
   "outputs": [
    {
     "data": {
      "text/plain": [
       "mappingproxy({'__module__': 'circuits',\n",
       "              '__doc__': '\\n    Represents a series RLC circuit.\\n    ',\n",
       "              '__init__': <function circuits.RLC_parallel_circuit.__init__(self, R: float, X_L: float, X_C: float) -> None>,\n",
       "              'R': <property at 0x2299ab3bfb0>,\n",
       "              'X_L': <property at 0x2299ab3bf60>,\n",
       "              'X_C': <property at 0x2299ab3bf10>,\n",
       "              'impedance': <property at 0x2299ab39030>,\n",
       "              'phase': <property at 0x2299ab39080>,\n",
       "              'power_factor': <property at 0x2299ab3bec0>,\n",
       "              '__repr__': <function circuits.RLC_parallel_circuit.__repr__(self) -> str>,\n",
       "              '__str__': <function circuits.RLC_parallel_circuit.__str__(self)>,\n",
       "              '__dict__': <attribute '__dict__' of 'RLC_parallel_circuit' objects>,\n",
       "              '__weakref__': <attribute '__weakref__' of 'RLC_parallel_circuit' objects>})"
      ]
     },
     "execution_count": 1868,
     "metadata": {},
     "output_type": "execute_result"
    }
   ],
   "source": [
    "RLC_parallel_circuit.__dict__"
   ]
  },
  {
   "cell_type": "code",
   "execution_count": 1870,
   "id": "a8f0f45f-64a1-4f22-9bb9-fe428f4729d6",
   "metadata": {},
   "outputs": [
    {
     "data": {
      "text/plain": [
       "{'_R': 4, '_X_L': 8, '_X_C': 9}"
      ]
     },
     "execution_count": 1870,
     "metadata": {},
     "output_type": "execute_result"
    }
   ],
   "source": [
    "inst_1.__dict__"
   ]
  },
  {
   "cell_type": "code",
   "execution_count": 1872,
   "id": "1b60a6e8-ddd8-425d-a6e4-dd04c54b63b3",
   "metadata": {},
   "outputs": [
    {
     "data": {
      "text/plain": [
       "mappingproxy({'__module__': 'circuits',\n",
       "              '__doc__': '\\n    Represents a series RLC circuit.\\n    ',\n",
       "              '__init__': <function circuits.RLC_parallel_circuit.__init__(self, R: float, X_L: float, X_C: float) -> None>,\n",
       "              'R': <property at 0x2299ab3bfb0>,\n",
       "              'X_L': <property at 0x2299ab3bf60>,\n",
       "              'X_C': <property at 0x2299ab3bf10>,\n",
       "              'impedance': <property at 0x2299ab39030>,\n",
       "              'phase': <property at 0x2299ab39080>,\n",
       "              'power_factor': <property at 0x2299ab3bec0>,\n",
       "              '__repr__': <function circuits.RLC_parallel_circuit.__repr__(self) -> str>,\n",
       "              '__str__': <function circuits.RLC_parallel_circuit.__str__(self)>,\n",
       "              '__dict__': <attribute '__dict__' of 'RLC_parallel_circuit' objects>,\n",
       "              '__weakref__': <attribute '__weakref__' of 'RLC_parallel_circuit' objects>})"
      ]
     },
     "execution_count": 1872,
     "metadata": {},
     "output_type": "execute_result"
    }
   ],
   "source": [
    "vars(RLC_parallel_circuit)"
   ]
  },
  {
   "cell_type": "code",
   "execution_count": 1874,
   "id": "df9716ae-b512-49c2-83f0-f0239852d822",
   "metadata": {},
   "outputs": [
    {
     "name": "stdout",
     "output_type": "stream",
     "text": [
      "Help on class RLC_parallel_circuit in module circuits:\n",
      "\n",
      "class RLC_parallel_circuit(builtins.object)\n",
      " |  RLC_parallel_circuit(R: float, X_L: float, X_C: float) -> None\n",
      " |\n",
      " |  Represents a series RLC circuit.\n",
      " |\n",
      " |  Methods defined here:\n",
      " |\n",
      " |  __init__(self, R: float, X_L: float, X_C: float) -> None\n",
      " |      Initializes an RLC circuit object.\n",
      " |\n",
      " |  __repr__(self) -> str\n",
      " |      Returns a string representation of the RLC circuit object.\n",
      " |\n",
      " |  __str__(self)\n",
      " |      Return str(self).\n",
      " |\n",
      " |  ----------------------------------------------------------------------\n",
      " |  Readonly properties defined here:\n",
      " |\n",
      " |  impedance\n",
      " |      Calculates the impedance.\n",
      " |\n",
      " |  phase\n",
      " |      Calculates the phase angle.\n",
      " |\n",
      " |  power_factor\n",
      " |      Calculates the power factor.\n",
      " |\n",
      " |  ----------------------------------------------------------------------\n",
      " |  Data descriptors defined here:\n",
      " |\n",
      " |  R\n",
      " |      Gets the resistance.\n",
      " |\n",
      " |  X_C\n",
      " |      Gets the capacitance.\n",
      " |\n",
      " |  X_L\n",
      " |      Gets the inductance.\n",
      " |\n",
      " |  __dict__\n",
      " |      dictionary for instance variables\n",
      " |\n",
      " |  __weakref__\n",
      " |      list of weak references to the object\n",
      "\n"
     ]
    }
   ],
   "source": [
    "help(RLC_parallel_circuit)"
   ]
  },
  {
   "cell_type": "code",
   "execution_count": 1876,
   "id": "aebeacb3-2d39-477d-8a65-791588e94b7e",
   "metadata": {},
   "outputs": [
    {
     "name": "stdout",
     "output_type": "stream",
     "text": [
      "\n",
      "    Represents a series RLC circuit.\n",
      "    \n"
     ]
    }
   ],
   "source": [
    "print(RLC_parallel_circuit.__doc__)"
   ]
  },
  {
   "cell_type": "code",
   "execution_count": 1878,
   "id": "096743dc-3452-4a73-8bfc-cae8f08d9866",
   "metadata": {},
   "outputs": [
    {
     "name": "stdout",
     "output_type": "stream",
     "text": [
      "\n",
      "        Initializes an RLC circuit object.\n",
      "        \n"
     ]
    }
   ],
   "source": [
    "print(RLC_parallel_circuit.__init__.__doc__)"
   ]
  },
  {
   "cell_type": "code",
   "execution_count": 1880,
   "id": "63d3f285-3b8c-4a99-b351-9dd5c8fa12e4",
   "metadata": {},
   "outputs": [
    {
     "name": "stdout",
     "output_type": "stream",
     "text": [
      "\n",
      "        Gets the resistance.\n",
      "        \n"
     ]
    }
   ],
   "source": [
    "print(RLC_parallel_circuit.R.__doc__)"
   ]
  },
  {
   "cell_type": "code",
   "execution_count": 1882,
   "id": "256ec3a1-8950-4cbf-add6-eb4bf3f78fc2",
   "metadata": {},
   "outputs": [
    {
     "name": "stdout",
     "output_type": "stream",
     "text": [
      "\n",
      "        Gets the inductance.\n",
      "        \n"
     ]
    }
   ],
   "source": [
    "print(RLC_parallel_circuit.X_L.__doc__)"
   ]
  },
  {
   "cell_type": "code",
   "execution_count": 1884,
   "id": "cc6152bf-9524-40d6-836e-d87e57017870",
   "metadata": {},
   "outputs": [
    {
     "name": "stdout",
     "output_type": "stream",
     "text": [
      "\n",
      "        Gets the capacitance.\n",
      "        \n"
     ]
    }
   ],
   "source": [
    "print(RLC_parallel_circuit.X_C.__doc__)"
   ]
  },
  {
   "cell_type": "code",
   "execution_count": 1886,
   "id": "214a2b75-8685-4656-ad48-70f59a492d29",
   "metadata": {},
   "outputs": [
    {
     "name": "stdout",
     "output_type": "stream",
     "text": [
      "\n",
      "        Calculates the impedance.\n",
      "        \n"
     ]
    }
   ],
   "source": [
    "print(RLC_parallel_circuit.impedance.__doc__)"
   ]
  },
  {
   "cell_type": "code",
   "execution_count": 1888,
   "id": "4f72e9e0-f5fa-476e-9ef8-ad26c0c8f45b",
   "metadata": {},
   "outputs": [
    {
     "name": "stdout",
     "output_type": "stream",
     "text": [
      "\n",
      "        Returns a string representation of the RLC circuit object.\n",
      "        \n"
     ]
    }
   ],
   "source": [
    "print(RLC_parallel_circuit.__repr__.__doc__)"
   ]
  },
  {
   "cell_type": "code",
   "execution_count": 1890,
   "id": "1403ba48-2997-45c4-b873-c3b74ee36005",
   "metadata": {},
   "outputs": [
    {
     "name": "stdout",
     "output_type": "stream",
     "text": [
      "None\n"
     ]
    }
   ],
   "source": [
    "print(RLC_parallel_circuit.__str__.__doc__)"
   ]
  },
  {
   "cell_type": "code",
   "execution_count": 1892,
   "id": "288ef786-299a-49d5-80aa-fb9fe701162c",
   "metadata": {},
   "outputs": [],
   "source": [
    "from circuits import series_RLC_circuit"
   ]
  },
  {
   "cell_type": "code",
   "execution_count": 1894,
   "id": "5614a0ec-5c9a-4962-956d-7482a99a25a6",
   "metadata": {},
   "outputs": [],
   "source": [
    "inst_1=series_RLC_circuit(5,9,12)"
   ]
  },
  {
   "cell_type": "code",
   "execution_count": 1896,
   "id": "482f1ee3-b058-43b0-9699-4ef76f45d412",
   "metadata": {},
   "outputs": [
    {
     "name": "stdout",
     "output_type": "stream",
     "text": [
      "series_RLC_circuit has 5 ohms resistance,9 henry inductance,12 farad capacitor\n"
     ]
    }
   ],
   "source": [
    "print(inst_1)"
   ]
  },
  {
   "cell_type": "code",
   "execution_count": 1898,
   "id": "18099c5c-5aaf-4c11-90f4-3d5f5ef4ae09",
   "metadata": {},
   "outputs": [
    {
     "data": {
      "text/plain": [
       "mappingproxy({'__module__': 'circuits',\n",
       "              '__doc__': '\\n    Represents a series RLC circuit.\\n    ',\n",
       "              '__init__': <function circuits.series_RLC_circuit.__init__(self, R: float, X_L: float, X_C: float) -> None>,\n",
       "              'R': <property at 0x2299ab3b3d0>,\n",
       "              'X_L': <property at 0x2299ab3a930>,\n",
       "              'X_C': <property at 0x2299ab3ba60>,\n",
       "              'impedance': <property at 0x2299ab3aac0>,\n",
       "              'phase': <property at 0x2299ab3ad40>,\n",
       "              'power_factor': <property at 0x2299ab38fe0>,\n",
       "              'current': <function circuits.series_RLC_circuit.current(self, voltage: float) -> float>,\n",
       "              '__repr__': <function circuits.series_RLC_circuit.__repr__(self) -> str>,\n",
       "              '__str__': <function circuits.series_RLC_circuit.__str__(self)>,\n",
       "              '__dict__': <attribute '__dict__' of 'series_RLC_circuit' objects>,\n",
       "              '__weakref__': <attribute '__weakref__' of 'series_RLC_circuit' objects>})"
      ]
     },
     "execution_count": 1898,
     "metadata": {},
     "output_type": "execute_result"
    }
   ],
   "source": [
    "series_RLC_circuit.__dict__"
   ]
  },
  {
   "cell_type": "code",
   "execution_count": 1900,
   "id": "cda0fac9-3e25-441f-9dee-47e61b9153a1",
   "metadata": {},
   "outputs": [
    {
     "data": {
      "text/plain": [
       "{'_R': 5, '_X_L': 9, '_X_C': 12}"
      ]
     },
     "execution_count": 1900,
     "metadata": {},
     "output_type": "execute_result"
    }
   ],
   "source": [
    "inst_1.__dict__"
   ]
  },
  {
   "cell_type": "code",
   "execution_count": 1902,
   "id": "5d95d2dd-149d-4300-bb0d-4db53bb512da",
   "metadata": {},
   "outputs": [
    {
     "data": {
      "text/plain": [
       "mappingproxy({'__module__': 'circuits',\n",
       "              '__doc__': '\\n    Represents a series RLC circuit.\\n    ',\n",
       "              '__init__': <function circuits.series_RLC_circuit.__init__(self, R: float, X_L: float, X_C: float) -> None>,\n",
       "              'R': <property at 0x2299ab3b3d0>,\n",
       "              'X_L': <property at 0x2299ab3a930>,\n",
       "              'X_C': <property at 0x2299ab3ba60>,\n",
       "              'impedance': <property at 0x2299ab3aac0>,\n",
       "              'phase': <property at 0x2299ab3ad40>,\n",
       "              'power_factor': <property at 0x2299ab38fe0>,\n",
       "              'current': <function circuits.series_RLC_circuit.current(self, voltage: float) -> float>,\n",
       "              '__repr__': <function circuits.series_RLC_circuit.__repr__(self) -> str>,\n",
       "              '__str__': <function circuits.series_RLC_circuit.__str__(self)>,\n",
       "              '__dict__': <attribute '__dict__' of 'series_RLC_circuit' objects>,\n",
       "              '__weakref__': <attribute '__weakref__' of 'series_RLC_circuit' objects>})"
      ]
     },
     "execution_count": 1902,
     "metadata": {},
     "output_type": "execute_result"
    }
   ],
   "source": [
    "vars(series_RLC_circuit)"
   ]
  },
  {
   "cell_type": "code",
   "execution_count": 1904,
   "id": "18d1aeb2-37f8-4b34-a51c-7f3183299d28",
   "metadata": {},
   "outputs": [
    {
     "name": "stdout",
     "output_type": "stream",
     "text": [
      "Help on class series_RLC_circuit in module circuits:\n",
      "\n",
      "class series_RLC_circuit(builtins.object)\n",
      " |  series_RLC_circuit(R: float, X_L: float, X_C: float) -> None\n",
      " |\n",
      " |  Represents a series RLC circuit.\n",
      " |\n",
      " |  Methods defined here:\n",
      " |\n",
      " |  __init__(self, R: float, X_L: float, X_C: float) -> None\n",
      " |      Initializes an RLC circuit object.\n",
      " |\n",
      " |  __repr__(self) -> str\n",
      " |      Repr is for programmer.\n",
      " |\n",
      " |  __str__(self)\n",
      " |      str is for common person\n",
      " |\n",
      " |  current(self, voltage: float) -> float\n",
      " |      Calculates the current.\n",
      " |\n",
      " |  ----------------------------------------------------------------------\n",
      " |  Readonly properties defined here:\n",
      " |\n",
      " |  impedance\n",
      " |      Calculates the impedance.\n",
      " |\n",
      " |  phase\n",
      " |      Calculates the phase angle.\n",
      " |\n",
      " |  power_factor\n",
      " |      Calculates the power factor.\n",
      " |\n",
      " |  ----------------------------------------------------------------------\n",
      " |  Data descriptors defined here:\n",
      " |\n",
      " |  R\n",
      " |      Gets the resistance.\n",
      " |\n",
      " |  X_C\n",
      " |      Gets the capacitance.\n",
      " |\n",
      " |  X_L\n",
      " |      Gets the inductance.\n",
      " |\n",
      " |  __dict__\n",
      " |      dictionary for instance variables\n",
      " |\n",
      " |  __weakref__\n",
      " |      list of weak references to the object\n",
      "\n"
     ]
    }
   ],
   "source": [
    "help(series_RLC_circuit)"
   ]
  },
  {
   "cell_type": "code",
   "execution_count": 1905,
   "id": "324c471c-f165-4e26-bbf8-d2032abba702",
   "metadata": {},
   "outputs": [
    {
     "name": "stdout",
     "output_type": "stream",
     "text": [
      "\n",
      "    Represents a series RLC circuit.\n",
      "    \n"
     ]
    }
   ],
   "source": [
    "print(series_RLC_circuit.__doc__)"
   ]
  },
  {
   "cell_type": "code",
   "execution_count": 1908,
   "id": "e6877874-21e1-45b8-b6cd-1a7c4586844e",
   "metadata": {},
   "outputs": [
    {
     "name": "stdout",
     "output_type": "stream",
     "text": [
      "\n",
      "        Initializes an RLC circuit object.\n",
      "        \n"
     ]
    }
   ],
   "source": [
    "print(series_RLC_circuit.__init__.__doc__)"
   ]
  },
  {
   "cell_type": "code",
   "execution_count": 1910,
   "id": "cafa7824-6714-4c22-8630-00aedcc7653c",
   "metadata": {},
   "outputs": [
    {
     "name": "stdout",
     "output_type": "stream",
     "text": [
      "\n",
      "        Gets the resistance.\n",
      "        \n"
     ]
    }
   ],
   "source": [
    "print(series_RLC_circuit.R.__doc__)"
   ]
  },
  {
   "cell_type": "code",
   "execution_count": 1912,
   "id": "cfd39a91-b4af-4611-8328-90f381f44eb4",
   "metadata": {},
   "outputs": [
    {
     "name": "stdout",
     "output_type": "stream",
     "text": [
      "\n",
      "        Gets the inductance.\n",
      "        \n"
     ]
    }
   ],
   "source": [
    "print(series_RLC_circuit.X_L.__doc__)"
   ]
  },
  {
   "cell_type": "code",
   "execution_count": 1914,
   "id": "67742930-2fab-42ec-85d8-2e00867df26c",
   "metadata": {},
   "outputs": [
    {
     "name": "stdout",
     "output_type": "stream",
     "text": [
      "\n",
      "        Gets the capacitance.\n",
      "        \n"
     ]
    }
   ],
   "source": [
    "print(series_RLC_circuit.X_C.__doc__)"
   ]
  },
  {
   "cell_type": "code",
   "execution_count": 1916,
   "id": "d5c8e6d2-662a-4614-a98a-43ae900dbe9e",
   "metadata": {},
   "outputs": [
    {
     "name": "stdout",
     "output_type": "stream",
     "text": [
      "\n",
      "        Calculates the impedance.\n",
      "        \n"
     ]
    }
   ],
   "source": [
    "print(series_RLC_circuit.impedance.__doc__)"
   ]
  },
  {
   "cell_type": "code",
   "execution_count": 1918,
   "id": "1fe7703d-156a-41ce-82a8-42ac17b4a8ae",
   "metadata": {},
   "outputs": [
    {
     "name": "stdout",
     "output_type": "stream",
     "text": [
      "\n",
      "        Repr is for programmer.\n",
      "        \n"
     ]
    }
   ],
   "source": [
    "print(series_RLC_circuit.__repr__.__doc__)"
   ]
  },
  {
   "cell_type": "code",
   "execution_count": 1920,
   "id": "a0c4c869-1315-4a50-b9cd-243fb8483758",
   "metadata": {},
   "outputs": [
    {
     "name": "stdout",
     "output_type": "stream",
     "text": [
      "\n",
      "        str is for common person\n"
     ]
    }
   ],
   "source": [
    "print(series_RLC_circuit.__str__.__doc__)"
   ]
  },
  {
   "cell_type": "code",
   "execution_count": 1922,
   "id": "17f4c4f6-c02f-4d33-90e1-f3e7548bacd5",
   "metadata": {},
   "outputs": [],
   "source": [
    "from circuits import RLCParallelCircuit"
   ]
  },
  {
   "cell_type": "code",
   "execution_count": 1924,
   "id": "805b1b32-03ee-4252-9bf4-bc8ee0d49e9f",
   "metadata": {},
   "outputs": [],
   "source": [
    "inst_1=RLCParallelCircuit(5,9,7)"
   ]
  },
  {
   "cell_type": "code",
   "execution_count": 1926,
   "id": "bf222dfc-3b3c-4af0-becb-3c462ea3a499",
   "metadata": {},
   "outputs": [
    {
     "name": "stdout",
     "output_type": "stream",
     "text": [
      "RLC Parallel Circuit has Resistance 5 ohms,9 henrys, C= 7 farads\n"
     ]
    }
   ],
   "source": [
    "print(inst_1)"
   ]
  },
  {
   "cell_type": "code",
   "execution_count": 1928,
   "id": "9230461d-97d9-42c5-a855-85e1315c0163",
   "metadata": {},
   "outputs": [
    {
     "data": {
      "text/plain": [
       "mappingproxy({'__module__': 'circuits',\n",
       "              '__doc__': 'A class to represent a simple RLC parallel circuit with a resistor, inductor, and capacitor.',\n",
       "              '__init__': <function circuits.RLCParallelCircuit.__init__(self, R: float, X_L: float, X_C: float)>,\n",
       "              'R': <property at 0x2299ab3b560>,\n",
       "              'X_L': <property at 0x2299ab3ab60>,\n",
       "              'X_C': <property at 0x2299ab3b920>,\n",
       "              'resonance_frequency': <property at 0x2299ab3bbf0>,\n",
       "              'total_impedance': <function circuits.RLCParallelCircuit.total_impedance(self, frequency: float) -> complex>,\n",
       "              'Quality_factor': <function circuits.RLCParallelCircuit.Quality_factor(self)>,\n",
       "              'Bandwidth': <function circuits.RLCParallelCircuit.Bandwidth(self)>,\n",
       "              '__repr__': <function circuits.RLCParallelCircuit.__repr__(self) -> str>,\n",
       "              '__str__': <function circuits.RLCParallelCircuit.__str__(self) -> str>,\n",
       "              '__dict__': <attribute '__dict__' of 'RLCParallelCircuit' objects>,\n",
       "              '__weakref__': <attribute '__weakref__' of 'RLCParallelCircuit' objects>,\n",
       "              '__annotations__': {}})"
      ]
     },
     "execution_count": 1928,
     "metadata": {},
     "output_type": "execute_result"
    }
   ],
   "source": [
    "RLCParallelCircuit.__dict__"
   ]
  },
  {
   "cell_type": "code",
   "execution_count": 1930,
   "id": "e0a0af00-b0f9-44a3-8549-5e81c5cee810",
   "metadata": {},
   "outputs": [
    {
     "data": {
      "text/plain": [
       "{'_R': 5, '_X_L': 9, '_X_C': 7}"
      ]
     },
     "execution_count": 1930,
     "metadata": {},
     "output_type": "execute_result"
    }
   ],
   "source": [
    "inst_1.__dict__"
   ]
  },
  {
   "cell_type": "code",
   "execution_count": 1932,
   "id": "b3644009-2870-4403-b0ea-fc80ecff9cd6",
   "metadata": {},
   "outputs": [
    {
     "data": {
      "text/plain": [
       "mappingproxy({'__module__': 'circuits',\n",
       "              '__doc__': 'A class to represent a simple RLC parallel circuit with a resistor, inductor, and capacitor.',\n",
       "              '__init__': <function circuits.RLCParallelCircuit.__init__(self, R: float, X_L: float, X_C: float)>,\n",
       "              'R': <property at 0x2299ab3b560>,\n",
       "              'X_L': <property at 0x2299ab3ab60>,\n",
       "              'X_C': <property at 0x2299ab3b920>,\n",
       "              'resonance_frequency': <property at 0x2299ab3bbf0>,\n",
       "              'total_impedance': <function circuits.RLCParallelCircuit.total_impedance(self, frequency: float) -> complex>,\n",
       "              'Quality_factor': <function circuits.RLCParallelCircuit.Quality_factor(self)>,\n",
       "              'Bandwidth': <function circuits.RLCParallelCircuit.Bandwidth(self)>,\n",
       "              '__repr__': <function circuits.RLCParallelCircuit.__repr__(self) -> str>,\n",
       "              '__str__': <function circuits.RLCParallelCircuit.__str__(self) -> str>,\n",
       "              '__dict__': <attribute '__dict__' of 'RLCParallelCircuit' objects>,\n",
       "              '__weakref__': <attribute '__weakref__' of 'RLCParallelCircuit' objects>,\n",
       "              '__annotations__': {}})"
      ]
     },
     "execution_count": 1932,
     "metadata": {},
     "output_type": "execute_result"
    }
   ],
   "source": [
    "vars(RLCParallelCircuit)"
   ]
  },
  {
   "cell_type": "code",
   "execution_count": 1933,
   "id": "ed225b8e-51d7-45ea-9791-aadf1620586e",
   "metadata": {},
   "outputs": [
    {
     "name": "stdout",
     "output_type": "stream",
     "text": [
      "Help on class RLCParallelCircuit in module circuits:\n",
      "\n",
      "class RLCParallelCircuit(builtins.object)\n",
      " |  RLCParallelCircuit(R: float, X_L: float, X_C: float)\n",
      " |\n",
      " |  A class to represent a simple RLC parallel circuit with a resistor, inductor, and capacitor.\n",
      " |\n",
      " |  Methods defined here:\n",
      " |\n",
      " |  Bandwidth(self)\n",
      " |      give the bandwidth of the circuit\n",
      " |\n",
      " |  Quality_factor(self)\n",
      " |      give the Quality_factor of the circuit\n",
      " |\n",
      " |  __init__(self, R: float, X_L: float, X_C: float)\n",
      " |      Initialize the RLC parallel circuit with a resistor, inductor, and capacitor.\n",
      " |\n",
      " |  __repr__(self) -> str\n",
      " |      repr is for programmer\n",
      " |\n",
      " |  __str__(self) -> str\n",
      " |      str is for common people\n",
      " |\n",
      " |  total_impedance(self, frequency: float) -> complex\n",
      " |      Calculate the total impedance of the RLC parallel circuit.\n",
      " |\n",
      " |  ----------------------------------------------------------------------\n",
      " |  Readonly properties defined here:\n",
      " |\n",
      " |  resonance_frequency\n",
      " |      Calculate the resonance frequency of the RLC parallel circuit.\n",
      " |\n",
      " |  ----------------------------------------------------------------------\n",
      " |  Data descriptors defined here:\n",
      " |\n",
      " |  R\n",
      " |      Get the resistance of the resistor.\n",
      " |\n",
      " |  X_C\n",
      " |      Get the capacitance of the capacitor.\n",
      " |\n",
      " |  X_L\n",
      " |      Get the inductance of the inductor.\n",
      " |\n",
      " |  __dict__\n",
      " |      dictionary for instance variables\n",
      " |\n",
      " |  __weakref__\n",
      " |      list of weak references to the object\n",
      " |\n",
      " |  ----------------------------------------------------------------------\n",
      " |  Data and other attributes defined here:\n",
      " |\n",
      " |  __annotations__ = {}\n",
      "\n"
     ]
    }
   ],
   "source": [
    "help(RLCParallelCircuit)"
   ]
  },
  {
   "cell_type": "code",
   "execution_count": 1936,
   "id": "b4f5fea3-7e62-4218-9a11-b42211f319b3",
   "metadata": {},
   "outputs": [
    {
     "name": "stdout",
     "output_type": "stream",
     "text": [
      "A class to represent a simple RLC parallel circuit with a resistor, inductor, and capacitor.\n"
     ]
    }
   ],
   "source": [
    "print(RLCParallelCircuit.__doc__)"
   ]
  },
  {
   "cell_type": "code",
   "execution_count": 1938,
   "id": "60dc14ac-05b9-407d-91de-6d32eb12f14f",
   "metadata": {},
   "outputs": [
    {
     "name": "stdout",
     "output_type": "stream",
     "text": [
      "{}\n"
     ]
    }
   ],
   "source": [
    "print(RLCParallelCircuit.__annotations__)"
   ]
  },
  {
   "cell_type": "code",
   "execution_count": 1940,
   "id": "2ed4496b-e54a-4044-8b65-1398f226155f",
   "metadata": {},
   "outputs": [
    {
     "name": "stdout",
     "output_type": "stream",
     "text": [
      "Initialize the RLC parallel circuit with a resistor, inductor, and capacitor.\n",
      "        \n"
     ]
    }
   ],
   "source": [
    "print(RLCParallelCircuit.__init__.__doc__)"
   ]
  },
  {
   "cell_type": "code",
   "execution_count": 1941,
   "id": "5e28744b-661c-4b24-95ef-5e62175d90c7",
   "metadata": {},
   "outputs": [
    {
     "name": "stdout",
     "output_type": "stream",
     "text": [
      "{'R': <class 'float'>, 'X_L': <class 'float'>, 'X_C': <class 'float'>}\n"
     ]
    }
   ],
   "source": [
    "print(RLCParallelCircuit.__init__.__annotations__)"
   ]
  },
  {
   "cell_type": "code",
   "execution_count": 1944,
   "id": "8d222115-2cfc-4e6e-9538-679aa6b35307",
   "metadata": {},
   "outputs": [
    {
     "name": "stdout",
     "output_type": "stream",
     "text": [
      "Get the resistance of the resistor.\n"
     ]
    }
   ],
   "source": [
    "print(RLCParallelCircuit.R.__doc__)"
   ]
  },
  {
   "cell_type": "code",
   "execution_count": 1945,
   "id": "cb28fb64-6e5d-44d0-af61-a76ffd82ac83",
   "metadata": {},
   "outputs": [
    {
     "name": "stdout",
     "output_type": "stream",
     "text": [
      "Get the inductance of the inductor.\n"
     ]
    }
   ],
   "source": [
    "print(RLCParallelCircuit.X_L.__doc__)"
   ]
  },
  {
   "cell_type": "code",
   "execution_count": 1947,
   "id": "0e32626b-1569-435b-ae5d-ec0985ccee53",
   "metadata": {},
   "outputs": [
    {
     "name": "stdout",
     "output_type": "stream",
     "text": [
      "Get the capacitance of the capacitor.\n"
     ]
    }
   ],
   "source": [
    "print(RLCParallelCircuit.X_C.__doc__)"
   ]
  },
  {
   "cell_type": "code",
   "execution_count": 1949,
   "id": "52911ab9-420a-40f0-b573-a848c8b50acb",
   "metadata": {},
   "outputs": [
    {
     "name": "stdout",
     "output_type": "stream",
     "text": [
      "Calculate the resonance frequency of the RLC parallel circuit.\n",
      "        \n"
     ]
    }
   ],
   "source": [
    "print(RLCParallelCircuit.resonance_frequency.__doc__)"
   ]
  },
  {
   "cell_type": "code",
   "execution_count": 1951,
   "id": "f30ee59d-565e-46e9-af7d-a56bdc5e6ba1",
   "metadata": {},
   "outputs": [
    {
     "name": "stdout",
     "output_type": "stream",
     "text": [
      "Calculate the total impedance of the RLC parallel circuit.\n",
      "        \n"
     ]
    }
   ],
   "source": [
    "print(RLCParallelCircuit.total_impedance.__doc__)"
   ]
  },
  {
   "cell_type": "code",
   "execution_count": 1953,
   "id": "22b0d129-d30d-46dc-9ece-ad80122fee2a",
   "metadata": {},
   "outputs": [
    {
     "name": "stdout",
     "output_type": "stream",
     "text": [
      "repr is for programmer\n"
     ]
    }
   ],
   "source": [
    "print(RLCParallelCircuit.__repr__.__doc__)"
   ]
  },
  {
   "cell_type": "code",
   "execution_count": 1954,
   "id": "1595e994-f57f-4e7b-954f-b67934b172e3",
   "metadata": {},
   "outputs": [
    {
     "name": "stdout",
     "output_type": "stream",
     "text": [
      "str is for common people\n"
     ]
    }
   ],
   "source": [
    "print(RLCParallelCircuit.__str__.__doc__)"
   ]
  },
  {
   "cell_type": "code",
   "execution_count": 1955,
   "id": "cff52cf7-1e8b-4fe2-b304-b0247bf93701",
   "metadata": {},
   "outputs": [],
   "source": [
    "from circuits import RLCseriescircuit"
   ]
  },
  {
   "cell_type": "code",
   "execution_count": 1956,
   "id": "de522a5c-72f4-4771-a2cd-da8af0ff67c2",
   "metadata": {},
   "outputs": [],
   "source": [
    "inst_1=RLCseriescircuit(3,5,7)"
   ]
  },
  {
   "cell_type": "code",
   "execution_count": 1962,
   "id": "ab78a450-566c-4625-b393-4dc71e02b8e8",
   "metadata": {},
   "outputs": [
    {
     "name": "stdout",
     "output_type": "stream",
     "text": [
      "RLCseriescircuit has Resistance 3 ohms,5 henrys, C 7 farads\n"
     ]
    }
   ],
   "source": [
    "print(inst_1)"
   ]
  },
  {
   "cell_type": "code",
   "execution_count": 1964,
   "id": "a092843b-0c2a-4d37-bfe5-7712f87a228a",
   "metadata": {},
   "outputs": [
    {
     "data": {
      "text/plain": [
       "{'_R': 3, '_X_L': 5, '_X_C': 7}"
      ]
     },
     "execution_count": 1964,
     "metadata": {},
     "output_type": "execute_result"
    }
   ],
   "source": [
    "inst_1.__dict__"
   ]
  },
  {
   "cell_type": "code",
   "execution_count": 1965,
   "id": "f92b4089-8726-4750-9b79-fd40b47c3e5d",
   "metadata": {},
   "outputs": [
    {
     "data": {
      "text/plain": [
       "mappingproxy({'__module__': 'circuits',\n",
       "              '__doc__': 'A class to represent a simple RLC parallel circuit with a resistor, inductor, and capacitor.',\n",
       "              '__init__': <function circuits.RLCseriescircuit.__init__(self, R: float, X_L: float, X_C: float)>,\n",
       "              'R': <property at 0x2299ab3b740>,\n",
       "              'X_L': <property at 0x2299ab3b240>,\n",
       "              'X_C': <property at 0x2299ab3be20>,\n",
       "              'resonance_frequency': <property at 0x2299ab38f40>,\n",
       "              'total_impedance': <function circuits.RLCseriescircuit.total_impedance(self, frequency: float) -> complex>,\n",
       "              'Quality_factor': <function circuits.RLCseriescircuit.Quality_factor(self)>,\n",
       "              'Bandwidth': <function circuits.RLCseriescircuit.Bandwidth(self)>,\n",
       "              '__repr__': <function circuits.RLCseriescircuit.__repr__(self) -> str>,\n",
       "              '__str__': <function circuits.RLCseriescircuit.__str__(self) -> str>,\n",
       "              '__dict__': <attribute '__dict__' of 'RLCseriescircuit' objects>,\n",
       "              '__weakref__': <attribute '__weakref__' of 'RLCseriescircuit' objects>})"
      ]
     },
     "execution_count": 1965,
     "metadata": {},
     "output_type": "execute_result"
    }
   ],
   "source": [
    "RLCseriescircuit.__dict__"
   ]
  },
  {
   "cell_type": "code",
   "execution_count": 1968,
   "id": "e6e5ae83-a978-4ae0-a5fb-0e6d875f5401",
   "metadata": {},
   "outputs": [
    {
     "data": {
      "text/plain": [
       "mappingproxy({'__module__': 'circuits',\n",
       "              '__doc__': 'A class to represent a simple RLC parallel circuit with a resistor, inductor, and capacitor.',\n",
       "              '__init__': <function circuits.RLCseriescircuit.__init__(self, R: float, X_L: float, X_C: float)>,\n",
       "              'R': <property at 0x2299ab3b740>,\n",
       "              'X_L': <property at 0x2299ab3b240>,\n",
       "              'X_C': <property at 0x2299ab3be20>,\n",
       "              'resonance_frequency': <property at 0x2299ab38f40>,\n",
       "              'total_impedance': <function circuits.RLCseriescircuit.total_impedance(self, frequency: float) -> complex>,\n",
       "              'Quality_factor': <function circuits.RLCseriescircuit.Quality_factor(self)>,\n",
       "              'Bandwidth': <function circuits.RLCseriescircuit.Bandwidth(self)>,\n",
       "              '__repr__': <function circuits.RLCseriescircuit.__repr__(self) -> str>,\n",
       "              '__str__': <function circuits.RLCseriescircuit.__str__(self) -> str>,\n",
       "              '__dict__': <attribute '__dict__' of 'RLCseriescircuit' objects>,\n",
       "              '__weakref__': <attribute '__weakref__' of 'RLCseriescircuit' objects>})"
      ]
     },
     "execution_count": 1968,
     "metadata": {},
     "output_type": "execute_result"
    }
   ],
   "source": [
    "vars(RLCseriescircuit)"
   ]
  },
  {
   "cell_type": "code",
   "execution_count": 1970,
   "id": "0e6f57cf-b03f-444a-b869-b5e35ada0e14",
   "metadata": {},
   "outputs": [
    {
     "name": "stdout",
     "output_type": "stream",
     "text": [
      "Help on class RLCseriescircuit in module circuits:\n",
      "\n",
      "class RLCseriescircuit(builtins.object)\n",
      " |  RLCseriescircuit(R: float, X_L: float, X_C: float)\n",
      " |\n",
      " |  A class to represent a simple RLC parallel circuit with a resistor, inductor, and capacitor.\n",
      " |\n",
      " |  Methods defined here:\n",
      " |\n",
      " |  Bandwidth(self)\n",
      " |      give the bandwidth of the circuit\n",
      " |\n",
      " |  Quality_factor(self)\n",
      " |      give the Quality_factor of the circuit\n",
      " |\n",
      " |  __init__(self, R: float, X_L: float, X_C: float)\n",
      " |      Initialize the RLC parallel circuit with a resistor, inductor, and capacitor.\n",
      " |\n",
      " |  __repr__(self) -> str\n",
      " |      repr is for programmer\n",
      " |\n",
      " |  __str__(self) -> str\n",
      " |      str is for common people\n",
      " |\n",
      " |  total_impedance(self, frequency: float) -> complex\n",
      " |      Calculate the total impedance of the RLC parallel circuit.\n",
      " |\n",
      " |  ----------------------------------------------------------------------\n",
      " |  Readonly properties defined here:\n",
      " |\n",
      " |  resonance_frequency\n",
      " |      Calculate the resonance frequency of the RLC parallel circuit.\n",
      " |\n",
      " |  ----------------------------------------------------------------------\n",
      " |  Data descriptors defined here:\n",
      " |\n",
      " |  R\n",
      " |      Get the resistance of the resistor.\n",
      " |\n",
      " |  X_C\n",
      " |      Get the capacitance of the capacitor.\n",
      " |\n",
      " |  X_L\n",
      " |      Get the inductance of the inductor.\n",
      " |\n",
      " |  __dict__\n",
      " |      dictionary for instance variables\n",
      " |\n",
      " |  __weakref__\n",
      " |      list of weak references to the object\n",
      "\n"
     ]
    }
   ],
   "source": [
    "help(RLCseriescircuit)"
   ]
  },
  {
   "cell_type": "markdown",
   "id": "323736ba-187c-4139-9a0e-1cb7a9f7be60",
   "metadata": {},
   "source": [
    " Make a package with the name oop and make the module of all the labs that are on \n",
    "classes and use it for some tasks. "
   ]
  },
  {
   "cell_type": "code",
   "execution_count": 1973,
   "id": "47437558-fd46-400b-a5bb-a78e52d803cb",
   "metadata": {},
   "outputs": [],
   "source": [
    "import os\n",
    "os .chdir(r'C:\\Users\\DELL\\Desktop\\UET\\3 semester\\OOPS lab\\oop')"
   ]
  },
  {
   "cell_type": "code",
   "execution_count": 1975,
   "id": "4381f372-ecc9-47cc-b8a8-3f79869d3bf7",
   "metadata": {},
   "outputs": [],
   "source": [
    "import cls"
   ]
  },
  {
   "cell_type": "code",
   "execution_count": 1977,
   "id": "568d95e7-327c-446c-97d8-da91b5cb392b",
   "metadata": {},
   "outputs": [],
   "source": [
    "from cls import Square"
   ]
  },
  {
   "cell_type": "code",
   "execution_count": 1979,
   "id": "58bc28e2-2881-4118-9383-4649e85837c1",
   "metadata": {},
   "outputs": [],
   "source": [
    "inst_1=Square(3)"
   ]
  },
  {
   "cell_type": "code",
   "execution_count": 1981,
   "id": "6766632f-2525-4804-b93a-fd3ade20bb00",
   "metadata": {},
   "outputs": [
    {
     "name": "stdout",
     "output_type": "stream",
     "text": [
      "Square with side length: 3,Area: 9, Perimeter: 12\n"
     ]
    }
   ],
   "source": [
    "print(inst_1)"
   ]
  },
  {
   "cell_type": "code",
   "execution_count": 1983,
   "id": "d8cb81cb-fa3b-4c7d-ac17-21358e233926",
   "metadata": {},
   "outputs": [
    {
     "data": {
      "text/plain": [
       "mappingproxy({'__module__': 'cls',\n",
       "              '__doc__': 'A class to represent a square in 2D space.',\n",
       "              '__init__': <function cls.Square.__init__(self, side_length: float)>,\n",
       "              'side_length': <property at 0x2299ab031f0>,\n",
       "              'area': <function cls.Square.area(self) -> float>,\n",
       "              'perimeter': <function cls.Square.perimeter(self) -> float>,\n",
       "              'locate': <function cls.Square.locate(self) -> str>,\n",
       "              '__repr__': <function cls.Square.__repr__(self) -> str>,\n",
       "              '__str__': <function cls.Square.__str__(self) -> str>,\n",
       "              '__dict__': <attribute '__dict__' of 'Square' objects>,\n",
       "              '__weakref__': <attribute '__weakref__' of 'Square' objects>})"
      ]
     },
     "execution_count": 1983,
     "metadata": {},
     "output_type": "execute_result"
    }
   ],
   "source": [
    "Square.__dict__"
   ]
  },
  {
   "cell_type": "code",
   "execution_count": 1985,
   "id": "fd54d03e-a252-4c8d-9a45-6963b594a50b",
   "metadata": {},
   "outputs": [
    {
     "data": {
      "text/plain": [
       "{'_side_length': 3}"
      ]
     },
     "execution_count": 1985,
     "metadata": {},
     "output_type": "execute_result"
    }
   ],
   "source": [
    "inst_1.__dict__"
   ]
  },
  {
   "cell_type": "code",
   "execution_count": 1988,
   "id": "eef6de21-4188-46ba-a93b-e6db0c465f7d",
   "metadata": {},
   "outputs": [
    {
     "data": {
      "text/plain": [
       "mappingproxy({'__module__': 'cls',\n",
       "              '__doc__': 'A class to represent a square in 2D space.',\n",
       "              '__init__': <function cls.Square.__init__(self, side_length: float)>,\n",
       "              'side_length': <property at 0x2299ab031f0>,\n",
       "              'area': <function cls.Square.area(self) -> float>,\n",
       "              'perimeter': <function cls.Square.perimeter(self) -> float>,\n",
       "              'locate': <function cls.Square.locate(self) -> str>,\n",
       "              '__repr__': <function cls.Square.__repr__(self) -> str>,\n",
       "              '__str__': <function cls.Square.__str__(self) -> str>,\n",
       "              '__dict__': <attribute '__dict__' of 'Square' objects>,\n",
       "              '__weakref__': <attribute '__weakref__' of 'Square' objects>})"
      ]
     },
     "execution_count": 1988,
     "metadata": {},
     "output_type": "execute_result"
    }
   ],
   "source": [
    "vars(Square)"
   ]
  },
  {
   "cell_type": "code",
   "execution_count": 1990,
   "id": "4e1d5366-04b9-438e-88f8-790a19f6da2f",
   "metadata": {},
   "outputs": [
    {
     "name": "stdout",
     "output_type": "stream",
     "text": [
      "Help on class Square in module cls:\n",
      "\n",
      "class Square(builtins.object)\n",
      " |  Square(side_length: float)\n",
      " |\n",
      " |  A class to represent a square in 2D space.\n",
      " |\n",
      " |  Methods defined here:\n",
      " |\n",
      " |  __init__(self, side_length: float)\n",
      " |      Initialize the square with a side length.\n",
      " |\n",
      " |  __repr__(self) -> str\n",
      " |      repr is for programmer.\n",
      " |\n",
      " |  __str__(self) -> str\n",
      " |      str is for common person or human readable\n",
      " |\n",
      " |  area(self) -> float\n",
      " |      Calculate the area of the square.\n",
      " |\n",
      " |  locate(self) -> str\n",
      " |      Provide a description of the square's properties.\n",
      " |\n",
      " |  perimeter(self) -> float\n",
      " |      Calculate the perimeter of the square.\n",
      " |\n",
      " |  ----------------------------------------------------------------------\n",
      " |  Data descriptors defined here:\n",
      " |\n",
      " |  __dict__\n",
      " |      dictionary for instance variables\n",
      " |\n",
      " |  __weakref__\n",
      " |      list of weak references to the object\n",
      " |\n",
      " |  side_length\n",
      " |      Get the length of a side of the square.\n",
      "\n"
     ]
    }
   ],
   "source": [
    "help(Square)"
   ]
  },
  {
   "cell_type": "code",
   "execution_count": 1992,
   "id": "fe8d6fc7-fa01-4a0c-9607-f082058674cd",
   "metadata": {},
   "outputs": [
    {
     "name": "stdout",
     "output_type": "stream",
     "text": [
      "A class to represent a square in 2D space.\n"
     ]
    }
   ],
   "source": [
    "print(Square.__doc__)"
   ]
  },
  {
   "cell_type": "code",
   "execution_count": 1994,
   "id": "5dd9a37a-c9c2-4f40-909a-bee28b563189",
   "metadata": {},
   "outputs": [
    {
     "name": "stdout",
     "output_type": "stream",
     "text": [
      "Initialize the square with a side length.\n",
      "        \n"
     ]
    }
   ],
   "source": [
    "print(Square.__init__.__doc__)"
   ]
  },
  {
   "cell_type": "code",
   "execution_count": 1996,
   "id": "fcd36b27-62cb-4d3d-a592-98c2c245a7ee",
   "metadata": {},
   "outputs": [
    {
     "name": "stdout",
     "output_type": "stream",
     "text": [
      "Calculate the area of the square.\n",
      "        \n"
     ]
    }
   ],
   "source": [
    "print(Square.area.__doc__)"
   ]
  },
  {
   "cell_type": "code",
   "execution_count": 1998,
   "id": "f9dad6a9-3a1c-4182-a01c-05c53fbf5644",
   "metadata": {},
   "outputs": [
    {
     "name": "stdout",
     "output_type": "stream",
     "text": [
      "Calculate the perimeter of the square.\n",
      "        \n"
     ]
    }
   ],
   "source": [
    "print(Square.perimeter.__doc__)"
   ]
  },
  {
   "cell_type": "code",
   "execution_count": 2000,
   "id": "72c0f06c-bd1a-46a8-a0f7-2986dcd5035e",
   "metadata": {},
   "outputs": [
    {
     "name": "stdout",
     "output_type": "stream",
     "text": [
      "Provide a description of the square's properties.\n",
      "        \n"
     ]
    }
   ],
   "source": [
    "print(Square.locate.__doc__)"
   ]
  },
  {
   "cell_type": "code",
   "execution_count": 2002,
   "id": "e5f03bfe-54b4-45ba-b12e-1a3841a2a2cf",
   "metadata": {},
   "outputs": [
    {
     "name": "stdout",
     "output_type": "stream",
     "text": [
      "repr is for programmer.\n"
     ]
    }
   ],
   "source": [
    "print(Square.__repr__.__doc__)"
   ]
  },
  {
   "cell_type": "code",
   "execution_count": 2004,
   "id": "09e404a1-23ae-4348-a8c1-ac4d7392a440",
   "metadata": {},
   "outputs": [
    {
     "name": "stdout",
     "output_type": "stream",
     "text": [
      "str is for common person or human readable\n"
     ]
    }
   ],
   "source": [
    "print(Square.__str__.__doc__)"
   ]
  },
  {
   "cell_type": "code",
   "execution_count": 2006,
   "id": "1ba8ca23-506e-4aaa-8124-957f4e1850b0",
   "metadata": {},
   "outputs": [],
   "source": [
    "from cls import Rectangle"
   ]
  },
  {
   "cell_type": "code",
   "execution_count": 2008,
   "id": "fb518080-06d7-4e0d-86c9-82367cfc6a74",
   "metadata": {},
   "outputs": [],
   "source": [
    "inst_1=Rectangle(5,9)"
   ]
  },
  {
   "cell_type": "code",
   "execution_count": 2010,
   "id": "0ba4a5f2-a5ec-46b6-95bc-8b4543d0f588",
   "metadata": {},
   "outputs": [
    {
     "name": "stdout",
     "output_type": "stream",
     "text": [
      "Rectangle with width 5 & height 9 \n"
     ]
    }
   ],
   "source": [
    "print(inst_1)"
   ]
  },
  {
   "cell_type": "code",
   "execution_count": 2012,
   "id": "15bbb9e8-c7ba-4fc4-b665-a850be6ff94a",
   "metadata": {},
   "outputs": [
    {
     "data": {
      "text/plain": [
       "mappingproxy({'__module__': 'cls',\n",
       "              '__doc__': 'A class to represent a rectangle in 2D space.',\n",
       "              '__init__': <function cls.Rectangle.__init__(self, width: float, height: float)>,\n",
       "              'width': <property at 0x2299aaeb510>,\n",
       "              'height': <property at 0x2299aaeaca0>,\n",
       "              'area': <function cls.Rectangle.area(self) -> float>,\n",
       "              'perimeter': <function cls.Rectangle.perimeter(self) -> float>,\n",
       "              'locate': <function cls.Rectangle.locate(self) -> str>,\n",
       "              '__repr__': <function cls.Rectangle.__repr__(self) -> str>,\n",
       "              '__str__': <function cls.Rectangle.__str__(self) -> str>,\n",
       "              '__dict__': <attribute '__dict__' of 'Rectangle' objects>,\n",
       "              '__weakref__': <attribute '__weakref__' of 'Rectangle' objects>})"
      ]
     },
     "execution_count": 2012,
     "metadata": {},
     "output_type": "execute_result"
    }
   ],
   "source": [
    "Rectangle.__dict__"
   ]
  },
  {
   "cell_type": "code",
   "execution_count": 2014,
   "id": "8725bb9d-f850-480e-b973-a7dbde1a6140",
   "metadata": {},
   "outputs": [
    {
     "data": {
      "text/plain": [
       "{'_width': 5, '_height': 9}"
      ]
     },
     "execution_count": 2014,
     "metadata": {},
     "output_type": "execute_result"
    }
   ],
   "source": [
    "inst_1.__dict__"
   ]
  },
  {
   "cell_type": "code",
   "execution_count": 2016,
   "id": "13bf4b18-e0bd-4dac-9e9b-e66ab99e82dc",
   "metadata": {},
   "outputs": [
    {
     "data": {
      "text/plain": [
       "mappingproxy({'__module__': 'cls',\n",
       "              '__doc__': 'A class to represent a rectangle in 2D space.',\n",
       "              '__init__': <function cls.Rectangle.__init__(self, width: float, height: float)>,\n",
       "              'width': <property at 0x2299aaeb510>,\n",
       "              'height': <property at 0x2299aaeaca0>,\n",
       "              'area': <function cls.Rectangle.area(self) -> float>,\n",
       "              'perimeter': <function cls.Rectangle.perimeter(self) -> float>,\n",
       "              'locate': <function cls.Rectangle.locate(self) -> str>,\n",
       "              '__repr__': <function cls.Rectangle.__repr__(self) -> str>,\n",
       "              '__str__': <function cls.Rectangle.__str__(self) -> str>,\n",
       "              '__dict__': <attribute '__dict__' of 'Rectangle' objects>,\n",
       "              '__weakref__': <attribute '__weakref__' of 'Rectangle' objects>})"
      ]
     },
     "execution_count": 2016,
     "metadata": {},
     "output_type": "execute_result"
    }
   ],
   "source": [
    "vars(Rectangle)"
   ]
  },
  {
   "cell_type": "code",
   "execution_count": 2018,
   "id": "508d5bb2-0808-4f30-a38d-570f445683c0",
   "metadata": {},
   "outputs": [
    {
     "name": "stdout",
     "output_type": "stream",
     "text": [
      "Help on class Rectangle in module cls:\n",
      "\n",
      "class Rectangle(builtins.object)\n",
      " |  Rectangle(width: float, height: float)\n",
      " |\n",
      " |  A class to represent a rectangle in 2D space.\n",
      " |\n",
      " |  Methods defined here:\n",
      " |\n",
      " |  __init__(self, width: float, height: float)\n",
      " |      Initialize the rectangle with width and height.\n",
      " |\n",
      " |  __repr__(self) -> str\n",
      " |      repr is for programmer\n",
      " |\n",
      " |  __str__(self) -> str\n",
      " |      str is for common person\n",
      " |\n",
      " |  area(self) -> float\n",
      " |      Calculate the area of the rectangle.\n",
      " |\n",
      " |  locate(self) -> str\n",
      " |      Provide a description of the rectangle's properties.\n",
      " |\n",
      " |  perimeter(self) -> float\n",
      " |      Calculate the perimeter of the rectangle.\n",
      " |\n",
      " |  ----------------------------------------------------------------------\n",
      " |  Data descriptors defined here:\n",
      " |\n",
      " |  __dict__\n",
      " |      dictionary for instance variables\n",
      " |\n",
      " |  __weakref__\n",
      " |      list of weak references to the object\n",
      " |\n",
      " |  height\n",
      " |      Get the height of the rectangle.\n",
      " |\n",
      " |  width\n",
      " |      Get the width of the rectangle.\n",
      "\n"
     ]
    }
   ],
   "source": [
    "help(Rectangle)"
   ]
  },
  {
   "cell_type": "code",
   "execution_count": 2020,
   "id": "6bcf8208-0a24-45ba-8113-d2f6e597cd18",
   "metadata": {},
   "outputs": [
    {
     "name": "stdout",
     "output_type": "stream",
     "text": [
      "A class to represent a rectangle in 2D space.\n"
     ]
    }
   ],
   "source": [
    "print(Rectangle.__doc__)"
   ]
  },
  {
   "cell_type": "code",
   "execution_count": 2022,
   "id": "309b3870-18fe-4696-816f-02ca4fc8fd1b",
   "metadata": {},
   "outputs": [
    {
     "name": "stdout",
     "output_type": "stream",
     "text": [
      "Initialize the rectangle with width and height.\n",
      "        \n"
     ]
    }
   ],
   "source": [
    "print(Rectangle.__init__.__doc__)"
   ]
  },
  {
   "cell_type": "code",
   "execution_count": 2024,
   "id": "db0bce5d-5354-404e-a846-16523287e6da",
   "metadata": {},
   "outputs": [
    {
     "name": "stdout",
     "output_type": "stream",
     "text": [
      "Get the width of the rectangle.\n"
     ]
    }
   ],
   "source": [
    "print(Rectangle. width.__doc__)"
   ]
  },
  {
   "cell_type": "code",
   "execution_count": 2026,
   "id": "ff9ad2ee-09f0-43ee-a406-0e7b3b59ad30",
   "metadata": {},
   "outputs": [
    {
     "name": "stdout",
     "output_type": "stream",
     "text": [
      "Get the height of the rectangle.\n"
     ]
    }
   ],
   "source": [
    "print(Rectangle.height.__doc__)"
   ]
  },
  {
   "cell_type": "code",
   "execution_count": 2028,
   "id": "634f80c2-9e8c-4405-b72d-1072b836f313",
   "metadata": {},
   "outputs": [
    {
     "name": "stdout",
     "output_type": "stream",
     "text": [
      "Calculate the area of the rectangle.\n",
      "        \n"
     ]
    }
   ],
   "source": [
    "print(Rectangle.area.__doc__)"
   ]
  },
  {
   "cell_type": "code",
   "execution_count": null,
   "id": "85919800-ac52-439b-a06e-a7e9dea9e5a0",
   "metadata": {},
   "outputs": [],
   "source": [
    "from cls import "
   ]
  }
 ],
 "metadata": {
  "kernelspec": {
   "display_name": "Python 3 (ipykernel)",
   "language": "python",
   "name": "python3"
  },
  "language_info": {
   "codemirror_mode": {
    "name": "ipython",
    "version": 3
   },
   "file_extension": ".py",
   "mimetype": "text/x-python",
   "name": "python",
   "nbconvert_exporter": "python",
   "pygments_lexer": "ipython3",
   "version": "3.12.7"
  }
 },
 "nbformat": 4,
 "nbformat_minor": 5
}
