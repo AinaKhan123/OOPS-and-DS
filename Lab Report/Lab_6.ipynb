{
 "cells": [
  {
   "cell_type": "markdown",
   "id": "4cabe66d-989f-45d0-bb68-4f569f330ba5",
   "metadata": {},
   "source": [
    "<h1 style=\"margin-left: 10px; text-decoration: underline; text-decoration-style: double;\"><strong><i> Lab Report: </i></strong></h1>"
   ]
  },
  {
   "cell_type": "markdown",
   "id": "262c03f9-3f61-4a55-9468-55ae8d362025",
   "metadata": {},
   "source": [
    "<p style=\"margin-left: 10px;text-decoration: underline;\"><strong> Name </strong>: Aina khan</p>\n",
    "<p style=\"margin-left: 10px;text-decoration: underline;\"><strong> Reg No </strong>: 0540 <p>\n",
    "<p style=\"margin-left: 10px;text-decoration: underline;\"><strong> Lab Report </strong>: <strong> 6 </strong> <p>"
   ]
  },
  {
   "cell_type": "markdown",
   "id": "c241099f-e9e9-4863-8452-8f0615ed8507",
   "metadata": {},
   "source": [
    "<hr>"
   ]
  },
  {
   "cell_type": "markdown",
   "id": "8db99f58-dea6-4a27-8912-0a4c88c2c3f2",
   "metadata": {},
   "source": [
    "<h1 style=\"margin-left: 29px;text-decoration: underline;text-decoration-style: double;\"><i><b>Lab Title :</b></i></h1>"
   ]
  },
  {
   "cell_type": "markdown",
   "id": "5231320e-f131-4734-a854-f4e5ba90a068",
   "metadata": {},
   "source": [
    "<h2 style=\"margin-left: 129px;text-decoration: underline;text-decoration-style: double;\"><i><b> Classes 3 @property and @property.setter, @property, @ staticmethod and \n",
    "@classmethod\n",
    "</b></i></h2>"
   ]
  },
  {
   "cell_type": "markdown",
   "id": "476e76ac-dbf5-4467-bcdb-1c35b8e63242",
   "metadata": {},
   "source": [
    "<h2 style=\"margin-left: 10px;text-decoration: underline;\"><i><b>Task</b></b></i></h2>"
   ]
  },
  {
   "cell_type": "markdown",
   "id": "6eefb2f1-f372-4476-a454-ff45c5622096",
   "metadata": {},
   "source": [
    "<h4 style=\"margin-left: 10px;text-decoration: underline;\"><i><b> 1. Define a class circle. Your class must have the appropriate __init__ method.</b></i></h4>"
   ]
  },
  {
   "cell_type": "markdown",
   "id": "328599e3-d81d-4663-9592-0131532bb957",
   "metadata": {},
   "source": [
    "<h5><i><b>i.</b> Add appropriate property methods. (@property and @property.setter)</i></h5>\n",
    "<h5><i><b>ii.</b> In addition, add an instance method for the volume of a cylinder with the given \n",
    "radius.</i></h5>\n",
    "<h5><i><b>iii.</b> Add property method for area, circumference, and diameter</i></h5> \n",
    "<h5><i><b>iv.</b> Add __repr__ and __str__ to the class.  </i></h5>\n",
    "<h5><i><b>v.</b> Add proper annotation and doc string to every class and instance method. </i></h5>\n",
    "<h5><i><b>vi.</b> Also add method with decoration @staticmethod and @classmethod if possible</i></h5>"
   ]
  },
  {
   "cell_type": "code",
   "execution_count": 139,
   "id": "a944eda5-366c-4945-9d5f-a0ab39bab7a8",
   "metadata": {},
   "outputs": [],
   "source": [
    "class Circle:\n",
    "    pass"
   ]
  },
  {
   "cell_type": "code",
   "execution_count": 146,
   "id": "3866023e-2f27-45a1-bca3-c7c6cad2ec0e",
   "metadata": {},
   "outputs": [],
   "source": [
    "import math\n",
    "\n",
    "class Circle:\n",
    "    \"\"\"A class to represent a circle and perform related calculations.\n",
    "    \n",
    "    Attributes:\n",
    "    radius : float\n",
    "        The radius of the circle with a default value 1.0.\n",
    "    \n",
    "    Methods:\n",
    "    area():\n",
    "        Returns the area of the circle.\n",
    "    circumference():\n",
    "        Returns the circumference of the circle.\n",
    "    diameter():\n",
    "        Returns the diameter of the circle.\n",
    "    cylinder_volume(height: float):\n",
    "        Returns the volume of a cylinder with the circle as its area and a given height.\n",
    "    \"\"\"\n",
    "    def __init__(self, radius: float = 1.0):\n",
    "        \"\"\"Initializes the Circle with a radius.\n",
    "\n",
    "        Parameters:\n",
    "        radius:\n",
    "            The radius of the circle with a default value of 1.0.\n",
    "        \"\"\"\n",
    "        self.radius = radius\n",
    "\n",
    "    def area(self) -> float:\n",
    "        \"\"\"Calculates the area of the circle.\n",
    "        Return:\n",
    "            Return area in float\n",
    "        \"\"\"\n",
    "        return math.pi * self.radius**2\n",
    "\n",
    "    def circumference(self) -> float:\n",
    "        \"\"\"Calculates the circumference of the circle.\n",
    "        Return:\n",
    "            Return circumference in float\n",
    "        \"\"\"\n",
    "        return math.pi * 2 * self.radius\n",
    "\n",
    "    def diameter(self) -> float:\n",
    "        \"\"\"Calculates the diameter of the circle.\n",
    "        Return:\n",
    "            Return diameter in float\n",
    "        \"\"\"\n",
    "        return 2 * self.radius\n",
    "\n",
    "    def volume_of_cylinder(self, height: float) -> float:\n",
    "        \"\"\"Calculates the volume of a cylinder with the area of the circle.\n",
    "        Parameters:\n",
    "            height : float\n",
    "                The height of the cylinder.\n",
    "        Return:\n",
    "            float\n",
    "                The volume of the cylinder.\n",
    "        \"\"\"\n",
    "        return self.area() * height\n",
    "\n",
    "    @staticmethod\n",
    "    def static_method():\n",
    "        return \"This is a static method.\"\n",
    "\n",
    "    @classmethod\n",
    "    def class_method(cls):\n",
    "        return f\"This is a class method. The class is {cls.__name__}.\"\n",
    "\n",
    "    def __repr__(self) -> str:\n",
    "        \"\"\"This representation is intended for developers,\n",
    "        showing the class name and radius attribute in a format suitable for\n",
    "        recreating the object.\"\"\"\n",
    "        return f\"{type(self).__name__} ({self.radius})\"\n",
    "\n",
    "    def __str__(self) -> str:\n",
    "        \"\"\"This representation provides a simple description of the circle's\n",
    "        radius and is intended for end-users or general display purposes.\"\"\"\n",
    "        return f\"Circle with Radius: {self.radius}\""
   ]
  },
  {
   "cell_type": "markdown",
   "id": "8e994734-c38c-438e-b109-e72af3bbdff8",
   "metadata": {},
   "source": [
    "<h5><i><b>a.</b> Define inst_1 and pass two numbers.</i></h5>"
   ]
  },
  {
   "cell_type": "code",
   "execution_count": 163,
   "id": "2741c233-429e-4fd0-a877-6631f4219069",
   "metadata": {},
   "outputs": [],
   "source": [
    "inst_1 = Circle(4)"
   ]
  },
  {
   "cell_type": "markdown",
   "id": "1bdb31aa-a6af-4f0d-826b-3eb88218952f",
   "metadata": {},
   "source": [
    "<h5><i><b>b.</b> Make another instance inst2</i></h5>"
   ]
  },
  {
   "cell_type": "code",
   "execution_count": 166,
   "id": "09a6dbaa-6f57-4a9a-bdd2-4ef83921724b",
   "metadata": {},
   "outputs": [],
   "source": [
    "inst_2 = Circle(8)"
   ]
  },
  {
   "cell_type": "markdown",
   "id": "956b25b3-817c-404e-b7ce-35e1e4ba0c5e",
   "metadata": {},
   "source": [
    "<h5><i><b>c.</b> Print inst_1 and inst_2, for this use the print command and pass the inst_1 and inst_2.</i></h5>"
   ]
  },
  {
   "cell_type": "code",
   "execution_count": 169,
   "id": "afe32f25-809b-42a2-b777-666aafbc0286",
   "metadata": {},
   "outputs": [
    {
     "name": "stdout",
     "output_type": "stream",
     "text": [
      "Circle with Radius: 4\n",
      "Circle with Radius: 8\n"
     ]
    }
   ],
   "source": [
    "print(inst_1)\n",
    "print(inst_2)"
   ]
  },
  {
   "cell_type": "markdown",
   "id": "0ba0a4dd-a9e3-4c6f-a0fb-3ba16bb68afa",
   "metadata": {},
   "source": [
    "<h5><i><b>d.</b>Demonstrate the property, staticmethod and classmethod methods on the instances.</i></h5>"
   ]
  },
  {
   "cell_type": "code",
   "execution_count": 172,
   "id": "56fa61e3-d9da-4d74-9628-e31a18947ad1",
   "metadata": {},
   "outputs": [
    {
     "name": "stdout",
     "output_type": "stream",
     "text": [
      "4\n",
      "10\n"
     ]
    }
   ],
   "source": [
    "print(inst_1.radius)  \n",
    "inst_1.radius = 10 \n",
    "print(inst_1.radius)"
   ]
  },
  {
   "cell_type": "code",
   "execution_count": 174,
   "id": "bd3cd59f-ff0d-4e2e-8011-59c348b013af",
   "metadata": {},
   "outputs": [
    {
     "name": "stdout",
     "output_type": "stream",
     "text": [
      "This is a static method.\n",
      "This is a static method.\n"
     ]
    }
   ],
   "source": [
    "print(Circle.static_method()) \n",
    "print(inst_1.static_method())"
   ]
  },
  {
   "cell_type": "code",
   "execution_count": 176,
   "id": "84e6df95-dbe0-478b-97d1-1316b11c29aa",
   "metadata": {},
   "outputs": [
    {
     "name": "stdout",
     "output_type": "stream",
     "text": [
      "This is a class method. The class is Circle.\n",
      "This is a class method. The class is Circle.\n"
     ]
    }
   ],
   "source": [
    "print(Circle.class_method()) \n",
    "print(inst_1.class_method())"
   ]
  },
  {
   "cell_type": "markdown",
   "id": "fb36b1fa-e259-40c2-86d0-d760b6fed295",
   "metadata": {},
   "source": [
    "<h5><i><b>e.</b> Call the __dict__ by the class name.</i></h5>"
   ]
  },
  {
   "cell_type": "code",
   "execution_count": 188,
   "id": "e6795265-1244-4658-b47d-bdccea7330c1",
   "metadata": {},
   "outputs": [
    {
     "name": "stdout",
     "output_type": "stream",
     "text": [
      "mappingproxy({'__dict__': <attribute '__dict__' of 'Circle' objects>,\n",
      "              '__doc__': 'A class to represent a circle and perform related '\n",
      "                         'calculations.\\n'\n",
      "                         '    \\n'\n",
      "                         '    Attributes:\\n'\n",
      "                         '    radius : float\\n'\n",
      "                         '        The radius of the circle with a default '\n",
      "                         'value 1.0.\\n'\n",
      "                         '    \\n'\n",
      "                         '    Methods:\\n'\n",
      "                         '    area():\\n'\n",
      "                         '        Returns the area of the circle.\\n'\n",
      "                         '    circumference():\\n'\n",
      "                         '        Returns the circumference of the circle.\\n'\n",
      "                         '    diameter():\\n'\n",
      "                         '        Returns the diameter of the circle.\\n'\n",
      "                         '    cylinder_volume(height: float):\\n'\n",
      "                         '        Returns the volume of a cylinder with the '\n",
      "                         'circle as its area and a given height.\\n'\n",
      "                         '    ',\n",
      "              '__init__': <function Circle.__init__ at 0x000001896D66C540>,\n",
      "              '__module__': '__main__',\n",
      "              '__repr__': <function Circle.__repr__ at 0x000001896D66D1C0>,\n",
      "              '__str__': <function Circle.__str__ at 0x000001896D66D260>,\n",
      "              '__weakref__': <attribute '__weakref__' of 'Circle' objects>,\n",
      "              'area': <function Circle.area at 0x000001896D66C4A0>,\n",
      "              'circumference': <function Circle.circumference at 0x000001896D66C0E0>,\n",
      "              'class_method': <classmethod(<function Circle.class_method at 0x000001896D66CF40>)>,\n",
      "              'diameter': <function Circle.diameter at 0x000001896D66CEA0>,\n",
      "              'static_method': <staticmethod(<function Circle.static_method at 0x000001896D66D120>)>,\n",
      "              'volume_of_cylinder': <function Circle.volume_of_cylinder at 0x000001896D66CE00>})\n"
     ]
    }
   ],
   "source": [
    "from pprint import pprint\n",
    "pprint(Circle.__dict__)"
   ]
  },
  {
   "cell_type": "markdown",
   "id": "2ee4979b-b9fc-4255-900e-b5a7340d2f36",
   "metadata": {},
   "source": [
    "<h5><i><b>f.</b>  Also pass the class name to the vars built-in function.</i></h5>"
   ]
  },
  {
   "cell_type": "code",
   "execution_count": 190,
   "id": "7964a2a9-b256-4d8e-85a6-036e6408630d",
   "metadata": {},
   "outputs": [
    {
     "name": "stdout",
     "output_type": "stream",
     "text": [
      "mappingproxy({'__dict__': <attribute '__dict__' of 'Circle' objects>,\n",
      "              '__doc__': 'A class to represent a circle and perform related '\n",
      "                         'calculations.\\n'\n",
      "                         '    \\n'\n",
      "                         '    Attributes:\\n'\n",
      "                         '    radius : float\\n'\n",
      "                         '        The radius of the circle with a default '\n",
      "                         'value 1.0.\\n'\n",
      "                         '    \\n'\n",
      "                         '    Methods:\\n'\n",
      "                         '    area():\\n'\n",
      "                         '        Returns the area of the circle.\\n'\n",
      "                         '    circumference():\\n'\n",
      "                         '        Returns the circumference of the circle.\\n'\n",
      "                         '    diameter():\\n'\n",
      "                         '        Returns the diameter of the circle.\\n'\n",
      "                         '    cylinder_volume(height: float):\\n'\n",
      "                         '        Returns the volume of a cylinder with the '\n",
      "                         'circle as its area and a given height.\\n'\n",
      "                         '    ',\n",
      "              '__init__': <function Circle.__init__ at 0x000001896D66C540>,\n",
      "              '__module__': '__main__',\n",
      "              '__repr__': <function Circle.__repr__ at 0x000001896D66D1C0>,\n",
      "              '__str__': <function Circle.__str__ at 0x000001896D66D260>,\n",
      "              '__weakref__': <attribute '__weakref__' of 'Circle' objects>,\n",
      "              'area': <function Circle.area at 0x000001896D66C4A0>,\n",
      "              'circumference': <function Circle.circumference at 0x000001896D66C0E0>,\n",
      "              'class_method': <classmethod(<function Circle.class_method at 0x000001896D66CF40>)>,\n",
      "              'diameter': <function Circle.diameter at 0x000001896D66CEA0>,\n",
      "              'static_method': <staticmethod(<function Circle.static_method at 0x000001896D66D120>)>,\n",
      "              'volume_of_cylinder': <function Circle.volume_of_cylinder at 0x000001896D66CE00>})\n"
     ]
    }
   ],
   "source": [
    "pprint(vars(Circle))"
   ]
  },
  {
   "cell_type": "markdown",
   "id": "e8723c8d-4669-47e1-88fc-be86c546dce7",
   "metadata": {},
   "source": [
    "<h5><i><b>g.</b>  Call the __dict__ on the object of the class. </i></h5>"
   ]
  },
  {
   "cell_type": "code",
   "execution_count": 195,
   "id": "e80439d0-97e0-476a-b115-29ebfe6ed9e3",
   "metadata": {},
   "outputs": [
    {
     "name": "stdout",
     "output_type": "stream",
     "text": [
      "{'radius': 10}\n"
     ]
    }
   ],
   "source": [
    "print(inst_1.__dict__)"
   ]
  },
  {
   "cell_type": "code",
   "execution_count": 198,
   "id": "6828ae3d-3446-4999-8fb1-e76ed89111c1",
   "metadata": {},
   "outputs": [
    {
     "name": "stdout",
     "output_type": "stream",
     "text": [
      "{'radius': 8}\n"
     ]
    }
   ],
   "source": [
    "print(inst_2.__dict__)"
   ]
  },
  {
   "cell_type": "markdown",
   "id": "da48350e-7e4f-49c6-9466-a366b1672e41",
   "metadata": {},
   "source": [
    "<h5><i><b>h.</b>  Pass the class name to help.</i></h5>"
   ]
  },
  {
   "cell_type": "code",
   "execution_count": 200,
   "id": "e4a7e76e-a4fe-43f9-98c4-af3846171701",
   "metadata": {},
   "outputs": [
    {
     "name": "stdout",
     "output_type": "stream",
     "text": [
      "Help on class Circle in module __main__:\n",
      "\n",
      "class Circle(builtins.object)\n",
      " |  Circle(radius: float = 1.0)\n",
      " |\n",
      " |  A class to represent a circle and perform related calculations.\n",
      " |\n",
      " |  Attributes:\n",
      " |  radius : float\n",
      " |      The radius of the circle with a default value 1.0.\n",
      " |\n",
      " |  Methods:\n",
      " |  area():\n",
      " |      Returns the area of the circle.\n",
      " |  circumference():\n",
      " |      Returns the circumference of the circle.\n",
      " |  diameter():\n",
      " |      Returns the diameter of the circle.\n",
      " |  cylinder_volume(height: float):\n",
      " |      Returns the volume of a cylinder with the circle as its area and a given height.\n",
      " |\n",
      " |  Methods defined here:\n",
      " |\n",
      " |  __init__(self, radius: float = 1.0)\n",
      " |      Initializes the Circle with a radius.\n",
      " |\n",
      " |      Parameters:\n",
      " |      radius:\n",
      " |          The radius of the circle with a default value of 1.0.\n",
      " |\n",
      " |  __repr__(self) -> str\n",
      " |      This representation is intended for developers,\n",
      " |      showing the class name and radius attribute in a format suitable for\n",
      " |      recreating the object.\n",
      " |\n",
      " |  __str__(self) -> str\n",
      " |      This representation provides a simple description of the circle's\n",
      " |      radius and is intended for end-users or general display purposes.\n",
      " |\n",
      " |  area(self) -> float\n",
      " |      Calculates the area of the circle.\n",
      " |      Return:\n",
      " |          Return area in float\n",
      " |\n",
      " |  circumference(self) -> float\n",
      " |      Calculates the circumference of the circle.\n",
      " |      Return:\n",
      " |          Return circumference in float\n",
      " |\n",
      " |  diameter(self) -> float\n",
      " |      Calculates the diameter of the circle.\n",
      " |      Return:\n",
      " |          Return diameter in float\n",
      " |\n",
      " |  volume_of_cylinder(self, height: float) -> float\n",
      " |      Calculates the volume of a cylinder with the area of the circle.\n",
      " |      Parameters:\n",
      " |          height : float\n",
      " |              The height of the cylinder.\n",
      " |      Return:\n",
      " |          float\n",
      " |              The volume of the cylinder.\n",
      " |\n",
      " |  ----------------------------------------------------------------------\n",
      " |  Class methods defined here:\n",
      " |\n",
      " |  class_method()\n",
      " |\n",
      " |  ----------------------------------------------------------------------\n",
      " |  Static methods defined here:\n",
      " |\n",
      " |  static_method()\n",
      " |\n",
      " |  ----------------------------------------------------------------------\n",
      " |  Data descriptors defined here:\n",
      " |\n",
      " |  __dict__\n",
      " |      dictionary for instance variables\n",
      " |\n",
      " |  __weakref__\n",
      " |      list of weak references to the object\n",
      "\n"
     ]
    }
   ],
   "source": [
    "help(Circle)"
   ]
  },
  {
   "cell_type": "markdown",
   "id": "54a2f974-1df2-42b3-806b-3a1e23825c5d",
   "metadata": {},
   "source": [
    "<h5><i><b>i.</b> Print the doc-string and annotations of both the class and each instance method. </i></h5>"
   ]
  },
  {
   "cell_type": "code",
   "execution_count": 208,
   "id": "86d781cf-e90f-495f-93a7-092fb39e63f4",
   "metadata": {},
   "outputs": [
    {
     "name": "stdout",
     "output_type": "stream",
     "text": [
      "A class to represent a circle and perform related calculations.\n",
      "    \n",
      "    Attributes:\n",
      "    radius : float\n",
      "        The radius of the circle with a default value 1.0.\n",
      "    \n",
      "    Methods:\n",
      "    area():\n",
      "        Returns the area of the circle.\n",
      "    circumference():\n",
      "        Returns the circumference of the circle.\n",
      "    diameter():\n",
      "        Returns the diameter of the circle.\n",
      "    cylinder_volume(height: float):\n",
      "        Returns the volume of a cylinder with the circle as its area and a given height.\n",
      "    \n",
      "\n",
      "{'radius': <class 'float'>}\n",
      "Initializes the Circle with a radius.\n",
      "\n",
      "        Parameters:\n",
      "        radius:\n",
      "            The radius of the circle with a default value of 1.0.\n",
      "        \n",
      "\n",
      "Calculates the area of the circle.\n",
      "        Return:\n",
      "            Return area in float\n",
      "        \n",
      "Calculates the circumference of the circle.\n",
      "        Return:\n",
      "            Return circumference in float\n",
      "        \n",
      "\n",
      "Calculates the diameter of the circle.\n",
      "        Return:\n",
      "            Return diameter in float\n",
      "        \n",
      "\n",
      "This representation is intended for developers,\n",
      "        showing the class name and radius attribute in a format suitable for\n",
      "        recreating the object.\n",
      "This representation provides a simple description of the circle's\n",
      "        radius and is intended for end-users or general display purposes.\n"
     ]
    }
   ],
   "source": [
    "print(Circle.__doc__)\n",
    "print()\n",
    "print(Circle.__init__.__annotations__)\n",
    "print(Circle.__init__.__doc__)\n",
    "print()\n",
    "print(Circle.area.__doc__)\n",
    "print(Circle.circumference.__doc__)\n",
    "print()\n",
    "print(Circle.diameter.__doc__)\n",
    "\n",
    "print()\n",
    "print(Circle.__repr__.__doc__)\n",
    "print(Circle.__str__.__doc__)"
   ]
  },
  {
   "cell_type": "markdown",
   "id": "082e419d-9be9-431f-8f1b-c938bc18363b",
   "metadata": {},
   "source": [
    "<h5><i><b>j.</b> <i></b> Print the doc-string and annotations of both the class and each instance method. </i></h5></i></h5>"
   ]
  },
  {
   "cell_type": "code",
   "execution_count": 210,
   "id": "8650f85d-2d97-401d-bf9e-9a8e3e0330df",
   "metadata": {},
   "outputs": [
    {
     "name": "stdout",
     "output_type": "stream",
     "text": [
      "Circle with Radius: 1.0\n"
     ]
    },
    {
     "data": {
      "text/plain": [
       "Circle (1.0)"
      ]
     },
     "execution_count": 210,
     "metadata": {},
     "output_type": "execute_result"
    }
   ],
   "source": [
    "inst_3 = Circle()\n",
    "print(inst_3)\n",
    "inst_3"
   ]
  }
 ],
 "metadata": {
  "kernelspec": {
   "display_name": "Python 3 (ipykernel)",
   "language": "python",
   "name": "python3"
  },
  "language_info": {
   "codemirror_mode": {
    "name": "ipython",
    "version": 3
   },
   "file_extension": ".py",
   "mimetype": "text/x-python",
   "name": "python",
   "nbconvert_exporter": "python",
   "pygments_lexer": "ipython3",
   "version": "3.12.4"
  }
 },
 "nbformat": 4,
 "nbformat_minor": 5
}
