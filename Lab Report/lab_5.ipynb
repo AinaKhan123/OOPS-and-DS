{
 "cells": [
  {
   "cell_type": "markdown",
   "id": "48236ae2-07b1-4dd8-aa95-7516e6640b7e",
   "metadata": {},
   "source": [
    "<h1><strong><i> Lab Report </i></strong></h1>"
   ]
  },
  {
   "cell_type": "markdown",
   "id": "90220bb0-610e-4671-aa00-174cc76c4b38",
   "metadata": {},
   "source": [
    "<p><strong> Name </strong>: Aina khan</p>\n",
    "<p><strong> Reg No </strong>: 0540 <p>\n",
    "<p><strong> Lab Report </strong>: <strong> 5 </strong> <p>"
   ]
  },
  {
   "cell_type": "markdown",
   "id": "ee391528-8f3b-48c3-9477-9130c4ed7103",
   "metadata": {},
   "source": [
    "<hr>"
   ]
  },
  {
   "cell_type": "markdown",
   "id": "2bd36e9e-0da6-4b61-a6d5-9eb1e8845225",
   "metadata": {},
   "source": [
    "<h2><i><b>Task</b></i></h2>"
   ]
  },
  {
   "cell_type": "markdown",
   "id": "4572a23f-b20d-4b73-890c-a4bef79ca1f4",
   "metadata": {},
   "source": [
    "<h3><i><b>Define a class circle. Your class must have the appropriate init method.</b></i></h3>\n",
    "<h5><i>1. In addition, add an instance method for the volume of a cylinder with the given radius.</i></h5>\n",
    "<h5><i>2. Add property method for area, circumference, and diameter.</i></h5>\n",
    "<h5><i>3. Add repr and str to the class.</i></h5>\n",
    "<h5><i>4. Add proper annotation and doc string to every class and instance method.</i></h5>"
   ]
  },
  {
   "cell_type": "markdown",
   "id": "65e69ac3-cadb-4b3b-95d8-bd87b69fef8c",
   "metadata": {},
   "source": [
    "<hr>"
   ]
  },
  {
   "cell_type": "code",
   "execution_count": 14,
   "id": "f1e134ca-6107-46a0-b921-ff143cab751c",
   "metadata": {},
   "outputs": [],
   "source": [
    "class circle:\n",
    "    pass"
   ]
  },
  {
   "cell_type": "code",
   "execution_count": 86,
   "id": "baec5983-f91e-4b7d-b37c-a9104f70afe2",
   "metadata": {},
   "outputs": [],
   "source": [
    "class Circle:\n",
    "    \"\"\"A class to represent a circle\n",
    "    Attributes:\n",
    "    radius : float\n",
    "        The radius of the circle with a default value 1.0.\n",
    "    \n",
    "    Methods:\n",
    "    area():\n",
    "        Returns the area of the circle.\n",
    "    circumference():\n",
    "        Returns the circumference of the circle.\n",
    "    diameter():\n",
    "        Returns the diameter of the circle.\n",
    "    cylinder_volume(height: float):\n",
    "        Returns the volume of a cylinder\n",
    "    \"\"\"\n",
    "    def __init__(self,radius: float = 1.0):\n",
    "        \"\"\"Initializes the Circle with a radius.\n",
    "        Parameters:\n",
    "        radius:\n",
    "            The radius of the circle with a default value of 1.0.\n",
    "        \"\"\"\n",
    "        self.radius = radius\n",
    "    def area(self)-> float :\n",
    "        \"\"\"Calculates the area of the circle.\n",
    "    Return:\n",
    "        Return area in float\n",
    "    \"\"\"\n",
    "        return math.pi * self.radius**2\n",
    "    def circumference(self) -> float:\n",
    "        \"\"\"Calculates the circumference of the circle.\n",
    "    Return:\n",
    "        Return circumference in float\n",
    "    \"\"\"\n",
    "        return math.pi * 2 * self.radius\n",
    "    def diameter(self) -> float:\n",
    "        \"\"\"Calculates the diameter of the circle.\n",
    "    Return:\n",
    "        Return diameter in float\n",
    "    \"\"\"\n",
    "        return  2 * self.radius\n",
    "    def Volume_of_cylinder(self, height: float) -> float:\n",
    "        \"\"\"Calculates the volume of cylinder with the area of the circle.\n",
    "    Parameters:\n",
    "        height : float\n",
    "            The height of the cylinder.\n",
    "        Return:\n",
    "        float\n",
    "            The volume of the cylinder.\n",
    "        \"\"\"\n",
    "        return self.area * height\n",
    "    def __repr__(self) -> str:\n",
    "        \"\"\"This representation is intended for developers,\n",
    "        showing the class name and radius attribute in a format suitable for\n",
    "        recreating the object.\"\"\"\n",
    "        return f\"{type(self).__name__} ({self.radius})\"\n",
    "    def __str__(self) -> str:\n",
    "        \"\"\"This representation describes the circle's radius for general display purposes.\"\"\"\n",
    "        return f\"Circle with Radius: {self.radius}\""
   ]
  },
  {
   "cell_type": "markdown",
   "id": "e68ee1e3-846d-459d-baf4-1e2c39ea2020",
   "metadata": {},
   "source": [
    "<h5><i>a. Define inst_1 and pass two numbers.</i></h5>"
   ]
  },
  {
   "cell_type": "code",
   "execution_count": 89,
   "id": "d26dee18-54bb-46d6-8473-fbf51800df27",
   "metadata": {},
   "outputs": [],
   "source": [
    "inst_1 = Circle(3)"
   ]
  },
  {
   "cell_type": "markdown",
   "id": "7acca96b-8ac8-4a7d-85c9-1a68ca19644f",
   "metadata": {},
   "source": [
    "<h5><i>b. Make another instance inst2</i></h5>"
   ]
  },
  {
   "cell_type": "code",
   "execution_count": 92,
   "id": "384452b0-d88c-4931-a5e7-bdc11776ea00",
   "metadata": {},
   "outputs": [],
   "source": [
    "inst_2 = Circle(2)"
   ]
  },
  {
   "cell_type": "markdown",
   "id": "147d1b4f-391f-4ca1-8713-b9b7464679f1",
   "metadata": {},
   "source": [
    "<h5><i>c. Print inst_1 and inst_2, for this use the print command and pass the inst_1 and inst_2</i></h5>"
   ]
  },
  {
   "cell_type": "code",
   "execution_count": 95,
   "id": "86919b5c-5768-4a0d-9a41-2b6bc2745709",
   "metadata": {},
   "outputs": [
    {
     "name": "stdout",
     "output_type": "stream",
     "text": [
      "Circle with Radius: 3\n",
      "Circle with Radius: 2\n"
     ]
    }
   ],
   "source": [
    "print(inst_1)\n",
    "print(inst_2)"
   ]
  },
  {
   "cell_type": "markdown",
   "id": "fbbd3091-7c68-4587-9914-f3c0485955d9",
   "metadata": {},
   "source": [
    "<h5><i>d. Call the dict by the class name.</i></h5>"
   ]
  },
  {
   "cell_type": "code",
   "execution_count": 98,
   "id": "2983c5a8-f45e-49d4-8111-0a3cd1ebe374",
   "metadata": {},
   "outputs": [
    {
     "name": "stdout",
     "output_type": "stream",
     "text": [
      "mappingproxy({'Volume_of_cylinder': <function Circle.Volume_of_cylinder at 0x000001AC2D5F5BC0>,\n",
      "              '__dict__': <attribute '__dict__' of 'Circle' objects>,\n",
      "              '__doc__': 'A class to represent a circle\\n'\n",
      "                         '    Attributes:\\n'\n",
      "                         '    radius : float\\n'\n",
      "                         '        The radius of the circle with a default '\n",
      "                         'value 1.0.\\n'\n",
      "                         '    \\n'\n",
      "                         '    Methods:\\n'\n",
      "                         '    area():\\n'\n",
      "                         '        Returns the area of the circle.\\n'\n",
      "                         '    circumference():\\n'\n",
      "                         '        Returns the circumference of the circle.\\n'\n",
      "                         '    diameter():\\n'\n",
      "                         '        Returns the diameter of the circle.\\n'\n",
      "                         '    cylinder_volume(height: float):\\n'\n",
      "                         '        Returns the volume of a cylinder\\n'\n",
      "                         '    ',\n",
      "              '__init__': <function Circle.__init__ at 0x000001AC2BF302C0>,\n",
      "              '__module__': '__main__',\n",
      "              '__repr__': <function Circle.__repr__ at 0x000001AC2D5F5620>,\n",
      "              '__str__': <function Circle.__str__ at 0x000001AC2D5F59E0>,\n",
      "              '__weakref__': <attribute '__weakref__' of 'Circle' objects>,\n",
      "              'area': <function Circle.area at 0x000001AC2D5F58A0>,\n",
      "              'circumference': <function Circle.circumference at 0x000001AC2D5F5440>,\n",
      "              'diameter': <function Circle.diameter at 0x000001AC2D5F54E0>})\n"
     ]
    }
   ],
   "source": [
    "from pprint import pprint\n",
    "pprint(Circle.__dict__)"
   ]
  },
  {
   "cell_type": "markdown",
   "id": "70028e61-7bf7-4eb9-90d3-221b783bae0a",
   "metadata": {},
   "source": [
    "<h5><i>e. Also pass the class name to the vars built-in function</i></h5>"
   ]
  },
  {
   "cell_type": "code",
   "execution_count": 101,
   "id": "d1f350d8-2856-4fc9-b090-36840ea3dc32",
   "metadata": {},
   "outputs": [
    {
     "name": "stdout",
     "output_type": "stream",
     "text": [
      "mappingproxy({'Volume_of_cylinder': <function Circle.Volume_of_cylinder at 0x000001AC2D5F5BC0>,\n",
      "              '__dict__': <attribute '__dict__' of 'Circle' objects>,\n",
      "              '__doc__': 'A class to represent a circle\\n'\n",
      "                         '    Attributes:\\n'\n",
      "                         '    radius : float\\n'\n",
      "                         '        The radius of the circle with a default '\n",
      "                         'value 1.0.\\n'\n",
      "                         '    \\n'\n",
      "                         '    Methods:\\n'\n",
      "                         '    area():\\n'\n",
      "                         '        Returns the area of the circle.\\n'\n",
      "                         '    circumference():\\n'\n",
      "                         '        Returns the circumference of the circle.\\n'\n",
      "                         '    diameter():\\n'\n",
      "                         '        Returns the diameter of the circle.\\n'\n",
      "                         '    cylinder_volume(height: float):\\n'\n",
      "                         '        Returns the volume of a cylinder\\n'\n",
      "                         '    ',\n",
      "              '__init__': <function Circle.__init__ at 0x000001AC2BF302C0>,\n",
      "              '__module__': '__main__',\n",
      "              '__repr__': <function Circle.__repr__ at 0x000001AC2D5F5620>,\n",
      "              '__str__': <function Circle.__str__ at 0x000001AC2D5F59E0>,\n",
      "              '__weakref__': <attribute '__weakref__' of 'Circle' objects>,\n",
      "              'area': <function Circle.area at 0x000001AC2D5F58A0>,\n",
      "              'circumference': <function Circle.circumference at 0x000001AC2D5F5440>,\n",
      "              'diameter': <function Circle.diameter at 0x000001AC2D5F54E0>})\n"
     ]
    }
   ],
   "source": [
    "pprint(vars(Circle))"
   ]
  },
  {
   "cell_type": "code",
   "execution_count": 103,
   "id": "cea5f80f-70c1-45a7-b53b-c220dce26064",
   "metadata": {},
   "outputs": [
    {
     "name": "stdout",
     "output_type": "stream",
     "text": [
      "{'radius': 3}\n",
      "{'radius': 2}\n"
     ]
    }
   ],
   "source": [
    "print(inst_1.__dict__)\n",
    "print(inst_2.__dict__)"
   ]
  },
  {
   "cell_type": "markdown",
   "id": "59699f1b-e0c4-4046-abfe-7b0cf20c1c67",
   "metadata": {},
   "source": [
    "<h5><i>g. Pass the class name to help</i></h5>"
   ]
  },
  {
   "cell_type": "code",
   "execution_count": 106,
   "id": "39457a77-5504-4c21-800e-8d4427a17dd2",
   "metadata": {},
   "outputs": [
    {
     "name": "stdout",
     "output_type": "stream",
     "text": [
      "Help on class Circle in module __main__:\n",
      "\n",
      "class Circle(builtins.object)\n",
      " |  Circle(radius: float = 1.0)\n",
      " |\n",
      " |  A class to represent a circle\n",
      " |  Attributes:\n",
      " |  radius : float\n",
      " |      The radius of the circle with a default value 1.0.\n",
      " |\n",
      " |  Methods:\n",
      " |  area():\n",
      " |      Returns the area of the circle.\n",
      " |  circumference():\n",
      " |      Returns the circumference of the circle.\n",
      " |  diameter():\n",
      " |      Returns the diameter of the circle.\n",
      " |  cylinder_volume(height: float):\n",
      " |      Returns the volume of a cylinder\n",
      " |\n",
      " |  Methods defined here:\n",
      " |\n",
      " |  Volume_of_cylinder(self, height: float) -> float\n",
      " |      Calculates the volume of cylinder with the area of the circle.\n",
      " |      Parameters:\n",
      " |          height : float\n",
      " |              The height of the cylinder.\n",
      " |          Return:\n",
      " |          float\n",
      " |              The volume of the cylinder.\n",
      " |\n",
      " |  __init__(self, radius: float = 1.0)\n",
      " |      Initializes the Circle with a radius.\n",
      " |      Parameters:\n",
      " |      radius:\n",
      " |          The radius of the circle with a default value of 1.0.\n",
      " |\n",
      " |  __repr__(self) -> str\n",
      " |      This representation is intended for developers,\n",
      " |      showing the class name and radius attribute in a format suitable for\n",
      " |      recreating the object.\n",
      " |\n",
      " |  __str__(self) -> str\n",
      " |      This representation describes the circle's radius for general display purposes.\n",
      " |\n",
      " |  area(self) -> float\n",
      " |      Calculates the area of the circle.\n",
      " |      Return:\n",
      " |          Return area in float\n",
      " |\n",
      " |  circumference(self) -> float\n",
      " |      Calculates the circumference of the circle.\n",
      " |      Return:\n",
      " |          Return circumference in float\n",
      " |\n",
      " |  diameter(self) -> float\n",
      " |      Calculates the diameter of the circle.\n",
      " |      Return:\n",
      " |          Return diameter in float\n",
      " |\n",
      " |  ----------------------------------------------------------------------\n",
      " |  Data descriptors defined here:\n",
      " |\n",
      " |  __dict__\n",
      " |      dictionary for instance variables\n",
      " |\n",
      " |  __weakref__\n",
      " |      list of weak references to the object\n",
      "\n"
     ]
    }
   ],
   "source": [
    "help(Circle)"
   ]
  },
  {
   "cell_type": "code",
   "execution_count": 108,
   "id": "6dc7adb8-7a03-47a3-b4c1-180b83ae111e",
   "metadata": {},
   "outputs": [
    {
     "name": "stdout",
     "output_type": "stream",
     "text": [
      "{'radius': <class 'float'>}\n"
     ]
    }
   ],
   "source": [
    "print(Circle.__init__.__annotations__)"
   ]
  },
  {
   "cell_type": "code",
   "execution_count": 110,
   "id": "341560b6-4faf-4567-9e82-7a5f2a50adc6",
   "metadata": {},
   "outputs": [
    {
     "name": "stdout",
     "output_type": "stream",
     "text": [
      "Initializes the Circle with a radius.\n",
      "        Parameters:\n",
      "        radius:\n",
      "            The radius of the circle with a default value of 1.0.\n",
      "        \n"
     ]
    }
   ],
   "source": [
    "print(Circle.__init__.__doc__)"
   ]
  },
  {
   "cell_type": "code",
   "execution_count": 112,
   "id": "3e04b49b-6821-4457-9a46-fcc77396695c",
   "metadata": {},
   "outputs": [
    {
     "name": "stdout",
     "output_type": "stream",
     "text": [
      "Calculates the area of the circle.\n",
      "    Return:\n",
      "        Return area in float\n",
      "    \n"
     ]
    }
   ],
   "source": [
    "print(Circle.area.__doc__)"
   ]
  },
  {
   "cell_type": "code",
   "execution_count": 114,
   "id": "a964969f-506d-475c-8394-a5f9393e5b77",
   "metadata": {},
   "outputs": [
    {
     "name": "stdout",
     "output_type": "stream",
     "text": [
      "Calculates the circumference of the circle.\n",
      "    Return:\n",
      "        Return circumference in float\n",
      "    \n"
     ]
    }
   ],
   "source": [
    "print(Circle.circumference.__doc__)"
   ]
  },
  {
   "cell_type": "code",
   "execution_count": 116,
   "id": "c8e79926-111c-48b5-84fd-68c3ed0b41b5",
   "metadata": {},
   "outputs": [
    {
     "name": "stdout",
     "output_type": "stream",
     "text": [
      "Calculates the diameter of the circle.\n",
      "    Return:\n",
      "        Return diameter in float\n",
      "    \n"
     ]
    }
   ],
   "source": [
    "print(Circle.diameter.__doc__)"
   ]
  },
  {
   "cell_type": "code",
   "execution_count": 72,
   "id": "d7706d92-6e49-48bb-ad0f-f04842f7e655",
   "metadata": {},
   "outputs": [
    {
     "name": "stdout",
     "output_type": "stream",
     "text": [
      "Calculates the volume of cylinder with the area of the circle.\n",
      "    Parameters:\n",
      "        height : float\n",
      "            The height of the cylinder.\n",
      "        Return:\n",
      "        float\n",
      "            The volume of the cylinder.\n",
      "        \n"
     ]
    }
   ],
   "source": [
    "print(Circle.Volume_of_cylinder.__doc__)"
   ]
  },
  {
   "cell_type": "code",
   "execution_count": 78,
   "id": "7a2032c5-f321-4c80-90f0-1c04de1ec189",
   "metadata": {},
   "outputs": [
    {
     "name": "stdout",
     "output_type": "stream",
     "text": [
      "This representation is intended for developers,\n",
      "        showing the class name and radius attribute in a format suitable for\n",
      "        recreating the object.\n"
     ]
    }
   ],
   "source": [
    "print(Circle.__repr__.__doc__)"
   ]
  },
  {
   "cell_type": "code",
   "execution_count": 80,
   "id": "49a22f0c-e5e2-47a1-b456-3d00f42825a8",
   "metadata": {},
   "outputs": [
    {
     "name": "stdout",
     "output_type": "stream",
     "text": [
      " This representation provides a simple description of the circle's\n",
      "        radius and is intended for end-users or general display purposes.\n"
     ]
    }
   ],
   "source": [
    "print(Circle.__str__.__doc__)"
   ]
  },
  {
   "cell_type": "code",
   "execution_count": 82,
   "id": "be6383a5-62e1-4cc7-b568-8ead7f4cc5c3",
   "metadata": {},
   "outputs": [],
   "source": [
    "inst_3 = Circle()"
   ]
  },
  {
   "cell_type": "code",
   "execution_count": 84,
   "id": "a722a155-0106-4e31-9dd3-ec8683a74f39",
   "metadata": {},
   "outputs": [
    {
     "name": "stdout",
     "output_type": "stream",
     "text": [
      "Circle with Radius: 1.0\n"
     ]
    }
   ],
   "source": [
    "print(inst_3)"
   ]
  }
 ],
 "metadata": {
  "kernelspec": {
   "display_name": "Python 3 (ipykernel)",
   "language": "python",
   "name": "python3"
  },
  "language_info": {
   "codemirror_mode": {
    "name": "ipython",
    "version": 3
   },
   "file_extension": ".py",
   "mimetype": "text/x-python",
   "name": "python",
   "nbconvert_exporter": "python",
   "pygments_lexer": "ipython3",
   "version": "3.12.4"
  }
 },
 "nbformat": 4,
 "nbformat_minor": 5
}
