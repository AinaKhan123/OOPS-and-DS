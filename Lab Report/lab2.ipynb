{
 "cells": [
  {
   "cell_type": "markdown",
   "id": "a541974c-204f-42bb-989a-4b1cfffe95ec",
   "metadata": {},
   "source": [
    "<h1 style=\"margin-left: 10px; text-decoration: underline; text-decoration-style: double;\"><strong><i> Lab Report: </i></strong></h1>"
   ]
  },
  {
   "cell_type": "markdown",
   "id": "d694178c-c836-4db2-918f-a9afd2dd02a0",
   "metadata": {},
   "source": [
    "<p style=\"margin-left: 10px;text-decoration: underline;\"><strong> Name </strong>: Aina khan</p>\n",
    "<p style=\"margin-left: 10px;text-decoration: underline;\"><strong> Reg No </strong>: 0540 <p>\n",
    "<p style=\"margin-left: 10px;text-decoration: underline;\"><strong> Lab Report </strong>: <strong> 2 </strong> <p>"
   ]
  },
  {
   "cell_type": "markdown",
   "id": "4a99cdfa-fb7e-491f-a046-dacc8c58d0ff",
   "metadata": {},
   "source": [
    "<hr>"
   ]
  },
  {
   "cell_type": "markdown",
   "id": "8f3211fd-147b-438b-97d8-db8fc1ffe317",
   "metadata": {},
   "source": [
    "<h1 style=\"margin-left: 29px;text-decoration: underline;\"><i><b>Lab Title :</b></i></h1>"
   ]
  },
  {
   "cell_type": "markdown",
   "id": "369ad022-3c6d-4da8-841b-630e6a5532b7",
   "metadata": {},
   "source": [
    "<h1 style=\"margin-left: 159px;text-decoration: underline;\"><i><b>\"Functions\"</b></i></h1>"
   ]
  },
  {
   "cell_type": "markdown",
   "id": "9983f598-8d5a-454a-a45a-3cf0d7b6fd72",
   "metadata": {},
   "source": [
    "<h1 style=\"margin-left: 10px; text-decoration: underline; text-decoration-style: double; color: black;\"><i><b>Task: </b></i></h1>"
   ]
  },
  {
   "cell_type": "markdown",
   "id": "bcb39791-c577-4e77-aa64-0bdffec53e4b",
   "metadata": {},
   "source": [
    "<h3 style=\"margin-left: 20px; text-decoration: underline; text-decoration-style: double; color: black;\"><i><b>Calculating Voltage Across a Resistor</b></i></h3>"
   ]
  },
  {
   "cell_type": "markdown",
   "id": "d90ad770-aecf-4388-8d57-0b320bf1b0f5",
   "metadata": {},
   "source": [
    "<h5><i><b>i. Define a function that will take the parameters as current and resistance and will output the \n",
    "voltage across the resistance. </b></i></h5>\n",
    "<h5><i>a. The argument pass will like positional arguments. </i></h5>\n",
    "<h5><i>b. The arguments passing will like keyword arguments.</i></h5>\n",
    "<h5><i>c. The arguments passing will like default arguments. </i></h5>\n",
    "<h5><i>d. Pass the arguments of one style to the other. </i></h5>\n",
    "<h5><i>e. Passing less number of arguments and check the error message. </i></h5>\n",
    "<h5><i>f. Verify that whether positional argument follows keyword argument.</i></h5>"
   ]
  },
  {
   "cell_type": "markdown",
   "id": "f766c129-a619-4cea-83c4-6fd66f34efc5",
   "metadata": {},
   "source": [
    "<hr>"
   ]
  },
  {
   "cell_type": "code",
   "execution_count": 37,
   "id": "b6165ceb-a57f-4fb3-8fc8-f46292c66765",
   "metadata": {},
   "outputs": [
    {
     "name": "stdout",
     "output_type": "stream",
     "text": [
      "25\n"
     ]
    }
   ],
   "source": [
    "def voltage(I,R):\n",
    "    volt = I * R\n",
    "    return volt\n",
    "    \n",
    "current_p = 5\n",
    "resistance_p = 5\n",
    "volt1= voltage(current_p,resistance_p)  \n",
    "print(volt1)"
   ]
  },
  {
   "cell_type": "code",
   "execution_count": 39,
   "id": "d7efdc08-7171-4ec0-b7cf-84e18a1792d7",
   "metadata": {},
   "outputs": [
    {
     "name": "stdout",
     "output_type": "stream",
     "text": [
      "25\n"
     ]
    }
   ],
   "source": [
    "volt2 = voltage(I = current_p, R = resistance_p) \n",
    "print(volt2)"
   ]
  },
  {
   "cell_type": "code",
   "execution_count": 41,
   "id": "726a7a9c-f23a-45a6-a491-39328843cdd8",
   "metadata": {},
   "outputs": [
    {
     "name": "stdout",
     "output_type": "stream",
     "text": [
      "8\n"
     ]
    }
   ],
   "source": [
    "def voltage2(I,R=2): \n",
    "    volt = I * R\n",
    "    return volt\n",
    "current_ = 4\n",
    "volt = voltage2(current_)   \n",
    "print(volt)"
   ]
  },
  {
   "cell_type": "code",
   "execution_count": null,
   "id": "875fd689-f3be-4cfd-92fa-fe474c1ea442",
   "metadata": {},
   "outputs": [],
   "source": [
    "def voltage3(I,R):   # it show error beacuse one argument is missing in the positional arguments\n",
    "    volt = I * R\n",
    "    return volt\n",
    "volt1 = voltage3(5) \n",
    "print(volt1)"
   ]
  },
  {
   "cell_type": "code",
   "execution_count": null,
   "id": "03d64919-750f-431c-a7b8-b2ceb0841560",
   "metadata": {},
   "outputs": [],
   "source": [
    "def voltage3(I,R):\n",
    "    volt = I * R\n",
    "    return volt\n",
    "current_p = 3\n",
    "resistance_p = 7\n",
    "volt = voltage(I=current_p,R)   # it show error that positional argument follows keyword argument"
   ]
  }
 ],
 "metadata": {
  "kernelspec": {
   "display_name": "Python 3 (ipykernel)",
   "language": "python",
   "name": "python3"
  },
  "language_info": {
   "codemirror_mode": {
    "name": "ipython",
    "version": 3
   },
   "file_extension": ".py",
   "mimetype": "text/x-python",
   "name": "python",
   "nbconvert_exporter": "python",
   "pygments_lexer": "ipython3",
   "version": "3.12.4"
  }
 },
 "nbformat": 4,
 "nbformat_minor": 5
}
