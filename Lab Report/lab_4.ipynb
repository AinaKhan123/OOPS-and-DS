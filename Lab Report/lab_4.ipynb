{
 "cells": [
  {
   "cell_type": "markdown",
   "id": "0cde575d-05e5-4912-8d9e-c1318ccbca18",
   "metadata": {},
   "source": [
    "<h1><strong><i> Lab Report </i></strong></h1>"
   ]
  },
  {
   "cell_type": "markdown",
   "id": "779d3c4f-bfd7-4180-a249-f2062b4409b9",
   "metadata": {},
   "source": [
    "<p><strong> Name </strong>: Aina khan</p>\n",
    "<p><strong> Reg No </strong>: 0540 <p>\n",
    "<p><strong> Lab Report </strong>: <strong> 4 </strong> <p>"
   ]
  },
  {
   "cell_type": "markdown",
   "id": "34062b41-6a6e-484d-baa9-91d77c70cbb2",
   "metadata": {},
   "source": [
    "<hr>"
   ]
  },
  {
   "cell_type": "markdown",
   "id": "81220170-68ea-473f-8056-67620a355bef",
   "metadata": {},
   "source": [
    "<h4><i><b>Task</b></i></h4>"
   ]
  },
  {
   "cell_type": "markdown",
   "id": "b0a39c01-c517-4a5e-9106-7b5950105866",
   "metadata": {},
   "source": [
    "<h4><i><b> Make an object and print its x and y coordinates.</b></i></h4>\n",
    "<h5><i>a. Define point1 and pass two numbers</i></h5>\n",
    "<h5><i>b. Make another instance of the point class, say its name is p2.</i></h5>\n",
    "<h5><i>c. Print p1 and p2, for this use the print command and pass the point as input</i></h5>\n",
    "<h5><i>d. Print the coordinate by using the object and dot operator.</i></h5>\n",
    "<h5><i>e. Add a new method to the point class that can effectively print the points. Print both the point using that function</i></h5>\n",
    "<h5><i>f. Calculate the distance between these two pints.</i></h5>"
   ]
  },
  {
   "cell_type": "code",
   "execution_count": 25,
   "id": "aca2a00a-98cd-4be3-976e-84c4d083302b",
   "metadata": {},
   "outputs": [],
   "source": [
    "class Point:\n",
    "    pass"
   ]
  },
  {
   "cell_type": "code",
   "execution_count": 27,
   "id": "0553b7a2-eee4-4d4c-bdac-8a118a743b7e",
   "metadata": {},
   "outputs": [
    {
     "name": "stdout",
     "output_type": "stream",
     "text": [
      "Represents a point in two-dimensional geometric\n",
      "coordinates\n",
      "    Parameters\n",
      "        ----------\n",
      "        x : float\n",
      "        y : float\n",
      "    \n"
     ]
    }
   ],
   "source": [
    "import math\n",
    "class Point:\n",
    "    \"\"\"Represents a point in two-dimensional geometric\n",
    "coordinates\n",
    "    Parameters\n",
    "        ----------\n",
    "        x : float\n",
    "        y : float\n",
    "    \"\"\"\n",
    "    def __init__(self, x, y)->float:\n",
    "        self.x = x\n",
    "        self.y = y\n",
    "    def distance(self, p2)->float:\n",
    "        return math.sqrt((self.x-p2.x)**2 + (self.y-p2.y)**2)\n",
    "    def point(self) -> None:\n",
    "        print(f\"Point({self.x}, {self.y})\")\n",
    "print(Point.__doc__)"
   ]
  },
  {
   "cell_type": "code",
   "execution_count": 46,
   "id": "7a296bfa-6006-4bb7-9c20-db50601efc86",
   "metadata": {},
   "outputs": [],
   "source": [
    "p1 = Point(8,3)"
   ]
  },
  {
   "cell_type": "code",
   "execution_count": 48,
   "id": "40bb50cd-2d26-4f3d-806e-a7b444ea0ad1",
   "metadata": {},
   "outputs": [],
   "source": [
    "p2 = Point(5,2)"
   ]
  },
  {
   "cell_type": "code",
   "execution_count": 50,
   "id": "296a85ae-d41e-487d-bf28-5e4fd5b5abd3",
   "metadata": {},
   "outputs": [
    {
     "name": "stdout",
     "output_type": "stream",
     "text": [
      "<__main__.Point object at 0x000002BBEC643CB0>\n"
     ]
    }
   ],
   "source": [
    "print(p1)"
   ]
  },
  {
   "cell_type": "code",
   "execution_count": 52,
   "id": "b5636cb8-3014-4f88-9e06-7b0c27eb802e",
   "metadata": {},
   "outputs": [
    {
     "name": "stdout",
     "output_type": "stream",
     "text": [
      "<__main__.Point object at 0x000002BBECCC6930>\n"
     ]
    }
   ],
   "source": [
    "print(p2)"
   ]
  },
  {
   "cell_type": "code",
   "execution_count": 54,
   "id": "8992abc5-942f-406a-adb4-8d1a2910e37d",
   "metadata": {},
   "outputs": [
    {
     "name": "stdout",
     "output_type": "stream",
     "text": [
      "p1 coordinates is (8 , 3)\n"
     ]
    }
   ],
   "source": [
    "print(f\"p1 coordinates is ({p1.x} , {p1.y})\")"
   ]
  },
  {
   "cell_type": "code",
   "execution_count": 56,
   "id": "f922d343-bc37-4179-94c4-7923c3872863",
   "metadata": {},
   "outputs": [
    {
     "name": "stdout",
     "output_type": "stream",
     "text": [
      "p2 coordinates is (5 , 2)\n"
     ]
    }
   ],
   "source": [
    "print(f\"p2 coordinates is ({p2.x} , {p2.y})\")"
   ]
  },
  {
   "cell_type": "code",
   "execution_count": 58,
   "id": "ec152b24-b707-431b-989a-7b60c1afae14",
   "metadata": {},
   "outputs": [
    {
     "name": "stdout",
     "output_type": "stream",
     "text": [
      "Point(8, 3)\n"
     ]
    }
   ],
   "source": [
    "p1.point()"
   ]
  },
  {
   "cell_type": "code",
   "execution_count": 62,
   "id": "10b6df26-8647-4f15-9e08-80f52909b012",
   "metadata": {},
   "outputs": [
    {
     "name": "stdout",
     "output_type": "stream",
     "text": [
      "Point(5, 2)\n"
     ]
    }
   ],
   "source": [
    "p2.point()"
   ]
  },
  {
   "cell_type": "code",
   "execution_count": 64,
   "id": "74cf96b8-c22f-48c1-af74-0b0d453ac576",
   "metadata": {},
   "outputs": [],
   "source": [
    "Distance = p1.distance(p2)"
   ]
  },
  {
   "cell_type": "code",
   "execution_count": 66,
   "id": "ab95e094-9e3a-4417-b9d7-da06d4a03d80",
   "metadata": {},
   "outputs": [
    {
     "name": "stdout",
     "output_type": "stream",
     "text": [
      "Distance B/W two points (p1, p2) is 3.1622776601683795\n"
     ]
    }
   ],
   "source": [
    "print(f\"Distance B/W two points (p1, p2) is {Distance}\")"
   ]
  }
 ],
 "metadata": {
  "kernelspec": {
   "display_name": "Python 3 (ipykernel)",
   "language": "python",
   "name": "python3"
  },
  "language_info": {
   "codemirror_mode": {
    "name": "ipython",
    "version": 3
   },
   "file_extension": ".py",
   "mimetype": "text/x-python",
   "name": "python",
   "nbconvert_exporter": "python",
   "pygments_lexer": "ipython3",
   "version": "3.12.4"
  }
 },
 "nbformat": 4,
 "nbformat_minor": 5
}
