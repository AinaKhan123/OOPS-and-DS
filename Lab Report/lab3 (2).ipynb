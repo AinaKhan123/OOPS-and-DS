{
 "cells": [
  {
   "cell_type": "markdown",
   "id": "313a5d88-9dbc-4975-ba15-f0a7b23aaf00",
   "metadata": {},
   "source": [
    "<h1><strong><i> Lab Practice </i></strong></h1>"
   ]
  },
  {
   "cell_type": "markdown",
   "id": "c6799d06-0fd4-4479-887b-f9674b9cc407",
   "metadata": {},
   "source": [
    "<p><strong> Name </strong>: Aina khan</p>\n",
    "<p><strong> Reg No </strong>: 0540 <p>\n",
    "<p><strong> Lab Report </strong>: <strong> 3 </strong> <p>"
   ]
  },
  {
   "cell_type": "markdown",
   "id": "a5ed0a4c-d046-4065-a286-5f35684896bd",
   "metadata": {},
   "source": [
    "<hr>"
   ]
  },
  {
   "cell_type": "markdown",
   "id": "61c79409-3818-4e76-9370-530bc28e5768",
   "metadata": {},
   "source": [
    "<h2><b><i> Task # 1</i></b></h2>"
   ]
  },
  {
   "cell_type": "markdown",
   "id": "3ac72be1-8ded-441f-b737-33d88cff765b",
   "metadata": {},
   "source": [
    "<h5><b><i>1. Make a list that contains the student name, the last four digits of the registration number as \n",
    "an integer, the CGPA as a float, and a list that contains GPA of all semesters. (Nested List)</i></b></h5>"
   ]
  },
  {
   "cell_type": "code",
   "execution_count": 20,
   "id": "8027eb9a-d22b-4140-b7fe-baf04743c90d",
   "metadata": {},
   "outputs": [],
   "source": [
    "# student name, registration number , the CGPA , and a list that contains GPA of all semesters\n",
    "student_info = [\"aina\", 540 , 3.3 , [3.1 ,3.3 ,3.4,3.4] ]"
   ]
  },
  {
   "cell_type": "code",
   "execution_count": 22,
   "id": "789ce78e-0faa-40c2-8d8d-18aee5987e63",
   "metadata": {},
   "outputs": [
    {
     "name": "stdout",
     "output_type": "stream",
     "text": [
      "['aina', 540, 3.3, [3.1, 3.3, 3.4, 3.4]]\n"
     ]
    }
   ],
   "source": [
    "print(student_info)"
   ]
  },
  {
   "cell_type": "markdown",
   "id": "78bc34ae-dd78-4bba-957d-2fdc0fa5431e",
   "metadata": {},
   "source": [
    "<h5><b><i>2. Use list inducing in the following nested list and access each and every element. x = [\"a\", [\"bb\", [\"ccc\", \"ddd\"], \"ee\", \"ff\"], \"g\", [\"hh\", \"ii\"], \"j\"]\n",
    "</i></b></h5>"
   ]
  },
  {
   "cell_type": "code",
   "execution_count": 28,
   "id": "aee5bd64-9ff7-43f7-b645-57bd3d1feda9",
   "metadata": {},
   "outputs": [],
   "source": [
    "x = [\"a\", [\"bb\", [\"ccc\", \"ddd\"], \"ee\", \"ff\"], \"g\", [\"hh\", \"ii\"], \"j\"]"
   ]
  },
  {
   "cell_type": "code",
   "execution_count": 37,
   "id": "d9a657cf-12c7-48e6-8e40-94963b8a7fb7",
   "metadata": {},
   "outputs": [
    {
     "data": {
      "text/plain": [
       "'a'"
      ]
     },
     "execution_count": 37,
     "metadata": {},
     "output_type": "execute_result"
    }
   ],
   "source": [
    "x[0]"
   ]
  },
  {
   "cell_type": "code",
   "execution_count": 39,
   "id": "5624d9c5-f183-48d6-81ce-f10bca67946c",
   "metadata": {},
   "outputs": [
    {
     "data": {
      "text/plain": [
       "'bb'"
      ]
     },
     "execution_count": 39,
     "metadata": {},
     "output_type": "execute_result"
    }
   ],
   "source": [
    "x[1][0]"
   ]
  },
  {
   "cell_type": "code",
   "execution_count": 41,
   "id": "d69ffe96-9446-4f2e-b0d7-e531e5345313",
   "metadata": {},
   "outputs": [
    {
     "data": {
      "text/plain": [
       "['ccc', 'ddd']"
      ]
     },
     "execution_count": 41,
     "metadata": {},
     "output_type": "execute_result"
    }
   ],
   "source": [
    "x[1][1]"
   ]
  },
  {
   "cell_type": "code",
   "execution_count": 43,
   "id": "5fa46cf0-5464-4ee5-af7b-1f33d160cde5",
   "metadata": {},
   "outputs": [
    {
     "data": {
      "text/plain": [
       "'ccc'"
      ]
     },
     "execution_count": 43,
     "metadata": {},
     "output_type": "execute_result"
    }
   ],
   "source": [
    "x[1][1][0]"
   ]
  },
  {
   "cell_type": "code",
   "execution_count": 45,
   "id": "f096bf4d-cca2-41ea-8fea-40e7c8808086",
   "metadata": {},
   "outputs": [
    {
     "data": {
      "text/plain": [
       "'ddd'"
      ]
     },
     "execution_count": 45,
     "metadata": {},
     "output_type": "execute_result"
    }
   ],
   "source": [
    "x[1][1][1]"
   ]
  },
  {
   "cell_type": "code",
   "execution_count": 47,
   "id": "a8d11cdf-2751-4172-a435-d6e060ae4ad6",
   "metadata": {},
   "outputs": [
    {
     "data": {
      "text/plain": [
       "'ee'"
      ]
     },
     "execution_count": 47,
     "metadata": {},
     "output_type": "execute_result"
    }
   ],
   "source": [
    "x[1][2]"
   ]
  },
  {
   "cell_type": "code",
   "execution_count": 49,
   "id": "2c510e2b-77da-4fcf-bc18-0db6be649a2a",
   "metadata": {},
   "outputs": [
    {
     "data": {
      "text/plain": [
       "'ff'"
      ]
     },
     "execution_count": 49,
     "metadata": {},
     "output_type": "execute_result"
    }
   ],
   "source": [
    "x[1][3]"
   ]
  },
  {
   "cell_type": "code",
   "execution_count": 51,
   "id": "a65bac24-b548-43ca-a4cf-c5b20e8d2c71",
   "metadata": {},
   "outputs": [
    {
     "data": {
      "text/plain": [
       "'hh'"
      ]
     },
     "execution_count": 51,
     "metadata": {},
     "output_type": "execute_result"
    }
   ],
   "source": [
    "x[3][0]"
   ]
  },
  {
   "cell_type": "code",
   "execution_count": 53,
   "id": "7217163c-a0fa-46ad-92d1-3a4641eba0b5",
   "metadata": {},
   "outputs": [
    {
     "data": {
      "text/plain": [
       "'ii'"
      ]
     },
     "execution_count": 53,
     "metadata": {},
     "output_type": "execute_result"
    }
   ],
   "source": [
    "x[3][1]"
   ]
  },
  {
   "cell_type": "code",
   "execution_count": 58,
   "id": "b1d1d92e-fbef-46ce-8757-ea818b16b18d",
   "metadata": {},
   "outputs": [
    {
     "data": {
      "text/plain": [
       "'j'"
      ]
     },
     "execution_count": 58,
     "metadata": {},
     "output_type": "execute_result"
    }
   ],
   "source": [
    "x[4]"
   ]
  },
  {
   "cell_type": "code",
   "execution_count": 60,
   "id": "973e626a-7920-4284-be25-688d12aaf848",
   "metadata": {},
   "outputs": [
    {
     "data": {
      "text/plain": [
       "['a', ['bb', ['ccc', 'ddd'], 'ee', 'ff'], 'g', ['hh', 'ii'], 'j']"
      ]
     },
     "execution_count": 60,
     "metadata": {},
     "output_type": "execute_result"
    }
   ],
   "source": [
    "x"
   ]
  }
 ],
 "metadata": {
  "kernelspec": {
   "display_name": "Python 3 (ipykernel)",
   "language": "python",
   "name": "python3"
  },
  "language_info": {
   "codemirror_mode": {
    "name": "ipython",
    "version": 3
   },
   "file_extension": ".py",
   "mimetype": "text/x-python",
   "name": "python",
   "nbconvert_exporter": "python",
   "pygments_lexer": "ipython3",
   "version": "3.12.4"
  }
 },
 "nbformat": 4,
 "nbformat_minor": 5
}
