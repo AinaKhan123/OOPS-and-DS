{
 "cells": [
  {
   "cell_type": "markdown",
   "id": "593d4e78-acbc-4d76-8010-4eec9b94a2d8",
   "metadata": {},
   "source": [
    "<h1 style=\"margin-left: 29px;text-decoration: underline;text-decoration-style: double;\"><i><b>Topic:</b></i></h1>"
   ]
  },
  {
   "cell_type": "markdown",
   "id": "47214e44-8f08-49b6-bad3-71450dc397ed",
   "metadata": {},
   "source": [
    "<h1 style=\"margin-left: 110px; text-decoration: underline; text-decoration-style: double;\"><strong><i> \"for loop in python\" </i></strong></h1>"
   ]
  },
  {
   "cell_type": "markdown",
   "id": "e341612b-76ed-4b3c-a2a1-ff69d24661c9",
   "metadata": {},
   "source": [
    "<hr>"
   ]
  },
  {
   "cell_type": "markdown",
   "id": "59dcff63-a32b-43a4-812a-04155baf195a",
   "metadata": {},
   "source": [
    "<h3 style=\"margin-left: 19px;text-decoration: underline;text-decoration-style: double;\"><i><b>for loops</b></i></h3>"
   ]
  },
  {
   "cell_type": "markdown",
   "id": "3411ba61-684e-4f49-a1ff-4e5b062b7cd0",
   "metadata": {},
   "source": [
    "<h3 style=\"margin-left: 19px;text-decoration: underline;text-decoration-style: double;\"><i><b>syntax</b></i></h3>"
   ]
  },
  {
   "cell_type": "markdown",
   "id": "2f837386-5f91-4c09-8dec-939d4ae93c48",
   "metadata": {},
   "source": [
    "<h4 style=\"margin-left: 10px;\"><i> <b>for :</b> Keyword used to start the loop.<br><br>\n",
    "<b>variable :</b> A variable that will hold the current item from the iterable in each iteration.<br><br>\n",
    "<b>in :</b> Keyword that connects the variable with the iterable.<br><br>\n",
    "<b>iterable :</b> An object that can be iterated over (like a list, string, or a range).<br><br>\n",
    "<b>: :</b> Marks the start of the block of code to execute in each iteration.<br><br>\n",
    "<b>Indented block :</b> The code that runs for each item in the iterable\n",
    "</i></h4>"
   ]
  },
  {
   "cell_type": "markdown",
   "id": "b1051b29-5ac3-48da-a4ef-95b7e9b55182",
   "metadata": {},
   "source": [
    "<hr>"
   ]
  },
  {
   "cell_type": "markdown",
   "id": "a80e1346-f572-4c48-85f9-6dbb7a0224c2",
   "metadata": {},
   "source": [
    "<h3><b>1. Print numbers from 1 to 5 using a for loop:</b></h3>"
   ]
  },
  {
   "cell_type": "code",
   "execution_count": 70,
   "id": "00349be5-40cb-45aa-87d3-51f41330cebb",
   "metadata": {},
   "outputs": [
    {
     "name": "stdout",
     "output_type": "stream",
     "text": [
      "1\n",
      "2\n",
      "3\n",
      "4\n",
      "5\n"
     ]
    }
   ],
   "source": [
    "for i in range(1,6):\n",
    "    print(i)"
   ]
  },
  {
   "cell_type": "code",
   "execution_count": 72,
   "id": "10ca013a-0322-4e2c-a9ae-22b014395f02",
   "metadata": {},
   "outputs": [
    {
     "name": "stdout",
     "output_type": "stream",
     "text": [
      "2\n",
      "3\n",
      "4\n",
      "5\n",
      "6\n",
      "7\n"
     ]
    }
   ],
   "source": [
    "for i in range(2,8):\n",
    "    print(i)"
   ]
  },
  {
   "cell_type": "code",
   "execution_count": 74,
   "id": "93e8fa7d-f7dd-439b-a729-82f001c0b9d8",
   "metadata": {},
   "outputs": [
    {
     "name": "stdout",
     "output_type": "stream",
     "text": [
      "1\n",
      "3\n",
      "5\n",
      "7\n",
      "9\n"
     ]
    }
   ],
   "source": [
    "for i in range(1,11,2):\n",
    "    print(i)"
   ]
  },
  {
   "cell_type": "code",
   "execution_count": 76,
   "id": "d86dd6eb-d206-4342-ab00-ca006a793709",
   "metadata": {},
   "outputs": [
    {
     "name": "stdout",
     "output_type": "stream",
     "text": [
      "0\n",
      "5\n",
      "10\n",
      "15\n",
      "20\n",
      "25\n",
      "30\n",
      "35\n",
      "40\n",
      "45\n"
     ]
    }
   ],
   "source": [
    "for i in range(0,50,5):\n",
    "    print(i)"
   ]
  },
  {
   "cell_type": "markdown",
   "id": "9da4ebda-fbc8-4b67-b068-4d10bbb59e7a",
   "metadata": {},
   "source": [
    "<h3><b>2.Sum of first 10 numbers:</b></h3>"
   ]
  },
  {
   "cell_type": "code",
   "execution_count": 83,
   "id": "665c9751-d242-4816-8836-a78bfb532bee",
   "metadata": {},
   "outputs": [
    {
     "name": "stdout",
     "output_type": "stream",
     "text": [
      "1\n",
      "3\n",
      "6\n",
      "10\n",
      "15\n",
      "21\n",
      "28\n",
      "36\n",
      "45\n",
      "55\n"
     ]
    }
   ],
   "source": [
    "total=0\n",
    "for i in range(1,11):\n",
    "    total +=i\n",
    "    print(total)"
   ]
  },
  {
   "cell_type": "markdown",
   "id": "362e9662-263a-4582-99b1-eb0ac52dda26",
   "metadata": {},
   "source": [
    "<h3><b>3.Print each character of a string:</b></h3>"
   ]
  },
  {
   "cell_type": "code",
   "execution_count": 87,
   "id": "c660bee1-9e85-47ca-ac3e-82d6e2bf9c22",
   "metadata": {},
   "outputs": [
    {
     "name": "stdout",
     "output_type": "stream",
     "text": [
      "h\n",
      "e\n",
      "l\n",
      "l\n",
      "o\n",
      " \n",
      "w\n",
      "o\n",
      "r\n",
      "l\n",
      "d\n"
     ]
    }
   ],
   "source": [
    "string = \"hello world\"\n",
    "for char in string:\n",
    "    print(char)"
   ]
  },
  {
   "cell_type": "code",
   "execution_count": 97,
   "id": "3e62c783-6e93-4842-ac9b-d66ebfc9fd18",
   "metadata": {},
   "outputs": [
    {
     "name": "stdout",
     "output_type": "stream",
     "text": [
      "aina"
     ]
    }
   ],
   "source": [
    "a=\"aina\"\n",
    "for i in a:\n",
    "    print(i,end=\"\")"
   ]
  },
  {
   "cell_type": "code",
   "execution_count": 103,
   "id": "cf455111-cdbe-4530-a80a-ee1abb53a7e6",
   "metadata": {},
   "outputs": [
    {
     "name": "stdout",
     "output_type": "stream",
     "text": [
      "Hello, World!"
     ]
    }
   ],
   "source": [
    "for char in \"Hello, World!\":\n",
    "    print(char, end=\"\")"
   ]
  },
  {
   "cell_type": "markdown",
   "id": "4768fb97-3b9d-4ad7-8e41-ffbaea63d85c",
   "metadata": {},
   "source": [
    "<h3><b>4.Print the elements of a list:</b></h3>"
   ]
  },
  {
   "cell_type": "code",
   "execution_count": 115,
   "id": "2a21d8a7-2863-41ff-afed-e2552b948eaf",
   "metadata": {},
   "outputs": [
    {
     "name": "stdout",
     "output_type": "stream",
     "text": [
      "apple\n",
      "mango\n",
      "orange\n"
     ]
    }
   ],
   "source": [
    "fruits=[\"apple\",\"mango\",\"orange\"]\n",
    "for fruit in fruits:\n",
    "    print(fruit)"
   ]
  },
  {
   "cell_type": "code",
   "execution_count": 131,
   "id": "2b8e3216-093b-4285-b734-023ac6729154",
   "metadata": {},
   "outputs": [
    {
     "name": "stdout",
     "output_type": "stream",
     "text": [
      "red, yellow, pink, white"
     ]
    }
   ],
   "source": [
    "colors=[\"red,\",\" yellow,\",\" pink\",\", white\"]\n",
    "for color in colors:\n",
    "    print(color,end=\"\")"
   ]
  },
  {
   "cell_type": "markdown",
   "id": "30348428-a4cf-4408-ae45-b8329c2aacda",
   "metadata": {},
   "source": [
    "<h3><b>5.Find the factorial of a number:</b></h3>"
   ]
  },
  {
   "cell_type": "code",
   "execution_count": 13,
   "id": "b212f3de-dc80-4225-85da-dd85676ced17",
   "metadata": {},
   "outputs": [
    {
     "name": "stdout",
     "output_type": "stream",
     "text": [
      "1\n",
      "2\n",
      "6\n",
      "24\n",
      "120\n"
     ]
    }
   ],
   "source": [
    "num=5      \n",
    "factorial=1\n",
    "for i in range(1,num+1):\n",
    "    factorial*=i\n",
    "    print(factorial)\n"
   ]
  },
  {
   "cell_type": "code",
   "execution_count": 27,
   "id": "567276fb-3e91-465f-b635-a92a60ea2efd",
   "metadata": {},
   "outputs": [
    {
     "name": "stdout",
     "output_type": "stream",
     "text": [
      "1\n",
      "2\n",
      "6\n",
      "24\n",
      "120\n",
      "720\n"
     ]
    }
   ],
   "source": [
    "factorial=1\n",
    "for i in range (6):\n",
    "    factorial *=i+1\n",
    "    print(factorial)"
   ]
  },
  {
   "cell_type": "markdown",
   "id": "b0e56b99-b2c3-48aa-b949-4f3be5624593",
   "metadata": {},
   "source": [
    "<h3><b>6.Print the even numbers from a list:</b></h3>"
   ]
  },
  {
   "cell_type": "code",
   "execution_count": 50,
   "id": "15870e5b-4ac2-4f81-b6b9-0546613a7a26",
   "metadata": {},
   "outputs": [
    {
     "name": "stdout",
     "output_type": "stream",
     "text": [
      "2\n",
      "4\n",
      "6\n",
      "8\n"
     ]
    }
   ],
   "source": [
    "x=[1,2,3,4,5,6,7,8,9]\n",
    "for i in x:\n",
    "    if i % 2==0:\n",
    "        print(i)"
   ]
  },
  {
   "cell_type": "code",
   "execution_count": 54,
   "id": "df6e2cd5-f373-4e42-bcf1-d67223efbf1b",
   "metadata": {},
   "outputs": [
    {
     "name": "stdout",
     "output_type": "stream",
     "text": [
      "6\n",
      "9\n",
      "12\n",
      "15\n"
     ]
    }
   ],
   "source": [
    "number=[4,5,6,7,8,9,10,11,12,13,14,15]\n",
    "for num in number:\n",
    "    if num%3==0:\n",
    "        print(num)"
   ]
  },
  {
   "cell_type": "markdown",
   "id": "988cbcda-4d44-461e-98d1-2e262aff46d5",
   "metadata": {},
   "source": [
    "<h3><b>7.Create a multiplication table for a number:</b></h3>"
   ]
  },
  {
   "cell_type": "code",
   "execution_count": 139,
   "id": "347aab8d-875b-4cf0-8226-9ad0e7c2b02f",
   "metadata": {},
   "outputs": [
    {
     "name": "stdout",
     "output_type": "stream",
     "text": [
      "2 x 1 = 2\n",
      "2 x 2 = 4\n",
      "2 x 3 = 6\n",
      "2 x 4 = 8\n",
      "2 x 5 = 10\n",
      "2 x 6 = 12\n",
      "2 x 7 = 14\n",
      "2 x 8 = 16\n",
      "2 x 9 = 18\n",
      "2 x 10 = 20\n"
     ]
    }
   ],
   "source": [
    "num=2\n",
    "x=0\n",
    "for i in range(1,11):\n",
    "    i*=x+1\n",
    "    print(num ,\"x\",i,\"=\",num*i)"
   ]
  },
  {
   "cell_type": "code",
   "execution_count": 141,
   "id": "ce0e5dff-9b56-4258-96f5-6e4e23212b02",
   "metadata": {},
   "outputs": [
    {
     "name": "stdout",
     "output_type": "stream",
     "text": [
      "5 x 1 = 5\n",
      "5 x 2 = 10\n",
      "5 x 3 = 15\n",
      "5 x 4 = 20\n",
      "5 x 5 = 25\n",
      "5 x 6 = 30\n",
      "5 x 7 = 35\n",
      "5 x 8 = 40\n",
      "5 x 9 = 45\n",
      "5 x 10 = 50\n"
     ]
    }
   ],
   "source": [
    "num=5\n",
    "for i in range(1,11):\n",
    "    print(f\"{num} x {i} = {num*i}\")"
   ]
  },
  {
   "cell_type": "markdown",
   "id": "ff2c9574-c14d-4652-a7ff-b4f3f7915d5a",
   "metadata": {},
   "source": [
    "<h3><b>8.Print the elements of a nested list:</b></h3>"
   ]
  },
  {
   "cell_type": "code",
   "execution_count": 163,
   "id": "3d744bea-384e-48ff-b2a8-bdf81cc63c3c",
   "metadata": {},
   "outputs": [
    {
     "name": "stdout",
     "output_type": "stream",
     "text": [
      "1 2 3 4 5 6 7 8 9 "
     ]
    }
   ],
   "source": [
    "nested_list=[[1,2,3],[4,5,6],[7,8,9]]\n",
    "for x in nested_list:\n",
    "    for i in x:\n",
    "        print(i,end=\" \")"
   ]
  },
  {
   "cell_type": "markdown",
   "id": "c7b9b77e-6f1a-43bd-b6b6-18659f8f644f",
   "metadata": {},
   "source": [
    "<h3><b>9. Reverse a string using a for loop:</b></h3>"
   ]
  },
  {
   "cell_type": "code",
   "execution_count": 181,
   "id": "21b37435-e70a-4518-aaf7-cf8cbbaf5a9f",
   "metadata": {},
   "outputs": [
    {
     "name": "stdout",
     "output_type": "stream",
     "text": [
      "nohtyp\n"
     ]
    }
   ],
   "source": [
    "string=\"python\"\n",
    "reversed_string = \"\"\n",
    "for char in string:\n",
    "    reversed_string = char + reversed_string\n",
    "print(reversed_string)"
   ]
  },
  {
   "cell_type": "code",
   "execution_count": 191,
   "id": "74992ac7-196c-4cd4-9b4c-60f65027c3e9",
   "metadata": {},
   "outputs": [
    {
     "name": "stdout",
     "output_type": "stream",
     "text": [
      "TEU\n"
     ]
    }
   ],
   "source": [
    "string = \"UET\"\n",
    "reversed_string = \"\"\n",
    "for i in string:\n",
    "    reversed_string = i + reversed_string\n",
    "print(reversed_string)"
   ]
  },
  {
   "cell_type": "markdown",
   "id": "67a6b322-f4b7-4e79-b297-d349f9dc8f8e",
   "metadata": {},
   "source": [
    "<h3><b>10. Print the index and value of each element in a list:</b></h3>"
   ]
  },
  {
   "cell_type": "code",
   "execution_count": 195,
   "id": "e563d8ff-2e61-4e5f-a026-dde722bc1693",
   "metadata": {},
   "outputs": [
    {
     "name": "stdout",
     "output_type": "stream",
     "text": [
      "Index: 0, Fruit: apple\n",
      "Index: 1, Fruit: banana\n",
      "Index: 2, Fruit: cherry\n"
     ]
    }
   ],
   "source": [
    "fruits = [\"apple\", \"banana\", \"cherry\"]   # enumerate give both value and numbering of item\n",
    "for index, fruit in enumerate(fruits):\n",
    "    print(f\"Index: {index}, Fruit: {fruit}\")\n"
   ]
  },
  {
   "cell_type": "code",
   "execution_count": 3,
   "id": "29e1da0b-3d24-4f62-9039-f2cffa86f62a",
   "metadata": {},
   "outputs": [
    {
     "name": "stdout",
     "output_type": "stream",
     "text": [
      "subjects 0 is math\n",
      "subjects 1 is chem\n",
      "subjects 2 is bio\n",
      "subjects 3 is eng\n",
      "subjects 4 is urdu\n",
      "subjects 5 is phy\n"
     ]
    }
   ],
   "source": [
    "subjects=[\"math\",\"chem\",\"bio\",\"eng\",\"urdu\",\"phy\"]\n",
    "for index , subject in enumerate (subjects):\n",
    "    print(f\"subjects {index} is {subject}\")"
   ]
  },
  {
   "cell_type": "markdown",
   "id": "ffa05767-aa54-4762-9bd6-541a1c64f4dd",
   "metadata": {},
   "source": [
    "<hr>"
   ]
  },
  {
   "cell_type": "markdown",
   "id": "1fae944d-2236-4968-902e-abb0516adad6",
   "metadata": {},
   "source": [
    "<h3><b>a.Print all the prime numbers between 1 and 50:</b></h3>\n",
    "<h4><b></b>Write a program to print all prime numbers in the range from 1 to 50.</h4>"
   ]
  },
  {
   "cell_type": "code",
   "execution_count": 91,
   "id": "a151be09-509b-4fc5-a2c2-9e7853d56db7",
   "metadata": {},
   "outputs": [
    {
     "name": "stdout",
     "output_type": "stream",
     "text": [
      "2\n",
      "3\n",
      "5\n",
      "7\n",
      "11\n",
      "13\n",
      "17\n",
      "19\n",
      "23\n",
      "29\n",
      "31\n",
      "37\n",
      "41\n",
      "43\n",
      "47\n"
     ]
    }
   ],
   "source": [
    "for num in range(2, 51):\n",
    "    is_prime = True\n",
    "    for i in range(2, num):\n",
    "        if num % i == 0:\n",
    "            is_prime = False\n",
    "            break\n",
    "    if is_prime:\n",
    "        print(num)\n"
   ]
  },
  {
   "cell_type": "markdown",
   "id": "468d56dd-5fa1-46cb-a741-6d8d6e481be2",
   "metadata": {},
   "source": [
    "<h3><b>b.Find the sum of all even numbers in a list:</b></h3>\n",
    "<h4>Given a list of integers, write a program to find the sum of all even numbers in the list.</h4>\n",
    "<h4>numbers = [10, 21, 32, 43, 54, 65]\n",
    "</h4>"
   ]
  },
  {
   "cell_type": "code",
   "execution_count": 137,
   "id": "e461dda2-d644-40db-993c-3990f2953fb2",
   "metadata": {},
   "outputs": [
    {
     "name": "stdout",
     "output_type": "stream",
     "text": [
      "96\n"
     ]
    }
   ],
   "source": [
    "numbers = [10, 21, 32, 43, 54, 65]  # sum of all even numbers\n",
    "a=0\n",
    "for num in numbers:\n",
    "    if num % 2 == 0:\n",
    "        a += num\n",
    "print(a)"
   ]
  },
  {
   "cell_type": "code",
   "execution_count": 143,
   "id": "f29fbc83-6ed9-4ee7-a56f-0a2e3a3fa3bf",
   "metadata": {},
   "outputs": [
    {
     "name": "stdout",
     "output_type": "stream",
     "text": [
      "129\n"
     ]
    }
   ],
   "source": [
    "numbers = [10, 21, 32, 43, 54, 65]    # sum of all odd numbers\n",
    "a=0\n",
    "for num in numbers:\n",
    "    if num % 2 == 1:\n",
    "        a += num\n",
    "print(a)"
   ]
  },
  {
   "cell_type": "markdown",
   "id": "790bb78d-a24e-4b26-97a0-a9a5b75fbff0",
   "metadata": {},
   "source": [
    "<h3><b>c.Count the vowels in a string:</b></h3>\n",
    "<h4>Write a program to count the number of vowels (a, e, i, o, u) in a given string</h4>\n",
    "<h4>string = \"This is a sample string.\"\n",
    "</h4>"
   ]
  },
  {
   "cell_type": "code",
   "execution_count": 151,
   "id": "865f1f35-8877-4f1d-87f1-5c1722191485",
   "metadata": {},
   "outputs": [
    {
     "name": "stdout",
     "output_type": "stream",
     "text": [
      "the number of vowel in string is 6\n"
     ]
    }
   ],
   "source": [
    "string = \"This is a sample string.\" \n",
    "vowel=\"aeiou\"\n",
    "count=0\n",
    "for char in string:\n",
    "    if char in vowel:\n",
    "        count+=1\n",
    "print(f\"the number of vowel in string is {count}\")"
   ]
  },
  {
   "cell_type": "markdown",
   "id": "6c9d9c67-fedc-4208-be57-7ac469ee5e60",
   "metadata": {},
   "source": [
    "<h3><b>d.Print a pattern using nested for loops:</b></h3>\n",
    "<h4>Write a program to print the following pattern:</h4>\n",
    "<h4>*<br>\n",
    "**<br>\n",
    "***<br>\n",
    "****<br>\n",
    "*****\n",
    "</h4>"
   ]
  },
  {
   "cell_type": "code",
   "execution_count": 161,
   "id": "69f0a983-c44f-4b07-98c9-7ea131241b0d",
   "metadata": {},
   "outputs": [
    {
     "name": "stdout",
     "output_type": "stream",
     "text": [
      "*\n",
      "**\n",
      "***\n",
      "****\n",
      "*****\n"
     ]
    }
   ],
   "source": [
    "x= 1\n",
    "for i in range(5):\n",
    "    i+=x\n",
    "    print('*' * i)\n",
    "\n"
   ]
  },
  {
   "cell_type": "markdown",
   "id": "bc9683ae-c9cf-4523-bf81-3121ed7480d4",
   "metadata": {},
   "source": [
    "<h3><b>e.Find the maximum and minimum number in a list:</b></h3>\n",
    "<h4>Given a list of integers, write a program to find the maximum and minimum number in the list.</h4>\n",
    "<h4>numbers = [34, 12, 67, 89, 23, 90, 33]\n",
    "</h4>"
   ]
  },
  {
   "cell_type": "code",
   "execution_count": 203,
   "id": "82bb2312-231b-4375-ab45-b16c1f640023",
   "metadata": {},
   "outputs": [
    {
     "name": "stdout",
     "output_type": "stream",
     "text": [
      "the maximum number in list is 90\n"
     ]
    }
   ],
   "source": [
    "numbers = [34, 12, 67, 89, 23, 90, 33]\n",
    "Max=numbers[0]\n",
    "for i in numbers :\n",
    "    if i > Max:\n",
    "        Max = i\n",
    "print(\"the maximum number in list is\",Max)"
   ]
  },
  {
   "cell_type": "code",
   "execution_count": 207,
   "id": "26c40650-c03c-41f6-b219-438240e354fa",
   "metadata": {},
   "outputs": [
    {
     "name": "stdout",
     "output_type": "stream",
     "text": [
      "the minimum number in list is 12\n"
     ]
    }
   ],
   "source": [
    "numbers = [34, 12, 67, 89, 23, 90, 33]\n",
    "Mini=numbers[0]\n",
    "for i in numbers :\n",
    "    if i < Mini:\n",
    "        Mini = i\n",
    "print(\"the minimum number in list is\",Mini)"
   ]
  },
  {
   "cell_type": "markdown",
   "id": "6d0a88df-6cf0-4267-831a-30e6f5b0cfbe",
   "metadata": {},
   "source": [
    "<h3><b>f.Calculate the average of numbers in a list:</b></h3>\n",
    "<h4>Given a list of integers, write a program to calculate the average of the numbers in the list.</h4>\n",
    "<h4>numbers = [4, 8, 15, 16, 23, 42]\n",
    "</h4>"
   ]
  },
  {
   "cell_type": "code",
   "execution_count": 219,
   "id": "2f20e28c-41e1-4a2a-9f42-125efbb79de8",
   "metadata": {},
   "outputs": [
    {
     "name": "stdout",
     "output_type": "stream",
     "text": [
      "the average number in list is 18.0\n"
     ]
    }
   ],
   "source": [
    "numbers = [4, 8, 15, 16, 23, 42] \n",
    "total=0\n",
    "for i in numbers:\n",
    "    total+=i\n",
    "    average= total/len(numbers)\n",
    "print(\"the average number in list is\",average)"
   ]
  },
  {
   "cell_type": "markdown",
   "id": "3c5592c4-5f0a-48b4-aa22-3497d4f6857c",
   "metadata": {},
   "source": [
    "<h3><b>g.Create a multiplication table using a for loop:</b></h3>\n",
    "<h4>Write a program to create a multiplication table for numbers 1 to 10.</h4>"
   ]
  },
  {
   "cell_type": "code",
   "execution_count": 249,
   "id": "d998a190-0c18-4168-8839-542cc34c7601",
   "metadata": {},
   "outputs": [
    {
     "name": "stdout",
     "output_type": "stream",
     "text": [
      "2 x 0 = 0\n",
      "2 x 1 = 2\n",
      "2 x 2 = 4\n",
      "2 x 3 = 6\n",
      "2 x 4 = 8\n",
      "2 x 5 = 10\n",
      "2 x 6 = 12\n",
      "2 x 7 = 14\n",
      "2 x 8 = 16\n",
      "2 x 9 = 18\n"
     ]
    }
   ],
   "source": [
    "x=2\n",
    "a=0\n",
    "for num in range(10):\n",
    "    num*=a+1\n",
    "    print(x,\"x\" ,num,\"=\" ,num*x)"
   ]
  }
 ],
 "metadata": {
  "kernelspec": {
   "display_name": "Python 3 (ipykernel)",
   "language": "python",
   "name": "python3"
  },
  "language_info": {
   "codemirror_mode": {
    "name": "ipython",
    "version": 3
   },
   "file_extension": ".py",
   "mimetype": "text/x-python",
   "name": "python",
   "nbconvert_exporter": "python",
   "pygments_lexer": "ipython3",
   "version": "3.12.4"
  }
 },
 "nbformat": 4,
 "nbformat_minor": 5
}
